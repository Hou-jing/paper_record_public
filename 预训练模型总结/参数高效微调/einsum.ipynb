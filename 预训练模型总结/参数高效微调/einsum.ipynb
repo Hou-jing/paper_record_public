{
  "nbformat": 4,
  "nbformat_minor": 0,
  "metadata": {
    "colab": {
      "name": "einsum.ipynb",
      "provenance": []
    },
    "kernelspec": {
      "name": "python3",
      "display_name": "Python 3"
    },
    "language_info": {
      "name": "python"
    }
  },
  "cells": [
    {
      "cell_type": "markdown",
      "source": [
        "## 爱因斯坦求和约定"
      ],
      "metadata": {
        "id": "G3IPPy5iyBtb"
      }
    },
    {
      "cell_type": "code",
      "execution_count": 1,
      "metadata": {
        "id": "C-KJFvC_x-Yv"
      },
      "outputs": [],
      "source": [
        "import torch\n"
      ]
    },
    {
      "cell_type": "code",
      "source": [
        "a = torch.arange(6).reshape(2, 3)"
      ],
      "metadata": {
        "id": "LZHV3vdlyHbY"
      },
      "execution_count": 2,
      "outputs": []
    },
    {
      "cell_type": "code",
      "source": [
        "a"
      ],
      "metadata": {
        "colab": {
          "base_uri": "https://localhost:8080/"
        },
        "id": "PIo-XI7RyTs2",
        "outputId": "61ac3ca0-4b59-4398-fed2-b2c962a7860a"
      },
      "execution_count": 4,
      "outputs": [
        {
          "output_type": "execute_result",
          "data": {
            "text/plain": [
              "tensor([[0, 1, 2],\n",
              "        [3, 4, 5]])"
            ]
          },
          "metadata": {},
          "execution_count": 4
        }
      ]
    },
    {
      "cell_type": "markdown",
      "source": [
        "### 转置"
      ],
      "metadata": {
        "id": "1nYBrycOyXJh"
      }
    },
    {
      "cell_type": "code",
      "source": [
        "torch.einsum('ij->ji',[a])"
      ],
      "metadata": {
        "colab": {
          "base_uri": "https://localhost:8080/"
        },
        "id": "VyBHGBvxyK94",
        "outputId": "33dcc7c2-c82d-4e6a-ae3a-1274a61531ce"
      },
      "execution_count": 3,
      "outputs": [
        {
          "output_type": "execute_result",
          "data": {
            "text/plain": [
              "tensor([[0, 3],\n",
              "        [1, 4],\n",
              "        [2, 5]])"
            ]
          },
          "metadata": {},
          "execution_count": 3
        }
      ]
    },
    {
      "cell_type": "markdown",
      "source": [
        "### 求和"
      ],
      "metadata": {
        "id": "3uKBAaf8ykNP"
      }
    },
    {
      "cell_type": "code",
      "source": [
        "torch.einsum('ij->',[a])"
      ],
      "metadata": {
        "colab": {
          "base_uri": "https://localhost:8080/"
        },
        "id": "o7BAwkxHylfR",
        "outputId": "fd11f9f5-a32a-4e96-a4f4-53901ec46397"
      },
      "execution_count": 6,
      "outputs": [
        {
          "output_type": "execute_result",
          "data": {
            "text/plain": [
              "tensor(15)"
            ]
          },
          "metadata": {},
          "execution_count": 6
        }
      ]
    },
    {
      "cell_type": "markdown",
      "source": [
        "### 列求和"
      ],
      "metadata": {
        "id": "X5piqMNYyq2l"
      }
    },
    {
      "cell_type": "code",
      "source": [
        "torch.einsum('ij->j',[a])"
      ],
      "metadata": {
        "colab": {
          "base_uri": "https://localhost:8080/"
        },
        "id": "zkZamnsEys_L",
        "outputId": "54fa6cd2-c778-470e-9dd9-ac75b8f92852"
      },
      "execution_count": 7,
      "outputs": [
        {
          "output_type": "execute_result",
          "data": {
            "text/plain": [
              "tensor([3, 5, 7])"
            ]
          },
          "metadata": {},
          "execution_count": 7
        }
      ]
    },
    {
      "cell_type": "markdown",
      "source": [
        "### 哈达玛积"
      ],
      "metadata": {
        "id": "QTcpA4DNyyiC"
      }
    },
    {
      "cell_type": "code",
      "source": [
        "b=torch.arange(6).reshape(2,3)\n",
        "b"
      ],
      "metadata": {
        "colab": {
          "base_uri": "https://localhost:8080/"
        },
        "id": "hWZbBspEy0_9",
        "outputId": "7dc00c75-e19b-4e60-e06b-af9f838657c2"
      },
      "execution_count": 8,
      "outputs": [
        {
          "output_type": "execute_result",
          "data": {
            "text/plain": [
              "tensor([[0, 1, 2],\n",
              "        [3, 4, 5]])"
            ]
          },
          "metadata": {},
          "execution_count": 8
        }
      ]
    },
    {
      "cell_type": "code",
      "source": [
        "torch.einsum('ij,ij->ij',[a,b])"
      ],
      "metadata": {
        "colab": {
          "base_uri": "https://localhost:8080/"
        },
        "id": "oDcIhX9szJHG",
        "outputId": "1ae8ab45-a119-4b8c-ea5b-205da10d95b2"
      },
      "execution_count": 9,
      "outputs": [
        {
          "output_type": "execute_result",
          "data": {
            "text/plain": [
              "tensor([[ 0,  1,  4],\n",
              "        [ 9, 16, 25]])"
            ]
          },
          "metadata": {},
          "execution_count": 9
        }
      ]
    },
    {
      "cell_type": "markdown",
      "source": [
        "### 点积"
      ],
      "metadata": {
        "id": "a95yhvyjzc-f"
      }
    },
    {
      "cell_type": "code",
      "source": [
        "b = torch.arange(3)\n",
        "b"
      ],
      "metadata": {
        "colab": {
          "base_uri": "https://localhost:8080/"
        },
        "id": "f7Fni8Nozggb",
        "outputId": "5cf5f057-52f0-4195-b0a3-558b5bc8a126"
      },
      "execution_count": 11,
      "outputs": [
        {
          "output_type": "execute_result",
          "data": {
            "text/plain": [
              "tensor([0, 1, 2])"
            ]
          },
          "metadata": {},
          "execution_count": 11
        }
      ]
    },
    {
      "cell_type": "code",
      "source": [
        "torch.einsum('ik,k->i',[a,b])"
      ],
      "metadata": {
        "colab": {
          "base_uri": "https://localhost:8080/"
        },
        "id": "AF6ROx9dzk0L",
        "outputId": "7c46e6a7-b2fd-45ce-aaa5-39c245e40af6"
      },
      "execution_count": 12,
      "outputs": [
        {
          "output_type": "execute_result",
          "data": {
            "text/plain": [
              "tensor([ 5, 14])"
            ]
          },
          "metadata": {},
          "execution_count": 12
        }
      ]
    },
    {
      "cell_type": "markdown",
      "source": [
        "### 外积"
      ],
      "metadata": {
        "id": "PmhPh7Hoz9hu"
      }
    },
    {
      "cell_type": "code",
      "source": [
        "a = torch.arange(3)\n",
        "b = torch.arange(3,7)\n",
        "torch.einsum('i,j->ij', [a, b])\n"
      ],
      "metadata": {
        "colab": {
          "base_uri": "https://localhost:8080/"
        },
        "id": "kS6bE8v00B8d",
        "outputId": "bbc3aaf3-4fc7-4632-d410-4863cb35eaed"
      },
      "execution_count": 13,
      "outputs": [
        {
          "output_type": "execute_result",
          "data": {
            "text/plain": [
              "tensor([[ 0,  0,  0,  0],\n",
              "        [ 3,  4,  5,  6],\n",
              "        [ 6,  8, 10, 12]])"
            ]
          },
          "metadata": {},
          "execution_count": 13
        }
      ]
    },
    {
      "cell_type": "code",
      "source": [
        "a,b"
      ],
      "metadata": {
        "colab": {
          "base_uri": "https://localhost:8080/"
        },
        "id": "ajqWLWMU0EJg",
        "outputId": "b77fc96a-67d7-44eb-e5a7-9f78661a8378"
      },
      "execution_count": 14,
      "outputs": [
        {
          "output_type": "execute_result",
          "data": {
            "text/plain": [
              "(tensor([0, 1, 2]), tensor([3, 4, 5, 6]))"
            ]
          },
          "metadata": {},
          "execution_count": 14
        }
      ]
    },
    {
      "cell_type": "markdown",
      "source": [
        "### test"
      ],
      "metadata": {
        "id": "VnAZ6fva5P0y"
      }
    },
    {
      "cell_type": "code",
      "source": [
        "import torch.nn.functional as F\n",
        "\n",
        "def random_tensors(shape, num=1, requires_grad=False):\n",
        "  tensors = [torch.randn(shape, requires_grad=requires_grad) for i in range(0, num)]\n",
        "  return tensors[0] if num == 1 else tensors"
      ],
      "metadata": {
        "id": "8hs45IOl5SAp"
      },
      "execution_count": 15,
      "outputs": []
    },
    {
      "cell_type": "code",
      "source": [
        "zl = random_tensors([2, 3])"
      ],
      "metadata": {
        "id": "n0M_Elfz5kPX"
      },
      "execution_count": 16,
      "outputs": []
    },
    {
      "cell_type": "code",
      "source": [
        "zl"
      ],
      "metadata": {
        "colab": {
          "base_uri": "https://localhost:8080/"
        },
        "id": "YC_q0N9A5mIg",
        "outputId": "2d94b697-9b91-426e-9b48-3742788da7ec"
      },
      "execution_count": 17,
      "outputs": [
        {
          "output_type": "execute_result",
          "data": {
            "text/plain": [
              "tensor([[-1.0784, -0.3765,  0.3611],\n",
              "        [ 0.2620, -0.7424, -2.1492]])"
            ]
          },
          "metadata": {},
          "execution_count": 17
        }
      ]
    },
    {
      "cell_type": "code",
      "source": [
        "W = random_tensors([5, 3, 3], requires_grad=True)"
      ],
      "metadata": {
        "id": "xcZ6ZEQC5nP6"
      },
      "execution_count": 18,
      "outputs": []
    },
    {
      "cell_type": "code",
      "source": [
        "torch.einsum(\"bk,aki->bai\", [zl, W])"
      ],
      "metadata": {
        "colab": {
          "base_uri": "https://localhost:8080/"
        },
        "id": "DHdd-Zea5qzx",
        "outputId": "90d3ad46-6f90-4c14-be80-61807f86873c"
      },
      "execution_count": 19,
      "outputs": [
        {
          "output_type": "execute_result",
          "data": {
            "text/plain": [
              "tensor([[[-0.5571, -0.2238, -0.8938],\n",
              "         [-0.2805,  0.4848, -0.2623],\n",
              "         [ 1.5178,  0.0450, -0.6297],\n",
              "         [ 1.3036, -0.9711, -1.6246],\n",
              "         [ 0.7846,  0.5622, -0.7734]],\n",
              "\n",
              "        [[-0.6270, -3.9375,  4.1081],\n",
              "         [ 0.7884, -1.8129,  0.0049],\n",
              "         [ 1.0319, -2.1058,  2.2312],\n",
              "         [ 3.0491,  0.9635, -0.1343],\n",
              "         [-1.2554, -3.5111, -2.0805]]], grad_fn=<ViewBackward0>)"
            ]
          },
          "metadata": {},
          "execution_count": 19
        }
      ]
    }
  ]
}
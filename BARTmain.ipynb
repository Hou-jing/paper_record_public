{
  "cells": [
    {
      "cell_type": "code",
      "execution_count": null,
      "metadata": {
        "id": "e6z3fuGghIM8"
      },
      "outputs": [],
      "source": [
        "!wget https://www.dropbox.com/s/22q2dkgjqrsftjc/BARTNER-main.zip?dl=0\n",
        "!unzip BARTNER-main.zip?dl=0"
      ]
    },
    {
      "cell_type": "code",
      "execution_count": null,
      "metadata": {
        "colab": {
          "base_uri": "https://localhost:8080/"
        },
        "id": "L2adXrS3kSpU",
        "outputId": "c0fb6541-8469-423b-c7b7-38646f4ffee4"
      },
      "outputs": [
        {
          "name": "stdout",
          "output_type": "stream",
          "text": [
            "\u001b[31mERROR: Could not open requirements file: [Errno 2] No such file or directory: 'pytorch'\u001b[0m\n"
          ]
        }
      ],
      "source": [
        "# !pip install pytorch==1.7.0 torchvision==0.8.0 torchaudio==0.7.0 cudatoolkit=11.0 -c pytorch\n"
      ]
    },
    {
      "cell_type": "markdown",
      "source": [
        "# 本笔记本是《A Unified Generative Framework for Various NER Subtasks》论文，在CONLL03数据集上做的性能测试。\n"
      ],
      "metadata": {
        "id": "em2b7fFt-bfm"
      }
    },
    {
      "cell_type": "code",
      "execution_count": null,
      "metadata": {
        "colab": {
          "base_uri": "https://localhost:8080/"
        },
        "id": "tVEHXpLGq-xx",
        "outputId": "4510bb5b-59dd-4fc2-bb84-29867cdc82a6"
      },
      "outputs": [
        {
          "name": "stdout",
          "output_type": "stream",
          "text": [
            "--2022-08-16 03:22:58--  https://www.dropbox.com/s/lrgy5vzyy1lf6vb/conll2003.zip?dl=0\n",
            "Resolving www.dropbox.com (www.dropbox.com)... 162.125.1.18, 2620:100:6016:18::a27d:112\n",
            "Connecting to www.dropbox.com (www.dropbox.com)|162.125.1.18|:443... connected.\n",
            "HTTP request sent, awaiting response... 301 Moved Permanently\n",
            "Location: /s/raw/lrgy5vzyy1lf6vb/conll2003.zip [following]\n",
            "--2022-08-16 03:22:59--  https://www.dropbox.com/s/raw/lrgy5vzyy1lf6vb/conll2003.zip\n",
            "Reusing existing connection to www.dropbox.com:443.\n",
            "HTTP request sent, awaiting response... 302 Found\n",
            "Location: https://ucff12d94b586aa773c22beebb89.dl.dropboxusercontent.com/cd/0/inline/BrH65lpu_uO3fitj3i8mnXDJzq4qG7YKSFuMvfVskCC06g5cesQDVI_7Bsaz9-Zpce8nzhWjUJcyTiNc0FFVCUL-QiK3xdDKsgfGLt2K_w9S5-Y_93xAEO221kBmgercdOWTH0neHHgsdopNXK5PIiOsTDEh4RSYsVS8j3qDh0QnEA/file# [following]\n",
            "--2022-08-16 03:22:59--  https://ucff12d94b586aa773c22beebb89.dl.dropboxusercontent.com/cd/0/inline/BrH65lpu_uO3fitj3i8mnXDJzq4qG7YKSFuMvfVskCC06g5cesQDVI_7Bsaz9-Zpce8nzhWjUJcyTiNc0FFVCUL-QiK3xdDKsgfGLt2K_w9S5-Y_93xAEO221kBmgercdOWTH0neHHgsdopNXK5PIiOsTDEh4RSYsVS8j3qDh0QnEA/file\n",
            "Resolving ucff12d94b586aa773c22beebb89.dl.dropboxusercontent.com (ucff12d94b586aa773c22beebb89.dl.dropboxusercontent.com)... 162.125.1.15, 2620:100:6016:15::a27d:10f\n",
            "Connecting to ucff12d94b586aa773c22beebb89.dl.dropboxusercontent.com (ucff12d94b586aa773c22beebb89.dl.dropboxusercontent.com)|162.125.1.15|:443... connected.\n",
            "HTTP request sent, awaiting response... 302 Found\n",
            "Location: /cd/0/inline2/BrHSD_umivUsaBScyfGo6YYQ_I6hLcQQrW6ag76GqNHZduiVVRRAOwSMQSgDkSvlYj4ueWzv07Oe5mfOL-9z9mntnUqit1pVfiQB9IiQSrA_uqkDPaxOdsrbe_yv7a8KA2wvsXq03Wejubai4qLwzz0h8Kp6BhuCYPZFfeo2kpp5FvdROXX3e-Upfa9Dq86FS_UGFlbXoo9QbrM9bl13SJay9nBqfhSIrvOlAxzlsC_5YYP0BgoFK7ohXU8w6KEf5nx27jb68nt05e4gyzq7_dC31mfeoXOGBHZuintHI3ulxUfPQf3f7aMSzriwTqqizpfdkqKzmdZHGyx9PiW7lkCtXTZ3_W2lfxqrXdUl4BAoVAqF2HPVv484T4v6vhke9edqPkeshdrvurSrK2UVxXk7FL38rE-iYwqmn407PuF39Q/file [following]\n",
            "--2022-08-16 03:22:59--  https://ucff12d94b586aa773c22beebb89.dl.dropboxusercontent.com/cd/0/inline2/BrHSD_umivUsaBScyfGo6YYQ_I6hLcQQrW6ag76GqNHZduiVVRRAOwSMQSgDkSvlYj4ueWzv07Oe5mfOL-9z9mntnUqit1pVfiQB9IiQSrA_uqkDPaxOdsrbe_yv7a8KA2wvsXq03Wejubai4qLwzz0h8Kp6BhuCYPZFfeo2kpp5FvdROXX3e-Upfa9Dq86FS_UGFlbXoo9QbrM9bl13SJay9nBqfhSIrvOlAxzlsC_5YYP0BgoFK7ohXU8w6KEf5nx27jb68nt05e4gyzq7_dC31mfeoXOGBHZuintHI3ulxUfPQf3f7aMSzriwTqqizpfdkqKzmdZHGyx9PiW7lkCtXTZ3_W2lfxqrXdUl4BAoVAqF2HPVv484T4v6vhke9edqPkeshdrvurSrK2UVxXk7FL38rE-iYwqmn407PuF39Q/file\n",
            "Reusing existing connection to ucff12d94b586aa773c22beebb89.dl.dropboxusercontent.com:443.\n",
            "HTTP request sent, awaiting response... 200 OK\n",
            "Length: 949579 (927K) [application/zip]\n",
            "Saving to: ‘conll2003.zip?dl=0.1’\n",
            "\n",
            "conll2003.zip?dl=0. 100%[===================>] 927.32K  --.-KB/s    in 0.04s   \n",
            "\n",
            "2022-08-16 03:23:00 (23.3 MB/s) - ‘conll2003.zip?dl=0.1’ saved [949579/949579]\n",
            "\n",
            "Archive:  conll2003.zip?dl=0\n",
            "   creating: conll2003/\n",
            "  inflating: conll2003/dev.txt       \n",
            "  inflating: conll2003/test.txt      \n",
            "  inflating: conll2003/train.txt     \n"
          ]
        }
      ],
      "source": [
        "!wget https://www.dropbox.com/s/lrgy5vzyy1lf6vb/conll2003.zip?dl=0 \n",
        "!unzip conll2003.zip?dl=0"
      ]
    },
    {
      "cell_type": "code",
      "execution_count": null,
      "metadata": {
        "colab": {
          "base_uri": "https://localhost:8080/"
        },
        "id": "PpM6n_NOkqGc",
        "outputId": "90bf049c-aac2-411f-b5b2-f5c8dd8d50fc"
      },
      "outputs": [
        {
          "name": "stdout",
          "output_type": "stream",
          "text": [
            "Successfully installed sacremoses-0.0.53 sentencepiece-0.1.97 tokenizers-0.9.2 transformers-3.4.0\n"
          ]
        }
      ],
      "source": [
        "!pip install transformers==3.4.0"
      ]
    },
    {
      "cell_type": "code",
      "execution_count": null,
      "metadata": {
        "colab": {
          "base_uri": "https://localhost:8080/"
        },
        "id": "P5VXmUtCkyOm",
        "outputId": "336e85fa-6146-4aa0-8ec3-55f55e3ee837"
      },
      "outputs": [
        {
          "name": "stdout",
          "output_type": "stream",
          "text": [
            "\u001b[31mERROR: Could not open requirements file: [Errno 2] No such file or directory: 'pytorch'\u001b[0m\n"
          ]
        }
      ],
      "source": [
        "# !pip install pytorch==1.7.0 torchvision==0.8.0 torchaudio==0.7.0 cudatoolkit=11.0 -c pytorch\n"
      ]
    },
    {
      "cell_type": "code",
      "execution_count": null,
      "metadata": {
        "id": "k5P8jOm1lffA"
      },
      "outputs": [],
      "source": [
        "# !wget https://mirrors.tuna.tsinghua.edu.cn/anaconda/cloud/pytorch/win-64/pytorch-1.7.1-py3.7_cuda110_cudnn8_0.tar.bz2"
      ]
    },
    {
      "cell_type": "code",
      "execution_count": null,
      "metadata": {
        "id": "Z_jbnNOyl1pO"
      },
      "outputs": [],
      "source": [
        "!pip install torch==1.7.0+cu101 torchvision==0.8.1+cu101 torchaudio===0.7.0 -f https://download.pytorch.org/whl/torch_stable.html -i https://pypi.douban.com/simple\n"
      ]
    },
    {
      "cell_type": "code",
      "execution_count": null,
      "metadata": {
        "colab": {
          "base_uri": "https://localhost:8080/"
        },
        "id": "XjG_AHE4nFrG",
        "outputId": "79e646c4-09ad-446d-ac11-8075a50bfde8"
      },
      "outputs": [
        {
          "name": "stdout",
          "output_type": "stream",
          "text": [
            "Looking in indexes: https://pypi.org/simple, https://us-python.pkg.dev/colab-wheels/public/simple/\n",
            "Collecting git+https://github.com/fastnlp/fastNLP@dev\n",
            "  Cloning https://github.com/fastnlp/fastNLP (to revision dev) to /tmp/pip-req-build-zb_dg_1m\n",
            "  Running command git clone -q https://github.com/fastnlp/fastNLP /tmp/pip-req-build-zb_dg_1m\n",
            "  Running command git checkout -b dev --track origin/dev\n",
            "  Switched to a new branch 'dev'\n",
            "  Branch 'dev' set up to track remote branch 'dev' from 'origin'.\n",
            "Requirement already satisfied: numpy>=1.14.2 in /usr/local/lib/python3.7/dist-packages (from FastNLP==0.7.1) (1.21.6)\n",
            "Requirement already satisfied: torch>=1.0.0 in /usr/local/lib/python3.7/dist-packages (from FastNLP==0.7.1) (1.7.0+cu101)\n",
            "Requirement already satisfied: tqdm>=4.28.1 in /usr/local/lib/python3.7/dist-packages (from FastNLP==0.7.1) (4.64.0)\n",
            "Requirement already satisfied: prettytable>=0.7.2 in /usr/local/lib/python3.7/dist-packages (from FastNLP==0.7.1) (3.3.0)\n",
            "Requirement already satisfied: requests in /usr/local/lib/python3.7/dist-packages (from FastNLP==0.7.1) (2.23.0)\n",
            "Requirement already satisfied: regex!=2019.12.17 in /usr/local/lib/python3.7/dist-packages (from FastNLP==0.7.1) (2022.6.2)\n",
            "Requirement already satisfied: importlib-metadata in /usr/local/lib/python3.7/dist-packages (from prettytable>=0.7.2->FastNLP==0.7.1) (4.12.0)\n",
            "Requirement already satisfied: wcwidth in /usr/local/lib/python3.7/dist-packages (from prettytable>=0.7.2->FastNLP==0.7.1) (0.2.5)\n",
            "Requirement already satisfied: future in /usr/local/lib/python3.7/dist-packages (from torch>=1.0.0->FastNLP==0.7.1) (0.16.0)\n",
            "Requirement already satisfied: typing-extensions in /usr/local/lib/python3.7/dist-packages (from torch>=1.0.0->FastNLP==0.7.1) (4.1.1)\n",
            "Requirement already satisfied: dataclasses in /usr/local/lib/python3.7/dist-packages (from torch>=1.0.0->FastNLP==0.7.1) (0.6)\n",
            "Requirement already satisfied: zipp>=0.5 in /usr/local/lib/python3.7/dist-packages (from importlib-metadata->prettytable>=0.7.2->FastNLP==0.7.1) (3.8.1)\n",
            "Requirement already satisfied: chardet<4,>=3.0.2 in /usr/local/lib/python3.7/dist-packages (from requests->FastNLP==0.7.1) (3.0.4)\n",
            "Requirement already satisfied: urllib3!=1.25.0,!=1.25.1,<1.26,>=1.21.1 in /usr/local/lib/python3.7/dist-packages (from requests->FastNLP==0.7.1) (1.24.3)\n",
            "Requirement already satisfied: idna<3,>=2.5 in /usr/local/lib/python3.7/dist-packages (from requests->FastNLP==0.7.1) (2.10)\n",
            "Requirement already satisfied: certifi>=2017.4.17 in /usr/local/lib/python3.7/dist-packages (from requests->FastNLP==0.7.1) (2022.6.15)\n",
            "Looking in indexes: https://pypi.org/simple, https://us-python.pkg.dev/colab-wheels/public/simple/\n",
            "Collecting git+https://github.com/fastnlp/fitlog\n",
            "  Cloning https://github.com/fastnlp/fitlog to /tmp/pip-req-build-y78pvhot\n",
            "  Running command git clone -q https://github.com/fastnlp/fitlog /tmp/pip-req-build-y78pvhot\n",
            "Requirement already satisfied: docopt>=0.6.2 in /usr/local/lib/python3.7/dist-packages (from fitlog==0.9.13) (0.6.2)\n",
            "Requirement already satisfied: flask>=1.0.2 in /usr/local/lib/python3.7/dist-packages (from fitlog==0.9.13) (1.1.4)\n",
            "Requirement already satisfied: numpy>=1.16.4 in /usr/local/lib/python3.7/dist-packages (from fitlog==0.9.13) (1.21.6)\n",
            "Requirement already satisfied: gitpython>=3.1.2 in /usr/local/lib/python3.7/dist-packages (from fitlog==0.9.13) (3.1.27)\n",
            "Requirement already satisfied: Jinja2<3.0,>=2.10.1 in /usr/local/lib/python3.7/dist-packages (from flask>=1.0.2->fitlog==0.9.13) (2.11.3)\n",
            "Requirement already satisfied: itsdangerous<2.0,>=0.24 in /usr/local/lib/python3.7/dist-packages (from flask>=1.0.2->fitlog==0.9.13) (1.1.0)\n",
            "Requirement already satisfied: Werkzeug<2.0,>=0.15 in /usr/local/lib/python3.7/dist-packages (from flask>=1.0.2->fitlog==0.9.13) (1.0.1)\n",
            "Requirement already satisfied: click<8.0,>=5.1 in /usr/local/lib/python3.7/dist-packages (from flask>=1.0.2->fitlog==0.9.13) (7.1.2)\n",
            "Requirement already satisfied: gitdb<5,>=4.0.1 in /usr/local/lib/python3.7/dist-packages (from gitpython>=3.1.2->fitlog==0.9.13) (4.0.9)\n",
            "Requirement already satisfied: typing-extensions>=3.7.4.3 in /usr/local/lib/python3.7/dist-packages (from gitpython>=3.1.2->fitlog==0.9.13) (4.1.1)\n",
            "Requirement already satisfied: smmap<6,>=3.0.1 in /usr/local/lib/python3.7/dist-packages (from gitdb<5,>=4.0.1->gitpython>=3.1.2->fitlog==0.9.13) (5.0.0)\n",
            "Requirement already satisfied: MarkupSafe>=0.23 in /usr/local/lib/python3.7/dist-packages (from Jinja2<3.0,>=2.10.1->flask>=1.0.2->fitlog==0.9.13) (2.0.1)\n"
          ]
        }
      ],
      "source": [
        "!pip install git+https://github.com/fastnlp/fastNLP@dev\n",
        "!pip install git+https://github.com/fastnlp/fitlog"
      ]
    },
    {
      "cell_type": "markdown",
      "source": [
        "# Train部分"
      ],
      "metadata": {
        "id": "CIO5S9h9-v-V"
      }
    },
    {
      "cell_type": "code",
      "execution_count": null,
      "metadata": {
        "id": "2Q4Jzh-AraM3"
      },
      "outputs": [],
      "source": [
        "import sys\n",
        "sys.path.append('../')\n",
        "import os\n",
        "if 'p' in os.environ:\n",
        "    os.environ['CUDA_VISIBLE_DEVICES'] = os.environ['p']\n",
        "    # os.environ['CUDA_VISIBLE_DEVICES'] = '7'\n",
        "\n",
        "import warnings\n",
        "warnings.filterwarnings('ignore')\n",
        "from data.pipe import BartNERPipe\n",
        "from model.bart import BartSeq2SeqModel\n",
        "import fitlog\n",
        "\n",
        "from fastNLP import Trainer\n",
        "from model.metrics import Seq2SeqSpanMetric\n",
        "from model.losses import Seq2SeqLoss\n",
        "from torch import optim\n",
        "from fastNLP import BucketSampler, GradientClipCallback, cache_results\n",
        "\n",
        "from model.callbacks import WarmupCallback\n",
        "from fastNLP.core.sampler import SortedSampler\n",
        "from model.generater import SequenceGeneratorModel\n",
        "from fastNLP.core.sampler import  ConstTokenNumSampler\n",
        "from model.callbacks import FitlogCallback\n",
        "\n",
        "fitlog.debug()\n",
        "fitlog.set_log_dir('logs')"
      ]
    },
    {
      "cell_type": "code",
      "execution_count": null,
      "metadata": {
        "id": "ehDIyOVZriWq"
      },
      "outputs": [],
      "source": [
        "\n",
        "\n",
        "import argparse\n",
        "parser = argparse.ArgumentParser()\n",
        "parser.add_argument('--dataset_name', default='conll2003', type=str)\n",
        "\n",
        "args= parser.parse_args(args=[])\n",
        "dataset_name = args.dataset_name\n",
        "args.length_penalty = 1\n",
        "args.save_model =1 #0\n",
        "\n",
        "# word: 生成word的start; bpe: 生成所有的bpe; span: 每一段按照start end生成; span_bpe: 每一段都是start的所有bpe，end的所有bpe\n",
        "args.target_type = 'word'\n",
        "args.bart_name = 'facebook/bart-large'\n",
        "args.schedule = 'linear'\n",
        "args.decoder_type = 'avg_feature'\n",
        "args.n_epochs =5 #30\n",
        "args.num_beams = 1\n",
        "args.batch_size = 16\n",
        "args.use_encoder_mlp = 1\n",
        "args.lr = 1e-5\n",
        "args.warmup_ratio = 0.01\n",
        "eval_start_epoch = 15"
      ]
    },
    {
      "cell_type": "code",
      "execution_count": null,
      "metadata": {
        "colab": {
          "background_save": true,
          "base_uri": "https://localhost:8080/",
          "height": 431,
          "referenced_widgets": [
            "7aca0b2c2e824020bf7850053f39c7d1",
            "f89e1f5cc36644c589b711f4e555d33f",
            "e525552451c145088163309e094134da",
            "4d9ffa59acf9425785e4020a7ec86074",
            "5fab115dc92b48d3b403c5fda747cb7a",
            "d18c7df3331e409d999f13eb344b28c1",
            "9e86bde51a56478bbba946223dc309d5",
            "1dbd8fb79ae34929bf6b3f10986d4d55",
            "f454d1255c5c49e4a685fadc145de617",
            "fead07a572b54a23bba5d443e94987e9",
            "7b7c2a11fdd14a7ca2dfa88323dbe14a",
            "9520e287efbf49b8b2d8261744f01660"
          ]
        },
        "id": "0aBoOF9Jm75t",
        "outputId": "4a9acdf3-ad39-4158-a5bf-a5c015baf60c"
      },
      "outputs": [
        {
          "name": "stdout",
          "output_type": "stream",
          "text": [
            "Read cache from caches/data_facebook/bart-large_conll2003_word.pt.\n",
            "max_len_a:0.6, max_len:10\n",
            "In total 3 datasets:\n",
            "\ttest has 3453 instances.\n",
            "\ttrain has 14041 instances.\n",
            "\tdev has 3250 instances.\n",
            "\n",
            "The number of tokens in tokenizer  50265\n",
            "50269 50274\n",
            "input fields after batch(if batch size is 2):\n",
            "\ttgt_tokens: (1)type:torch.Tensor (2)dtype:torch.int64, (3)shape:torch.Size([2, 8]) \n",
            "\tsrc_tokens: (1)type:torch.Tensor (2)dtype:torch.int64, (3)shape:torch.Size([2, 11]) \n",
            "\tfirst: (1)type:torch.Tensor (2)dtype:torch.int64, (3)shape:torch.Size([2, 11]) \n",
            "\tsrc_seq_len: (1)type:torch.Tensor (2)dtype:torch.int64, (3)shape:torch.Size([2]) \n",
            "\ttgt_seq_len: (1)type:torch.Tensor (2)dtype:torch.int64, (3)shape:torch.Size([2]) \n",
            "target fields after batch(if batch size is 2):\n",
            "\tentities: (1)type:numpy.ndarray (2)dtype:object, (3)shape:(2,) \n",
            "\ttgt_tokens: (1)type:torch.Tensor (2)dtype:torch.int64, (3)shape:torch.Size([2, 8]) \n",
            "\ttarget_span: (1)type:numpy.ndarray (2)dtype:object, (3)shape:(2,) \n",
            "\ttgt_seq_len: (1)type:torch.Tensor (2)dtype:torch.int64, (3)shape:torch.Size([2]) \n",
            "\n",
            "training epochs started 2022-08-16-07-21-48-830073\n"
          ]
        },
        {
          "data": {
            "application/vnd.jupyter.widget-view+json": {
              "model_id": "7aca0b2c2e824020bf7850053f39c7d1",
              "version_major": 2,
              "version_minor": 0
            },
            "text/plain": [
              "  0%|          | 0/5405 [00:00<?, ?it/s, loss:{0:<6.5f}]"
            ]
          },
          "metadata": {},
          "output_type": "display_data"
        },
        {
          "data": {
            "application/vnd.jupyter.widget-view+json": {
              "model_id": "9520e287efbf49b8b2d8261744f01660",
              "version_major": 2,
              "version_minor": 0
            },
            "text/plain": [
              "  0%|          | 0/108 [00:00<?, ?it/s]"
            ]
          },
          "metadata": {},
          "output_type": "display_data"
        },
        {
          "name": "stdout",
          "output_type": "stream",
          "text": [
            "Evaluate data in 22.16 seconds!\n",
            "Evaluation on dev at Epoch 5/5. Step:5405/5405: \n",
            "Seq2SeqSpanMetric: f=91.16, rec=91.34, pre=90.97, em=0.8598\n",
            "\n",
            "\n",
            "In Epoch:5/Step:5405, got best dev performance:\n",
            "Seq2SeqSpanMetric: f=91.16, rec=91.34, pre=90.97, em=0.8598\n"
          ]
        },
        {
          "data": {
            "text/plain": [
              "{'best_eval': {'Seq2SeqSpanMetric': {'f': 91.16,\n",
              "   'rec': 91.34,\n",
              "   'pre': 90.97,\n",
              "   'em': 0.8598}},\n",
              " 'best_epoch': 5,\n",
              " 'best_step': 5405,\n",
              " 'seconds': 1360.85}"
            ]
          },
          "execution_count": 5,
          "metadata": {},
          "output_type": "execute_result"
        }
      ],
      "source": [
        "\n",
        "\n",
        "# the following hyper-parameters are for target_type=word\n",
        "if dataset_name == 'conll2003':  # three runs get 93.18/93.18/93.36 F1\n",
        "    max_len, max_len_a = 10, 0.6\n",
        "elif dataset_name == 'en-ontonotes':  # three runs get 90.46/90.4/90/52 F1\n",
        "    max_len, max_len_a = 10, 0.8\n",
        "elif dataset_name == 'CADEC':\n",
        "    max_len, max_len_a = 10, 1.6\n",
        "    args.num_beams = 4\n",
        "    args.lr = 2e-5\n",
        "    args.n_epochs = 30\n",
        "    eval_start_epoch=10\n",
        "elif dataset_name == 'Share_2013':\n",
        "    max_len, max_len_a = 10, 0.6\n",
        "    args.use_encoder_mlp = 0\n",
        "    args.num_beams = 4\n",
        "    args.lr = 2e-5\n",
        "    eval_start_epoch = 5\n",
        "elif dataset_name == 'Share_2014':\n",
        "    max_len, max_len_a = 10, 0.6\n",
        "    args.num_beams = 4\n",
        "    eval_start_epoch = 5\n",
        "    args.n_epochs = 30\n",
        "elif dataset_name == 'genia':  # three runs: 79.29/79.13/78.75\n",
        "    max_len, max_len_a = 10, 0.5\n",
        "    args.target_type = 'span'\n",
        "    args.lr = 2e-5\n",
        "    args.warmup_ratio = 0.01\n",
        "elif dataset_name == 'en_ace04':  # four runs: 86.84/86.33/87/87.17\n",
        "    max_len, max_len_a = 50, 1.1\n",
        "    args.lr = 4e-5\n",
        "elif dataset_name == 'en_ace05':  # three runs: 85.39/84.54/84.75\n",
        "    max_len, max_len_a = 50, 0.7\n",
        "    args.lr = 3e-5\n",
        "    args.batch_size = 12\n",
        "    args.num_beams = 4\n",
        "    args.warmup_ratio = 0.1\n",
        "\n",
        "\n",
        "save_model = args.save_model\n",
        "del args.save_model\n",
        "lr = args.lr\n",
        "n_epochs = args.n_epochs\n",
        "batch_size = args.batch_size\n",
        "num_beams = args.num_beams\n",
        "\n",
        "length_penalty = args.length_penalty\n",
        "if isinstance(args.decoder_type, str) and args.decoder_type.lower() == 'none':\n",
        "    args.decoder_type = None\n",
        "decoder_type = args.decoder_type\n",
        "target_type = args.target_type\n",
        "bart_name = args.bart_name\n",
        "schedule = args.schedule\n",
        "use_encoder_mlp = args.use_encoder_mlp\n",
        "\n",
        "fitlog.add_hyper(args)\n",
        "\n",
        "#######hyper\n",
        "#######hyper\n",
        "\n",
        "demo = False\n",
        "if demo:\n",
        "    cache_fn = f\"caches/data_{bart_name}_{dataset_name}_{target_type}_demo.pt\"\n",
        "else:\n",
        "    cache_fn = f\"caches/data_{bart_name}_{dataset_name}_{target_type}.pt\"\n",
        "\n",
        "@cache_results(cache_fn, _refresh=False)\n",
        "def get_data():\n",
        "    pipe = BartNERPipe(tokenizer=bart_name, dataset_name=dataset_name, target_type=target_type)\n",
        "    if dataset_name == 'conll2003':\n",
        "        paths = {'test': \"data/conll2003/test.txt\",\n",
        "                 'train': \"data/conll2003/train.txt\",\n",
        "                 'dev': \"data/conll2003/dev.txt\"}\n",
        "        data_bundle = pipe.process_from_file(paths, demo=demo)\n",
        "    elif dataset_name == 'en-ontonotes':\n",
        "        paths = '../data/en-ontonotes/english'\n",
        "        data_bundle = pipe.process_from_file(paths)\n",
        "    else:\n",
        "        data_bundle = pipe.process_from_file(f'../data/{dataset_name}', demo=demo)\n",
        "    return data_bundle, pipe.tokenizer, pipe.mapping2id\n",
        "\n",
        "data_bundle, tokenizer, mapping2id = get_data()\n",
        "\n",
        "print(f'max_len_a:{max_len_a}, max_len:{max_len}')\n",
        "\n",
        "print(data_bundle)\n",
        "print(\"The number of tokens in tokenizer \", len(tokenizer.decoder))\n",
        "\n",
        "bos_token_id = 0\n",
        "eos_token_id = 1\n",
        "label_ids = list(mapping2id.values())\n",
        "model = BartSeq2SeqModel.build_model(bart_name, tokenizer, label_ids=label_ids, decoder_type=decoder_type,\n",
        "                                     use_encoder_mlp=use_encoder_mlp)\n",
        "\n",
        "vocab_size = len(tokenizer)\n",
        "print(vocab_size, model.decoder.decoder.embed_tokens.weight.data.size(0))\n",
        "model = SequenceGeneratorModel(model, bos_token_id=bos_token_id,\n",
        "                               eos_token_id=eos_token_id,\n",
        "                               max_length=max_len, max_len_a=max_len_a,num_beams=num_beams, do_sample=False,\n",
        "                               repetition_penalty=1, length_penalty=length_penalty, pad_token_id=eos_token_id,\n",
        "                               restricter=None)\n",
        "\n",
        "import torch\n",
        "if torch.cuda.is_available():\n",
        "    device = 'cuda'\n",
        "else:\n",
        "    device = 'cpu'\n",
        "\n",
        "parameters = []\n",
        "params = {'lr':lr, 'weight_decay':1e-2}\n",
        "params['params'] = [param for name, param in model.named_parameters() if not ('bart_encoder' in name or 'bart_decoder' in name)]\n",
        "parameters.append(params)\n",
        "\n",
        "params = {'lr':lr, 'weight_decay':1e-2}\n",
        "params['params'] = []\n",
        "for name, param in model.named_parameters():\n",
        "    if ('bart_encoder' in name or 'bart_decoder' in name) and not ('layernorm' in name or 'layer_norm' in name):\n",
        "        params['params'].append(param)\n",
        "parameters.append(params)\n",
        "\n",
        "params = {'lr':lr, 'weight_decay':0}\n",
        "params['params'] = []\n",
        "for name, param in model.named_parameters():\n",
        "    if ('bart_encoder' in name or 'bart_decoder' in name) and ('layernorm' in name or 'layer_norm' in name):\n",
        "        params['params'].append(param)\n",
        "parameters.append(params)\n",
        "\n",
        "optimizer = optim.AdamW(parameters)\n",
        "\n",
        "callbacks = []\n",
        "callbacks.append(GradientClipCallback(clip_value=5, clip_type='value'))\n",
        "callbacks.append(WarmupCallback(warmup=args.warmup_ratio, schedule=schedule))\n",
        "\n",
        "if dataset_name not in ('conll2003', 'genia'):\n",
        "    callbacks.append(FitlogCallback(data_bundle.get_dataset('test'), raise_threshold=0.04,\n",
        "                                        eval_begin_epoch=eval_start_epoch))  # 如果低于0.04大概率是讯飞了\n",
        "    eval_dataset = data_bundle.get_dataset('dev')\n",
        "elif dataset_name == 'genia':\n",
        "    dev_indices = []\n",
        "    tr_indices = []\n",
        "    for i in range(len(data_bundle.get_dataset('train'))):\n",
        "        if i%4==0 and len(dev_indices)<1669:\n",
        "            dev_indices.append(i)\n",
        "        else:\n",
        "            tr_indices.append(i)\n",
        "    eval_dataset = data_bundle.get_dataset('train')[dev_indices]\n",
        "    data_bundle.set_dataset(data_bundle.get_dataset('train')[tr_indices], name='train')\n",
        "    print(data_bundle)\n",
        "    callbacks.append(FitlogCallback(data_bundle.get_dataset('test'), raise_threshold=0.04, eval_begin_epoch=eval_start_epoch))  # 如果低于0.04大概率是讯飞了\n",
        "    fitlog.add_other(name='demo', value='split dev')\n",
        "else:\n",
        "    callbacks.append(FitlogCallback(raise_threshold=0.04, eval_begin_epoch=eval_start_epoch))  # 如果低于0.04大概率是讯飞了\n",
        "    eval_dataset = data_bundle.get_dataset('test')\n",
        "\n",
        "sampler = None\n",
        "if dataset_name in ('Share_2013',) :\n",
        "    if target_type == 'bpe':\n",
        "        sampler = ConstTokenNumSampler('src_seq_len', max_token=3500)\n",
        "    else:\n",
        "        sampler = ConstTokenNumSampler('src_seq_len', max_token=4000)\n",
        "if dataset_name in ('en_ace04',) and target_type == 'bpe':\n",
        "    sampler = ConstTokenNumSampler('src_seq_len', max_sentence=batch_size, max_token=2500)\n",
        "elif ('large' in bart_name and dataset_name in ('en-ontonotes', 'genia')):\n",
        "    sampler = ConstTokenNumSampler('src_seq_len', max_token=3000)\n",
        "else:\n",
        "    sampler = BucketSampler(seq_len_field_name='src_seq_len')\n",
        "\n",
        "metric = Seq2SeqSpanMetric(eos_token_id, num_labels=len(label_ids), target_type=target_type)\n",
        "\n",
        "ds = data_bundle.get_dataset('train')\n",
        "if dataset_name == 'conll2003':\n",
        "    ds.concat(data_bundle.get_dataset('dev'))\n",
        "    data_bundle.delete_dataset('dev')\n",
        "if save_model == 1:\n",
        "    save_path = 'save_models/'\n",
        "else:\n",
        "    save_path = None\n",
        "validate_every = 100000\n",
        "trainer = Trainer(train_data=ds, model=model, optimizer=optimizer,\n",
        "                  loss=Seq2SeqLoss(),\n",
        "                  batch_size=batch_size, sampler=sampler, drop_last=False, update_every=1,\n",
        "                  num_workers=4, n_epochs=n_epochs, print_every=1 if 'SEARCH_OUTPUT_FP' not in os.environ else 100,\n",
        "                  dev_data=eval_dataset, metrics=metric, metric_key='f',\n",
        "                  validate_every=validate_every, save_path=save_path, use_tqdm='SEARCH_OUTPUT_FP' not in os.environ, device=device,\n",
        "                  callbacks=callbacks, check_code_level=0, test_use_tqdm='SEARCH_OUTPUT_FP' not in os.environ,\n",
        "                  test_sampler=SortedSampler('src_seq_len'), dev_batch_size=batch_size*2)\n",
        "\n",
        "trainer.train(load_best_model=False)\n",
        "\n"
      ]
    },
    {
      "cell_type": "markdown",
      "metadata": {
        "id": "dOgXvqFcfDXy"
      },
      "source": [
        "# predict"
      ]
    },
    {
      "cell_type": "code",
      "execution_count": null,
      "metadata": {
        "colab": {
          "background_save": true
        },
        "id": "OGkv1svUfFq2"
      },
      "outputs": [],
      "source": [
        "import torch\n",
        "from fastNLP import cache_results\n",
        "from data.pipe import BartNERPipe\n",
        "from fastNLP import SequentialSampler, SortedSampler\n",
        "\n",
        "from fastNLP import DataSetIter\n",
        "from fastNLP.core.utils import _move_dict_value_to_device\n",
        "from tqdm import tqdm\n",
        "import json\n"
      ]
    },
    {
      "cell_type": "code",
      "execution_count": 9,
      "metadata": {
        "colab": {
          "base_uri": "https://localhost:8080/"
        },
        "id": "rdsLxUHMe7_Z",
        "outputId": "32de28bb-3e6f-4040-bc9a-7b97d2c2f662"
      },
      "outputs": [
        {
          "output_type": "stream",
          "name": "stdout",
          "text": [
            "Read cache from caches/data_facebook/bart-large_conll2003_word.pt.\n"
          ]
        },
        {
          "output_type": "stream",
          "name": "stderr",
          "text": [
            "100%|██████████| 108/108 [00:42<00:00,  2.53it/s]"
          ]
        },
        {
          "output_type": "stream",
          "name": "stdout",
          "text": [
            "In total, has 0 predictions on the non-word start.\n"
          ]
        },
        {
          "output_type": "stream",
          "name": "stderr",
          "text": [
            "\n"
          ]
        }
      ],
      "source": [
        "\n",
        "\n",
        "dataset_name = 'conll2003'\n",
        "model_path = 'save_models/best_SequenceGeneratorModel_f_2022-08-16-07-21-48-830073'  # you can set args.save_model=1 in train.py\n",
        "\n",
        "bart_name = 'facebook/bart-large'\n",
        "target_type = 'word'\n",
        "device = 'cuda:0'\n",
        "\n",
        "cache_fn = f\"caches/data_{bart_name}_{dataset_name}_{target_type}.pt\"\n",
        "\n",
        "\n",
        "@cache_results(cache_fn, _refresh=False)\n",
        "def get_data():\n",
        "    pipe = BartNERPipe(tokenizer=bart_name, dataset_name=dataset_name, target_type=target_type)\n",
        "    if dataset_name == 'conll2003':\n",
        "        paths = {'test': \"data/conll2003/test.txt\",\n",
        "                 'train': \"data/conll2003/train.txt\",\n",
        "                 'dev': \"data/conll2003/dev.txt\"}\n",
        "        data_bundle = pipe.process_from_file(paths, demo=False)\n",
        "    elif dataset_name == 'en-ontonotes':\n",
        "        paths = '../data/en-ontonotes/english'\n",
        "        data_bundle = pipe.process_from_file(paths)\n",
        "    else:\n",
        "        data_bundle = pipe.process_from_file(f'../data/{dataset_name}', demo=False)\n",
        "    return data_bundle, pipe.tokenizer, pipe.mapping2id\n",
        "\n",
        "\n",
        "data_bundle, tokenizer, mapping2id = get_data()\n",
        "model = torch.load(model_path)\n",
        "\n",
        "device = torch.device(device)\n",
        "model.to(device)\n",
        "model.eval()\n",
        "\n",
        "eos_token_id = 0\n",
        "word_start_index = len(mapping2id) + 2\n",
        "not_bpe_start = 0\n",
        "\n",
        "if dataset_name == 'conll2003':  # if you use other dataset, please change this mapping\n",
        "    mapping = {\n",
        "        '<<location>>': 'LOC',\n",
        "        '<<person>>': 'PER',\n",
        "        '<<organization>>': 'ORG',\n",
        "        '<<others>>': 'MISC'\n",
        "    }\n",
        "elif dataset_name == 'en_ace04':\n",
        "    mapping = {v: k for k, v in {\n",
        "        'loc': '<<location>>', \"gpe\": \"<<government>>\", \"wea\": \"<<weapon>>\", 'veh': \"<<vehicle>>\",\n",
        "        'per': '<<person>>',\n",
        "        'org': '<<organization>>',\n",
        "        'fac': '<<buildings>>',\n",
        "    }.items()}\n",
        "\n",
        "id2label = {k: mapping[v] for k, v in enumerate(mapping2id.keys())}\n",
        "\n",
        "\n",
        "def get_pairs(ps, word_start_index, target_type):\n",
        "    pairs = []\n",
        "    cur_pair = []\n",
        "    for j in ps:\n",
        "        if j < word_start_index:\n",
        "            if target_type == 'span':\n",
        "                if len(cur_pair) > 0 and len(cur_pair) % 2 == 0:\n",
        "                    if all([cur_pair[i] <= cur_pair[i + 1] for i in range(len(cur_pair) - 1)]):\n",
        "                        pairs.append(tuple(cur_pair + [j]))\n",
        "            else:\n",
        "                if len(cur_pair) > 0:\n",
        "                    if all([cur_pair[i] < cur_pair[i + 1] for i in range(len(cur_pair) - 1)]):\n",
        "                        pairs.append(tuple(cur_pair + [j]))\n",
        "            cur_pair = []\n",
        "        else:\n",
        "            cur_pair.append(j)\n",
        "    return pairs\n",
        "\n",
        "\n",
        "def get_spans(pairs, cum_lens, mapping2id, dataset_name, id2label):\n",
        "    spans = []\n",
        "    pred_y = ['O' for _ in range(len(raw_words_i))]\n",
        "    for pair in pairs:\n",
        "        label = pair[-1]\n",
        "        try:\n",
        "            idxes = [cum_lens.index(p - len(mapping2id) - 2) for p in pair[:-1]]\n",
        "            start_idx = idxes[0]\n",
        "            end_idx = idxes[-1]\n",
        "            if dataset_name in ('en_ace04', 'en_ace05'):\n",
        "                spans.append((start_idx, end_idx, id2label[label - 2]))\n",
        "            else:\n",
        "                pred_y[start_idx] = f'B-{id2label[label - 2]}'\n",
        "                for _ in range(start_idx + 1, end_idx + 1):\n",
        "                    pred_y[_] = f'I-{id2label[label - 2]}'\n",
        "        except Exception as e:\n",
        "            pass\n",
        "    return pairs, pred_y\n",
        "\n",
        "for name in ['test']:\n",
        "    ds = data_bundle.get_dataset(name)\n",
        "    ds.set_ignore_type('raw_words', 'raw_target')\n",
        "    ds.set_target('raw_words', 'raw_target')\n",
        "    with open(f'preds/{name}.conll', 'w', encoding='utf-8') as f:\n",
        "        data_iterator = DataSetIter(ds, batch_size=32, sampler=SequentialSampler())\n",
        "        for batch_x, batch_y in tqdm(data_iterator, total=len(data_iterator)):\n",
        "            _move_dict_value_to_device(batch_x, batch_y, device=device)\n",
        "            src_tokens = batch_x['src_tokens']\n",
        "            first = batch_x['first']\n",
        "            src_seq_len = batch_x['src_seq_len']\n",
        "            tgt_seq_len = batch_x['tgt_seq_len']\n",
        "            raw_words = batch_y['raw_words']\n",
        "            raw_targets = batch_y['raw_target']\n",
        "            pred_y = model.predict(src_tokens=src_tokens, src_seq_len=src_seq_len, first=first)\n",
        "            pred = pred_y['pred']\n",
        "            tgt_tokens = batch_y['tgt_tokens']\n",
        "            pred_eos_index = pred.flip(dims=[1]).eq(eos_token_id).cumsum(dim=1).long()\n",
        "            pred = pred[:, 1:]  # 去掉</s>\n",
        "            tgt_tokens = tgt_tokens[:, 1:]\n",
        "            pred_seq_len = pred_eos_index.flip(dims=[1]).eq(pred_eos_index[:, -1:]).sum(dim=1)  # bsz\n",
        "            pred_seq_len = (pred_seq_len - 2).tolist()\n",
        "            tgt_seq_len = (tgt_seq_len - 2).tolist()\n",
        "            for i, ps in enumerate(pred.tolist()):\n",
        "                em = 0\n",
        "                ps = ps[:pred_seq_len[i]]\n",
        "                ts = tgt_tokens[i, :tgt_seq_len[i]]\n",
        "                pairs, t_pairs = [], []\n",
        "                if len(ps):\n",
        "                    pairs = get_pairs(ps, word_start_index, target_type)\n",
        "                if len(ts):\n",
        "                    t_pairs = get_pairs(ts, word_start_index, target_type)\n",
        "                raw_words_i = raw_words[i]\n",
        "                src_tokens_i = src_tokens[i, :src_seq_len[i]].tolist()\n",
        "                src_tokens_i = tokenizer.convert_ids_to_tokens(src_tokens_i)\n",
        "                cum_lens = [1]\n",
        "                start_idx = 1\n",
        "                for token in raw_words_i:\n",
        "                    start_idx += len(tokenizer.tokenize(token, add_prefix_space=True))\n",
        "                    cum_lens.append(start_idx)\n",
        "                cum_lens.append(start_idx + 1)\n",
        "\n",
        "                target_y = raw_targets[i]\n",
        "                pred_spans, pred_y = get_spans(pairs, cum_lens, mapping2id, dataset_name, id2label)\n",
        "                target_spans, _ = get_spans(t_pairs, cum_lens, mapping2id, dataset_name, id2label)\n",
        "                if dataset_name in ('en_ace04', 'en_ace05'):\n",
        "                    f.write(json.dumps({'sentence': ' '.join(raw_words_i), 'spans': target_spans, 'pred_spans': pred_spans}))\n",
        "                else:\n",
        "                    assert len(pred_y) == len(raw_words_i) == len(target_y)\n",
        "                    for raw_word, t, p in zip(raw_words_i, target_y, pred_y):\n",
        "                        f.write(f'{raw_word} {t} {p}\\n')\n",
        "                f.write('\\n')\n",
        "\n",
        "print(f\"In total, has {not_bpe_start} predictions on the non-word start.\")\n",
        "\n",
        "# the output file for flat NER will be similar to the following(empty line separate two sentences)\n",
        "# SOCCER O O\n",
        "# - O O\n",
        "# JAPAN B-LOC B-LOC\n",
        "# GET O O\n",
        "# LUCKY O O\n",
        "# WIN O O\n",
        "# , O O\n",
        "# CHINA B-PER B-LOC\n",
        "\n",
        "\n",
        "# the output file for nested NER will be similar to the following(empty line separate two sentences)\n",
        "#  {'sentence': \"xxx xxx\", 'pred_spans': [(start, end, label), (start, end, label)], 'spans': [(start, end, label)...]}\n",
        "#  {'sentence': \"xxx xxx\", 'pred_spans': [(start, end, label), (start, end, label)], 'spans': [(start, end, label)...]}\n"
      ]
    },
    {
      "cell_type": "markdown",
      "source": [
        "![image.png](data:image/png;base64,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)"
      ],
      "metadata": {
        "id": "gTEq1o9XomT1"
      }
    },
    {
      "cell_type": "code",
      "source": [
        ""
      ],
      "metadata": {
        "id": "EOrkT4Ywoo08"
      },
      "execution_count": null,
      "outputs": []
    }
  ],
  "metadata": {
    "accelerator": "GPU",
    "colab": {
      "name": "BARTmain.ipynb",
      "provenance": [],
      "toc_visible": true
    },
    "gpuClass": "standard",
    "kernelspec": {
      "display_name": "Python 3",
      "name": "python3"
    },
    "language_info": {
      "name": "python"
    },
    "widgets": {
      "application/vnd.jupyter.widget-state+json": {
        "1dbd8fb79ae34929bf6b3f10986d4d55": {
          "model_module": "@jupyter-widgets/base",
          "model_module_version": "1.2.0",
          "model_name": "LayoutModel",
          "state": {
            "_model_module": "@jupyter-widgets/base",
            "_model_module_version": "1.2.0",
            "_model_name": "LayoutModel",
            "_view_count": null,
            "_view_module": "@jupyter-widgets/base",
            "_view_module_version": "1.2.0",
            "_view_name": "LayoutView",
            "align_content": null,
            "align_items": null,
            "align_self": null,
            "border": null,
            "bottom": null,
            "display": null,
            "flex": "2",
            "flex_flow": null,
            "grid_area": null,
            "grid_auto_columns": null,
            "grid_auto_flow": null,
            "grid_auto_rows": null,
            "grid_column": null,
            "grid_gap": null,
            "grid_row": null,
            "grid_template_areas": null,
            "grid_template_columns": null,
            "grid_template_rows": null,
            "height": null,
            "justify_content": null,
            "justify_items": null,
            "left": null,
            "margin": null,
            "max_height": null,
            "max_width": null,
            "min_height": null,
            "min_width": null,
            "object_fit": null,
            "object_position": null,
            "order": null,
            "overflow": null,
            "overflow_x": null,
            "overflow_y": null,
            "padding": null,
            "right": null,
            "top": null,
            "visibility": null,
            "width": null
          }
        },
        "4d9ffa59acf9425785e4020a7ec86074": {
          "model_module": "@jupyter-widgets/controls",
          "model_module_version": "1.5.0",
          "model_name": "HTMLModel",
          "state": {
            "_dom_classes": [],
            "_model_module": "@jupyter-widgets/controls",
            "_model_module_version": "1.5.0",
            "_model_name": "HTMLModel",
            "_view_count": null,
            "_view_module": "@jupyter-widgets/controls",
            "_view_module_version": "1.5.0",
            "_view_name": "HTMLView",
            "description": "",
            "description_tooltip": null,
            "layout": "IPY_MODEL_fead07a572b54a23bba5d443e94987e9",
            "placeholder": "​",
            "style": "IPY_MODEL_7b7c2a11fdd14a7ca2dfa88323dbe14a",
            "value": " 185/5405 [00:45&lt;24:38,  3.53it/s, loss:2.06847]"
          }
        },
        "5fab115dc92b48d3b403c5fda747cb7a": {
          "model_module": "@jupyter-widgets/base",
          "model_module_version": "1.2.0",
          "model_name": "LayoutModel",
          "state": {
            "_model_module": "@jupyter-widgets/base",
            "_model_module_version": "1.2.0",
            "_model_name": "LayoutModel",
            "_view_count": null,
            "_view_module": "@jupyter-widgets/base",
            "_view_module_version": "1.2.0",
            "_view_name": "LayoutView",
            "align_content": null,
            "align_items": null,
            "align_self": null,
            "border": null,
            "bottom": null,
            "display": "inline-flex",
            "flex": null,
            "flex_flow": "row wrap",
            "grid_area": null,
            "grid_auto_columns": null,
            "grid_auto_flow": null,
            "grid_auto_rows": null,
            "grid_column": null,
            "grid_gap": null,
            "grid_row": null,
            "grid_template_areas": null,
            "grid_template_columns": null,
            "grid_template_rows": null,
            "height": null,
            "justify_content": null,
            "justify_items": null,
            "left": null,
            "margin": null,
            "max_height": null,
            "max_width": null,
            "min_height": null,
            "min_width": null,
            "object_fit": null,
            "object_position": null,
            "order": null,
            "overflow": null,
            "overflow_x": null,
            "overflow_y": null,
            "padding": null,
            "right": null,
            "top": null,
            "visibility": null,
            "width": "100%"
          }
        },
        "7aca0b2c2e824020bf7850053f39c7d1": {
          "model_module": "@jupyter-widgets/controls",
          "model_module_version": "1.5.0",
          "model_name": "HBoxModel",
          "state": {
            "_dom_classes": [],
            "_model_module": "@jupyter-widgets/controls",
            "_model_module_version": "1.5.0",
            "_model_name": "HBoxModel",
            "_view_count": null,
            "_view_module": "@jupyter-widgets/controls",
            "_view_module_version": "1.5.0",
            "_view_name": "HBoxView",
            "box_style": "",
            "children": [
              "IPY_MODEL_f89e1f5cc36644c589b711f4e555d33f",
              "IPY_MODEL_e525552451c145088163309e094134da",
              "IPY_MODEL_4d9ffa59acf9425785e4020a7ec86074"
            ],
            "layout": "IPY_MODEL_5fab115dc92b48d3b403c5fda747cb7a"
          }
        },
        "7b7c2a11fdd14a7ca2dfa88323dbe14a": {
          "model_module": "@jupyter-widgets/controls",
          "model_module_version": "1.5.0",
          "model_name": "DescriptionStyleModel",
          "state": {
            "_model_module": "@jupyter-widgets/controls",
            "_model_module_version": "1.5.0",
            "_model_name": "DescriptionStyleModel",
            "_view_count": null,
            "_view_module": "@jupyter-widgets/base",
            "_view_module_version": "1.2.0",
            "_view_name": "StyleView",
            "description_width": ""
          }
        },
        "9e86bde51a56478bbba946223dc309d5": {
          "model_module": "@jupyter-widgets/controls",
          "model_module_version": "1.5.0",
          "model_name": "DescriptionStyleModel",
          "state": {
            "_model_module": "@jupyter-widgets/controls",
            "_model_module_version": "1.5.0",
            "_model_name": "DescriptionStyleModel",
            "_view_count": null,
            "_view_module": "@jupyter-widgets/base",
            "_view_module_version": "1.2.0",
            "_view_name": "StyleView",
            "description_width": ""
          }
        },
        "d18c7df3331e409d999f13eb344b28c1": {
          "model_module": "@jupyter-widgets/base",
          "model_module_version": "1.2.0",
          "model_name": "LayoutModel",
          "state": {
            "_model_module": "@jupyter-widgets/base",
            "_model_module_version": "1.2.0",
            "_model_name": "LayoutModel",
            "_view_count": null,
            "_view_module": "@jupyter-widgets/base",
            "_view_module_version": "1.2.0",
            "_view_name": "LayoutView",
            "align_content": null,
            "align_items": null,
            "align_self": null,
            "border": null,
            "bottom": null,
            "display": null,
            "flex": null,
            "flex_flow": null,
            "grid_area": null,
            "grid_auto_columns": null,
            "grid_auto_flow": null,
            "grid_auto_rows": null,
            "grid_column": null,
            "grid_gap": null,
            "grid_row": null,
            "grid_template_areas": null,
            "grid_template_columns": null,
            "grid_template_rows": null,
            "height": null,
            "justify_content": null,
            "justify_items": null,
            "left": null,
            "margin": null,
            "max_height": null,
            "max_width": null,
            "min_height": null,
            "min_width": null,
            "object_fit": null,
            "object_position": null,
            "order": null,
            "overflow": null,
            "overflow_x": null,
            "overflow_y": null,
            "padding": null,
            "right": null,
            "top": null,
            "visibility": null,
            "width": null
          }
        },
        "e525552451c145088163309e094134da": {
          "model_module": "@jupyter-widgets/controls",
          "model_module_version": "1.5.0",
          "model_name": "FloatProgressModel",
          "state": {
            "_dom_classes": [],
            "_model_module": "@jupyter-widgets/controls",
            "_model_module_version": "1.5.0",
            "_model_name": "FloatProgressModel",
            "_view_count": null,
            "_view_module": "@jupyter-widgets/controls",
            "_view_module_version": "1.5.0",
            "_view_name": "ProgressView",
            "bar_style": "",
            "description": "",
            "description_tooltip": null,
            "layout": "IPY_MODEL_1dbd8fb79ae34929bf6b3f10986d4d55",
            "max": 5405,
            "min": 0,
            "orientation": "horizontal",
            "style": "IPY_MODEL_f454d1255c5c49e4a685fadc145de617",
            "value": 185
          }
        },
        "f454d1255c5c49e4a685fadc145de617": {
          "model_module": "@jupyter-widgets/controls",
          "model_module_version": "1.5.0",
          "model_name": "ProgressStyleModel",
          "state": {
            "_model_module": "@jupyter-widgets/controls",
            "_model_module_version": "1.5.0",
            "_model_name": "ProgressStyleModel",
            "_view_count": null,
            "_view_module": "@jupyter-widgets/base",
            "_view_module_version": "1.2.0",
            "_view_name": "StyleView",
            "bar_color": null,
            "description_width": ""
          }
        },
        "f89e1f5cc36644c589b711f4e555d33f": {
          "model_module": "@jupyter-widgets/controls",
          "model_module_version": "1.5.0",
          "model_name": "HTMLModel",
          "state": {
            "_dom_classes": [],
            "_model_module": "@jupyter-widgets/controls",
            "_model_module_version": "1.5.0",
            "_model_name": "HTMLModel",
            "_view_count": null,
            "_view_module": "@jupyter-widgets/controls",
            "_view_module_version": "1.5.0",
            "_view_name": "HTMLView",
            "description": "",
            "description_tooltip": null,
            "layout": "IPY_MODEL_d18c7df3331e409d999f13eb344b28c1",
            "placeholder": "​",
            "style": "IPY_MODEL_9e86bde51a56478bbba946223dc309d5",
            "value": "Epoch 1/5:   3%"
          }
        },
        "fead07a572b54a23bba5d443e94987e9": {
          "model_module": "@jupyter-widgets/base",
          "model_module_version": "1.2.0",
          "model_name": "LayoutModel",
          "state": {
            "_model_module": "@jupyter-widgets/base",
            "_model_module_version": "1.2.0",
            "_model_name": "LayoutModel",
            "_view_count": null,
            "_view_module": "@jupyter-widgets/base",
            "_view_module_version": "1.2.0",
            "_view_name": "LayoutView",
            "align_content": null,
            "align_items": null,
            "align_self": null,
            "border": null,
            "bottom": null,
            "display": null,
            "flex": null,
            "flex_flow": null,
            "grid_area": null,
            "grid_auto_columns": null,
            "grid_auto_flow": null,
            "grid_auto_rows": null,
            "grid_column": null,
            "grid_gap": null,
            "grid_row": null,
            "grid_template_areas": null,
            "grid_template_columns": null,
            "grid_template_rows": null,
            "height": null,
            "justify_content": null,
            "justify_items": null,
            "left": null,
            "margin": null,
            "max_height": null,
            "max_width": null,
            "min_height": null,
            "min_width": null,
            "object_fit": null,
            "object_position": null,
            "order": null,
            "overflow": null,
            "overflow_x": null,
            "overflow_y": null,
            "padding": null,
            "right": null,
            "top": null,
            "visibility": null,
            "width": null
          }
        }
      }
    }
  },
  "nbformat": 4,
  "nbformat_minor": 0
}
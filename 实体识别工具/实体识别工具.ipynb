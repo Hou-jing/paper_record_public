{
  "nbformat": 4,
  "nbformat_minor": 0,
  "metadata": {
    "colab": {
      "name": "实体识别工具.ipynb",
      "provenance": [],
      "toc_visible": true
    },
    "kernelspec": {
      "name": "python3",
      "display_name": "Python 3"
    },
    "language_info": {
      "name": "python"
    },
    "accelerator": "GPU",
    "gpuClass": "standard",
    "widgets": {
      "application/vnd.jupyter.widget-state+json": {
        "5aed833427d94290b21dbd9bddb6f74e": {
          "model_module": "@jupyter-widgets/controls",
          "model_name": "HBoxModel",
          "model_module_version": "1.5.0",
          "state": {
            "_dom_classes": [],
            "_model_module": "@jupyter-widgets/controls",
            "_model_module_version": "1.5.0",
            "_model_name": "HBoxModel",
            "_view_count": null,
            "_view_module": "@jupyter-widgets/controls",
            "_view_module_version": "1.5.0",
            "_view_name": "HBoxView",
            "box_style": "",
            "children": [
              "IPY_MODEL_f56489730df64cb1ba8ee2912854635a",
              "IPY_MODEL_20945d4dec1a4f6989ff0bfff6d2912d",
              "IPY_MODEL_6ec42389dfd54038bc5bf85c778115a5"
            ],
            "layout": "IPY_MODEL_b30f3251d54d44ea83e5f864206fbd3a"
          }
        },
        "f56489730df64cb1ba8ee2912854635a": {
          "model_module": "@jupyter-widgets/controls",
          "model_name": "HTMLModel",
          "model_module_version": "1.5.0",
          "state": {
            "_dom_classes": [],
            "_model_module": "@jupyter-widgets/controls",
            "_model_module_version": "1.5.0",
            "_model_name": "HTMLModel",
            "_view_count": null,
            "_view_module": "@jupyter-widgets/controls",
            "_view_module_version": "1.5.0",
            "_view_name": "HTMLView",
            "description": "",
            "description_tooltip": null,
            "layout": "IPY_MODEL_e3d60c1e0f9d4fa592b498674dd24176",
            "placeholder": "​",
            "style": "IPY_MODEL_0e52ce2463e744d8a7ebc3cda6dda618",
            "value": "Downloading: 100%"
          }
        },
        "20945d4dec1a4f6989ff0bfff6d2912d": {
          "model_module": "@jupyter-widgets/controls",
          "model_name": "FloatProgressModel",
          "model_module_version": "1.5.0",
          "state": {
            "_dom_classes": [],
            "_model_module": "@jupyter-widgets/controls",
            "_model_module_version": "1.5.0",
            "_model_name": "FloatProgressModel",
            "_view_count": null,
            "_view_module": "@jupyter-widgets/controls",
            "_view_module_version": "1.5.0",
            "_view_name": "ProgressView",
            "bar_style": "success",
            "description": "",
            "description_tooltip": null,
            "layout": "IPY_MODEL_9335637a1626404a84eee84c798cba02",
            "max": 164437832,
            "min": 0,
            "orientation": "horizontal",
            "style": "IPY_MODEL_a41b5aef05cd4ad18c05ec606adb355a",
            "value": 164437832
          }
        },
        "6ec42389dfd54038bc5bf85c778115a5": {
          "model_module": "@jupyter-widgets/controls",
          "model_name": "HTMLModel",
          "model_module_version": "1.5.0",
          "state": {
            "_dom_classes": [],
            "_model_module": "@jupyter-widgets/controls",
            "_model_module_version": "1.5.0",
            "_model_name": "HTMLModel",
            "_view_count": null,
            "_view_module": "@jupyter-widgets/controls",
            "_view_module_version": "1.5.0",
            "_view_name": "HTMLView",
            "description": "",
            "description_tooltip": null,
            "layout": "IPY_MODEL_301949c7cb044adca47245320e57d256",
            "placeholder": "​",
            "style": "IPY_MODEL_66e6805f2ce04ee6a57775154763f137",
            "value": " 164M/164M [01:59&lt;00:00, 1.91MB/s]"
          }
        },
        "b30f3251d54d44ea83e5f864206fbd3a": {
          "model_module": "@jupyter-widgets/base",
          "model_name": "LayoutModel",
          "model_module_version": "1.2.0",
          "state": {
            "_model_module": "@jupyter-widgets/base",
            "_model_module_version": "1.2.0",
            "_model_name": "LayoutModel",
            "_view_count": null,
            "_view_module": "@jupyter-widgets/base",
            "_view_module_version": "1.2.0",
            "_view_name": "LayoutView",
            "align_content": null,
            "align_items": null,
            "align_self": null,
            "border": null,
            "bottom": null,
            "display": null,
            "flex": null,
            "flex_flow": null,
            "grid_area": null,
            "grid_auto_columns": null,
            "grid_auto_flow": null,
            "grid_auto_rows": null,
            "grid_column": null,
            "grid_gap": null,
            "grid_row": null,
            "grid_template_areas": null,
            "grid_template_columns": null,
            "grid_template_rows": null,
            "height": null,
            "justify_content": null,
            "justify_items": null,
            "left": null,
            "margin": null,
            "max_height": null,
            "max_width": null,
            "min_height": null,
            "min_width": null,
            "object_fit": null,
            "object_position": null,
            "order": null,
            "overflow": null,
            "overflow_x": null,
            "overflow_y": null,
            "padding": null,
            "right": null,
            "top": null,
            "visibility": null,
            "width": null
          }
        },
        "e3d60c1e0f9d4fa592b498674dd24176": {
          "model_module": "@jupyter-widgets/base",
          "model_name": "LayoutModel",
          "model_module_version": "1.2.0",
          "state": {
            "_model_module": "@jupyter-widgets/base",
            "_model_module_version": "1.2.0",
            "_model_name": "LayoutModel",
            "_view_count": null,
            "_view_module": "@jupyter-widgets/base",
            "_view_module_version": "1.2.0",
            "_view_name": "LayoutView",
            "align_content": null,
            "align_items": null,
            "align_self": null,
            "border": null,
            "bottom": null,
            "display": null,
            "flex": null,
            "flex_flow": null,
            "grid_area": null,
            "grid_auto_columns": null,
            "grid_auto_flow": null,
            "grid_auto_rows": null,
            "grid_column": null,
            "grid_gap": null,
            "grid_row": null,
            "grid_template_areas": null,
            "grid_template_columns": null,
            "grid_template_rows": null,
            "height": null,
            "justify_content": null,
            "justify_items": null,
            "left": null,
            "margin": null,
            "max_height": null,
            "max_width": null,
            "min_height": null,
            "min_width": null,
            "object_fit": null,
            "object_position": null,
            "order": null,
            "overflow": null,
            "overflow_x": null,
            "overflow_y": null,
            "padding": null,
            "right": null,
            "top": null,
            "visibility": null,
            "width": null
          }
        },
        "0e52ce2463e744d8a7ebc3cda6dda618": {
          "model_module": "@jupyter-widgets/controls",
          "model_name": "DescriptionStyleModel",
          "model_module_version": "1.5.0",
          "state": {
            "_model_module": "@jupyter-widgets/controls",
            "_model_module_version": "1.5.0",
            "_model_name": "DescriptionStyleModel",
            "_view_count": null,
            "_view_module": "@jupyter-widgets/base",
            "_view_module_version": "1.2.0",
            "_view_name": "StyleView",
            "description_width": ""
          }
        },
        "9335637a1626404a84eee84c798cba02": {
          "model_module": "@jupyter-widgets/base",
          "model_name": "LayoutModel",
          "model_module_version": "1.2.0",
          "state": {
            "_model_module": "@jupyter-widgets/base",
            "_model_module_version": "1.2.0",
            "_model_name": "LayoutModel",
            "_view_count": null,
            "_view_module": "@jupyter-widgets/base",
            "_view_module_version": "1.2.0",
            "_view_name": "LayoutView",
            "align_content": null,
            "align_items": null,
            "align_self": null,
            "border": null,
            "bottom": null,
            "display": null,
            "flex": null,
            "flex_flow": null,
            "grid_area": null,
            "grid_auto_columns": null,
            "grid_auto_flow": null,
            "grid_auto_rows": null,
            "grid_column": null,
            "grid_gap": null,
            "grid_row": null,
            "grid_template_areas": null,
            "grid_template_columns": null,
            "grid_template_rows": null,
            "height": null,
            "justify_content": null,
            "justify_items": null,
            "left": null,
            "margin": null,
            "max_height": null,
            "max_width": null,
            "min_height": null,
            "min_width": null,
            "object_fit": null,
            "object_position": null,
            "order": null,
            "overflow": null,
            "overflow_x": null,
            "overflow_y": null,
            "padding": null,
            "right": null,
            "top": null,
            "visibility": null,
            "width": null
          }
        },
        "a41b5aef05cd4ad18c05ec606adb355a": {
          "model_module": "@jupyter-widgets/controls",
          "model_name": "ProgressStyleModel",
          "model_module_version": "1.5.0",
          "state": {
            "_model_module": "@jupyter-widgets/controls",
            "_model_module_version": "1.5.0",
            "_model_name": "ProgressStyleModel",
            "_view_count": null,
            "_view_module": "@jupyter-widgets/base",
            "_view_module_version": "1.2.0",
            "_view_name": "StyleView",
            "bar_color": null,
            "description_width": ""
          }
        },
        "301949c7cb044adca47245320e57d256": {
          "model_module": "@jupyter-widgets/base",
          "model_name": "LayoutModel",
          "model_module_version": "1.2.0",
          "state": {
            "_model_module": "@jupyter-widgets/base",
            "_model_module_version": "1.2.0",
            "_model_name": "LayoutModel",
            "_view_count": null,
            "_view_module": "@jupyter-widgets/base",
            "_view_module_version": "1.2.0",
            "_view_name": "LayoutView",
            "align_content": null,
            "align_items": null,
            "align_self": null,
            "border": null,
            "bottom": null,
            "display": null,
            "flex": null,
            "flex_flow": null,
            "grid_area": null,
            "grid_auto_columns": null,
            "grid_auto_flow": null,
            "grid_auto_rows": null,
            "grid_column": null,
            "grid_gap": null,
            "grid_row": null,
            "grid_template_areas": null,
            "grid_template_columns": null,
            "grid_template_rows": null,
            "height": null,
            "justify_content": null,
            "justify_items": null,
            "left": null,
            "margin": null,
            "max_height": null,
            "max_width": null,
            "min_height": null,
            "min_width": null,
            "object_fit": null,
            "object_position": null,
            "order": null,
            "overflow": null,
            "overflow_x": null,
            "overflow_y": null,
            "padding": null,
            "right": null,
            "top": null,
            "visibility": null,
            "width": null
          }
        },
        "66e6805f2ce04ee6a57775154763f137": {
          "model_module": "@jupyter-widgets/controls",
          "model_name": "DescriptionStyleModel",
          "model_module_version": "1.5.0",
          "state": {
            "_model_module": "@jupyter-widgets/controls",
            "_model_module_version": "1.5.0",
            "_model_name": "DescriptionStyleModel",
            "_view_count": null,
            "_view_module": "@jupyter-widgets/base",
            "_view_module_version": "1.2.0",
            "_view_name": "StyleView",
            "description_width": ""
          }
        }
      }
    }
  },
  "cells": [
    {
      "cell_type": "markdown",
      "source": [
        "https://zhuanlan.zhihu.com/p/268625650"
      ],
      "metadata": {
        "id": "3aaqF1YcvMLI"
      }
    },
    {
      "cell_type": "code",
      "execution_count": null,
      "metadata": {
        "id": "S3FUHLkqvFaA"
      },
      "outputs": [],
      "source": [
        "pip install ltp"
      ]
    },
    {
      "cell_type": "markdown",
      "source": [
        "# jiagu"
      ],
      "metadata": {
        "id": "nqFYv-92Blh6"
      }
    },
    {
      "cell_type": "code",
      "source": [
        "pip install -U jiagu"
      ],
      "metadata": {
        "colab": {
          "base_uri": "https://localhost:8080/"
        },
        "id": "D5smqkARvf1a",
        "outputId": "3b1aab0e-caae-41b1-9f8f-dbfa932edee5"
      },
      "execution_count": 2,
      "outputs": [
        {
          "output_type": "stream",
          "name": "stdout",
          "text": [
            "Looking in indexes: https://pypi.org/simple, https://us-python.pkg.dev/colab-wheels/public/simple/\n",
            "Collecting jiagu\n",
            "  Downloading jiagu-0.2.3.tar.gz (53.8 MB)\n",
            "\u001b[K     |████████████████████████████████| 53.8 MB 329 kB/s \n",
            "\u001b[?25hBuilding wheels for collected packages: jiagu\n",
            "  Building wheel for jiagu (setup.py) ... \u001b[?25l\u001b[?25hdone\n",
            "  Created wheel for jiagu: filename=jiagu-0.2.3-py3-none-any.whl size=53824961 sha256=e044594e9999042565da4ffb82cdd812d45c63c18169cc1c2d123a3c0b28b72b\n",
            "  Stored in directory: /root/.cache/pip/wheels/bd/c4/27/fb46d4c229b4e84e7ff63b7c9853808c48e42f2d3e20a41361\n",
            "Successfully built jiagu\n",
            "Installing collected packages: jiagu\n",
            "Successfully installed jiagu-0.2.3\n"
          ]
        }
      ]
    },
    {
      "cell_type": "code",
      "source": [
        "import jiagu\n",
        "\n",
        "#jiagu.init() # 可手动初始化，也可以动态初始化\n",
        "\n",
        "text = '厦门明天会不会下雨'\n",
        "\n",
        "words = jiagu.seg(text) # 分词\n",
        "print(words)\n",
        "\n",
        "pos = jiagu.pos(words) # 词性标注\n",
        "print(pos)\n",
        "\n",
        "ner = jiagu.ner(words) # 命名实体识别\n",
        "print(ner)"
      ],
      "metadata": {
        "colab": {
          "base_uri": "https://localhost:8080/"
        },
        "id": "PGlH0rQAwFqD",
        "outputId": "64325eb7-193b-4bb0-bde9-f30d6768d50a"
      },
      "execution_count": 5,
      "outputs": [
        {
          "output_type": "stream",
          "name": "stdout",
          "text": [
            "['厦门', '明天', '会不会', '下雨']\n",
            "['ns', 'nt', 'v', 'v']\n",
            "['B-LOC', 'O', 'O', 'O']\n"
          ]
        }
      ]
    },
    {
      "cell_type": "code",
      "source": [
        "import jiagu\n",
        "\n",
        "text = '汉服和服装、维基图谱'\n",
        "\n",
        "words = jiagu.seg(text)\n",
        "print(words)\n",
        "\n",
        "# jiagu.load_userdict('dict/user.dict') # 加载自定义字典，支持字典路径、字典列表形式。\n",
        "jiagu.load_userdict(['汉服和服装'])\n",
        "\n",
        "words = jiagu.seg(text) # 自定义分词，字典分词模式有效\n",
        "print(words)"
      ],
      "metadata": {
        "colab": {
          "base_uri": "https://localhost:8080/"
        },
        "id": "n2OdGaDGwNc-",
        "outputId": "4b5b0c32-c5ec-4d7e-f6dc-eed051f1e2d7"
      },
      "execution_count": 6,
      "outputs": [
        {
          "output_type": "stream",
          "name": "stdout",
          "text": [
            "['汉服', '和', '服装', '、', '维基', '图谱']\n",
            "['汉服和服装', '、', '维基', '图谱']\n"
          ]
        }
      ]
    },
    {
      "cell_type": "code",
      "source": [
        "import jiagu\n",
        "\n",
        "# 吻别是由张学友演唱的一首歌曲。\n",
        "# 《盗墓笔记》是2014年欢瑞世纪影视传媒股份有限公司出品的一部网络季播剧，改编自南派三叔所著的同名小说，由郑保瑞和罗永昌联合导演，李易峰、杨洋、唐嫣、刘天佐、张智尧、魏巍等主演。\n",
        "\n",
        "text = '姚明1980年9月12日出生于上海市徐汇区，祖籍江苏省苏州市吴江区震泽镇，前中国职业篮球运动员，司职中锋，现任中职联公司董事长兼总经理。'\n",
        "knowledge = jiagu.knowledge(text)\n",
        "print(knowledge)"
      ],
      "metadata": {
        "colab": {
          "base_uri": "https://localhost:8080/"
        },
        "id": "S_V_AsaWwRyG",
        "outputId": "8ada90fa-514b-403f-9943-00316a1c3255"
      },
      "execution_count": 7,
      "outputs": [
        {
          "output_type": "stream",
          "name": "stdout",
          "text": [
            "[['姚明', '出生日期', '1980年9月12日'], ['姚明', '出生地', '上海市徐汇区'], ['姚明', '祖籍', '江苏省苏州市吴江区震泽镇']]\n"
          ]
        }
      ]
    },
    {
      "cell_type": "code",
      "source": [
        "pip install python-docx"
      ],
      "metadata": {
        "id": "USN0Lss3wqcn"
      },
      "execution_count": null,
      "outputs": []
    },
    {
      "cell_type": "code",
      "source": [
        "import docx\n",
        "file=docx.Document('200932664567705.docx')\n",
        "all_paragraphs=file.paragraphs\n",
        "# print(type(all_paragraphs))\n",
        "text=' '\n",
        "text_list=[]\n",
        "for para in all_paragraphs:\n",
        "    text+=para.text+'\\n'\n",
        "    text_list.append(para.text)\n",
        "text"
      ],
      "metadata": {
        "colab": {
          "base_uri": "https://localhost:8080/",
          "height": 366
        },
        "id": "VQX2HT3ywiCv",
        "outputId": "8dc6e99a-1065-44c4-9dff-d43ead3cf940"
      },
      "execution_count": 49,
      "outputs": [
        {
          "output_type": "execute_result",
          "data": {
            "text/plain": [
              "' ICS 01.140.20 A 14\\nGB\\n中华人民共和国国家标准\\nGB/T 22373-2008\\n标准文献元数据\\nMetadata of standards documents\\n2008-09-11发布\\t\\t\\t\\t\\t\\t\\t\\t\\t\\t    2009-01-01实施\\n\\n中华人民共和国国家质量监督检验检疫总局\\n中国国家标准化管理委员会\\n发布\\n\\n\\n四\\nGB/T 22373-2008\\n2 规范性引用文件\\n3 术语和定义\\n4 标准文献元数据的描述方法\\n附录A（规范性附录）标准文献元数据代码集16\\n附录B（资料性附录）常用标准文献元数据表19\\nB.1\\nB.2\\n·20 B.3\\n12 国外标准文献元数据B.4\\n\\n\\nGB/T 22373-2008\\n前\\t言\\n本标准参考了《ISO情报网手册》（ISONET MANUAL）的技术要求，并结合我国标准管理和情报检索的特点补充了适用于国内标准文献资源建设需要的元数据而制定的。\\n本标准的附录A为规范性附录，附录B为资料性附录。\\n本标准由中国标准化研究院提出并归口。\\n本标准由中国标准化研究院负责起草。\\n本标准主要起草人：姚晓静、周洁、李菁、于立梅、杨京、余松华。\\n\\nGB/T 22373-2008\\n引\\t言\\n标准文献元数据是实现标准文献数据共享的必要条件之一，是发现和获取各类标准化信息资源的有效途径。规范标准文献元数据的内容、标识、质量、状况及有关特征将有利于：\\n-各级标准文献数据建设单位对原始数据有效地进行管理和维护；\\n-用户查询和检索快速找到其所需要的标准文献；\\n促进数据加工的规范化、标准化，提高标准文献数据库的建库与维护的质量；\\n在更大范围内实现标准文献信息资源共享。\\n\\nGB/T 22373-2008\\n标准文献元数据\\n1 范围\\n本标准规定了标准文献数据集合的基本元数据，给出了标准文献核心元数据、公共元数据的定义及其表示方法。\\n本标准适用于各类标准文献数据集加工、整理、建库、汇编、发布和查询。\\n2 规范性引用文件\\n下列文件中的条款通过本标准的引用而成为本标准的条款。凡是注日期的引用文件，其随后所有的修改单（不包括勘误的内容）或修订版均不适用于本标准，然而，鼓励根据本标准达成协议的各方研究是否可使用这些文件的最新版本。凡是不注日期的引用文件，其最新版本适用于本标准。\\nGB／T 788-1999 图书和杂志开本及其幅面尺寸（neq ISO 6716：1983）\\nGB／T 2659 世界各国和地区名称代码（GB／T 2659-2000，eqv ISO 3166-1：1997）\\nGB／T 3469 文献类型与文献载体代码\\nGB／T 4880.1 语种名称代码 第1部分：2字母代码（GB／T 4880.1-2005，ISO 639-1：2002，MOD)\\nGB／T 4880.2 语种名称代码 第2部分：3字母代码（GB／T 4880.2-2000，eqv ISO 639-2：1998）GB/T 7156\\n文献保密等级代码与标识\\nGB/T 7408\\t数据元和交换格式 信息交换\\t日期和时间表示法（GB／T 7408-2005，ISO 8601：2000,IDT)\\n3 术语和定义\\n下列术语和定义适用于本标准。\\n3.1\\n数据集 dataset\\n可以标识的数据集合。\\n注：数据集在物理上可以是更大数据集的比较小的数据组。从理论上讲，数据集可以小到更大数据集内的单个要素或要素属性。一张硬拷贝地图或图表可以被认为是一个数据集。本标准所指的数据集是指不可再细分的数据集，即能够用一个数据字典唯一描述的数据集合。\\n3.2\\n数据集系列 dataset series\\n同一主题的多个数据集的组合，都符合相同产品规范。\\n3.3\\n元数据 metadata\\n定义和描述其他数据的数据。\\n3.4\\n元数据元素 metadata element\\n元数据的基本单元。\\n注：与UML术语中的属性同义。\\n\\nGB/T 22373-2008\\n3.5\\n元数据实体 metadata entity\\n一组说明数据相同特性的元数据元素。\\n注1：与UML术语中的“类”同义。\\n注2：可以包含一个或一个以上元数据实体。\\n3.6\\n元数据子集 metadata section\\n元数据的子集合，由相关的元数据实体和元素组成。\\n注：与UML术语中的“包”同义。\\n3.7\\n资源 resource\\n3.8\\n在特定的领域中，用于描述数据集（信息资源）最基本属性的元数据，是制定其无数据标准时必须选择的元数据实体和元数据元素。\\n3.9\\n公共元数据\\tkcommon metadata\\n在特定的领域中，具有共性的元数据。公共元数据包含核心元数据的全部内容，是领域在制定其元数据标准时的工作起点\\n3.10\\n著录 description\\n对文献的内容和形式特征进行分析、选择和记录的过程。\\n4 标准文献元数据的描述方法\\n4.1 摘要表示\\n4.1.1 标识符\\n4.1.2 名称\\n名称是赋给元数据实体或元数据元素的一个标记。\\n元数据实体名称以一个大写字母开头。元数据实体名称中没有空格，而是多个单词连写，其中每一个新的单词开头为大写字母（如：XnnnYmmm）。元数据实体名称在本标准的数据字典中是唯一的。\\n元数据元素名称在元数据实体中是唯一的，但在本标准的数据字典中并不是唯一的。通过元数据素名称的组合，可使元数据元素名称在一个应用中唯一（如：元数据.元数据字符集）。\\n4.1.3 约束／条件\\n元数据实体或元数据元素选取的属性，包括必选（M）、可选（O）和条件必选（C）。约束／条件代码见表1。\\n\\nGB/T 22373-2008\\n表1 约束／条件代码\\n4.2 字典表示\\n数据字典以表格的形式描述元数据的特征属性。字典中加灰的行定义元数据实体。数据字典通过以下6个属性定义元数据实体和元数据元素。\\n4.2.1 名称\\n见4.1.2。\\n4.2.2 定义\\n描述元数据的基本内容。\\n4.2.3 英文名称\\n元数据的英文名称，一般用英文全称。\\n4.2.4 数据类型\\n元数据的有效值域和允许对该值域内的值进行有效操作的规定。\\n例如整型、实型、布尔型、字符型、日期等。\\n4.2.5 值域\\n对元数据实体而言，域说明其包含的行数。\\n对元数据元素而言，域说明其有效值或使用自由文本。“自由文本”表明对字段的内容没有限制。应使用基于整型的代码表示包含代码表的域值。\\n4.2.6 注解\\n4.2.6.1 约束／条件\\n见4.1.3。\\n4.2.6.2 最大出现次数\\n元数据实体或元数据元素可以具有的最大实例数目。只出现一次的用“1”表示，重复出现的用“N”表示。不为“1”的固定出现次数用相应的数字表示，如“2”、“3”、“4”等。\\n5 标准文献元数据模式\\n标准文献元数据由标准文献核心元数据和标准文献公共元数据组成。标准文献核心元数据是各类标准文献元数据标准的基础。\\n各类标准文献元数据标准应包含标准文献核心元数据，并可依据领域和专业自身特点在标准文献公共元数据的基础上进行扩展和裁减。\\n6 标准文献核心元数据\\n6.1 标准文献核心元数据的摘要表示\\n标准文献核心元数据元素是标准文献元数据子集和实体中必选或条件必选的元数据元素（即数据\\n\\nGB/T 22373-2008\\n元），可用于标准文献数据集编目、数据交换网站活动和对数据集的描述。标准文献核心元数据概要见表2。\\n表2\\t标准文献核心元数据\\n6.2 标准文献核心元数据的字典表示\\n6.2.1 记录状态\\n定\\t义：关天称准文献数据库中记录所处的状态（修改、删除、新增）的说明英文名称：recordstatus\\n数据类型：字性型\\n值\\t域：采用表\\tA．1《记录状态代码》中的名称（修改／删除／新增）\\n注\\t解：必选项；最大出现次数为1\\n6.2.2 记录识别符（）\\n定\\n义：建立记录的单位对某一记录的给定的唯一识别符号。\\n英文名称：recorl ie\\n数据类型：字符型\\n值\\n注\\n6.2.3 标准号\\n定\\t义：由有关标准化机构给定的用于唯一识别某一标准的注册号或登记号，标准号由标准代号、顺序号、发布年份及有关标识符组成。\\n英文名称：document reference\\n数据类型：字符型\\n值\\t域：标准代号＋1个空格＋顺序号＋1个连字符“-”＋4位发布年份。\\n注\\t解：必选项；最大出现次数为1\\n6.2.4 发布日期\\n定\\t义：标准经有关机构批准，予以发布的日期。\\n英文名称：date of announcement\\n数据类型：字符型\\n值\\t域：采用YYYY-MM-DD格式\\n注\\t解：必选项；最大出现次数为1\\n\\nGB/T 22373-2008\\n6.2.5 发布单位\\n定\\t义：公布所著录标准的单位。\\n英文名称：announcing body\\n数据类型：字符型\\n值\\t域：发布单位的全称或公认的简称\\n注\\t解：必选项；最大出现次数为N\\n6.2.6\\t标准状态\\n定\\t义：标准文献所处的状态或属性。说明所著录标准是草案、试行、暂行、废止、推荐、强制、限用或其他状态。\\n英文名称：document status\\n数据类型：字符型\\n值\\t域：按所著录标准或其发布机构的通报和目录所标明的符号著录标准状态代码\\n注\\t解：必选项；最大出现次数为N\\n6.2.7 实施或试行日期\\n定\\t义：标准经有关机构批准后正式生效或试行的日期。\\n英文名称：effective date\\n数据类型：字符型\\n值\\t域：采用YYYY-MM-DD格式\\n注\\t解：必选项；最大出现次数为1\\n6.2.8\\t确认日期\\n定\\n义：标准经复审确认继续有效的日期。\\n英文名称：confirmation date\\n数据类型：字符型\\n值\\t域：采用YYYY-MM-DD格式\\n注\\t解：必选项；最大出现次数为1\\n6.2.9\\t中文标准名称\\n定\\t义：标准的中文名称或中文译名。\\n英文名称：document name in Chinese\\n数据类型：字符型\\n值\\t域：自由文本（中国标准，著录中文标准名称；国外标准，著录标准的中文译名）\\n注\\t解：条必选项；最大出现次数为1，中文标准名称、英文标准名称和原文标准名称至少存在一个必选。\\n6.2.10\\t英文标准名称\\n定\\t义：标准的英文名称或英文译名。\\n英文名称：document name in English\\n数据类型：字符型\\n值\\t域：自由文本（中国标准，著录标准的英文译名；国外标准，著录标准的英文名称）\\n注\\t解：条件必选项；最大出现次数为1，中文标准名称、英文标准名称和原文标准名称至少存在一个必选。\\n6.2.11\\t被代替标准\\n定\\t义：所著录标准代替的标准。\\n英文名称：replaces\\n数据类型：字符型\\n值\\t域：著录被代替标准的标准号，有多个被代替标准时，各标准号之间以分号“；”相隔。\\n\\nGB/T 22373-2008\\n某标准部分内容被所著录标准代替时，应在被代替标准号后加相关说明文字并用括号包含。\\n注\\t解：必选项；最大出现次数为N\\n6.2.12\\t修改件\\n定\\t义：修改所著录文献的文献代号、总次和总次发布年份的说明。\\n英文名称：amended by\\n数据类型：字符型\\n值\\t域：著录修改件代号、总次和总次发布年份，总次和发布年份之间以逗号相隔\\n注\\t解：必选项；最大出现次数为N\\n6.2.13\\t补充件\\n定\\n义：补充所著录文献的文献代号、总次和总次发布年份的说明。\\n英文名称：supplemented by\\n数据类型：字符型\\n值\\t域：著录补充件代号、总次和总次发布年份，总次和发布年份之间以逗号相隔\\n注\\t解：必选项；最大出现次数为N\\n6.3 标准文献核心元数据实体集信息\\n标准文献核心元数据实体集信息见表3。\\n表3标准文献核心元数据实体集信息\\n\\nGB/T 22373-2008\\n7 标准文献公共元数据\\n7.1 标准文献公共元数据的摘要表示\\n标准文献公共元数据见表4。\\n表4\\t标准文献公共元数据\\n\\nGB/T 22373-2008\\n值\\t域：著录文献的国际标准书号，不包括其代号 ISBN\\n注\\t解：可选项；最大出现次数为1\\n7.2.5\\tISSN\\n定\\t义：国际标准连续出版物编号。由文献出版单位给定的唯一标识某文献的国际统一连续出版物编号。\\n英文名称：International Standard Serial Number\\n数据类型：字符型\\n值\\t域：著录文献的国际连续出版物编号，不包括其代号 ISSN\\n注\\n解：可选项；最大出现次数为1\\n7.2.6 标准号\\n见6.2.3。\\n7.2.7 发布日期\\n见6.2.4。\\n7.2.8 发布单位\\n见6.2.5。\\n7.2.9 版本\\n定\\t义：标准出版的次数或其他版本形式说明。\\n英文名称：edition\\n数据类型：字符型\\n值\\t域：仅限于第二版及其以后的版次说明。著录时可省略第x版中反映版次序列的“第”等说明文字。例：第二版，著录为：2版；修改版，著录为：修改版；Second edition，著录为：2ed\\n注\\t解：可选项；最大出现次数为1\\n7.2.10\\t标准状态\\n见6.2.6。\\n7.2.11 有效区域\\n定\\t义：标准文献所适用的地域。\\n英文名称：area of validity\\n数据类型：字符型\\n值\\t域：著录有效区域名称\\n注\\t解：可选项；最大出现次数为1\\n7.2.12\\t批准单位\\n义：审查批准所著录标准的单位。\\n定\\n英文名称：validating body\\n数据类型：字符型\\n值\\t域：著录批准单位的全称或公认的简称\\n注\\t解：必选项；最大出现次数为1\\n7.2.13 实施或试行日期\\n见6.2.7。\\n7.2.14 废止日期\\n义：标准作废的日期。\\n定\\n英文名称：withdrawal date\\n数据类型：字符型\\n值\\t域：采用YYYY-MM-DD格式\\n注\\t解：可选项；最大出现次数为1\\n\\nGB/T 22373-2008\\n表4（续）\\n7.2 标准文献公共元数据的字典表示\\n7.2.1 记录状态\\n见6.2.1。\\n7.2.2 记录识别符\\n见6.2.2。\\n7.2.3 记录日期\\n定\\t义：建立记录的日期。\\n英文名称：date of record\\n数据类型：字符型\\n值\\t域：按GB／T 7408的规定著录，采用YYYY-MM-DD格式\\n注\\t解：必选项；最大出现次数为1\\n7.2.4 ISBN\\n定\\n义：国际标准书号。由文献出版单位给定的唯一标识某文献的国际统一书号。\\n英文名称：International Standard Book Number\\n数据类型：字符型\\n\\nGB/T 22373-2008\\n7.2.15 确认日期\\n见6.2.8。\\n7.2.16 原分类号\\n定\\t义：标准发布机构给定的分类号或其他专业分类号。\\n英文名称：original notation\\n数据类型：字符型\\n值\\t域：按原形式著录，有多个分类号时，各分类号之间以分号“；”相隔\\n\\n\\n值\\t域：按原文语种著录标准名称\\n注\\t解：条件必选项；最大出现次数为1，中文标准名称、英文标准名称和原文标准名称至少存在一个必选。\\n7.2.22 英文标准名称\\n见6.2.10。\\n7.2.23\\t出版单位\\n定\\t义：出版标准的单位的名称（全称或公认的简称）。\\n英文名称：publishing body\\n数据类型：字符型\\n值\\t域：出版单位的全称或公认的简称\\n注\\t解：可选项；最大出现次数为1\\n\\n\\n\\n\\nGB/T 22373-2008\\n7.2.24\\t稽核项\\n定\\t义：关于标准文献有字面的总页数、开本的说明。\\n英文名称：collation\\n数据类型：字符型\\n值\\n域：自由文本（页数用xxP．表示，开本按GB／T 788的规定著录。稽核项中各小项之间以分号“；”相隔）\\n7.2.25\\n\\n7.2.26\\n7.2.27\\n7.2.28\\n英文名称：abstract\\n数据类型：字符型\\n值\\t域：著录概要反映标准文献主题内容与适用范围的文字。\\n注\\t解：可选项；最大出现次数为1\\n7.2.29\\t英文主题词\\n定\\t义：反映标准文献主题内容的英文规范词。\\n英文名称：descriptor in English\\n数据类型：字符型\\n值\\t域：采用《标准文献主题词表》中的英文主题词，各主题词之间以分号“；”相隔。\\n注\\t解：可选项；最大出现次数为N\\n7.2.30\\t附注\\n定  义：对标准进行的补充说明。\\n英文名称：general notes\\n数据类型：字符型\\n\\n\\n\\n\\nGB/T 22373-2008\\n值\\t域：该项内容必须是著录标准正文的各项中没有被反映的材料，如标准首次发布时间、标准更正及勘误情况等。\\n注\\t解：可选项；最大出现次数为1\\n7.2.31\\t文献出处\\n定\\t义：析出款目的母体文献的标识。\\n英文名称：document source\\n数据类型：字符型\\n值\\t域：著录母体文献的题名与责任项及出版项等的主要信息。\\n注\\t解：可选项；最大出现次数为N\\n7.2.32\\t代替标准\\n定  义：代替所著录标准的标准。\\n英文名称：replaced by\\n数据类型：字符型\\n值\\t域：著录代替标准的标准号。有多个代替标准时，各标准号之间以分号“；”相隔。\\n注\\t解：可选项；最大出现次数为N\\n7.2.33\\t被代替标准\\n见6.2.11。\\n7.2.34 引用文件\\n定\\t义：被著录标准所涉及的内容在有关标准中已有规定，为避免重复，对有关标准直接引用。英文名称：referenced by\\n数据类型：字符型\\n值\\t域：著录引用文件的标准号。有多个引用文件时，各标准号之间以分号“；”相隔。\\n注\\t解：可选项；最大出现次数为N\\n7.2.35\\t相关法律\\n定\\t义：对与发布标准进行授权的法律。\\n英文名称：regulations referred to\\n数据类型：字符型\\n值\\t域：著录标识有关部门和法律文件的文字或代码。\\n注\\t解：可选项；最大出现次数为N\\n7.2.36\\t采用关系\\n定\\t义：标准在技术内容上采用其他标准的标准号及采用程度的标识。\\n英文名称：adoption\\n数据类型：字符型\\n值\\t域：采用其他标准的标准号＋“，”＋采用程度代码，有多个采用关系时，各采用关系之间以分号“；”相隔。采用程度代码见附录A．2《标准采用程度代码》\\n注\\t解：可选项；最大出现次数为N\\n7.2.37\\t第二标准号\\n定\\t义：所著录标准有多个标准号时，其第二个以上的标准号。\\n英文名称：second document reference\\n数据类型：字符型\\n值\\t域：标准代号＋1个空格＋顺序号＋1个连字符“一”＋4位发布年份。有多个标准号时，各标准号之间以分号“；”相隔。\\n注\\t解：必选项；最大出现次数为N\\n\\nGB/T 22373-2008\\n7.2.38\\t修改件\\n见6.2.12。\\n7.2.39\\t被修改件\\n定\\t义：被所著录文献修改的文献的标准。\\n英文名称：amends\\n数据类型：字符型\\n值\\t域：被修改文献的标准号\\n注\\t解：可选项；最大出现次数为N\\n7.2.40 补充件\\n见6.2.13。\\n7.2.41\\t被补充件\\n定\\t义：被所著录文献补充的文献的标准号。\\n英文名称：supplements\\n数据类型：字符型\\n值\\t域：著录被补充文献的标准号\\n注\\t解：可选项；最大出现次数为N\\n7.2.42\\t中国标准分类号\\n定\\t义：标准的《中国标准文献分类法》分类号。\\n英文名称：CCS number\\n数据类型：字符型\\n值\\t域：《中国标准文献分类法》的标准分类号。有多个分类号时，各分类号之间以分号“；”相隔注\\t解：条件必选项；最大出现次数为N，中国标准分类号和ICS号至少存在一个必选。\\n7.2.43\\tICS号\\n定\\t义：标准的《国际标准分类法》分类号。\\n英文名称：ICS number\\n数据类型：字符型\\n值\\t域：《国际标准分类法》的标准分类号。有多个分类号时，各分类号之间以分号“；”相隔注\\t解：条件必选项；最大出现次数为N，中国标准分类号和ICS号至少存在一个必选。\\n7.2.44 中文主题词\\n定\\t义：反映标准文献主题内容的中文规范词。\\n英文名称：descriptor in Chinese\\n数据类型：字符型\\n值\\t域：采用《标准文献主题词表》中的中文主题词，各主题词之间以分号“；”相隔\\n注\\t解：可选项；最大出现次数为N\\n7.2.45\\t中文自由词\\n定\\t义：直接从文献中抽出的作为文献检索标识的中文词语或字符。\\n英文名称：free descriptor in Chinese\\n数据类型：字符型\\n值\\t域：自由文本，各自由词之间以分号“；”相隔。\\n注\\t解：可选项；最大出现次数为N\\n7.2.46\\t英文主题词\\n定\\t义：反映标准文献主题内容的英文规范词。\\n英文名称：descriptor in English\\n\\nGB/T 22373-2008\\n数据类型：字符型\\n值\\t域：各主题词之间以分号“；”相隔\\n注\\t解：可选项；最大出现次数为N\\n7.2.47\\t原文主题词\\n定\\t义：除中、英文以外文种反映标准文献主题内容的原文规范词。\\n英文名称：descriptor of original language\\n数据类型：字符型\\n值\\t域：各主题词之间以分号“；”相隔\\n注\\t解：可选项；最大出现次数为N\\n7.2.48\\t索取号\\n定\\t义：文献收藏单位的索书号。\\n英文名称：access number\\n数据类型：字符型\\n值\\t域：所著录标准的索取号\\n注\\t解：可选项；最大出现次数为N\\n7.2.49\\t馆藏标志\\n定\\t义：所著录标准是否有馆藏的说明。\\n英文名称：stock sign\\n数据类型：字符型\\n值\\t域：0：无馆藏、1：有馆藏\\n注\\t解：可选项；最大出现次数为1\\n7.2.50\\t排序码\\n定\\t义：为按标准号排序而生成的代码。\\n英文名称：sorting code\\n数据类型：字符型\\n值\\t域：无限定\\n注\\t解：可选项；最大出现次数为1\\n7.2.51\\t标准类型\\n定\\t义：反映标准化对象类别的代码。\\n英文名称：type of standards\\n数据类型：字符型\\n值\\t域：采用附录表A．3《标准类型代码》\\n注\\t解：可选项；最大出现次数为1\\n7.2.52\\t文献类型\\n定\\t义：文献的种类。\\n英文名称：document type\\n数据类型：字符型\\n值\\t域：采用GB／T 3469中的字母代码。见附录A．4。\\n注\\t解：可选项；最大出现次数为1\\n7.2.53\\t文献代号\\n定\\t义：标准文献发布单位赋予本类标准的统一代号。\\n英文名称：document code\\n数据类型：字符型\\n\\nGB/T 22373-2008\\n值\\t域：无限定\\n注\\t解：可选项；最大出现次数为1\\n7.2.54\\t出版地\\n定\\t义：文献出版单位所在地。\\n英文名称：place of publication\\n数据类型：字符型\\n值\\t域：文献出版地名称\\n注\\t解：可选项；最大出现次数为1\\n7.2.55\\t密级\\n定\\t义：文献的保密等级。\\n英文名称：confidentiality\\n数据类型：字符型\\n值\\t域：采用GB／T 7156\\n注\\t解：可选项；最大出现次数为1\\n7.2.56\\t提出单位\\n定\\t义：报批标准的单位的名称。\\n英文名称：proposer\\n数据类型：字符型\\n值\\t域：提出单位的全称或公认的简称\\n注\\t解：可选项；最大出现次数为N\\n7.2.57\\t归口单位\\n定\\t义：标准的技术归口单位的名称（全称或公认的简称）。\\n英文名称：National TC\\n数据类型：字符型\\n值\\t域：归口单位的全称或公认的简称\\n注\\t解：可选项；最大出现次数为1\\n7.2.58\\t国别\\n定\\t义：标准文献的批准发布机构所属的国家或地区。\\n英文名称：country\\n数据类型：字符型\\n值\\t域：采用GB／T 2659的2字母国家代码，国际区域性标准著录代码“IX”\\n注\\t解：可选项；最大出现次数为1\\n7.2.59\\t更新批号\\n义：更新数据的批次号。\\n定\\n英文名称：update batch number\\n数据类型：字符型\\n值\\t域：采用更新数据的年月号作为更新批号，年代取后2位，月份取2位，即YYMM格式\\n注\\t解：可选项；最大出现次数为1\\n7.2.60\\t电子文本编号\\n定\\t义：标准电子版文件的文件代号。\\n英文名称：number for electronic format document\\n数据类型：字符型\\n值\\t域：标准电子版文件的文件名\\n注\\t解：可选项；最大出现次数为N\\n\\nGB/T 22373-2008\\n附录A\\n（规范性附录）\\n标准文献元数据代码集\\nA．1 记录状态代码\\n说明：标准文献数据库中记录所处状态（新增、修改、删除）的标识代码。\\n表示：1位字母码\\n编码方法：采用英文缩略码，用1位大写英文字母表示。\\n记录状态代码见表A．1。\\n表A．1 记录状态代码\\nA．2 标准采用程度代码\\n说明：对标准与其所采用的国际标准和国外先进标准的一致性程度的标识代码。\\n表示：3位字母码\\n编码方法：采用英文缩略语码，用3位大写英文字母表示。\\n标准采用程度代码见表A．2。\\n表A．2 标准采用程度代码\\nA．3 标准类型代码\\n说明：反映标准对象类别的代码。\\n表示：2位字母码\\n编码方法：除完整的产品标准代码采用标准对象中文名称的2字缩略语的汉语拼音首字母表示（即\\n2位大写英文字母）。\\n注1：标准分为若干部分时，应根据各部分的内容划定标准对象类别。\\n注2：当标准对象涉及不同类别时，应以其主要对象确定类别，不能同时反映几种类别，以避免重复。标准类型代码见表A．3。\\n\\nGB/T 22373-2008\\n表A．3\\t标准类型代码\\n\\nGB/T 22373-2008\\nA．4 文献类型代码\\n说明：文献类型的标识代码。\\n表示：双字码\\n编码方法：采用GB／T 3469中的双字码，表示文献内容类型的性质。\\n文献类型代码见表A．4。\\n表A．4 文献类型代码\\n\\nGB/T 22373-2008\\n附录B\\n（资料性附录）\\n常用标准文献元数据表\\n本附录给出了常用各类标准文献元数据，使用单位可参考本表进行著录。\\nB．1 国家标准文献元数据\\n国家标准文献元数据见表B．1。\\n表B．1\\t国家标准文献元数据\\nB．2 行业标准文献元数据\\n行业标准文献元数据见表B．2。\\n\\nGB/T 22373-2008\\n表B．2\\t行业标准文献元数据\\nB．3 地方标准文献元数据\\n地方标准文献元数据见表B．3。\\n表B．3\\t地方标准文献元数据\\n\\nGB/T 22373-2008\\n表B．3（续）\\nB．4 国外标准文献元数据\\n国外标准文献元数据见表B．4。\\n表B．4\\t国外标准文献元数据\\n\\nGB/T 22373-2008\\n表B．4（续）\\n\\n\\n\\nGB/T 22373-2008\\n\\n\\n\\n\\n\\n\\n'"
            ],
            "application/vnd.google.colaboratory.intrinsic+json": {
              "type": "string"
            }
          },
          "metadata": {},
          "execution_count": 49
        }
      ]
    },
    {
      "cell_type": "code",
      "source": [
        "text_list"
      ],
      "metadata": {
        "id": "rXxR9K0zw-Pc"
      },
      "execution_count": null,
      "outputs": []
    },
    {
      "cell_type": "code",
      "source": [
        "#以整个text文本做分析\n",
        "import jiagu\n",
        "#jiagu.init() # 可手动初始化，也可以动态初始化\n",
        "words = jiagu.seg(text) # 分词\n",
        "print(words)\n",
        "\n",
        "pos = jiagu.pos(words) # 词性标注\n",
        "print(pos)\n",
        "\n",
        "ner = jiagu.ner(words) # 命名实体识别\n",
        "print(ner)\n",
        "f=open('jiagu.txt',encoding='utf_8',mode='w+')\n",
        "for w,n in zip(words,ner):\n",
        "  f.write('{}\\t{}\\n'.format(w,n))\n"
      ],
      "metadata": {
        "colab": {
          "base_uri": "https://localhost:8080/"
        },
        "id": "NoUPldOxxUY9",
        "outputId": "f16d243c-ed56-49b6-d11b-ce154e2ecd19"
      },
      "execution_count": 6,
      "outputs": [
        {
          "output_type": "stream",
          "name": "stdout",
          "text": [
            "[' ', 'ICS', ' ', '01', '.', '140', '.', '20', ' ', 'A', ' ', '14', '\\n', 'GB', '\\n', '中华', '人民共和国', '国家标准', '\\n', 'GB', '/', 'T', ' ', '22373', '-', '2008', '\\n', '标准', '文献', '元数据', '\\n', 'Metadata', ' ', 'of', ' ', 'standards', ' ', 'documents', '\\n', '2008', '-', '09', '-', '11', '发布', '\\t', '\\t', '\\t', '\\t', '\\t', '\\t', '\\t', '\\t', '\\t', '\\t', ' ', ' ', ' ', ' ', '2009', '-', '01', '-', '01', '实施', '\\n', '\\n', '中华', '人民共和国', '国家', '质量', '监督', '检验', '检疫', '总局', '\\n', '中国', '国家', '标准化', '管理', '委员会', '\\n', '发布', '\\n', '\\n', '\\n', '四', '\\n', 'GB', '/', 'T', ' ', '22373', '-', '2008', '\\n', '2', ' ', '规范性', '引用', '文件', '\\n', '3', ' ', '术语', '和', '定义', '\\n', '4', ' ', '标准', '文献', '元数据', '的', '描述', '方法', '\\n', '附录', 'A', '（', '规范性', '附录', '）', '标准', '文献', '元数据', '代码', '集', '16', '\\n', '附录', 'B', '（', '资料性', '附录', '）', '常用', '标准', '文献', '元', '数据表', '19', '\\n', 'B', '.', '1', '\\n', 'B', '.', '2', '\\n', '·', '20', ' ', 'B', '.', '3', '\\n', '12', ' ', '国外', '标准', '文献', '元数据', 'B', '.', '4', '\\n', '\\n', '\\n', 'GB', '/', 'T', ' ', '22373', '-', '2008', '\\n', '前', '\\t', '言', '\\n', '本', '标准', '参考', '了', '《', 'ISO', '情报网', '手册', '》', '（', 'ISONET', ' ', 'MANUAL', '）', '的', '技术', '要求', '，', '并', '结合', '我国', '标准', '管理', '和', '情报', '检索', '的', '特点', '补充', '了', '适用于', '国内', '标准', '文献', '资源', '建设', '需要', '的', '元数据', '而', '制定', '的', '。', '\\n', '本', '标准', '的', '附录', 'A', '为', '规范性', '附录', '，', '附录', 'B', '为', '资料性', '附录', '。', '\\n', '本', '标准', '由', '中国', '标准化', '研究院', '提出', '并', '归口', '。', '\\n', '本', '标准', '由', '中国', '标准化', '研究院', '负责', '起草', '。', '\\n', '本', '标准', '主要', '起草人', '：', '姚', '晓', '静', '、', '周洁', '、', '李菁', '、', '于', '立', '梅', '、', '杨', '京', '、', '余', '松华', '。', '\\n', '\\n', 'GB', '/', 'T', ' ', '22373', '-', '2008', '\\n', '引', '\\t', '言', '\\n', '标准', '文献', '元数据', '是', '实现', '标准', '文献', '数据', '共享', '的', '必要条件', '之一', '，', '是', '发现', '和', '获取', '各类', '标准化', '信息', '资源', '的', '有效', '途径', '。', '规范', '标准', '文献', '元数据', '的', '内容', '、', '标识', '、', '质量', '、', '状况', '及', '有关', '特征', '将', '有利于', '：', '\\n', '-', '各级', '标准', '文献', '数据', '建设单位', '对', '原始', '数据', '有效', '地', '进行', '管理', '和', '维护', '；', '\\n', '-', '用户', '查询', '和', '检索', '快速', '找到', '其', '所', '需要', '的', '标准', '文献', '；', '\\n', '促进', '数据', '加工', '的', '规范化', '、', '标准化', '，', '提高', '标准', '文献', '数据库', '的', '建', '库', '与', '维护', '的', '质量', '；', '\\n', '在', '更', '大', '范围', '内', '实现', '标准', '文献', '信息', '资源', '共享', '。', '\\n', '\\n', 'GB', '/', 'T', ' ', '22373', '-', '2008', '\\n', '标准', '文献', '元数据', '\\n', '1', ' ', '范围', '\\n', '本', '标准', '规定', '了', '标准', '文献', '数据', '集合', '的', '基本', '元数据', '，', '给出', '了', '标准', '文献', '核心', '元数据', '、', '公共', '元数据', '的', '定义', '及其', '表示', '方法', '。', '\\n', '本', '标准', '适用于', '各类', '标准', '文献', '数据集', '加工', '、', '整理', '、', '建', '库', '、', '汇编', '、', '发布', '和', '查询', '。', '\\n', '2', ' ', '规范性', '引用', '文件', '\\n', '下列', '文件', '中', '的', '条款', '通过', '本', '标准', '的', '引用', '而', '成为', '本', '标准', '的', '条款', '。', '凡是', '注', '日期', '的', '引用', '文件', '，', '其', '随后', '所有', '的', '修改', '单', '（', '不', '包括', '勘误', '的', '内容', '）', '或', '修订版', '均不', '适用于', '本', '标准', '，', '然而', '，', '鼓励', '根据', '本', '标准', '达成', '协议', '的', '各方', '研究', '是否', '可', '使用', '这些', '文件', '的', '最新', '版本', '。', '凡是', '不', '注', '日期', '的', '引用', '文件', '，', '其', '最新', '版本', '适用于', '本', '标准', '。', '\\n', 'GB', '／', 'T', ' ', '788', '-', '1999', ' ', '图书', '和', '杂志', '开本', '及其', '幅面', '尺寸', '（', 'neq', ' ', 'ISO', ' ', '6716', '：', '1983', '）', '\\n', 'GB', '／', 'T', ' ', '2659', ' ', '世界', '各国', '和', '地区', '名称', '代码', '（', 'GB', '／', 'T', ' ', '2659', '-', '2000', '，', 'eqv', ' ', 'ISO', ' ', '3166', '-', '1', '：', '1997', '）', '\\n', 'GB', '／', 'T', ' ', '3469', ' ', '文献', '类型', '与', '文献', '载体', '代码', '\\n', 'GB', '／', 'T', ' ', '4880', '.', '1', ' ', '语种', '名称', '代码', ' ', '第', '1', '部分', '：', '2', '字母', '代码', '（', 'GB', '／', 'T', ' ', '4880', '.', '1', '-', '2005', '，', 'ISO', ' ', '639', '-', '1', '：', '2002', '，', 'MOD', ')', '\\n', 'GB', '／', 'T', ' ', '4880', '.', '2', ' ', '语种', '名称', '代码', ' ', '第', '2', '部分', '：', '3', '字母', '代码', '（', 'GB', '／', 'T', ' ', '4880', '.', '2', '-', '2000', '，', 'eqv', ' ', 'ISO', ' ', '639', '-', '2', '：', '1998', '）', 'GB', '/', 'T', ' ', '7156', '\\n', '文献', '保密', '等级', '代码', '与', '标识', '\\n', 'GB', '/', 'T', ' ', '7408', '\\t', '数据', '元', '和', '交换', '格式', ' ', '信息', '交换', '\\t', '日期', '和', '时间', '表示法', '（', 'GB', '／', 'T', ' ', '7408', '-', '2005', '，', 'ISO', ' ', '8601', '：', '2000', ',', 'IDT', ')', '\\n', '3', ' ', '术语', '和', '定义', '\\n', '下列', '术语', '和', '定义', '适用于', '本', '标准', '。', '\\n', '3', '.', '1', '\\n', '数据集', ' ', 'dataset', '\\n', '可以', '标识', '的', '数据', '集合', '。', '\\n', '注', '：', '数据集', '在', '物理', '上', '可以', '是', '更', '大', '数据集', '的', '比较', '小', '的', '数据组', '。', '从', '理论上', '讲', '，', '数据集', '可以', '小', '到', '更', '大', '数据集', '内', '的', '单个', '要素', '或', '要素', '属性', '。', '一', '张', '硬', '拷贝', '地图', '或', '图表', '可以', '被', '认为', '是', '一个', '数据集', '。', '本', '标准', '所指', '的', '数据集', '是', '指', '不可', '再', '细分', '的', '数据集', '，', '即', '能够', '用', '一个', '数据', '字典', '唯一', '描述', '的', '数据', '集合', '。', '\\n', '3', '.', '2', '\\n', '数据集', '系列', ' ', 'dataset', ' ', 'series', '\\n', '同一', '主题', '的', '多', '个', '数据集', '的', '组合', '，', '都', '符合', '相同', '产品', '规范', '。', '\\n', '3', '.', '3', '\\n', '元数据', ' ', 'metadata', '\\n', '定义', '和', '描述', '其他', '数据', '的', '数据', '。', '\\n', '3', '.', '4', '\\n', '元数据', '元素', ' ', 'metadata', ' ', 'element', '\\n', '元数据', '的', '基本', '单元', '。', '\\n', '注', '：', '与', 'UML', '术语', '中', '的', '属性', '同义', '。', '\\n', '\\n', 'GB', '/', 'T', ' ', '22373', '-', '2008', '\\n', '3', '.', '5', '\\n', '元数据', '实体', ' ', 'metadata', ' ', 'entity', '\\n', '一', '组', '说明', '数据', '相同', '特性', '的', '元数据', '元素', '。', '\\n', '注', '1', '：', '与', 'UML', '术语', '中', '的', '“', '类', '”', '同义', '。', '\\n', '注', '2', '：', '可以', '包含', '一个', '或', '一个', '以上', '元数据', '实体', '。', '\\n', '3', '.', '6', '\\n', '元数据', '子集', ' ', 'metadata', ' ', 'section', '\\n', '元数据', '的', '子', '集合', '，', '由', '相关', '的', '元数据', '实体', '和', '元素', '组成', '。', '\\n', '注', '：', '与', 'UML', '术语', '中', '的', '“', '包', '”', '同义', '。', '\\n', '3', '.', '7', '\\n', '资源', ' ', 'resource', '\\n', '3', '.', '8', '\\n', '在', '特定', '的', '领域', '中', '，', '用于', '描述', '数据集', '（', '信息', '资源', '）', '最', '基本', '属性', '的', '元数据', '，', '是', '制定', '其', '无', '数据', '标准时', '必须', '选择', '的', '元数据', '实体', '和', '元数据', '元素', '。', '\\n', '3', '.', '9', '\\n', '公共', '元数据', '\\t', 'kcommon', ' ', 'metadata', '\\n', '在', '特定', '的', '领域', '中', '，', '具有', '共性', '的', '元数据', '。', '公共', '元数据', '包含', '核心', '元数据', '的', '全部', '内容', '，', '是', '领域', '在', '制定', '其', '元数据', '标准时', '的', '工作', '起点', '\\n', '3', '.', '10', '\\n', '著录', ' ', 'description', '\\n', '对', '文献', '的', '内容', '和', '形式', '特征', '进行', '分析', '、', '选择', '和', '记录', '的', '过程', '。', '\\n', '4', ' ', '标准', '文献', '元数据', '的', '描述', '方法', '\\n', '4', '.', '1', ' ', '摘要', '表示', '\\n', '4', '.', '1', '.', '1', ' ', '标识', '符', '\\n', '4', '.', '1', '.', '2', ' ', '名称', '\\n', '名称', '是', '赋给', '元数据', '实体', '或', '元数据', '元素', '的', '一个', '标记', '。', '\\n', '元数据', '实体', '名称', '以', '一个', '大写字母', '开头', '。', '元数据', '实体', '名称', '中', '没有', '空格', '，', '而是', '多', '个', '单词', '连写', '，', '其中', '每', '一个', '新', '的', '单词', '开头', '为', '大写字母', '（', '如', '：', 'XnnnYmmm', '）', '。', '元数据', '实体', '名称', '在', '本', '标准', '的', '数据', '字典', '中', '是', '唯一', '的', '。', '\\n', '元数据', '元素', '名称', '在', '元数据', '实体', '中', '是', '唯一', '的', '，', '但', '在', '本', '标准', '的', '数据', '字典', '中', '并不是', '唯一', '的', '。', '通过', '元数据', '素', '名称', '的', '组合', '，', '可', '使', '元数据', '元素', '名称', '在', '一个', '应用', '中', '唯一', '（', '如', '：', '元数据', '.', '元数据', '字符集', '）', '。', '\\n', '4', '.', '1', '.', '3', ' ', '约束', '／', '条件', '\\n', '元数据', '实体', '或', '元数据', '元素', '选取', '的', '属性', '，', '包括', '必', '选', '（', 'M', '）', '、', '可选', '（', 'O', '）', '和', '条件', '必', '选', '（', 'C', '）', '。', '约束', '／', '条件', '代码', '见', '表', '1', '。', '\\n', '\\n', 'GB', '/', 'T', ' ', '22373', '-', '2008', '\\n', '表', '1', ' ', '约束', '／', '条件', '代码', '\\n', '4', '.', '2', ' ', '字典', '表示', '\\n', '数据', '字典', '以', '表格', '的', '形式', '描述', '元数据', '的', '特征', '属性', '。', '字典', '中', '加', '灰', '的', '行', '定义', '元数据', '实体', '。', '数据', '字典', '通过', '以下', '6', '个', '属性', '定义', '元数据', '实体', '和', '元数据', '元素', '。', '\\n', '4', '.', '2', '.', '1', ' ', '名称', '\\n', '见', '4', '.', '1', '.', '2', '。', '\\n', '4', '.', '2', '.', '2', ' ', '定义', '\\n', '描述', '元数据', '的', '基本', '内容', '。', '\\n', '4', '.', '2', '.', '3', ' ', '英文', '名称', '\\n', '元数据', '的', '英文', '名称', '，', '一般', '用', '英文', '全称', '。', '\\n', '4', '.', '2', '.', '4', ' ', '数据', '类型', '\\n', '元数据', '的', '有效', '值', '域', '和', '允许', '对', '该', '值', '域内', '的', '值', '进行', '有效', '操作', '的', '规定', '。', '\\n', '例如', '整型', '、', '实', '型', '、', '布尔', '型', '、', '字符', '型', '、', '日期', '等', '。', '\\n', '4', '.', '2', '.', '5', ' ', '值', '域', '\\n', '对', '元数据', '实体', '而言', '，', '域', '说明', '其', '包含', '的', '行数', '。', '\\n', '对', '元数据', '元素', '而言', '，', '域', '说明', '其', '有效', '值', '或', '使用', '自由', '文本', '。', '“', '自由', '文本', '”', '表明', '对', '字段', '的', '内容', '没有', '限制', '。', '应', '使用', '基于', '整型', '的', '代码', '表示', '包含', '代码', '表', '的', '域', '值', '。', '\\n', '4', '.', '2', '.', '6', ' ', '注解', '\\n', '4', '.', '2', '.', '6', '.', '1', ' ', '约束', '／', '条件', '\\n', '见', '4', '.', '1', '.', '3', '。', '\\n', '4', '.', '2', '.', '6', '.', '2', ' ', '最大', '出现', '次数', '\\n', '元数据', '实体', '或', '元数据', '元素', '可以', '具有', '的', '最大', '实例', '数目', '。', '只', '出现', '一次', '的', '用', '“', '1', '”', '表示', '，', '重复', '出现', '的', '用', '“', 'N', '”', '表示', '。', '不', '为', '“', '1', '”', '的', '固定', '出现', '次数', '用', '相应', '的', '数字', '表示', '，', '如', '“', '2', '”', '、', '“', '3', '”', '、', '“', '4', '”', '等', '。', '\\n', '5', ' ', '标准', '文献', '元数据', '模式', '\\n', '标准', '文献', '元数据', '由', '标准', '文献', '核心', '元数据', '和', '标准', '文献', '公共', '元数据', '组成', '。', '标准', '文献', '核心', '元数据', '是', '各类', '标准', '文献', '元数据', '标准', '的', '基础', '。', '\\n', '各类', '标准', '文献', '元数据', '标准', '应', '包含', '标准', '文献', '核心', '元数据', '，', '并', '可', '依据', '领域', '和', '专业', '自身', '特点', '在', '标准', '文献', '公共', '元数据', '的', '基础上', '进行', '扩展', '和', '裁减', '。', '\\n', '6', ' ', '标准', '文献', '核心', '元数据', '\\n', '6', '.', '1', ' ', '标准', '文献', '核心', '元数据', '的', '摘要', '表示', '\\n', '标准', '文献', '核心', '元数据', '元素', '是', '标准', '文献', '元数据', '子集', '和', '实体', '中', '必', '选', '或', '条件', '必', '选', '的', '元数据', '元素', '（', '即', '数据', '\\n', '\\n', 'GB', '/', 'T', ' ', '22373', '-', '2008', '\\n', '元', '）', '，', '可', '用于', '标准', '文献', '数据集', '编目', '、', '数据', '交换', '网站', '活动', '和', '对', '数据集', '的', '描述', '。', '标准', '文献', '核心', '元数据', '概要', '见', '表', '2', '。', '\\n', '表', '2', '\\t', '标准', '文献', '核心', '元数据', '\\n', '6', '.', '2', ' ', '标准', '文献', '核心', '元数据', '的', '字典', '表示', '\\n', '6', '.', '2', '.', '1', ' ', '记录', '状态', '\\n', '定', '\\t', '义', '：', '关', '天', '称', '准', '文献', '数据库', '中', '记录', '所处', '的', '状态', '（', '修改', '、', '删除', '、', '新增', '）', '的', '说明', '英文', '名称', '：', 'recordstatus', '\\n', '数据', '类型', '：', '字', '性', '型', '\\n', '值', '\\t', '域', '：', '采用', '表', '\\t', 'A', '．', '1', '《', '记录', '状态', '代码', '》', '中', '的', '名称', '（', '修改', '／', '删除', '／', '新增', '）', '\\n', '注', '\\t', '解', '：', '必', '选项', '；', '最大', '出现', '次数', '为', '1', '\\n', '6', '.', '2', '.', '2', ' ', '记录', '识别', '符', '（', '）', '\\n', '定', '\\n', '义', '：', '建立', '记录', '的', '单位', '对', '某', '一', '记录', '的', '给定', '的', '唯一', '识别', '符号', '。', '\\n', '英文', '名称', '：', 'recorl', ' ', 'ie', '\\n', '数据', '类型', '：', '字符', '型', '\\n', '值', '\\n', '注', '\\n', '6', '.', '2', '.', '3', ' ', '标准', '号', '\\n', '定', '\\t', '义', '：', '由', '有关', '标准化', '机构', '给定', '的', '用于', '唯一', '识别', '某', '一', '标准', '的', '注册号', '或', '登记', '号', '，', '标准', '号', '由', '标准', '代号', '、', '顺序', '号', '、', '发布', '年份', '及', '有关', '标识', '符', '组成', '。', '\\n', '英文', '名称', '：', 'document', ' ', 'reference', '\\n', '数据', '类型', '：', '字符', '型', '\\n', '值', '\\t', '域', '：', '标准', '代号', '＋', '1', '个', '空格', '＋', '顺序', '号', '＋', '1', '个', '连', '字符', '“', '-', '”', '＋', '4', '位', '发布', '年份', '。', '\\n', '注', '\\t', '解', '：', '必', '选项', '；', '最大', '出现', '次数', '为', '1', '\\n', '6', '.', '2', '.', '4', ' ', '发布', '日期', '\\n', '定', '\\t', '义', '：', '标准', '经', '有关', '机构', '批准', '，', '予以', '发布', '的', '日期', '。', '\\n', '英文', '名称', '：', 'date', ' ', 'of', ' ', 'announcement', '\\n', '数据', '类型', '：', '字符', '型', '\\n', '值', '\\t', '域', '：', '采用', 'YYYY', '-', 'MM', '-', 'DD', '格式', '\\n', '注', '\\t', '解', '：', '必', '选项', '；', '最大', '出现', '次数', '为', '1', '\\n', '\\n', 'GB', '/', 'T', ' ', '22373', '-', '2008', '\\n', '6', '.', '2', '.', '5', ' ', '发布', '单位', '\\n', '定', '\\t', '义', '：', '公布', '所', '著录', '标准', '的', '单位', '。', '\\n', '英文', '名称', '：', 'announcing', ' ', 'body', '\\n', '数据', '类型', '：', '字符', '型', '\\n', '值', '\\t', '域', '：', '发布', '单位', '的', '全称', '或', '公认', '的', '简称', '\\n', '注', '\\t', '解', '：', '必', '选项', '；', '最大', '出现', '次数', '为', 'N', '\\n', '6', '.', '2', '.', '6', '\\t', '标准', '状态', '\\n', '定', '\\t', '义', '：', '标准', '文献', '所处', '的', '状态', '或', '属性', '。', '说明', '所', '著录', '标准', '是', '草案', '、', '试行', '、', '暂行', '、', '废止', '、', '推荐', '、', '强制', '、', '限', '用', '或', '其他', '状态', '。', '\\n', '英文', '名称', '：', 'document', ' ', 'status', '\\n', '数据', '类型', '：', '字符', '型', '\\n', '值', '\\t', '域', '：', '按', '所', '著录', '标准', '或', '其', '发布', '机构', '的', '通报', '和', '目录', '所', '标明', '的', '符号', '著录', '标准', '状态', '代码', '\\n', '注', '\\t', '解', '：', '必', '选项', '；', '最大', '出现', '次数', '为', 'N', '\\n', '6', '.', '2', '.', '7', ' ', '实施', '或', '试行', '日期', '\\n', '定', '\\t', '义', '：', '标准', '经', '有关', '机构', '批准', '后', '正式', '生效', '或', '试行', '的', '日期', '。', '\\n', '英文', '名称', '：', 'effective', ' ', 'date', '\\n', '数据', '类型', '：', '字符', '型', '\\n', '值', '\\t', '域', '：', '采用', 'YYYY', '-', 'MM', '-', 'DD', '格式', '\\n', '注', '\\t', '解', '：', '必', '选项', '；', '最大', '出现', '次数', '为', '1', '\\n', '6', '.', '2', '.', '8', '\\t', '确认', '日期', '\\n', '定', '\\n', '义', '：', '标准', '经', '复审', '确认', '继续', '有效', '的', '日期', '。', '\\n', '英文', '名称', '：', 'confirmation', ' ', 'date', '\\n', '数据', '类型', '：', '字符', '型', '\\n', '值', '\\t', '域', '：', '采用', 'YYYY', '-', 'MM', '-', 'DD', '格式', '\\n', '注', '\\t', '解', '：', '必', '选项', '；', '最大', '出现', '次数', '为', '1', '\\n', '6', '.', '2', '.', '9', '\\t', '中文', '标准', '名称', '\\n', '定', '\\t', '义', '：', '标准', '的', '中文', '名称', '或', '中文', '译名', '。', '\\n', '英文', '名称', '：', 'document', ' ', 'name', ' ', 'in', ' ', 'Chinese', '\\n', '数据', '类型', '：', '字符', '型', '\\n', '值', '\\t', '域', '：', '自由', '文本', '（', '中国', '标准', '，', '著录', '中文', '标准', '名称', '；', '国外', '标准', '，', '著录', '标准', '的', '中文', '译名', '）', '\\n', '注', '\\t', '解', '：', '条', '必', '选项', '；', '最大', '出现', '次数', '为', '1', '，', '中文', '标准', '名称', '、', '英文', '标准', '名称', '和', '原文', '标准', '名称', '至少', '存在', '一个', '必', '选', '。', '\\n', '6', '.', '2', '.', '10', '\\t', '英文', '标准', '名称', '\\n', '定', '\\t', '义', '：', '标准', '的', '英文', '名称', '或', '英文', '译名', '。', '\\n', '英文', '名称', '：', 'document', ' ', 'name', ' ', 'in', ' ', 'English', '\\n', '数据', '类型', '：', '字符', '型', '\\n', '值', '\\t', '域', '：', '自由', '文本', '（', '中国', '标准', '，', '著录', '标准', '的', '英文', '译名', '；', '国外', '标准', '，', '著录', '标准', '的', '英文', '名称', '）', '\\n', '注', '\\t', '解', '：', '条件', '必', '选项', '；', '最大', '出现', '次数', '为', '1', '，', '中文', '标准', '名称', '、', '英文', '标准', '名称', '和', '原文', '标准', '名称', '至少', '存在', '一个', '必', '选', '。', '\\n', '6', '.', '2', '.', '11', '\\t', '被', '代替', '标准', '\\n', '定', '\\t', '义', '：', '所', '著录', '标准', '代替', '的', '标准', '。', '\\n', '英文', '名称', '：', 'replaces', '\\n', '数据', '类型', '：', '字符', '型', '\\n', '值', '\\t', '域', '：', '著录', '被', '代替', '标准', '的', '标准', '号', '，', '有', '多', '个', '被', '代替', '标准时', '，', '各', '标准', '号', '之间', '以', '分号', '“', '；', '”', '相隔', '。', '\\n', '\\n', 'GB', '/', 'T', ' ', '22373', '-', '2008', '\\n', '某', '标准', '部分', '内容', '被', '所', '著录', '标准', '代替', '时', '，', '应', '在', '被', '代替', '标准', '号', '后加', '相关', '说明', '文字', '并用', '括号', '包含', '。', '\\n', '注', '\\t', '解', '：', '必', '选项', '；', '最大', '出现', '次数', '为', 'N', '\\n', '6', '.', '2', '.', '12', '\\t', '修改', '件', '\\n', '定', '\\t', '义', '：', '修改', '所', '著录', '文献', '的', '文献', '代号', '、', '总', '次', '和', '总', '次', '发布', '年份', '的', '说明', '。', '\\n', '英文', '名称', '：', 'amended', ' ', 'by', '\\n', '数据', '类型', '：', '字符', '型', '\\n', '值', '\\t', '域', '：', '著录', '修改', '件', '代号', '、', '总', '次', '和', '总', '次', '发布', '年份', '，', '总', '次', '和', '发布', '年份', '之间', '以', '逗号', '相隔', '\\n', '注', '\\t', '解', '：', '必', '选项', '；', '最大', '出现', '次数', '为', 'N', '\\n', '6', '.', '2', '.', '13', '\\t', '补充', '件', '\\n', '定', '\\n', '义', '：', '补充', '所', '著录', '文献', '的', '文献', '代号', '、', '总', '次', '和', '总', '次', '发布', '年份', '的', '说明', '。', '\\n', '英文', '名称', '：', 'supplemented', ' ', 'by', '\\n', '数据', '类型', '：', '字符', '型', '\\n', '值', '\\t', '域', '：', '著录', '补充', '件', '代号', '、', '总', '次', '和', '总', '次', '发布', '年份', '，', '总', '次', '和', '发布', '年份', '之间', '以', '逗号', '相隔', '\\n', '注', '\\t', '解', '：', '必', '选项', '；', '最大', '出现', '次数', '为', 'N', '\\n', '6', '.', '3', ' ', '标准', '文献', '核心', '元数据', '实体', '集', '信息', '\\n', '标准', '文献', '核心', '元数据', '实体', '集', '信息', '见', '表', '3', '。', '\\n', '表', '3', '标准', '文献', '核心', '元数据', '实体', '集', '信息', '\\n', '\\n', 'GB', '/', 'T', ' ', '22373', '-', '2008', '\\n', '7', ' ', '标准', '文献', '公共', '元数据', '\\n', '7', '.', '1', ' ', '标准', '文献', '公共', '元数据', '的', '摘要', '表示', '\\n', '标准', '文献', '公共', '元数据', '见', '表', '4', '。', '\\n', '表', '4', '\\t', '标准', '文献', '公共', '元数据', '\\n', '\\n', 'GB', '/', 'T', ' ', '22373', '-', '2008', '\\n', '值', '\\t', '域', '：', '著录', '文献', '的', '国际标准', '书号', '，', '不', '包括', '其', '代号', ' ', 'ISBN', '\\n', '注', '\\t', '解', '：', '可', '选项', '；', '最大', '出现', '次数', '为', '1', '\\n', '7', '.', '2', '.', '5', '\\t', 'ISSN', '\\n', '定', '\\t', '义', '：', '国际标准', '连续', '出版物', '编号', '。', '由', '文献', '出版', '单位', '给定', '的', '唯一', '标识', '某', '文献', '的', '国际', '统一', '连续', '出版物', '编号', '。', '\\n', '英文', '名称', '：', 'International', ' ', 'Standard', ' ', 'Serial', ' ', 'Number', '\\n', '数据', '类型', '：', '字符', '型', '\\n', '值', '\\t', '域', '：', '著录', '文献', '的', '国际', '连续', '出版物', '编号', '，', '不', '包括', '其', '代号', ' ', 'ISSN', '\\n', '注', '\\n', '解', '：', '可', '选项', '；', '最大', '出现', '次数', '为', '1', '\\n', '7', '.', '2', '.', '6', ' ', '标准', '号', '\\n', '见', '6', '.', '2', '.', '3', '。', '\\n', '7', '.', '2', '.', '7', ' ', '发布', '日期', '\\n', '见', '6', '.', '2', '.', '4', '。', '\\n', '7', '.', '2', '.', '8', ' ', '发布', '单位', '\\n', '见', '6', '.', '2', '.', '5', '。', '\\n', '7', '.', '2', '.', '9', ' ', '版本', '\\n', '定', '\\t', '义', '：', '标准', '出版', '的', '次数', '或', '其他', '版本', '形式', '说明', '。', '\\n', '英文', '名称', '：', 'edition', '\\n', '数据', '类型', '：', '字符', '型', '\\n', '值', '\\t', '域', '：', '仅限于', '第二版', '及其', '以后', '的', '版', '次', '说明', '。', '著录', '时', '可', '省略', '第', 'x', '版', '中', '反映', '版', '次', '序列', '的', '“', '第', '”', '等', '说明', '文字', '。', '例', '：', '第二版', '，', '著录', '为', '：', '2', '版', '；', '修改', '版', '，', '著录', '为', '：', '修改', '版', '；', 'Second', ' ', 'edition', '，', '著录', '为', '：', '2ed', '\\n', '注', '\\t', '解', '：', '可', '选项', '；', '最大', '出现', '次数', '为', '1', '\\n', '7', '.', '2', '.', '10', '\\t', '标准', '状态', '\\n', '见', '6', '.', '2', '.', '6', '。', '\\n', '7', '.', '2', '.', '11', ' ', '有效', '区域', '\\n', '定', '\\t', '义', '：', '标准', '文献', '所', '适用', '的', '地域', '。', '\\n', '英文', '名称', '：', 'area', ' ', 'of', ' ', 'validity', '\\n', '数据', '类型', '：', '字符', '型', '\\n', '值', '\\t', '域', '：', '著录', '有效', '区域', '名称', '\\n', '注', '\\t', '解', '：', '可', '选项', '；', '最大', '出现', '次数', '为', '1', '\\n', '7', '.', '2', '.', '12', '\\t', '批准', '单位', '\\n', '义', '：', '审查', '批准', '所', '著录', '标准', '的', '单位', '。', '\\n', '定', '\\n', '英文', '名称', '：', 'validating', ' ', 'body', '\\n', '数据', '类型', '：', '字符', '型', '\\n', '值', '\\t', '域', '：', '著录', '批准', '单位', '的', '全称', '或', '公认', '的', '简称', '\\n', '注', '\\t', '解', '：', '必', '选项', '；', '最大', '出现', '次数', '为', '1', '\\n', '7', '.', '2', '.', '13', ' ', '实施', '或', '试行', '日期', '\\n', '见', '6', '.', '2', '.', '7', '。', '\\n', '7', '.', '2', '.', '14', ' ', '废止', '日期', '\\n', '义', '：', '标准', '作废', '的', '日期', '。', '\\n', '定', '\\n', '英文', '名称', '：', 'withdrawal', ' ', 'date', '\\n', '数据', '类型', '：', '字符', '型', '\\n', '值', '\\t', '域', '：', '采用', 'YYYY', '-', 'MM', '-', 'DD', '格式', '\\n', '注', '\\t', '解', '：', '可', '选项', '；', '最大', '出现', '次数', '为', '1', '\\n', '\\n', 'GB', '/', 'T', ' ', '22373', '-', '2008', '\\n', '表', '4', '（', '续', '）', '\\n', '7', '.', '2', ' ', '标准', '文献', '公共', '元数据', '的', '字典', '表示', '\\n', '7', '.', '2', '.', '1', ' ', '记录', '状态', '\\n', '见', '6', '.', '2', '.', '1', '。', '\\n', '7', '.', '2', '.', '2', ' ', '记录', '识别', '符', '\\n', '见', '6', '.', '2', '.', '2', '。', '\\n', '7', '.', '2', '.', '3', ' ', '记录', '日期', '\\n', '定', '\\t', '义', '：', '建立', '记录', '的', '日期', '。', '\\n', '英文', '名称', '：', 'date', ' ', 'of', ' ', 'record', '\\n', '数据', '类型', '：', '字符', '型', '\\n', '值', '\\t', '域', '：', '按', 'GB', '／', 'T', ' ', '7408', '的', '规定', '著录', '，', '采用', 'YYYY', '-', 'MM', '-', 'DD', '格式', '\\n', '注', '\\t', '解', '：', '必', '选项', '；', '最大', '出现', '次数', '为', '1', '\\n', '7', '.', '2', '.', '4', ' ', 'ISBN', '\\n', '定', '\\n', '义', '：', '国际标准', '书号', '。', '由', '文献', '出版', '单位', '给定', '的', '唯一', '标识', '某', '文献', '的', '国际', '统一', '书号', '。', '\\n', '英文', '名称', '：', 'International', ' ', 'Standard', ' ', 'Book', ' ', 'Number', '\\n', '数据', '类型', '：', '字符', '型', '\\n', '\\n', 'GB', '/', 'T', ' ', '22373', '-', '2008', '\\n', '7', '.', '2', '.', '15', ' ', '确认', '日期', '\\n', '见', '6', '.', '2', '.', '8', '。', '\\n', '7', '.', '2', '.', '16', ' ', '原', '分类号', '\\n', '定', '\\t', '义', '：', '标准', '发布', '机构', '给定', '的', '分类号', '或', '其他', '专业', '分类号', '。', '\\n', '英文', '名称', '：', 'original', ' ', 'notation', '\\n', '数据', '类型', '：', '字符', '型', '\\n', '值', '\\t', '域', '：', '按', '原', '形式', '著录', '，', '有', '多', '个', '分类号', '时', '，', '各', '分类号', '之间', '以', '分号', '“', '；', '”', '相隔', '\\n', '\\n', '\\n', '值', '\\t', '域', '：', '按', '原文', '语种', '著录', '标准', '名称', '\\n', '注', '\\t', '解', '：', '条件', '必', '选项', '；', '最大', '出现', '次数', '为', '1', '，', '中文', '标准', '名称', '、', '英文', '标准', '名称', '和', '原文', '标准', '名称', '至少', '存在', '一个', '必', '选', '。', '\\n', '7', '.', '2', '.', '22', ' ', '英文', '标准', '名称', '\\n', '见', '6', '.', '2', '.', '10', '。', '\\n', '7', '.', '2', '.', '23', '\\t', '出版', '单位', '\\n', '定', '\\t', '义', '：', '出版', '标准', '的', '单位', '的', '名称', '（', '全称', '或', '公认', '的', '简称', '）', '。', '\\n', '英文', '名称', '：', 'publishing', ' ', 'body', '\\n', '数据', '类型', '：', '字符', '型', '\\n', '值', '\\t', '域', '：', '出版', '单位', '的', '全称', '或', '公认', '的', '简称', '\\n', '注', '\\t', '解', '：', '可', '选项', '；', '最大', '出现', '次数', '为', '1', '\\n', '\\n', '\\n', '\\n', '\\n', 'GB', '/', 'T', ' ', '22373', '-', '2008', '\\n', '7', '.', '2', '.', '24', '\\t', '稽核', '项', '\\n', '定', '\\t', '义', '：', '关于', '标准', '文献', '有', '字面', '的', '总', '页数', '、', '开本', '的', '说明', '。', '\\n', '英文', '名称', '：', 'collation', '\\n', '数据', '类型', '：', '字符', '型', '\\n', '值', '\\n', '域', '：', '自由', '文本', '（', '页数', '用', 'xxP', '．', '表示', '，', '开本', '按', 'GB', '／', 'T', ' ', '788', '的', '规定', '著录', '。', '稽核', '项', '中', '各', '小', '项', '之间', '以', '分号', '“', '；', '”', '相隔', '）', '\\n', '7', '.', '2', '.', '25', '\\n', '\\n', '7', '.', '2', '.', '26', '\\n', '7', '.', '2', '.', '27', '\\n', '7', '.', '2', '.', '28', '\\n', '英文', '名称', '：', 'abstract', '\\n', '数据', '类型', '：', '字符', '型', '\\n', '值', '\\t', '域', '：', '著录', '概要', '反映', '标准', '文献', '主题', '内容', '与', '适用', '范围', '的', '文字', '。', '\\n', '注', '\\t', '解', '：', '可', '选项', '；', '最大', '出现', '次数', '为', '1', '\\n', '7', '.', '2', '.', '29', '\\t', '英文', '主题词', '\\n', '定', '\\t', '义', '：', '反映', '标准', '文献', '主题', '内容', '的', '英文', '规范', '词', '。', '\\n', '英文', '名称', '：', 'descriptor', ' ', 'in', ' ', 'English', '\\n', '数据', '类型', '：', '字符', '型', '\\n', '值', '\\t', '域', '：', '采用', '《', '标准', '文献', '主题词', '表', '》', '中', '的', '英文', '主题词', '，', '各', '主题词', '之间', '以', '分号', '“', '；', '”', '相隔', '。', '\\n', '注', '\\t', '解', '：', '可', '选项', '；', '最大', '出现', '次数', '为', 'N', '\\n', '7', '.', '2', '.', '30', '\\t', '附注', '\\n', '定', ' ', ' ', '义', '：', '对', '标准', '进行', '的', '补充', '说明', '。', '\\n', '英文', '名称', '：', 'general', ' ', 'notes', '\\n', '数据', '类型', '：', '字符', '型', '\\n', '\\n', '\\n', '\\n', '\\n', 'GB', '/', 'T', ' ', '22373', '-', '2008', '\\n', '值', '\\t', '域', '：', '该项', '内容', '必须', '是', '著录', '标准', '正文', '的', '各项', '中', '没有', '被', '反映', '的', '材料', '，', '如', '标准', '首次', '发布', '时间', '、', '标准', '更正', '及', '勘误', '情况', '等', '。', '\\n', '注', '\\t', '解', '：', '可', '选项', '；', '最大', '出现', '次数', '为', '1', '\\n', '7', '.', '2', '.', '31', '\\t', '文献', '出处', '\\n', '定', '\\t', '义', '：', '析出', '款', '目的', '母体', '文献', '的', '标识', '。', '\\n', '英文', '名称', '：', 'document', ' ', 'source', '\\n', '数据', '类型', '：', '字符', '型', '\\n', '值', '\\t', '域', '：', '著录', '母体', '文献', '的', '题名', '与', '责任', '项', '及', '出版', '项', '等', '的', '主要', '信息', '。', '\\n', '注', '\\t', '解', '：', '可', '选项', '；', '最大', '出现', '次数', '为', 'N', '\\n', '7', '.', '2', '.', '32', '\\t', '代替', '标准', '\\n', '定', ' ', ' ', '义', '：', '代替', '所', '著录', '标准', '的', '标准', '。', '\\n', '英文', '名称', '：', 'replaced', ' ', 'by', '\\n', '数据', '类型', '：', '字符', '型', '\\n', '值', '\\t', '域', '：', '著录', '代替', '标准', '的', '标准', '号', '。', '有', '多', '个', '代替', '标准时', '，', '各', '标准', '号', '之间', '以', '分号', '“', '；', '”', '相隔', '。', '\\n', '注', '\\t', '解', '：', '可', '选项', '；', '最大', '出现', '次数', '为', 'N', '\\n', '7', '.', '2', '.', '33', '\\t', '被', '代替', '标准', '\\n', '见', '6', '.', '2', '.', '11', '。', '\\n', '7', '.', '2', '.', '34', ' ', '引用', '文件', '\\n', '定', '\\t', '义', '：', '被', '著录', '标准', '所', '涉及', '的', '内容', '在', '有关', '标准', '中', '已', '有', '规定', '，', '为', '避免', '重复', '，', '对', '有关', '标准', '直接', '引用', '。', '英文', '名称', '：', 'referenced', ' ', 'by', '\\n', '数据', '类型', '：', '字符', '型', '\\n', '值', '\\t', '域', '：', '著录', '引用', '文件', '的', '标准', '号', '。', '有', '多', '个', '引用', '文件', '时', '，', '各', '标准', '号', '之间', '以', '分号', '“', '；', '”', '相隔', '。', '\\n', '注', '\\t', '解', '：', '可', '选项', '；', '最大', '出现', '次数', '为', 'N', '\\n', '7', '.', '2', '.', '35', '\\t', '相关', '法律', '\\n', '定', '\\t', '义', '：', '对', '与', '发布', '标准', '进行', '授权', '的', '法律', '。', '\\n', '英文', '名称', '：', 'regulations', ' ', 'referred', ' ', 'to', '\\n', '数据', '类型', '：', '字符', '型', '\\n', '值', '\\t', '域', '：', '著录', '标识', '有关', '部门', '和', '法律', '文件', '的', '文字', '或', '代码', '。', '\\n', '注', '\\t', '解', '：', '可', '选项', '；', '最大', '出现', '次数', '为', 'N', '\\n', '7', '.', '2', '.', '36', '\\t', '采用', '关系', '\\n', '定', '\\t', '义', '：', '标准', '在', '技术', '内容', '上', '采用', '其他', '标准', '的', '标准', '号', '及', '采用', '程度', '的', '标识', '。', '\\n', '英文', '名称', '：', 'adoption', '\\n', '数据', '类型', '：', '字符', '型', '\\n', '值', '\\t', '域', '：', '采用', '其他', '标准', '的', '标准', '号', '＋', '“', '，', '”', '＋', '采用', '程度', '代码', '，', '有', '多', '个', '采用', '关系', '时', '，', '各', '采用', '关系', '之间', '以', '分号', '“', '；', '”', '相隔', '。', '采用', '程度', '代码', '见', '附录', 'A', '．', '2', '《', '标准', '采用', '程度', '代码', '》', '\\n', '注', '\\t', '解', '：', '可', '选项', '；', '最大', '出现', '次数', '为', 'N', '\\n', '7', '.', '2', '.', '37', '\\t', '第二', '标准', '号', '\\n', '定', '\\t', '义', '：', '所', '著录', '标准', '有', '多', '个', '标准', '号', '时', '，', '其', '第二个', '以上', '的', '标准', '号', '。', '\\n', '英文', '名称', '：', 'second', ' ', 'document', ' ', 'reference', '\\n', '数据', '类型', '：', '字符', '型', '\\n', '值', '\\t', '域', '：', '标准', '代号', '＋', '1', '个', '空格', '＋', '顺序', '号', '＋', '1', '个', '连', '字符', '“', '一', '”', '＋', '4', '位', '发布', '年份', '。', '有', '多', '个', '标准', '号', '时', '，', '各', '标准', '号', '之间', '以', '分号', '“', '；', '”', '相隔', '。', '\\n', '注', '\\t', '解', '：', '必', '选项', '；', '最大', '出现', '次数', '为', 'N', '\\n', '\\n', 'GB', '/', 'T', ' ', '22373', '-', '2008', '\\n', '7', '.', '2', '.', '38', '\\t', '修改', '件', '\\n', '见', '6', '.', '2', '.', '12', '。', '\\n', '7', '.', '2', '.', '39', '\\t', '被', '修改', '件', '\\n', '定', '\\t', '义', '：', '被', '所', '著录', '文献', '修改', '的', '文献', '的', '标准', '。', '\\n', '英文', '名称', '：', 'amends', '\\n', '数据', '类型', '：', '字符', '型', '\\n', '值', '\\t', '域', '：', '被', '修改', '文献', '的', '标准', '号', '\\n', '注', '\\t', '解', '：', '可', '选项', '；', '最大', '出现', '次数', '为', 'N', '\\n', '7', '.', '2', '.', '40', ' ', '补充', '件', '\\n', '见', '6', '.', '2', '.', '13', '。', '\\n', '7', '.', '2', '.', '41', '\\t', '被', '补充', '件', '\\n', '定', '\\t', '义', '：', '被', '所', '著录', '文献', '补充', '的', '文献', '的', '标准', '号', '。', '\\n', '英文', '名称', '：', 'supplements', '\\n', '数据', '类型', '：', '字符', '型', '\\n', '值', '\\t', '域', '：', '著录', '被', '补充', '文献', '的', '标准', '号', '\\n', '注', '\\t', '解', '：', '可', '选项', '；', '最大', '出现', '次数', '为', 'N', '\\n', '7', '.', '2', '.', '42', '\\t', '中国', '标准', '分类号', '\\n', '定', '\\t', '义', '：', '标准', '的', '《', '中国', '标准', '文献', '分类法', '》', '分类号', '。', '\\n', '英文', '名称', '：', 'CCS', ' ', 'number', '\\n', '数据', '类型', '：', '字符', '型', '\\n', '值', '\\t', '域', '：', '《', '中国', '标准', '文献', '分类法', '》', '的', '标准', '分类号', '。', '有', '多', '个', '分类号', '时', '，', '各', '分类号', '之间', '以', '分号', '“', '；', '”', '相隔', '注', '\\t', '解', '：', '条件', '必', '选项', '；', '最大', '出现', '次数', '为', 'N', '，', '中国', '标准', '分类号', '和', 'ICS', '号', '至少', '存在', '一个', '必', '选', '。', '\\n', '7', '.', '2', '.', '43', '\\t', 'ICS', '号', '\\n', '定', '\\t', '义', '：', '标准', '的', '《', '国际标准', '分类法', '》', '分类号', '。', '\\n', '英文', '名称', '：', 'ICS', ' ', 'number', '\\n', '数据', '类型', '：', '字符', '型', '\\n', '值', '\\t', '域', '：', '《', '国际标准', '分类法', '》', '的', '标准', '分类号', '。', '有', '多', '个', '分类号', '时', '，', '各', '分类号', '之间', '以', '分号', '“', '；', '”', '相隔', '注', '\\t', '解', '：', '条件', '必', '选项', '；', '最大', '出现', '次数', '为', 'N', '，', '中国', '标准', '分类号', '和', 'ICS', '号', '至少', '存在', '一个', '必', '选', '。', '\\n', '7', '.', '2', '.', '44', ' ', '中文', '主题词', '\\n', '定', '\\t', '义', '：', '反映', '标准', '文献', '主题', '内容', '的', '中文', '规范', '词', '。', '\\n', '英文', '名称', '：', 'descriptor', ' ', 'in', ' ', 'Chinese', '\\n', '数据', '类型', '：', '字符', '型', '\\n', '值', '\\t', '域', '：', '采用', '《', '标准', '文献', '主题词', '表', '》', '中', '的', '中文', '主题词', '，', '各', '主题词', '之间', '以', '分号', '“', '；', '”', '相隔', '\\n', '注', '\\t', '解', '：', '可', '选项', '；', '最大', '出现', '次数', '为', 'N', '\\n', '7', '.', '2', '.', '45', '\\t', '中文', '自由', '词', '\\n', '定', '\\t', '义', '：', '直接', '从', '文献', '中', '抽出', '的', '作为', '文献', '检索', '标识', '的', '中文', '词语', '或', '字符', '。', '\\n', '英文', '名称', '：', 'free', ' ', 'descriptor', ' ', 'in', ' ', 'Chinese', '\\n', '数据', '类型', '：', '字符', '型', '\\n', '值', '\\t', '域', '：', '自由', '文本', '，', '各', '自由', '词', '之间', '以', '分号', '“', '；', '”', '相隔', '。', '\\n', '注', '\\t', '解', '：', '可', '选项', '；', '最大', '出现', '次数', '为', 'N', '\\n', '7', '.', '2', '.', '46', '\\t', '英文', '主题词', '\\n', '定', '\\t', '义', '：', '反映', '标准', '文献', '主题', '内容', '的', '英文', '规范', '词', '。', '\\n', '英文', '名称', '：', 'descriptor', ' ', 'in', ' ', 'English', '\\n', '\\n', 'GB', '/', 'T', ' ', '22373', '-', '2008', '\\n', '数据', '类型', '：', '字符', '型', '\\n', '值', '\\t', '域', '：', '各', '主题词', '之间', '以', '分号', '“', '；', '”', '相隔', '\\n', '注', '\\t', '解', '：', '可', '选项', '；', '最大', '出现', '次数', '为', 'N', '\\n', '7', '.', '2', '.', '47', '\\t', '原文', '主题词', '\\n', '定', '\\t', '义', '：', '除', '中', '、', '英文', '以外', '文', '种', '反映', '标准', '文献', '主题', '内容', '的', '原文', '规范', '词', '。', '\\n', '英文', '名称', '：', 'descriptor', ' ', 'of', ' ', 'original', ' ', 'language', '\\n', '数据', '类型', '：', '字符', '型', '\\n', '值', '\\t', '域', '：', '各', '主题词', '之间', '以', '分号', '“', '；', '”', '相隔', '\\n', '注', '\\t', '解', '：', '可', '选项', '；', '最大', '出现', '次数', '为', 'N', '\\n', '7', '.', '2', '.', '48', '\\t', '索取', '号', '\\n', '定', '\\t', '义', '：', '文献', '收藏', '单位', '的', '索', '书号', '。', '\\n', '英文', '名称', '：', 'access', ' ', 'number', '\\n', '数据', '类型', '：', '字符', '型', '\\n', '值', '\\t', '域', '：', '所', '著录', '标准', '的', '索取', '号', '\\n', '注', '\\t', '解', '：', '可', '选项', '；', '最大', '出现', '次数', '为', 'N', '\\n', '7', '.', '2', '.', '49', '\\t', '馆藏', '标志', '\\n', '定', '\\t', '义', '：', '所', '著录', '标准', '是否', '有', '馆藏', '的', '说明', '。', '\\n', '英文', '名称', '：', 'stock', ' ', 'sign', '\\n', '数据', '类型', '：', '字符', '型', '\\n', '值', '\\t', '域', '：', '0', '：', '无', '馆藏', '、', '1', '：', '有', '馆藏', '\\n', '注', '\\t', '解', '：', '可', '选项', '；', '最大', '出现', '次数', '为', '1', '\\n', '7', '.', '2', '.', '50', '\\t', '排序', '码', '\\n', '定', '\\t', '义', '：', '为', '按', '标准', '号', '排序', '而', '生成', '的', '代码', '。', '\\n', '英文', '名称', '：', 'sorting', ' ', 'code', '\\n', '数据', '类型', '：', '字符', '型', '\\n', '值', '\\t', '域', '：', '无限', '定', '\\n', '注', '\\t', '解', '：', '可', '选项', '；', '最大', '出现', '次数', '为', '1', '\\n', '7', '.', '2', '.', '51', '\\t', '标准', '类型', '\\n', '定', '\\t', '义', '：', '反映', '标准化', '对象', '类别', '的', '代码', '。', '\\n', '英文', '名称', '：', 'type', ' ', 'of', ' ', 'standards', '\\n', '数据', '类型', '：', '字符', '型', '\\n', '值', '\\t', '域', '：', '采用', '附录', '表', 'A', '．', '3', '《', '标准', '类型', '代码', '》', '\\n', '注', '\\t', '解', '：', '可', '选项', '；', '最大', '出现', '次数', '为', '1', '\\n', '7', '.', '2', '.', '52', '\\t', '文献', '类型', '\\n', '定', '\\t', '义', '：', '文献', '的', '种类', '。', '\\n', '英文', '名称', '：', 'document', ' ', 'type', '\\n', '数据', '类型', '：', '字符', '型', '\\n', '值', '\\t', '域', '：', '采用', 'GB', '／', 'T', ' ', '3469', '中', '的', '字母', '代码', '。', '见', '附录', 'A', '．', '4', '。', '\\n', '注', '\\t', '解', '：', '可', '选项', '；', '最大', '出现', '次数', '为', '1', '\\n', '7', '.', '2', '.', '53', '\\t', '文献', '代号', '\\n', '定', '\\t', '义', '：', '标准', '文献', '发布', '单位', '赋予', '本', '类', '标准', '的', '统一', '代号', '。', '\\n', '英文', '名称', '：', 'document', ' ', 'code', '\\n', '数据', '类型', '：', '字符', '型', '\\n', '\\n', 'GB', '/', 'T', ' ', '22373', '-', '2008', '\\n', '值', '\\t', '域', '：', '无限', '定', '\\n', '注', '\\t', '解', '：', '可', '选项', '；', '最大', '出现', '次数', '为', '1', '\\n', '7', '.', '2', '.', '54', '\\t', '出版', '地', '\\n', '定', '\\t', '义', '：', '文献', '出版', '单位', '所在地', '。', '\\n', '英文', '名称', '：', 'place', ' ', 'of', ' ', 'publication', '\\n', '数据', '类型', '：', '字符', '型', '\\n', '值', '\\t', '域', '：', '文献', '出版', '地', '名称', '\\n', '注', '\\t', '解', '：', '可', '选项', '；', '最大', '出现', '次数', '为', '1', '\\n', '7', '.', '2', '.', '55', '\\t', '密级', '\\n', '定', '\\t', '义', '：', '文献', '的', '保密', '等级', '。', '\\n', '英文', '名称', '：', 'confidentiality', '\\n', '数据', '类型', '：', '字符', '型', '\\n', '值', '\\t', '域', '：', '采用', 'GB', '／', 'T', ' ', '7156', '\\n', '注', '\\t', '解', '：', '可', '选项', '；', '最大', '出现', '次数', '为', '1', '\\n', '7', '.', '2', '.', '56', '\\t', '提出', '单位', '\\n', '定', '\\t', '义', '：', '报批', '标准', '的', '单位', '的', '名称', '。', '\\n', '英文', '名称', '：', 'proposer', '\\n', '数据', '类型', '：', '字符', '型', '\\n', '值', '\\t', '域', '：', '提出', '单位', '的', '全称', '或', '公认', '的', '简称', '\\n', '注', '\\t', '解', '：', '可', '选项', '；', '最大', '出现', '次数', '为', 'N', '\\n', '7', '.', '2', '.', '57', '\\t', '归口', '单位', '\\n', '定', '\\t', '义', '：', '标准', '的', '技术', '归口', '单位', '的', '名称', '（', '全称', '或', '公认', '的', '简称', '）', '。', '\\n', '英文', '名称', '：', 'National', ' ', 'TC', '\\n', '数据', '类型', '：', '字符', '型', '\\n', '值', '\\t', '域', '：', '归口', '单位', '的', '全称', '或', '公认', '的', '简称', '\\n', '注', '\\t', '解', '：', '可', '选项', '；', '最大', '出现', '次数', '为', '1', '\\n', '7', '.', '2', '.', '58', '\\t', '国别', '\\n', '定', '\\t', '义', '：', '标准', '文献', '的', '批准', '发布', '机构', '所属', '的', '国家', '或', '地区', '。', '\\n', '英文', '名称', '：', 'country', '\\n', '数据', '类型', '：', '字符', '型', '\\n', '值', '\\t', '域', '：', '采用', 'GB', '／', 'T', ' ', '2659', '的', '2', '字母', '国家', '代码', '，', '国际', '区域性', '标准', '著录', '代码', '“', 'IX', '”', '\\n', '注', '\\t', '解', '：', '可', '选项', '；', '最大', '出现', '次数', '为', '1', '\\n', '7', '.', '2', '.', '59', '\\t', '更新', '批号', '\\n', '义', '：', '更新', '数据', '的', '批次', '号', '。', '\\n', '定', '\\n', '英文', '名称', '：', 'update', ' ', 'batch', ' ', 'number', '\\n', '数据', '类型', '：', '字符', '型', '\\n', '值', '\\t', '域', '：', '采用', '更新', '数据', '的', '年月', '号', '作为', '更新', '批号', '，', '年代', '取', '后', '2', '位', '，', '月份', '取', '2', '位', '，', '即', 'YYMM', '格式', '\\n', '注', '\\t', '解', '：', '可', '选项', '；', '最大', '出现', '次数', '为', '1', '\\n', '7', '.', '2', '.', '60', '\\t', '电子', '文本', '编号', '\\n', '定', '\\t', '义', '：', '标准', '电子版', '文件', '的', '文件', '代号', '。', '\\n', '英文', '名称', '：', 'number', ' ', 'for', ' ', 'electronic', ' ', 'format', ' ', 'document', '\\n', '数据', '类型', '：', '字符', '型', '\\n', '值', '\\t', '域', '：', '标准', '电子版', '文件', '的', '文件名', '\\n', '注', '\\t', '解', '：', '可', '选项', '；', '最大', '出现', '次数', '为', 'N', '\\n', '\\n', 'GB', '/', 'T', ' ', '22373', '-', '2008', '\\n', '附录', 'A', '\\n', '（', '规范性', '附录', '）', '\\n', '标准', '文献', '元数据', '代码', '集', '\\n', 'A', '．', '1', ' ', '记录', '状态', '代码', '\\n', '说明', '：', '标准', '文献', '数据库', '中', '记录', '所处', '状态', '（', '新增', '、', '修改', '、', '删除', '）', '的', '标识', '代码', '。', '\\n', '表示', '：', '1', '位', '字母', '码', '\\n', '编码', '方法', '：', '采用', '英文', '缩略', '码', '，', '用', '1', '位', '大写', '英文', '字母', '表示', '。', '\\n', '记录', '状态', '代码', '见', '表', 'A', '．', '1', '。', '\\n', '表', 'A', '．', '1', ' ', '记录', '状态', '代码', '\\n', 'A', '．', '2', ' ', '标准', '采用', '程度', '代码', '\\n', '说明', '：', '对', '标准', '与其', '所', '采用', '的', '国际标准', '和', '国外', '先进', '标准', '的', '一致性', '程度', '的', '标识', '代码', '。', '\\n', '表示', '：', '3', '位', '字母', '码', '\\n', '编码', '方法', '：', '采用', '英文', '缩略', '语', '码', '，', '用', '3', '位', '大写', '英文', '字母', '表示', '。', '\\n', '标准', '采用', '程度', '代码', '见', '表', 'A', '．', '2', '。', '\\n', '表', 'A', '．', '2', ' ', '标准', '采用', '程度', '代码', '\\n', 'A', '．', '3', ' ', '标准', '类型', '代码', '\\n', '说明', '：', '反映', '标准', '对象', '类别', '的', '代码', '。', '\\n', '表示', '：', '2', '位', '字母', '码', '\\n', '编码', '方法', '：', '除', '完整', '的', '产品', '标准', '代码', '采用', '标准', '对象', '中文', '名称', '的', '2', '字', '缩略', '语', '的', '汉语拼音', '首', '字母', '表示', '（', '即', '\\n', '2', '位', '大写', '英文', '字母', '）', '。', '\\n', '注', '1', '：', '标准', '分为', '若干', '部分', '时', '，', '应', '根据', '各', '部分', '的', '内容', '划定', '标准', '对象', '类别', '。', '\\n', '注', '2', '：', '当', '标准', '对象', '涉及', '不同', '类别', '时', '，', '应', '以', '其', '主要', '对象', '确定', '类别', '，', '不能', '同时', '反映', '几', '种', '类别', '，', '以', '避免', '重复', '。', '标准', '类型', '代码', '见', '表', 'A', '．', '3', '。', '\\n', '\\n', 'GB', '/', 'T', ' ', '22373', '-', '2008', '\\n', '表', 'A', '．', '3', '\\t', '标准', '类型', '代码', '\\n', '\\n', 'GB', '/', 'T', ' ', '22373', '-', '2008', '\\n', 'A', '．', '4', ' ', '文献', '类型', '代码', '\\n', '说明', '：', '文献', '类型', '的', '标识', '代码', '。', '\\n', '表示', '：', '双', '字码', '\\n', '编码', '方法', '：', '采用', 'GB', '／', 'T', ' ', '3469', '中', '的', '双', '字码', '，', '表示', '文献', '内容', '类型', '的', '性质', '。', '\\n', '文献', '类型', '代码', '见', '表', 'A', '．', '4', '。', '\\n', '表', 'A', '．', '4', ' ', '文献', '类型', '代码', '\\n', '\\n', 'GB', '/', 'T', ' ', '22373', '-', '2008', '\\n', '附录', 'B', '\\n', '（', '资料性', '附录', '）', '\\n', '常用', '标准', '文献', '元', '数据表', '\\n', '本', '附录', '给出', '了', '常用', '各类', '标准', '文献', '元数据', '，', '使用', '单位', '可', '参考', '本', '表', '进行', '著录', '。', '\\n', 'B', '．', '1', ' ', '国家标准', '文献', '元数据', '\\n', '国家标准', '文献', '元数据', '见', '表', 'B', '．', '1', '。', '\\n', '表', 'B', '．', '1', '\\t', '国家标准', '文献', '元数据', '\\n', 'B', '．', '2', ' ', '行业', '标准', '文献', '元数据', '\\n', '行业', '标准', '文献', '元数据', '见', '表', 'B', '．', '2', '。', '\\n', '\\n', 'GB', '/', 'T', ' ', '22373', '-', '2008', '\\n', '表', 'B', '．', '2', '\\t', '行业', '标准', '文献', '元数据', '\\n', 'B', '．', '3', ' ', '地方', '标准', '文献', '元数据', '\\n', '地方', '标准', '文献', '元数据', '见', '表', 'B', '．', '3', '。', '\\n', '表', 'B', '．', '3', '\\t', '地方', '标准', '文献', '元数据', '\\n', '\\n', 'GB', '/', 'T', ' ', '22373', '-', '2008', '\\n', '表', 'B', '．', '3', '（', '续', '）', '\\n', 'B', '．', '4', ' ', '国外', '标准', '文献', '元数据', '\\n', '国外', '标准', '文献', '元数据', '见', '表', 'B', '．', '4', '。', '\\n', '表', 'B', '．', '4', '\\t', '国外', '标准', '文献', '元数据', '\\n', '\\n', 'GB', '/', 'T', ' ', '22373', '-', '2008', '\\n', '表', 'B', '．', '4', '（', '续', '）', '\\n', '\\n', '\\n', '\\n', 'GB', '/', 'T', ' ', '22373', '-', '2008', '\\n', '\\n', '\\n', '\\n', '\\n', '\\n', '\\n']\n",
            "['n', 'n', 'n', 'n', 'w', 'n', 'w', 'n', 'n', 'n', 'n', 'n', 'n', 'v', 'v', 'ns', 'n', 'n', 'n', 'n', 'n', 'n', 'n', 'n', 'w', 'n', 'n', 'n', 'n', 'n', 'n', 'n', 'n', 'n', 'n', 'n', 'n', 'n', 'n', 'n', 'w', 'w', 'w', 'n', 'v', 'n', 'n', 'n', 'n', 'n', 'n', 'n', 'n', 'n', 'n', 'n', 'n', 'n', 'n', 'n', 'w', 'w', 'w', 'n', 'v', 'v', 'n', 'ns', 'n', 'n', 'n', 'v', 'v', 'v', 'n', 'v', 'ns', 'n', 'v', 'v', 'n', 'n', 'v', 'n', 'n', 'n', 'm', 'n', 'n', 'n', 'n', 'n', 'n', 'w', 'n', 'n', 'n', 'n', 'n', 'v', 'n', 'n', 'n', 'v', 'n', 'c', 'n', 'v', 'n', 'n', 'n', 'n', 'n', 'u', 'v', 'n', 'n', 'n', 'n', 'w', 'n', 'n', 'w', 'n', 'n', 'n', 'n', 'n', 'v', 'n', 'n', 'n', 'w', 'n', 'n', 'w', 'v', 'n', 'n', 'q', 'n', 'v', 'n', 'n', 'w', 'n', 'n', 'n', 'w', 'n', 'n', 'w', 'n', 'n', 'n', 'w', 'n', 'n', 'n', 'v', 'nl', 'n', 'n', 'n', 'n', 'w', 'n', 'n', 'n', 'n', 'n', 'n', 'n', 'n', 'n', 'w', 'n', 'n', 'nd', 'v', 'v', 'n', 'r', 'n', 'v', 'u', 'w', 'n', 'n', 'n', 'w', 'w', 'n', 'n', 'n', 'w', 'u', 'n', 'v', 'w', 'c', 'v', 'n', 'n', 'v', 'c', 'n', 'v', 'u', 'n', 'v', 'u', 'a', 'nl', 'n', 'n', 'n', 'v', 'v', 'u', 'n', 'c', 'v', 'u', 'w', 'n', 'r', 'n', 'u', 'n', 'n', 'vl', 'n', 'n', 'w', 'n', 'n', 'vl', 'n', 'n', 'w', 'n', 'r', 'n', 'p', 'ns', 'v', 'n', 'v', 'c', 'v', 'w', 'n', 'r', 'n', 'p', 'ns', 'v', 'n', 'v', 'v', 'w', 'n', 'r', 'n', 'a', 'v', 'w', 'nhf', 'v', 'a', 'w', 'nh', 'w', 'nh', 'w', 'p', 'v', 'n', 'w', 'nhf', 'j', 'w', 'n', 'n', 'w', 'n', 'n', 'n', 'n', 'n', 'n', 'n', 'w', 'n', 'n', 'v', 'n', 'v', 'n', 'n', 'n', 'n', 'vl', 'v', 'n', 'n', 'n', 'v', 'u', 'n', 'm', 'w', 'vl', 'v', 'c', 'v', 'n', 'v', 'n', 'n', 'u', 'a', 'n', 'w', 'n', 'n', 'n', 'n', 'u', 'n', 'w', 'n', 'w', 'n', 'w', 'n', 'c', 'p', 'n', 'd', 'v', 'w', 'n', 'w', 'n', 'n', 'n', 'n', 'v', 'p', 'a', 'n', 'a', 'u', 'v', 'v', 'c', 'v', 'w', 'n', 'w', 'n', 'v', 'c', 'v', 'a', 'v', 'r', 'u', 'v', 'u', 'n', 'n', 'w', 'n', 'v', 'n', 'v', 'u', 'v', 'w', 'v', 'w', 'v', 'n', 'n', 'n', 'u', 'v', 'n', 'c', 'v', 'u', 'n', 'w', 'n', 'p', 'd', 'a', 'n', 'nd', 'v', 'n', 'n', 'n', 'n', 'v', 'w', 'n', 'n', 'n', 'n', 'n', 'n', 'n', 'w', 'n', 'n', 'n', 'n', 'n', 'n', 'n', 'n', 'n', 'v', 'r', 'n', 'v', 'u', 'n', 'n', 'n', 'v', 'u', 'a', 'n', 'w', 'v', 'u', 'n', 'n', 'nl', 'n', 'w', 'a', 'n', 'u', 'n', 'c', 'v', 'n', 'w', 'n', 'r', 'n', 'a', 'r', 'n', 'n', 'n', 'v', 'w', 'v', 'w', 'v', 'n', 'w', 'v', 'w', 'v', 'c', 'v', 'w', 'v', 'n', 'n', 'n', 'v', 'n', 'v', 'v', 'n', 'nd', 'u', 'n', 'p', 'r', 'n', 'u', 'v', 'c', 'v', 'r', 'n', 'u', 'n', 'w', 'd', 'v', 'nt', 'u', 'v', 'n', 'w', 'r', 'd', 'a', 'u', 'v', 'a', 'w', 'd', 'v', 'v', 'u', 'n', 'w', 'c', 'v', 'd', 'a', 'r', 'n', 'w', 'c', 'w', 'v', 'p', 'r', 'n', 'v', 'n', 'u', 'n', 'v', 'd', 'vu', 'v', 'r', 'n', 'u', 'a', 'n', 'w', 'd', 'd', 'v', 'nt', 'u', 'v', 'n', 'w', 'r', 'a', 'n', 'a', 'n', 'n', 'w', 'n', 'n', 'w', 'n', 'n', 'n', 'w', 'n', 'v', 'n', 'c', 'n', 'v', 'c', 'n', 'n', 'w', 'n', 'n', 'n', 'n', 'n', 'w', 'n', 'w', 'n', 'n', 'w', 'n', 'n', 'n', 'v', 'n', 'n', 'c', 'n', 'n', 'n', 'w', 'ws', 'w', 'n', 'n', 'n', 'w', 'n', 'w', 'n', 'v', 'n', 'n', 'n', 'w', 'n', 'w', 'n', 'w', 'n', 'n', 'w', 'n', 'n', 'n', 'n', 'n', 'n', 'c', 'n', 'n', 'n', 'v', 'n', 'w', 'n', 'n', 'n', 'w', 'n', 'n', 'n', 'n', 'n', 'n', 'h', 'n', 'n', 'w', 'n', 'n', 'n', 'w', 'ws', 'w', 'n', 'n', 'n', 'w', 'w', 'w', 'n', 'w', 'n', 'n', 'n', 'w', 'n', 'w', 'n', 'w', 'v', 'w', 'n', 'n', 'w', 'n', 'n', 'n', 'w', 'n', 'n', 'n', 'n', 'n', 'n', 'h', 'n', 'n', 'w', 'n', 'n', 'n', 'w', 'ws', 'w', 'n', 'n', 'n', 'w', 'w', 'w', 'n', 'w', 'n', 'v', 'n', 'n', 'n', 'w', 'n', 'w', 'n', 'w', 'n', 'n', 'n', 'n', 'n', 'n', 'n', 'v', 'n', 'n', 'c', 'n', 'v', 'n', 'n', 'n', 'n', 'v', 'n', 'n', 'q', 'c', 'v', 'n', 'v', 'n', 'v', 'n', 'nt', 'c', 'n', 'n', 'w', 'ws', 'w', 'n', 'n', 'n', 'w', 'n', 'w', 'n', 'n', 'n', 'w', 'n', 'w', 'n', 'w', 'n', 'n', 'v', 'n', 'c', 'n', 'v', 'v', 'n', 'c', 'n', 'v', 'r', 'n', 'w', 'n', 'n', 'w', 'n', 'n', 'n', 'n', 'n', 'n', 'vu', 'n', 'u', 'n', 'n', 'w', 'n', 'v', 'w', 'n', 'p', 'n', 'nd', 'vu', 'vl', 'd', 'a', 'n', 'u', 'd', 'a', 'u', 'n', 'w', 'p', 'nl', 'v', 'w', 'n', 'vu', 'a', 'v', 'd', 'a', 'n', 'nd', 'u', 'n', 'n', 'c', 'n', 'n', 'w', 'm', 'q', 'a', 'v', 'n', 'c', 'n', 'vu', 'p', 'v', 'vl', 'mq', 'n', 'w', 'r', 'n', 'n', 'u', 'n', 'vl', 'v', 'vu', 'd', 'v', 'u', 'n', 'w', 'd', 'vu', 'v', 'mq', 'n', 'n', 'a', 'v', 'u', 'n', 'n', 'w', 'n', 'n', 'w', 'n', 'n', 'n', 'n', 'n', 'n', 'n', 'v', 'v', 'a', 'n', 'u', 'a', 'q', 'n', 'u', 'v', 'w', 'd', 'v', 'a', 'n', 'n', 'w', 'n', 'n', 'w', 'n', 'n', 'n', 'n', 'n', 'n', 'n', 'c', 'v', 'r', 'n', 'u', 'n', 'w', 'n', 'n', 'w', 'n', 'v', 'n', 'n', 'n', 'v', 'n', 'n', 'v', 'n', 'u', 'a', 'n', 'w', 'n', 'v', 'w', 'c', 'n', 'n', 'nd', 'u', 'n', 'v', 'w', 'n', 'n', 'n', 'n', 'n', 'n', 'n', 'w', 'n', 'n', 'n', 'w', 'n', 'n', 'n', 'n', 'n', 'n', 'n', 'n', 'v', 'm', 'n', 'v', 'n', 'a', 'n', 'u', 'n', 'n', 'w', 'n', 'v', 'v', 'w', 'c', 'n', 'n', 'nd', 'u', 'w', 'n', 'w', 'v', 'w', 'n', 'v', 'v', 'w', 'vu', 'v', 'mq', 'c', 'mq', 'nd', 'n', 'n', 'w', 'n', 'n', 'w', 'n', 'v', 'n', 'n', 'n', 'n', 'n', 'n', 'v', 'n', 'u', 'n', 'n', 'w', 'p', 'v', 'u', 'n', 'n', 'c', 'n', 'v', 'w', 'n', 'v', 'w', 'c', 'n', 'n', 'nd', 'u', 'w', 'n', 'w', 'v', 'w', 'n', 'n', 'w', 'n', 'n', 'n', 'n', 'v', 'n', 'n', 'w', 'n', 'v', 'p', 'a', 'u', 'n', 'nd', 'w', 'v', 'v', 'n', 'w', 'n', 'n', 'w', 'd', 'a', 'n', 'u', 'n', 'w', 'vl', 'v', 'r', 'v', 'n', 'n', 'd', 'v', 'u', 'n', 'n', 'c', 'n', 'n', 'w', 'n', 'n', 'w', 'n', 'v', 'a', 'n', 'n', 'n', 'n', 'n', 'v', 'p', 'a', 'u', 'n', 'nd', 'w', 'v', 'n', 'u', 'n', 'w', 'a', 'n', 'v', 'nl', 'n', 'u', 'n', 'n', 'w', 'vl', 'n', 'p', 'v', 'r', 'n', 'n', 'u', 'n', 'n', 'n', 'n', 'w', 'n', 'n', 'v', 'n', 'n', 'n', 'p', 'n', 'u', 'n', 'c', 'n', 'n', 'v', 'v', 'w', 'v', 'c', 'v', 'u', 'n', 'w', 'n', 'n', 'v', 'n', 'n', 'n', 'u', 'v', 'n', 'n', 'n', 'w', 'n', 'n', 'v', 'v', 'n', 'n', 'w', 'n', 'w', 'n', 'v', 'n', 'n', 'n', 'n', 'w', 'n', 'w', 'n', 'v', 'n', 'v', 'n', 'vl', 'v', 'n', 'n', 'c', 'n', 'n', 'u', 'mq', 'n', 'w', 'n', 'n', 'n', 'n', 'p', 'mq', 'n', 'v', 'w', 'n', 'n', 'n', 'nd', 'v', 'n', 'w', 'vl', 'a', 'q', 'n', 'n', 'w', 'nd', 'r', 'mq', 'a', 'u', 'n', 'v', 'vl', 'n', 'w', 'v', 'w', 'n', 'w', 'w', 'n', 'n', 'n', 'p', 'r', 'n', 'u', 'n', 'n', 'nd', 'vl', 'a', 'u', 'w', 'v', 'n', 'n', 'n', 'p', 'n', 'n', 'nd', 'vl', 'a', 'u', 'w', 'c', 'p', 'r', 'n', 'u', 'n', 'n', 'nd', 'v', 'a', 'u', 'w', 'p', 'n', 'n', 'n', 'u', 'v', 'w', 'vu', 'v', 'n', 'n', 'n', 'p', 'mq', 'v', 'nd', 'a', 'w', 'v', 'w', 'n', 'w', 'n', 'n', 'w', 'w', 'n', 'n', 'w', 'n', 'w', 'n', 'n', 'v', 'w', 'n', 'v', 'n', 'n', 'c', 'n', 'n', 'v', 'u', 'n', 'w', 'v', 'd', 'v', 'w', 'n', 'w', 'w', 'v', 'w', 'n', 'w', 'c', 'n', 'd', 'v', 'w', 'n', 'w', 'w', 'v', 'w', 'n', 'n', 'v', 'n', 'n', 'w', 'n', 'n', 'n', 'n', 'n', 'n', 'n', 'w', 'n', 'n', 'n', 'n', 'n', 'v', 'w', 'n', 'n', 'n', 'n', 'w', 'n', 'n', 'n', 'v', 'n', 'n', 'n', 'p', 'n', 'u', 'n', 'v', 'n', 'u', 'n', 'n', 'w', 'n', 'nd', 'v', 'n', 'u', 'v', 'n', 'n', 'n', 'w', 'n', 'n', 'p', 'nd', 'v', 'q', 'n', 'n', 'nt', 'n', 'c', 'n', 'n', 'w', 'n', 'n', 'w', 'n', 'w', 'n', 'v', 'n', 'n', 'v', 'n', 'w', 'n', 'w', 'n', 'w', 'n', 'n', 'w', 'n', 'w', 'n', 'n', 'n', 'v', 'v', 'n', 'u', 'a', 'n', 'w', 'n', 'n', 'w', 'n', 'w', 'n', 'v', 'n', 'n', 'n', 'n', 'u', 'n', 'n', 'w', 'a', 'v', 'n', 'n', 'w', 'n', 'n', 'w', 'n', 'w', 'n', 'n', 'n', 'n', 'v', 'n', 'u', 'a', 'n', 'n', 'c', 'v', 'p', 'r', 'n', 'nl', 'u', 'n', 'v', 'a', 'v', 'u', 'v', 'w', 'n', 'v', 'v', 'w', 'a', 'n', 'w', 'n', 'k', 'w', 'n', 'k', 'w', 'n', 'u', 'w', 'n', 'n', 'w', 'n', 'w', 'n', 'n', 'n', 'n', 'n', 'p', 'n', 'n', 'v', 'w', 'n', 'v', 'r', 'v', 'u', 'n', 'w', 'n', 'p', 'nt', 'n', 'v', 'w', 'n', 'v', 'r', 'a', 'n', 'c', 'v', 'a', 'n', 'w', 'w', 'a', 'n', 'w', 'v', 'p', 'n', 'u', 'n', 'v', 'v', 'w', 'vu', 'v', 'p', 'a', 'u', 'n', 'v', 'v', 'n', 'n', 'u', 'n', 'n', 'w', 'n', 'n', 'w', 'n', 'w', 'n', 'n', 'n', 'v', 'n', 'w', 'n', 'w', 'n', 'w', 'n', 'n', 'v', 'w', 'n', 'v', 'v', 'n', 'w', 'n', 'w', 'n', 'w', 'n', 'n', 'w', 'n', 'w', 'n', 'w', 'n', 'n', 'a', 'v', 'n', 'v', 'n', 'n', 'c', 'n', 'n', 'vu', 'v', 'u', 'a', 'n', 'n', 'w', 'd', 'v', 'n', 'u', 'v', 'w', 'n', 'w', 'v', 'w', 'v', 'v', 'u', 'v', 'w', 'n', 'w', 'v', 'w', 'd', 'p', 'w', 'n', 'w', 'u', 'v', 'v', 'n', 'v', 'v', 'u', 'n', 'v', 'w', 'v', 'w', 'n', 'w', 'w', 'w', 'n', 'w', 'w', 'w', 'n', 'w', 'u', 'w', 'n', 'n', 'v', 'n', 'n', 'n', 'n', 'v', 'n', 'n', 'n', 'p', 'n', 'n', 'nl', 'n', 'c', 'n', 'n', 'a', 'n', 'v', 'w', 'n', 'n', 'nl', 'n', 'vl', 'r', 'n', 'n', 'n', 'n', 'u', 'n', 'w', 'n', 'n', 'n', 'n', 'n', 'n', 'vu', 'v', 'n', 'n', 'nl', 'n', 'w', 'c', 'vu', 'p', 'n', 'c', 'n', 'n', 'n', 'p', 'n', 'n', 'a', 'n', 'u', 'nl', 'v', 'v', 'c', 'v', 'w', 'n', 'n', 'v', 'n', 'n', 'nl', 'n', 'v', 'n', 'w', 'n', 'n', 'n', 'n', 'nl', 'n', 'u', 'n', 'v', 'n', 'n', 'n', 'nl', 'n', 'n', 'vl', 'n', 'n', 'n', 'n', 'c', 'n', 'nd', 'd', 'v', 'c', 'n', 'd', 'v', 'u', 'n', 'n', 'w', 'd', 'n', 'v', 'n', 'n', 'n', 'n', 'n', 'n', 'w', 'n', 'm', 'q', 'w', 'w', 'vu', 'v', 'n', 'n', 'n', 'v', 'w', 'n', 'v', 'n', 'v', 'c', 'p', 'n', 'u', 'v', 'w', 'n', 'n', 'nl', 'n', 'n', 'v', 'n', 'n', 'w', 'n', 'n', 'n', 'v', 'n', 'n', 'nl', 'n', 'v', 'n', 'w', 'n', 'n', 'n', 'n', 'nl', 'n', 'u', 'n', 'v', 'n', 'n', 'w', 'n', 'w', 'n', 'v', 'v', 'n', 'v', 'v', 'n', 'n', 'w', 'v', 'n', 'v', 'a', 'n', 'n', 'nd', 'v', 'n', 'u', 'n', 'w', 'v', 'w', 'v', 'w', 'v', 'w', 'u', 'v', 'n', 'n', 'w', 'n', 'n', 'n', 'n', 'w', 'n', 'k', 'n', 'n', 'n', 'v', 'n', 'w', 'v', 'n', 'n', 'ws', 'w', 'n', 'w', 'v', 'n', 'n', 'w', 'nd', 'u', 'n', 'w', 'v', 'w', 'v', 'w', 'v', 'w', 'n', 'v', 'v', 'v', 'w', 'd', 'v', 'w', 'a', 'v', 'n', 'p', 'n', 'n', 'n', 'w', 'n', 'w', 'n', 'n', 'v', 'v', 'n', 'w', 'w', 'v', 'v', 'n', 'n', 'w', 'v', 'v', 'u', 'n', 'p', 'r', 'm', 'v', 'u', 'v', 'u', 'a', 'v', 'n', 'w', 'v', 'n', 'n', 'w', 'n', 'n', 'v', 'n', 'n', 'n', 'w', 'n', 'k', 'n', 'n', 'n', 'v', 'v', 'v', 'w', 'm', 'w', 'n', 'n', 'n', 'n', 'v', 'v', 'n', 'n', 'w', 'p', 'p', 'v', 'n', 'v', 'u', 'v', 'a', 'v', 'r', 'm', 'n', 'u', 'v', 'c', 'v', 'n', 'w', 'n', 'n', 'p', 'n', 'n', 'w', 'n', 'n', 'w', 'v', 'nt', 'c', 'p', 'n', 'n', 'v', 'w', 'v', 'n', 'n', 'w', 'n', 'n', 'v', 'n', 'n', 'n', 'w', 'n', 'k', 'n', 'n', 'v', 'n', 'w', 'n', 'n', 'w', 'v', 'q', 'n', 'w', 'n', 'n', 'w', 'v', 'q', 'n', 'n', 'w', 'w', 'w', 'w', 'v', 'n', 'v', 'nt', 'w', 'n', 'v', 'v', 'v', 'w', 'd', 'v', 'w', 'a', 'v', 'n', 'p', 'n', 'n', 'n', 'w', 'n', 'w', 'n', 'n', 'v', 'nt', 'v', 'v', 'n', 'n', 'w', 'n', 'v', 'p', 'n', 'v', 'w', 'v', 'v', 'u', 'nt', 'w', 'v', 'n', 'n', 'w', 'n', 'n', 'n', 'n', 'v', 'n', 'n', 'n', 'w', 'n', 'k', 'n', 'n', 'v', 'n', 'w', 'v', 'n', 'w', 'w', 'w', 'n', 'n', 'n', 'v', 'v', 'v', 'w', 'd', 'v', 'w', 'a', 'v', 'n', 'p', 'n', 'v', 'n', 'n', 'n', 'n', 'n', 'n', 'w', 'n', 'n', 'n', 'w', 'n', 'w', 'n', 'n', 'v', 'n', 'v', 'v', 'n', 'n', 'w', 'v', 'u', 'v', 'n', 'u', 'n', 'w', 'v', 'n', 'n', 'w', 'n', 'n', 'v', 'n', 'n', 'n', 'w', 'n', 'k', 'n', 'n', 'v', 'n', 'w', 'v', 'n', 'u', 'n', 'c', 'v', 'u', 'n', 'n', 'v', 'v', 'v', 'w', 'd', 'v', 'w', 'a', 'v', 'n', 'p', 'n', 'n', 'n', 'w', 'n', 'w', 'n', 'v', 'n', 'n', 'v', 'v', 'n', 'n', 'w', 'n', 'n', 'n', 'u', 'n', 'c', 'n', 'w', 'v', 'u', 'v', 'n', 'vl', 'n', 'w', 'v', 'w', 'v', 'w', 'v', 'w', 'v', 'w', 'v', 'w', 'v', 'v', 'c', 'r', 'n', 'w', 'v', 'n', 'n', 'w', 'n', 'n', 'v', 'n', 'n', 'n', 'w', 'n', 'k', 'n', 'n', 'v', 'n', 'w', 'p', 'u', 'v', 'n', 'c', 'r', 'v', 'n', 'u', 'n', 'c', 'n', 'u', 'v', 'u', 'n', 'v', 'n', 'n', 'n', 'n', 'v', 'v', 'v', 'w', 'd', 'v', 'w', 'a', 'v', 'n', 'p', 'n', 'n', 'n', 'w', 'n', 'w', 'n', 'n', 'v', 'c', 'v', 'nt', 'v', 'v', 'n', 'n', 'w', 'n', 'v', 'p', 'n', 'v', 'nd', 'a', 'v', 'c', 'v', 'u', 'nt', 'w', 'v', 'n', 'n', 'w', 'n', 'n', 'v', 'n', 'n', 'n', 'w', 'n', 'k', 'n', 'n', 'v', 'n', 'w', 'v', 'n', 'w', 'w', 'w', 'n', 'n', 'n', 'v', 'v', 'v', 'w', 'd', 'v', 'w', 'a', 'v', 'n', 'p', 'n', 'n', 'n', 'w', 'n', 'w', 'n', 'v', 'v', 'nt', 'v', 'v', 'n', 'n', 'w', 'n', 'v', 'v', 'v', 'v', 'a', 'u', 'nt', 'w', 'v', 'n', 'n', 'w', 'n', 'n', 'v', 'n', 'n', 'n', 'w', 'n', 'k', 'n', 'n', 'v', 'n', 'w', 'v', 'n', 'w', 'w', 'w', 'n', 'n', 'n', 'v', 'v', 'v', 'w', 'd', 'v', 'w', 'a', 'v', 'n', 'p', 'n', 'n', 'n', 'w', 'n', 'w', 'n', 'n', 'n', 'n', 'n', 'v', 'v', 'n', 'n', 'w', 'n', 'u', 'n', 'n', 'c', 'n', 'n', 'w', 'v', 'n', 'n', 'w', 'n', 'n', 'n', 'n', 'n', 'n', 'v', 'n', 'n', 'n', 'w', 'n', 'k', 'n', 'n', 'v', 'n', 'w', 'a', 'n', 'w', 'ns', 'n', 'w', 'v', 'n', 'n', 'n', 'w', 'nl', 'n', 'w', 'v', 'n', 'u', 'n', 'n', 'w', 'n', 'v', 'v', 'v', 'w', 'n', 'd', 'v', 'w', 'a', 'v', 'n', 'vl', 'n', 'w', 'n', 'n', 'n', 'w', 'n', 'n', 'n', 'c', 'n', 'n', 'n', 'd', 'v', 'mq', 'd', 'v', 'w', 'n', 'n', 'w', 'n', 'w', 'n', 'v', 'n', 'n', 'n', 'v', 'v', 'n', 'n', 'w', 'n', 'u', 'n', 'n', 'c', 'n', 'n', 'w', 'v', 'n', 'n', 'w', 'n', 'n', 'n', 'n', 'n', 'n', 'v', 'n', 'n', 'n', 'w', 'n', 'k', 'n', 'n', 'v', 'n', 'w', 'a', 'n', 'w', 'ns', 'n', 'w', 'v', 'n', 'u', 'n', 'n', 'w', 'nl', 'n', 'w', 'v', 'n', 'u', 'n', 'n', 'w', 'n', 'v', 'v', 'v', 'w', 'n', 'd', 'v', 'w', 'a', 'v', 'n', 'vl', 'n', 'w', 'n', 'n', 'n', 'w', 'n', 'n', 'n', 'c', 'n', 'n', 'n', 'd', 'v', 'mq', 'd', 'v', 'w', 'n', 'n', 'w', 'n', 'w', 'n', 'n', 'p', 'v', 'n', 'v', 'v', 'n', 'n', 'w', 'u', 'v', 'n', 'v', 'u', 'n', 'w', 'v', 'n', 'n', 'w', 'n', 'n', 'n', 'n', 'w', 'n', 'k', 'n', 'n', 'v', 'n', 'w', 'n', 'p', 'v', 'n', 'u', 'n', 'n', 'w', 'v', 'a', 'q', 'p', 'v', 'n', 'w', 'r', 'n', 'n', 'nd', 'p', 'v', 'w', 'w', 'w', 'v', 'w', 'n', 'n', 'n', 'n', 'n', 'n', 'n', 'w', 'n', 'v', 'r', 'n', 'n', 'n', 'p', 'u', 'v', 'n', 'v', 'nt', 'w', 'vu', 'p', 'p', 'v', 'n', 'n', 'n', 'v', 'v', 'n', 'v', 'n', 'v', 'w', 'n', 'v', 'v', 'v', 'w', 'd', 'v', 'w', 'a', 'v', 'n', 'p', 'n', 'n', 'n', 'w', 'n', 'w', 'n', 'n', 'v', 'n', 'v', 'v', 'n', 'n', 'w', 'v', 'u', 'v', 'n', 'u', 'n', 'n', 'w', 'd', 'q', 'c', 'a', 'q', 'v', 'nt', 'u', 'v', 'w', 'v', 'n', 'n', 'w', 'n', 'n', 'v', 'n', 'n', 'n', 'w', 'n', 'k', 'n', 'n', 'v', 'n', 'w', 'v', 'v', 'n', 'n', 'w', 'd', 'q', 'c', 'a', 'q', 'v', 'nt', 'w', 'd', 'n', 'c', 'v', 'nt', 'nd', 'p', 'v', 'v', 'n', 'v', 'v', 'v', 'w', 'd', 'v', 'w', 'a', 'v', 'n', 'p', 'n', 'n', 'n', 'w', 'n', 'w', 'n', 'n', 'v', 'n', 'n', 'v', 'n', 'n', 'w', 'v', 'u', 'v', 'n', 'u', 'n', 'n', 'w', 'd', 'q', 'c', 'a', 'q', 'v', 'nt', 'u', 'v', 'w', 'v', 'n', 'n', 'w', 'n', 'n', 'v', 'n', 'n', 'n', 'w', 'n', 'k', 'n', 'n', 'v', 'n', 'w', 'v', 'v', 'n', 'n', 'w', 'd', 'q', 'c', 'a', 'q', 'v', 'nt', 'w', 'd', 'n', 'c', 'v', 'nt', 'nd', 'p', 'v', 'v', 'n', 'v', 'v', 'v', 'w', 'd', 'v', 'w', 'a', 'v', 'n', 'p', 'n', 'n', 'n', 'w', 'n', 'n', 'n', 'n', 'nl', 'n', 'n', 'n', 'n', 'n', 'n', 'n', 'nl', 'n', 'n', 'n', 'n', 'v', 'n', 'n', 'w', 'n', 'n', 'n', 'n', 'n', 'nl', 'n', 'n', 'n', 'n', 'n', 'v', 'n', 'n', 'n', 'n', 'n', 'w', 'n', 'n', 'n', 'v', 'n', 'n', 'a', 'n', 'n', 'n', 'w', 'n', 'n', 'n', 'n', 'a', 'n', 'u', 'n', 'v', 'n', 'n', 'n', 'a', 'n', 'v', 'n', 'n', 'w', 'n', 'n', 'n', 'v', 'n', 'n', 'a', 'n', 'n', 'n', 'n', 'n', 'n', 'n', 'n', 'w', 'n', 'n', 'n', 'v', 'n', 'w', 'v', 'n', 'u', 'n', 'n', 'w', 'd', 'v', 'r', 'n', 'n', 'n', 'n', 'v', 'v', 'v', 'w', 'vu', 'v', 'w', 'a', 'v', 'n', 'p', 'n', 'n', 'n', 'w', 'n', 'w', 'n', 'n', 'n', 'v', 'v', 'n', 'n', 'w', 'n', 'v', 'n', 'n', 'w', 'p', 'n', 'v', 'n', 'v', 'u', 'a', 'n', 'r', 'n', 'u', 'n', 'v', 'v', 'n', 'n', 'w', 'v', 'n', 'n', 'w', 'n', 'n', 'n', 'n', 'n', 'n', 'v', 'n', 'n', 'n', 'w', 'n', 'k', 'n', 'n', 'v', 'n', 'w', 'v', 'n', 'u', 'n', 'v', 'n', 'n', 'w', 'd', 'v', 'r', 'n', 'n', 'n', 'n', 'v', 'v', 'v', 'w', 'vu', 'v', 'w', 'a', 'v', 'n', 'p', 'n', 'n', 'n', 'w', 'n', 'w', 'n', 'n', 'n', 'n', 'n', 'v', 'n', 'w', 'n', 'w', 'n', 'w', 'n', 'n', 'w', 'n', 'w', 'n', 'n', 'v', 'nt', 'n', 'v', 'n', 'w', 'n', 'w', 'n', 'w', 'n', 'n', 'w', 'n', 'w', 'n', 'n', 'v', 'n', 'n', 'v', 'n', 'w', 'n', 'w', 'n', 'w', 'n', 'n', 'w', 'n', 'w', 'n', 'n', 'n', 'v', 'v', 'n', 'n', 'w', 'n', 'v', 'u', 'n', 'c', 'r', 'n', 'n', 'v', 'w', 'v', 'n', 'n', 'w', 'n', 'n', 'n', 'n', 'w', 'n', 'k', 'n', 'n', 'v', 'n', 'w', 'v', 'm', 'c', 'nt', 'u', 'n', 'a', 'v', 'w', 'v', 'nt', 'vu', 'v', 'h', 'n', 'n', 'nd', 'v', 'n', 'q', 'n', 'u', 'w', 'h', 'w', 'u', 'v', 'n', 'w', 'n', 'w', 'm', 'w', 'v', 'vl', 'w', 'n', 'n', 'w', 'v', 'n', 'w', 'v', 'vl', 'w', 'v', 'n', 'w', 'n', 'n', 'n', 'w', 'v', 'vl', 'w', 'n', 'n', 'v', 'v', 'v', 'w', 'vu', 'v', 'w', 'a', 'v', 'n', 'p', 'n', 'n', 'n', 'w', 'n', 'w', 'n', 'v', 'n', 'n', 'v', 'v', 'n', 'w', 'n', 'w', 'n', 'w', 'n', 'n', 'w', 'n', 'w', 'n', 'n', 'a', 'n', 'v', 'v', 'n', 'n', 'w', 'n', 'n', 'u', 'v', 'u', 'n', 'w', 'v', 'n', 'n', 'w', 'n', 'n', 'n', 'n', 'v', 'n', 'n', 'n', 'w', 'n', 'k', 'n', 'n', 'v', 'n', 'w', 'v', 'a', 'n', 'n', 'n', 'v', 'v', 'v', 'w', 'vu', 'v', 'w', 'a', 'v', 'n', 'p', 'n', 'n', 'n', 'w', 'n', 'w', 'n', 'n', 'v', 'n', 'v', 'n', 'w', 'v', 'v', 'u', 'v', 'n', 'u', 'n', 'w', 'v', 'v', 'n', 'n', 'n', 'w', 'n', 'n', 'v', 'n', 'n', 'n', 'w', 'n', 'k', 'n', 'n', 'v', 'n', 'w', 'v', 'v', 'n', 'u', 'n', 'c', 'v', 'u', 'n', 'n', 'v', 'v', 'v', 'w', 'd', 'v', 'w', 'a', 'v', 'n', 'p', 'n', 'n', 'n', 'w', 'n', 'w', 'n', 'n', 'v', 'c', 'v', 'nt', 'v', 'v', 'n', 'w', 'n', 'w', 'n', 'w', 'n', 'n', 'w', 'n', 'w', 'n', 'n', 'v', 'nt', 'v', 'n', 'w', 'n', 'v', 'u', 'nt', 'w', 'v', 'v', 'n', 'n', 'n', 'w', 'n', 'n', 'v', 'n', 'n', 'n', 'w', 'n', 'k', 'n', 'n', 'v', 'n', 'w', 'v', 'n', 'w', 'w', 'w', 'n', 'n', 'n', 'v', 'v', 'v', 'w', 'vu', 'v', 'w', 'a', 'v', 'n', 'p', 'n', 'v', 'n', 'n', 'n', 'n', 'n', 'n', 'w', 'n', 'n', 'n', 'n', 'w', 'v', 'w', 'n', 'n', 'w', 'n', 'n', 'n', 'n', 'a', 'n', 'u', 'n', 'v', 'n', 'n', 'w', 'n', 'w', 'n', 'v', 'v', 'n', 'n', 'v', 'n', 'w', 'n', 'w', 'n', 'w', 'n', 'n', 'w', 'n', 'w', 'n', 'n', 'v', 'v', 'n', 'v', 'v', 'n', 'w', 'n', 'w', 'n', 'w', 'n', 'n', 'w', 'n', 'w', 'n', 'n', 'v', 'nt', 'v', 'v', 'n', 'n', 'w', 'v', 'v', 'u', 'nt', 'w', 'v', 'n', 'n', 'w', 'n', 'n', 'n', 'n', 'v', 'n', 'n', 'n', 'w', 'n', 'k', 'n', 'n', 'v', 'n', 'w', 'p', 'n', 'w', 'n', 'n', 'n', 'u', 'v', 'v', 'w', 'v', 'n', 'w', 'w', 'w', 'n', 'n', 'n', 'v', 'v', 'v', 'w', 'd', 'v', 'w', 'a', 'v', 'n', 'p', 'n', 'n', 'n', 'w', 'n', 'w', 'n', 'n', 'n', 'v', 'v', 'n', 'n', 'w', 'n', 'n', 'w', 'p', 'n', 'v', 'n', 'v', 'u', 'a', 'n', 'r', 'n', 'u', 'n', 'v', 'n', 'w', 'v', 'n', 'n', 'w', 'n', 'n', 'n', 'n', 'v', 'n', 'v', 'n', 'n', 'n', 'w', 'n', 'k', 'n', 'n', 'n', 'n', 'n', 'n', 'n', 'w', 'n', 'n', 'n', 'w', 'n', 'w', 'n', 'v', 'v', 'nt', 'v', 'v', 'n', 'w', 'n', 'w', 'n', 'w', 'n', 'n', 'w', 'n', 'w', 'n', 'v', 'a', 'v', 'v', 'v', 'n', 'n', 'w', 'n', 'v', 'n', 'v', 'u', 'n', 'c', 'r', 'n', 'v', 'w', 'v', 'n', 'n', 'w', 'n', 'n', 'v', 'n', 'n', 'n', 'w', 'n', 'k', 'n', 'n', 'v', 'n', 'w', 'p', 'a', 'n', 'v', 'w', 'v', 'a', 'q', 'v', 'nt', 'w', 'r', 'n', 'nd', 'p', 'v', 'w', 'w', 'w', 'v', 'n', 'n', 'n', 'n', 'v', 'n', 'w', 'p', 'n', 'n', 'v', 'n', 'n', 'n', 'v', 'v', 'v', 'w', 'n', 'd', 'v', 'w', 'a', 'v', 'n', 'vl', 'n', 'w', 'n', 'n', 'n', 'w', 'n', 'n', 'n', 'c', 'n', 'n', 'n', 'd', 'v', 'mq', 'd', 'v', 'w', 'n', 'n', 'w', 'n', 'w', 'n', 'v', 'n', 'n', 'n', 'v', 'v', 'n', 'w', 'n', 'w', 'n', 'w', 'n', 'n', 'w', 'n', 'w', 'n', 'ni', 'v', 'n', 'v', 'v', 'n', 'n', 'w', 'v', 'n', 'u', 'n', 'u', 'n', 'w', 'n', 'c', 'v', 'u', 'n', 'w', 'w', 'v', 'n', 'n', 'w', 'n', 'n', 'v', 'n', 'n', 'n', 'w', 'n', 'k', 'n', 'n', 'v', 'n', 'w', 'v', 'n', 'u', 'n', 'c', 'v', 'u', 'n', 'n', 'v', 'v', 'v', 'w', 'vu', 'v', 'w', 'a', 'v', 'n', 'p', 'n', 'v', 'n', 'n', 'n', 'n', 'n', 'n', 'n', 'n', 'n', 'w', 'n', 'n', 'n', 'w', 'n', 'w', 'n', 'n', 'v', 'n', 'v', 'v', 'n', 'n', 'w', 'p', 'n', 'n', 'v', 'n', 'u', 'd', 'n', 'w', 'n', 'u', 'v', 'w', 'v', 'n', 'n', 'w', 'n', 'n', 'n', 'n', 'w', 'n', 'k', 'n', 'n', 'v', 'n', 'w', 'a', 'n', 'w', 'n', 'v', 'n', 'w', 'v', 'w', 'v', 'p', 'n', 'w', 'n', 'n', 'n', 'u', 'v', 'v', 'w', 'v', 'n', 'nd', 'r', 'a', 'q', 'nd', 'p', 'v', 'w', 'w', 'w', 'v', 'w', 'n', 'n', 'w', 'n', 'w', 'n', 'n', 'n', 'n', 'w', 'n', 'w', 'n', 'n', 'n', 'w', 'n', 'w', 'n', 'n', 'n', 'w', 'n', 'w', 'n', 'v', 'n', 'n', 'w', 'n', 'n', 'n', 'n', 'w', 'n', 'k', 'n', 'n', 'v', 'n', 'w', 'v', 'n', 'v', 'n', 'n', 'n', 'n', 'c', 'v', 'n', 'u', 'n', 'w', 'n', 'v', 'v', 'v', 'w', 'vu', 'v', 'w', 'a', 'v', 'n', 'p', 'n', 'n', 'n', 'w', 'n', 'w', 'n', 'v', 'n', 'n', 'v', 'v', 'n', 'n', 'w', 'v', 'n', 'n', 'n', 'n', 'u', 'n', 'n', 'n', 'w', 'v', 'n', 'n', 'w', 'n', 'n', 'n', 'n', 'v', 'n', 'n', 'n', 'w', 'n', 'k', 'n', 'n', 'v', 'n', 'w', 'v', 'w', 'n', 'n', 'n', 'n', 'w', 'nd', 'u', 'n', 'n', 'w', 'r', 'n', 'nd', 'p', 'v', 'w', 'w', 'w', 'v', 'w', 'n', 'v', 'v', 'v', 'w', 'vu', 'v', 'w', 'a', 'v', 'n', 'p', 'n', 'n', 'n', 'w', 'n', 'w', 'n', 'n', 'v', 'v', 'v', 'n', 'v', 'n', 'w', 'p', 'n', 'v', 'u', 'v', 'v', 'w', 'v', 'n', 'n', 'w', 'n', 'n', 'v', 'n', 'n', 'n', 'w', 'n', 'k', 'n', 'n', 'n', 'n', 'n', 'n', 'n', 'n', 'n', 'n', 'w', 'n', 'n', 'n', 'v', 'n', 'w', 'n', 'n', 'd', 'vl', 'v', 'n', 'n', 'u', 'r', 'nd', 'v', 'p', 'v', 'u', 'n', 'w', 'v', 'n', 'n', 'v', 'n', 'w', 'n', 'v', 'c', 'v', 'n', 'u', 'w', 'n', 'v', 'v', 'v', 'w', 'vu', 'v', 'w', 'a', 'v', 'n', 'p', 'n', 'n', 'n', 'w', 'n', 'w', 'n', 'n', 'n', 'n', 'v', 'v', 'n', 'n', 'w', 'v', 'n', 'n', 'n', 'n', 'u', 'n', 'w', 'v', 'n', 'n', 'w', 'n', 'n', 'v', 'n', 'n', 'n', 'w', 'n', 'k', 'n', 'n', 'v', 'n', 'w', 'v', 'n', 'n', 'u', 'v', 'c', 'n', 'n', 'c', 'v', 'n', 'u', 'u', 'a', 'n', 'w', 'n', 'v', 'v', 'v', 'w', 'vu', 'v', 'w', 'a', 'v', 'n', 'p', 'n', 'n', 'n', 'w', 'n', 'w', 'n', 'n', 'v', 'n', 'v', 'v', 'n', 'v', 'n', 'w', 'v', 'u', 'v', 'n', 'u', 'n', 'w', 'v', 'n', 'n', 'w', 'n', 'n', 'v', 'n', 'n', 'n', 'w', 'n', 'k', 'n', 'n', 'v', 'n', 'w', 'n', 'v', 'n', 'u', 'n', 'n', 'w', 'v', 'a', 'q', 'v', 'n', 'w', 'r', 'n', 'n', 'nd', 'p', 'v', 'w', 'w', 'w', 'v', 'w', 'n', 'v', 'v', 'v', 'w', 'vu', 'v', 'w', 'a', 'v', 'n', 'p', 'n', 'n', 'n', 'w', 'n', 'w', 'n', 'n', 'p', 'v', 'n', 'n', 'v', 'n', 'w', 'n', 'w', 'n', 'w', 'n', 'n', 'w', 'n', 'w', 'n', 'v', 'v', 'n', 'v', 'v', 'n', 'n', 'w', 'p', 'v', 'n', 'u', 'v', 'u', 'n', 'p', 'v', 'n', 'nd', 'd', 'v', 'v', 'w', 'p', 'v', 'v', 'w', 'p', 'v', 'n', 'a', 'v', 'w', 'n', 'n', 'w', 'n', 'n', 'v', 'n', 'n', 'n', 'w', 'n', 'k', 'n', 'n', 'v', 'n', 'w', 'v', 'v', 'n', 'u', 'n', 'n', 'w', 'v', 'a', 'q', 'v', 'n', 'nt', 'w', 'r', 'n', 'n', 'nd', 'p', 'v', 'w', 'w', 'w', 'v', 'w', 'n', 'v', 'v', 'v', 'w', 'vu', 'v', 'w', 'a', 'v', 'n', 'p', 'n', 'n', 'n', 'w', 'n', 'w', 'n', 'n', 'v', 'n', 'v', 'v', 'n', 'n', 'w', 'p', 'c', 'v', 'n', 'v', 'v', 'u', 'n', 'w', 'v', 'n', 'n', 'w', 'n', 'n', 'n', 'n', 'v', 'n', 'n', 'n', 'w', 'n', 'k', 'n', 'n', 'v', 'n', 'w', 'v', 'n', 'v', 'n', 'c', 'n', 'n', 'u', 'n', 'c', 'n', 'w', 'n', 'v', 'v', 'v', 'w', 'vu', 'v', 'w', 'a', 'v', 'n', 'p', 'n', 'n', 'n', 'w', 'n', 'w', 'n', 'n', 'v', 'n', 'v', 'v', 'n', 'n', 'w', 'n', 'p', 'n', 'n', 'nd', 'v', 'r', 'n', 'u', 'n', 'n', 'c', 'v', 'n', 'u', 'n', 'w', 'v', 'n', 'n', 'w', 'n', 'n', 'n', 'n', 'w', 'n', 'k', 'n', 'n', 'v', 'n', 'w', 'v', 'r', 'n', 'u', 'n', 'n', 'w', 'w', 'w', 'w', 'w', 'v', 'n', 'n', 'w', 'v', 'a', 'q', 'v', 'n', 'nt', 'w', 'r', 'v', 'n', 'nd', 'p', 'v', 'w', 'w', 'w', 'v', 'w', 'v', 'n', 'v', 'v', 'n', 'n', 'w', 'n', 'w', 'n', 'v', 'n', 'n', 'w', 'n', 'v', 'v', 'v', 'w', 'vu', 'v', 'w', 'a', 'v', 'n', 'p', 'n', 'n', 'n', 'w', 'n', 'w', 'n', 'n', 'm', 'n', 'n', 'v', 'v', 'n', 'n', 'w', 'u', 'v', 'n', 'v', 'a', 'q', 'n', 'n', 'nt', 'w', 'r', 'm', 'nd', 'u', 'n', 'n', 'w', 'v', 'n', 'n', 'w', 'n', 'n', 'n', 'n', 'v', 'n', 'n', 'n', 'w', 'n', 'k', 'n', 'n', 'v', 'n', 'w', 'n', 'n', 'w', 'v', 'q', 'n', 'w', 'n', 'n', 'w', 'v', 'q', 'n', 'n', 'w', 'm', 'w', 'w', 'v', 'n', 'v', 'nt', 'w', 'v', 'a', 'q', 'n', 'n', 'nt', 'w', 'r', 'n', 'n', 'nd', 'p', 'v', 'w', 'w', 'w', 'v', 'w', 'n', 'v', 'v', 'v', 'w', 'd', 'v', 'w', 'a', 'v', 'n', 'p', 'n', 'v', 'n', 'n', 'n', 'n', 'n', 'n', 'w', 'n', 'n', 'n', 'w', 'n', 'w', 'n', 'n', 'v', 'n', 'v', 'v', 'n', 'w', 'n', 'w', 'n', 'w', 'n', 'n', 'w', 'n', 'w', 'n', 'n', 'p', 'v', 'n', 'v', 'v', 'n', 'n', 'w', 'p', 'u', 'v', 'n', 'v', 'u', 'n', 'u', 'n', 'w', 'v', 'n', 'n', 'w', 'n', 'n', 'n', 'n', 'w', 'n', 'k', 'n', 'n', 'v', 'n', 'w', 'p', 'v', 'n', 'u', 'n', 'n', 'n', 'v', 'v', 'v', 'w', 'vu', 'v', 'w', 'a', 'v', 'n', 'p', 'n', 'n', 'n', 'w', 'n', 'w', 'n', 'n', 'v', 'n', 'n', 'v', 'n', 'w', 'n', 'w', 'n', 'w', 'n', 'n', 'w', 'n', 'w', 'n', 'n', 'p', 'v', 'n', 'n', 'v', 'n', 'n', 'w', 'p', 'u', 'v', 'n', 'v', 'u', 'n', 'u', 'n', 'n', 'w', 'v', 'n', 'n', 'w', 'n', 'n', 'n', 'n', 'w', 'n', 'k', 'n', 'n', 'v', 'n', 'w', 'v', 'p', 'v', 'n', 'u', 'n', 'n', 'n', 'v', 'v', 'v', 'w', 'vu', 'v', 'w', 'a', 'v', 'n', 'p', 'n', 'n', 'n', 'w', 'n', 'w', 'n', 'v', 'ns', 'n', 'v', 'v', 'v', 'n', 'n', 'w', 'n', 'u', 'w', 'ns', 'n', 'n', 'n', 'w', 'v', 'w', 'v', 'n', 'n', 'w', 'n', 'n', 'v', 'n', 'n', 'n', 'w', 'n', 'k', 'n', 'n', 'v', 'n', 'w', 'w', 'ns', 'n', 'n', 'n', 'w', 'u', 'n', 'n', 'w', 'v', 'a', 'q', 'v', 'nt', 'w', 'r', 'n', 'nd', 'p', 'v', 'w', 'w', 'w', 'v', 'v', 'v', 'v', 'w', 'n', 'd', 'v', 'w', 'a', 'v', 'n', 'vl', 'n', 'w', 'ns', 'n', 'v', 'c', 'n', 'n', 'd', 'v', 'mq', 'd', 'v', 'w', 'n', 'n', 'w', 'n', 'w', 'n', 'n', 'n', 'n', 'v', 'v', 'n', 'n', 'w', 'n', 'u', 'w', 'n', 'n', 'w', 'v', 'w', 'v', 'n', 'n', 'w', 'n', 'n', 'v', 'n', 'n', 'n', 'w', 'n', 'k', 'n', 'n', 'v', 'n', 'w', 'w', 'n', 'n', 'w', 'u', 'n', 'n', 'w', 'v', 'a', 'q', 'v', 'nt', 'w', 'r', 'n', 'nd', 'p', 'v', 'w', 'w', 'w', 'v', 'v', 'v', 'v', 'w', 'n', 'd', 'v', 'w', 'a', 'v', 'n', 'vl', 'n', 'w', 'ns', 'n', 'v', 'c', 'n', 'n', 'd', 'v', 'mq', 'd', 'v', 'w', 'n', 'n', 'w', 'n', 'w', 'n', 'v', 'n', 'n', 'v', 'v', 'n', 'n', 'w', 'v', 'n', 'n', 'n', 'n', 'u', 'n', 'n', 'n', 'w', 'v', 'n', 'n', 'w', 'n', 'n', 'n', 'n', 'v', 'n', 'n', 'n', 'w', 'n', 'k', 'n', 'n', 'v', 'n', 'w', 'v', 'w', 'n', 'n', 'n', 'n', 'w', 'nd', 'u', 'n', 'n', 'w', 'r', 'n', 'nd', 'p', 'v', 'w', 'w', 'w', 'v', 'n', 'v', 'v', 'v', 'w', 'vu', 'v', 'w', 'a', 'v', 'n', 'p', 'n', 'n', 'n', 'w', 'n', 'w', 'n', 'v', 'n', 'a', 'n', 'v', 'v', 'n', 'n', 'w', 'a', 'p', 'n', 'nd', 'v', 'u', 'v', 'n', 'v', 'n', 'u', 'n', 'n', 'c', 'n', 'w', 'v', 'n', 'n', 'w', 'n', 'n', 'n', 'n', 'n', 'n', 'v', 'n', 'n', 'n', 'w', 'n', 'k', 'n', 'n', 'v', 'n', 'w', 'a', 'n', 'w', 'r', 'a', 'n', 'nd', 'p', 'v', 'w', 'w', 'w', 'v', 'w', 'n', 'v', 'v', 'v', 'w', 'vu', 'v', 'w', 'a', 'v', 'n', 'p', 'n', 'n', 'n', 'w', 'n', 'w', 'n', 'v', 'n', 'n', 'v', 'v', 'n', 'n', 'w', 'v', 'n', 'n', 'n', 'n', 'u', 'n', 'n', 'n', 'w', 'v', 'n', 'n', 'w', 'n', 'n', 'n', 'n', 'n', 'n', 'n', 'n', 'n', 'n', 'n', 'n', 'w', 'n', 'n', 'n', 'n', 'w', 'n', 'k', 'n', 'n', 'v', 'n', 'w', 'r', 'n', 'nd', 'p', 'v', 'w', 'w', 'w', 'v', 'n', 'v', 'v', 'v', 'w', 'vu', 'v', 'w', 'a', 'v', 'n', 'p', 'n', 'n', 'n', 'w', 'n', 'w', 'n', 'n', 'n', 'n', 'v', 'v', 'n', 'n', 'w', 'p', 'nd', 'w', 'n', 'nd', 'n', 'q', 'v', 'n', 'n', 'n', 'n', 'u', 'n', 'n', 'n', 'w', 'v', 'n', 'n', 'w', 'n', 'n', 'n', 'n', 'n', 'n', 'v', 'n', 'n', 'n', 'w', 'n', 'k', 'n', 'n', 'v', 'n', 'w', 'r', 'n', 'nd', 'p', 'v', 'w', 'w', 'w', 'v', 'n', 'v', 'v', 'v', 'w', 'vu', 'v', 'w', 'a', 'v', 'n', 'p', 'n', 'n', 'n', 'w', 'n', 'w', 'n', 'n', 'v', 'n', 'n', 'v', 'n', 'n', 'w', 'n', 'v', 'n', 'u', 'v', 'n', 'w', 'v', 'n', 'n', 'w', 'n', 'n', 'v', 'n', 'n', 'n', 'w', 'n', 'k', 'n', 'n', 'v', 'n', 'w', 'u', 'v', 'n', 'u', 'v', 'n', 'n', 'v', 'v', 'v', 'w', 'vu', 'v', 'w', 'a', 'v', 'n', 'p', 'n', 'n', 'n', 'w', 'n', 'w', 'n', 'n', 'v', 'n', 'v', 'v', 'n', 'n', 'w', 'u', 'v', 'n', 'd', 'v', 'v', 'u', 'v', 'w', 'v', 'n', 'n', 'w', 'n', 'n', 'v', 'n', 'n', 'n', 'w', 'n', 'k', 'n', 'n', 'v', 'n', 'w', 'n', 'w', 'v', 'n', 'w', 'n', 'w', 'v', 'v', 'n', 'v', 'v', 'v', 'w', 'vu', 'v', 'w', 'a', 'v', 'n', 'p', 'n', 'n', 'n', 'w', 'n', 'w', 'n', 'n', 'v', 'n', 'v', 'v', 'n', 'n', 'w', 'p', 'p', 'n', 'n', 'v', 'c', 'v', 'u', 'n', 'w', 'v', 'n', 'n', 'w', 'n', 'n', 'v', 'n', 'n', 'n', 'w', 'n', 'k', 'n', 'n', 'v', 'n', 'w', 'd', 'v', 'n', 'v', 'v', 'v', 'w', 'vu', 'v', 'w', 'a', 'v', 'n', 'p', 'n', 'n', 'n', 'w', 'n', 'w', 'n', 'n', 'n', 'n', 'v', 'v', 'n', 'n', 'w', 'v', 'v', 'n', 'n', 'u', 'n', 'w', 'v', 'n', 'n', 'w', 'n', 'n', 'n', 'n', 'v', 'n', 'n', 'n', 'w', 'n', 'k', 'n', 'n', 'v', 'n', 'w', 'v', 'n', 'n', 'n', 'w', 'n', 'w', 'n', 'n', 'n', 'w', 'n', 'v', 'v', 'v', 'w', 'vu', 'v', 'w', 'a', 'v', 'n', 'p', 'n', 'n', 'n', 'w', 'n', 'w', 'n', 'n', 'n', 'n', 'v', 'v', 'n', 'n', 'w', 'n', 'u', 'n', 'w', 'v', 'n', 'n', 'w', 'n', 'n', 'v', 'n', 'n', 'n', 'w', 'n', 'k', 'n', 'n', 'v', 'n', 'w', 'v', 'n', 'w', 'n', 'n', 'n', 'nd', 'u', 'n', 'n', 'w', 'v', 'n', 'n', 'w', 'n', 'w', 'n', 'v', 'v', 'v', 'w', 'vu', 'v', 'w', 'a', 'v', 'n', 'p', 'n', 'n', 'n', 'w', 'n', 'w', 'n', 'n', 'n', 'n', 'v', 'v', 'n', 'n', 'w', 'n', 'n', 'v', 'n', 'v', 'r', 'n', 'n', 'u', 'v', 'n', 'w', 'v', 'n', 'n', 'w', 'n', 'n', 'v', 'n', 'n', 'n', 'w', 'n', 'k', 'n', 'n', 'n', 'n', 'n', 'n', 'n', 'w', 'n', 'n', 'n', 'v', 'n', 'w', 'd', 'v', 'n', 'v', 'v', 'v', 'w', 'vu', 'v', 'w', 'a', 'v', 'n', 'p', 'n', 'n', 'n', 'w', 'n', 'w', 'n', 'n', 'v', 'u', 'v', 'v', 'n', 'n', 'w', 'n', 'v', 'n', 'n', 'w', 'v', 'n', 'n', 'w', 'n', 'n', 'n', 'n', 'v', 'n', 'n', 'n', 'w', 'n', 'k', 'n', 'n', 'v', 'n', 'w', 'n', 'v', 'u', 'n', 'n', 'v', 'v', 'v', 'w', 'vu', 'v', 'w', 'a', 'v', 'n', 'p', 'n', 'n', 'n', 'w', 'n', 'w', 'n', 'n', 'n', 'v', 'v', 'n', 'n', 'w', 'n', 'u', 'v', 'n', 'w', 'v', 'n', 'n', 'w', 'n', 'n', 'n', 'n', 'w', 'n', 'k', 'n', 'n', 'v', 'n', 'w', 'v', 'n', 'w', 'n', 'n', 'n', 'n', 'v', 'v', 'v', 'w', 'vu', 'v', 'w', 'a', 'v', 'n', 'p', 'n', 'n', 'n', 'w', 'n', 'w', 'n', 'n', 'v', 'n', 'v', 'v', 'n', 'n', 'w', 'v', 'n', 'u', 'n', 'u', 'n', 'w', 'v', 'n', 'n', 'w', 'v', 'n', 'n', 'n', 'w', 'n', 'k', 'n', 'n', 'v', 'n', 'w', 'v', 'n', 'u', 'n', 'c', 'v', 'u', 'n', 'n', 'v', 'v', 'v', 'w', 'vu', 'v', 'w', 'a', 'v', 'n', 'p', 'n', 'n', 'n', 'w', 'n', 'w', 'n', 'n', 'v', 'n', 'v', 'v', 'n', 'n', 'w', 'n', 'u', 'n', 'v', 'n', 'u', 'n', 'w', 'n', 'c', 'v', 'u', 'n', 'w', 'w', 'v', 'n', 'n', 'w', 'n', 'n', 'v', 'n', 'n', 'n', 'w', 'n', 'k', 'n', 'n', 'v', 'n', 'w', 'v', 'n', 'u', 'n', 'c', 'v', 'u', 'n', 'n', 'v', 'v', 'v', 'w', 'vu', 'v', 'w', 'a', 'v', 'n', 'p', 'n', 'n', 'n', 'w', 'n', 'w', 'n', 'n', 'n', 'v', 'v', 'n', 'n', 'w', 'n', 'n', 'u', 'v', 'v', 'n', 'n', 'u', 'n', 'c', 'n', 'w', 'v', 'n', 'n', 'w', 'n', 'n', 'n', 'n', 'w', 'n', 'k', 'n', 'n', 'v', 'n', 'w', 'v', 'n', 'w', 'n', 'n', 'n', 'u', 'n', 'n', 'n', 'n', 'w', 'n', 'n', 'n', 'v', 'n', 'w', 'n', 'w', 'n', 'v', 'v', 'v', 'w', 'vu', 'v', 'w', 'a', 'v', 'n', 'p', 'n', 'n', 'n', 'w', 'n', 'w', 'n', 'n', 'v', 'v', 'n', 'n', 'w', 'v', 'n', 'u', 'v', 'n', 'w', 'v', 'v', 'n', 'n', 'n', 'w', 'n', 'n', 'n', 'n', 'v', 'n', 'n', 'n', 'w', 'n', 'k', 'n', 'n', 'v', 'n', 'w', 'v', 'v', 'n', 'u', 'nt', 'n', 'n', 'v', 'v', 'w', 'nt', 'v', 'nd', 'v', 'n', 'w', 'nt', 'v', 'v', 'n', 'w', 'd', 'v', 'n', 'n', 'v', 'v', 'v', 'w', 'vu', 'v', 'w', 'a', 'v', 'n', 'p', 'n', 'n', 'n', 'w', 'n', 'w', 'n', 'n', 'n', 'n', 'n', 'v', 'v', 'n', 'n', 'w', 'n', 'n', 'n', 'u', 'n', 'n', 'w', 'v', 'n', 'n', 'w', 'n', 'n', 'n', 'n', 'n', 'n', 'n', 'n', 'v', 'n', 'n', 'n', 'w', 'n', 'k', 'n', 'n', 'v', 'n', 'w', 'n', 'n', 'n', 'u', 'n', 'n', 'v', 'v', 'v', 'w', 'vu', 'v', 'w', 'a', 'v', 'n', 'p', 'n', 'v', 'n', 'n', 'n', 'n', 'n', 'n', 'w', 'v', 'n', 'n', 'n', 'n', 'w', 'n', 'n', 'w', 'n', 'n', 'n', 'n', 'n', 'n', 'n', 'ws', 'w', 'v', 'n', 'v', 'n', 'n', 'n', 'v', 'w', 'n', 'n', 'n', 'nd', 'v', 'n', 'n', 'w', 'v', 'w', 'v', 'w', 'v', 'w', 'u', 'n', 'n', 'w', 'n', 'v', 'w', 'v', 'n', 'n', 'n', 'n', 'n', 'n', 'w', 'v', 'n', 'v', 'n', 'w', 'p', 'v', 'q', 'n', 'n', 'n', 'v', 'w', 'v', 'v', 'n', 'n', 'v', 'n', 'n', 'w', 'n', 'w', 'n', 'n', 'n', 'w', 'v', 'n', 'v', 'n', 'n', 'n', 'ws', 'w', 'ws', 'n', 'n', 'v', 'n', 'n', 'n', 'v', 'w', 'p', 'n', 'c', 'u', 'v', 'u', 'n', 'c', 'nl', 'a', 'n', 'u', 'n', 'n', 'u', 'n', 'n', 'w', 'n', 'v', 'w', 'v', 'n', 'n', 'n', 'n', 'n', 'n', 'w', 'v', 'n', 'v', 'n', 'n', 'w', 'p', 'v', 'q', 'n', 'n', 'n', 'v', 'w', 'n', 'n', 'v', 'n', 'n', 'v', 'n', 'n', 'w', 'n', 'w', 'n', 'n', 'n', 'w', 'n', 'n', 'n', 'v', 'n', 'n', 'n', 'ws', 'w', 'n', 'n', 'n', 'n', 'n', 'n', 'v', 'w', 'v', 'n', 'n', 'n', 'u', 'n', 'w', 'n', 'v', 'w', 'v', 'n', 'n', 'n', 'n', 'n', 'n', 'w', 'p', 'a', 'u', 'n', 'n', 'n', 'v', 'n', 'n', 'n', 'n', 'u', 'n', 'n', 'v', 'n', 'u', 'n', 'n', 'n', 'v', 'w', 'd', 'v', 'v', 'q', 'n', 'n', 'n', 'w', 'w', 'n', 'v', 'v', 'w', 'n', 'v', 'm', 'n', 'nt', 'w', 'vu', 'p', 'r', 'n', 'u', 'n', 'v', 'n', 'n', 'n', 'w', 'n', 'v', 'v', 'w', 'p', 'n', 'n', 'v', 'a', 'n', 'nt', 'w', 'vu', 'p', 'r', 'a', 'n', 'v', 'n', 'w', 'vu', 'n', 'v', 'm', 'q', 'n', 'w', 'c', 'v', 'v', 'w', 'n', 'n', 'n', 'v', 'n', 'n', 'w', 'n', 'w', 'n', 'n', 'n', 'n', 'n', 'n', 'n', 'w', 'n', 'n', 'n', 'n', 'w', 'n', 'n', 'n', 'n', 'n', 'n', 'n', 'n', 'n', 'n', 'n', 'n', 'w', 'n', 'n', 'ws', 'w', 'n', 'n', 'n', 'n', 'n', 'n', 'v', 'w', 'n', 'n', 'u', 'n', 'n', 'w', 'n', 'v', 'w', 'q', 'n', 'v', 'n', 'n', 'w', 'v', 'n', 'w', 'n', 'n', 'n', 'nd', 'u', 'a', 'n', 'w', 'v', 'n', 'n', 'n', 'u', 'n', 'w', 'n', 'n', 'n', 'n', 'v', 'n', 'n', 'w', 'n', 'w', 'n', 'n', 'n', 'w', 'n', 'n', 'n', 'n', 'n', 'n', 'n', 'n', 'n', 'n', 'n', 'n', 'w', 'v', 'n', 'n', 'n', 'n', 'w', 'n', 'n', 'w', 'n', 'v', 'n', 'n', 'q', 'n', 'v', 'r', 'n', 'v', 'u', 'v', 'n', 'n', 'n', 'n', 'w', 'v', 'n', 'vu', 'v', 'r', 'n', 'v', 'v', 'w', 'n', 'ws', 'w', 'n', 'n', 'n', 'n', 'n', 'n', 'n', 'n', 'n', 'v', 'n', 'n', 'w', 'n', 'w', 'n', 'n', 'n', 'w', 'n', 'n', 'n', 'n', 'n', 'n', 'ws', 'w', 'n', 'n', 'n', 'n', 'n', 'n', 'n', 'n', 'n', 'n', 'n', 'v', 'n', 'n', 'w', 'n', 'w', 'n', 'n', 'n', 'n', 'n', 'n', 'n', 'w', 'n', 'n', 'n', 'n', 'w', 'n', 'n', 'n', 'n', 'n', 'n', 'n', 'ws', 'w', 'n', 'n', 'n', 'n', 'n', 'n', 'n', 'n', 'n', 'n', 'n', 'v', 'n', 'n', 'w', 'n', 'w', 'n', 'n', 'n', 'w', 'n', 'n', 'n', 'n', 'n', 'n', 'n', 'n', 'n', 'n', 'n', 'n', 'n', 'w', 'n', 'n', 'n', 'n', 'w', 'n', 'w', 'v', 'w', 'n', 'ws', 'w', 'n', 'v', 'nl', 'n', 'n', 'n', 'v', 'nl', 'n', 'n', 'n', 'v', 'n', 'n', 'w', 'n', 'w', 'n', 'n', 'n', 'w', 'n', 'v', 'nl', 'n', 'n', 'n', 'n', 'n', 'n', 'n', 'n', 'n', 'n', 'w', 'n', 'n', 'n', 'n', 'w', 'n', 'w', 'v', 'w', 'n', 'n', 'n', 'n', 'n', 'n', 'n', 'n', 'n', 'w', 'n', 'n', 'n', 'n', 'n', 'n', 'v', 'n']\n",
            "['O', 'O', 'O', 'O', 'O', 'O', 'O', 'O', 'O', 'O', 'O', 'O', 'O', 'O', 'O', 'B-LOC', 'I-LOC', 'O', 'O', 'O', 'O', 'O', 'O', 'O', 'O', 'O', 'O', 'O', 'O', 'O', 'O', 'O', 'O', 'O', 'O', 'O', 'O', 'O', 'O', 'O', 'O', 'O', 'O', 'O', 'O', 'O', 'O', 'O', 'O', 'O', 'O', 'O', 'O', 'O', 'O', 'O', 'O', 'O', 'O', 'O', 'O', 'O', 'O', 'O', 'O', 'O', 'O', 'B-LOC', 'I-LOC', 'O', 'I-ORG', 'I-ORG', 'I-ORG', 'I-ORG', 'I-ORG', 'O', 'B-ORG', 'O', 'I-ORG', 'I-ORG', 'I-ORG', 'I-ORG', 'O', 'O', 'O', 'O', 'O', 'O', 'O', 'O', 'O', 'O', 'O', 'O', 'O', 'O', 'O', 'O', 'O', 'O', 'O', 'O', 'O', 'O', 'O', 'O', 'O', 'O', 'O', 'O', 'O', 'O', 'O', 'O', 'O', 'O', 'O', 'O', 'O', 'O', 'O', 'O', 'O', 'O', 'O', 'O', 'O', 'O', 'O', 'O', 'O', 'O', 'O', 'O', 'O', 'O', 'O', 'O', 'O', 'O', 'O', 'O', 'O', 'O', 'O', 'O', 'O', 'O', 'O', 'O', 'O', 'O', 'O', 'O', 'O', 'O', 'O', 'O', 'O', 'O', 'O', 'O', 'O', 'O', 'O', 'O', 'O', 'O', 'O', 'O', 'O', 'O', 'O', 'O', 'O', 'O', 'O', 'O', 'O', 'O', 'O', 'O', 'O', 'O', 'O', 'O', 'O', 'O', 'O', 'O', 'O', 'O', 'O', 'O', 'O', 'O', 'O', 'O', 'O', 'O', 'O', 'O', 'O', 'O', 'O', 'O', 'O', 'O', 'O', 'O', 'O', 'O', 'O', 'O', 'O', 'O', 'O', 'O', 'O', 'O', 'O', 'O', 'O', 'O', 'O', 'O', 'O', 'O', 'O', 'O', 'O', 'O', 'O', 'O', 'O', 'O', 'O', 'O', 'O', 'O', 'O', 'O', 'O', 'O', 'O', 'B-ORG', 'I-ORG', 'I-ORG', 'O', 'O', 'O', 'O', 'O', 'O', 'O', 'O', 'B-ORG', 'I-ORG', 'I-ORG', 'O', 'O', 'O', 'O', 'O', 'O', 'O', 'O', 'O', 'B-PER', 'O', 'O', 'O', 'B-PER', 'O', 'B-PER', 'O', 'O', 'O', 'O', 'O', 'O', 'B-LOC', 'O', 'O', 'O', 'O', 'O', 'O', 'O', 'O', 'O', 'O', 'O', 'O', 'O', 'O', 'O', 'O', 'O', 'O', 'O', 'O', 'O', 'O', 'O', 'O', 'O', 'O', 'O', 'O', 'O', 'O', 'O', 'O', 'O', 'O', 'O', 'O', 'O', 'O', 'O', 'O', 'O', 'O', 'O', 'O', 'O', 'O', 'O', 'O', 'O', 'O', 'O', 'O', 'O', 'O', 'O', 'O', 'O', 'O', 'O', 'O', 'O', 'O', 'O', 'O', 'O', 'O', 'O', 'O', 'O', 'O', 'O', 'O', 'O', 'O', 'O', 'O', 'O', 'O', 'O', 'O', 'O', 'O', 'O', 'O', 'O', 'O', 'O', 'O', 'O', 'O', 'O', 'O', 'O', 'O', 'O', 'O', 'O', 'O', 'O', 'O', 'O', 'O', 'O', 'O', 'O', 'O', 'O', 'O', 'O', 'O', 'O', 'O', 'O', 'O', 'O', 'O', 'O', 'O', 'O', 'O', 'O', 'O', 'O', 'O', 'O', 'O', 'O', 'O', 'O', 'O', 'O', 'O', 'O', 'O', 'O', 'O', 'O', 'O', 'O', 'O', 'O', 'O', 'O', 'O', 'O', 'O', 'O', 'O', 'O', 'O', 'O', 'O', 'O', 'O', 'O', 'O', 'O', 'O', 'O', 'O', 'O', 'O', 'O', 'O', 'O', 'O', 'O', 'O', 'O', 'O', 'O', 'O', 'O', 'O', 'O', 'O', 'O', 'O', 'O', 'O', 'O', 'O', 'O', 'O', 'O', 'O', 'O', 'O', 'O', 'O', 'O', 'O', 'O', 'O', 'O', 'O', 'O', 'O', 'O', 'O', 'O', 'O', 'O', 'O', 'O', 'O', 'O', 'O', 'O', 'O', 'O', 'O', 'O', 'O', 'O', 'O', 'O', 'O', 'O', 'O', 'O', 'O', 'O', 'O', 'O', 'O', 'O', 'O', 'O', 'O', 'O', 'O', 'O', 'O', 'O', 'O', 'O', 'O', 'O', 'O', 'O', 'O', 'O', 'O', 'O', 'O', 'O', 'O', 'O', 'O', 'O', 'O', 'O', 'O', 'O', 'O', 'O', 'O', 'O', 'O', 'O', 'O', 'O', 'O', 'O', 'O', 'O', 'O', 'O', 'O', 'O', 'O', 'O', 'O', 'O', 'O', 'O', 'O', 'O', 'O', 'O', 'O', 'O', 'O', 'O', 'O', 'O', 'O', 'I-ORG', 'O', 'I-ORG', 'O', 'O', 'O', 'O', 'O', 'O', 'O', 'O', 'O', 'O', 'O', 'O', 'O', 'O', 'O', 'O', 'O', 'O', 'O', 'O', 'O', 'O', 'O', 'O', 'O', 'O', 'O', 'O', 'O', 'O', 'O', 'O', 'O', 'O', 'O', 'O', 'O', 'O', 'O', 'O', 'O', 'O', 'O', 'O', 'O', 'O', 'O', 'O', 'O', 'O', 'O', 'O', 'O', 'O', 'O', 'O', 'O', 'O', 'O', 'O', 'O', 'O', 'O', 'O', 'O', 'O', 'O', 'O', 'O', 'O', 'O', 'O', 'O', 'O', 'O', 'O', 'O', 'O', 'O', 'O', 'O', 'O', 'O', 'O', 'O', 'O', 'O', 'O', 'O', 'O', 'O', 'O', 'O', 'O', 'O', 'O', 'O', 'O', 'O', 'O', 'O', 'O', 'O', 'O', 'O', 'O', 'O', 'O', 'O', 'O', 'O', 'O', 'O', 'O', 'O', 'O', 'O', 'O', 'O', 'O', 'O', 'O', 'O', 'O', 'O', 'O', 'O', 'O', 'O', 'O', 'O', 'O', 'O', 'O', 'O', 'O', 'O', 'O', 'O', 'O', 'O', 'O', 'O', 'O', 'O', 'O', 'O', 'O', 'O', 'O', 'O', 'O', 'O', 'O', 'O', 'O', 'O', 'O', 'O', 'O', 'O', 'O', 'O', 'O', 'O', 'O', 'O', 'O', 'O', 'O', 'O', 'O', 'O', 'O', 'O', 'O', 'O', 'O', 'O', 'O', 'O', 'O', 'O', 'O', 'O', 'O', 'O', 'O', 'O', 'O', 'O', 'O', 'O', 'O', 'O', 'O', 'O', 'O', 'O', 'O', 'O', 'O', 'O', 'O', 'O', 'O', 'O', 'O', 'O', 'O', 'O', 'O', 'O', 'O', 'O', 'O', 'O', 'O', 'O', 'O', 'O', 'O', 'O', 'O', 'O', 'O', 'O', 'O', 'O', 'O', 'O', 'O', 'O', 'O', 'O', 'O', 'O', 'O', 'O', 'O', 'O', 'O', 'O', 'O', 'O', 'O', 'O', 'O', 'O', 'O', 'O', 'O', 'O', 'O', 'O', 'O', 'O', 'O', 'O', 'O', 'O', 'O', 'O', 'O', 'O', 'O', 'O', 'O', 'O', 'O', 'O', 'O', 'O', 'O', 'O', 'O', 'O', 'O', 'O', 'O', 'O', 'O', 'O', 'O', 'O', 'O', 'O', 'O', 'O', 'O', 'O', 'O', 'O', 'O', 'O', 'O', 'O', 'O', 'O', 'O', 'O', 'O', 'O', 'O', 'O', 'O', 'O', 'O', 'O', 'O', 'O', 'O', 'O', 'O', 'O', 'O', 'O', 'O', 'O', 'O', 'O', 'O', 'O', 'O', 'O', 'O', 'O', 'O', 'O', 'O', 'O', 'O', 'O', 'O', 'O', 'O', 'O', 'O', 'O', 'O', 'O', 'O', 'O', 'O', 'O', 'O', 'O', 'O', 'O', 'O', 'O', 'O', 'O', 'O', 'O', 'O', 'O', 'O', 'O', 'O', 'O', 'O', 'O', 'O', 'O', 'O', 'O', 'O', 'O', 'O', 'O', 'O', 'O', 'O', 'O', 'O', 'O', 'O', 'O', 'O', 'O', 'O', 'O', 'O', 'O', 'O', 'O', 'O', 'O', 'O', 'O', 'O', 'O', 'O', 'O', 'O', 'O', 'O', 'O', 'O', 'O', 'O', 'O', 'O', 'O', 'O', 'O', 'O', 'O', 'O', 'O', 'O', 'O', 'O', 'O', 'O', 'O', 'O', 'O', 'O', 'O', 'O', 'O', 'O', 'O', 'O', 'O', 'O', 'O', 'O', 'O', 'O', 'O', 'O', 'O', 'O', 'O', 'O', 'O', 'O', 'O', 'O', 'O', 'O', 'O', 'O', 'O', 'O', 'O', 'O', 'O', 'O', 'O', 'O', 'O', 'O', 'O', 'O', 'O', 'O', 'O', 'O', 'O', 'O', 'O', 'O', 'O', 'O', 'O', 'O', 'O', 'O', 'O', 'O', 'O', 'O', 'O', 'O', 'O', 'O', 'O', 'O', 'O', 'O', 'O', 'O', 'O', 'O', 'O', 'O', 'O', 'O', 'O', 'O', 'O', 'O', 'O', 'O', 'O', 'O', 'O', 'O', 'O', 'O', 'O', 'O', 'O', 'O', 'O', 'O', 'O', 'O', 'O', 'O', 'O', 'O', 'O', 'O', 'O', 'O', 'O', 'O', 'O', 'O', 'O', 'O', 'O', 'O', 'O', 'O', 'O', 'O', 'O', 'O', 'O', 'O', 'O', 'O', 'O', 'O', 'O', 'O', 'O', 'O', 'O', 'O', 'O', 'O', 'O', 'O', 'O', 'O', 'O', 'O', 'O', 'O', 'O', 'O', 'O', 'O', 'O', 'O', 'O', 'O', 'O', 'O', 'O', 'O', 'O', 'O', 'O', 'O', 'O', 'O', 'O', 'O', 'O', 'O', 'O', 'O', 'O', 'O', 'O', 'O', 'O', 'O', 'O', 'O', 'O', 'O', 'O', 'O', 'O', 'O', 'O', 'O', 'O', 'O', 'O', 'O', 'O', 'O', 'O', 'O', 'O', 'O', 'O', 'O', 'O', 'O', 'O', 'O', 'O', 'O', 'O', 'O', 'O', 'O', 'O', 'O', 'O', 'O', 'O', 'O', 'O', 'O', 'O', 'O', 'O', 'O', 'O', 'O', 'O', 'O', 'O', 'O', 'O', 'O', 'O', 'O', 'O', 'O', 'O', 'O', 'O', 'O', 'O', 'O', 'O', 'O', 'O', 'O', 'O', 'O', 'O', 'O', 'O', 'O', 'O', 'O', 'O', 'O', 'O', 'O', 'O', 'O', 'O', 'O', 'O', 'O', 'O', 'O', 'O', 'O', 'O', 'O', 'O', 'O', 'O', 'O', 'O', 'O', 'O', 'O', 'O', 'O', 'O', 'O', 'O', 'O', 'O', 'O', 'O', 'O', 'O', 'O', 'O', 'O', 'O', 'O', 'O', 'O', 'O', 'O', 'O', 'O', 'O', 'O', 'O', 'O', 'O', 'O', 'O', 'O', 'O', 'O', 'O', 'O', 'O', 'O', 'O', 'O', 'O', 'O', 'O', 'O', 'O', 'O', 'O', 'O', 'O', 'O', 'O', 'O', 'O', 'O', 'O', 'O', 'O', 'O', 'O', 'O', 'O', 'O', 'O', 'O', 'O', 'O', 'O', 'O', 'O', 'O', 'O', 'O', 'O', 'O', 'O', 'O', 'O', 'O', 'O', 'O', 'O', 'O', 'O', 'O', 'O', 'O', 'O', 'O', 'O', 'O', 'O', 'O', 'O', 'O', 'O', 'O', 'O', 'O', 'O', 'O', 'O', 'O', 'O', 'O', 'O', 'O', 'O', 'O', 'O', 'O', 'O', 'O', 'O', 'O', 'O', 'O', 'O', 'O', 'O', 'O', 'O', 'O', 'O', 'O', 'O', 'O', 'O', 'O', 'O', 'B-LOC', 'O', 'O', 'O', 'O', 'O', 'O', 'O', 'O', 'O', 'O', 'O', 'O', 'O', 'O', 'O', 'O', 'O', 'O', 'O', 'O', 'O', 'O', 'O', 'O', 'O', 'O', 'O', 'O', 'O', 'O', 'O', 'O', 'O', 'O', 'O', 'O', 'O', 'O', 'O', 'O', 'O', 'O', 'O', 'O', 'O', 'O', 'O', 'O', 'O', 'O', 'O', 'O', 'O', 'O', 'O', 'O', 'O', 'O', 'O', 'O', 'O', 'O', 'O', 'O', 'O', 'O', 'O', 'O', 'O', 'O', 'O', 'O', 'O', 'O', 'O', 'O', 'O', 'O', 'O', 'O', 'O', 'O', 'O', 'O', 'O', 'O', 'O', 'O', 'O', 'O', 'O', 'O', 'O', 'O', 'O', 'O', 'O', 'O', 'O', 'O', 'O', 'O', 'O', 'O', 'O', 'O', 'O', 'O', 'O', 'O', 'O', 'O', 'O', 'O', 'O', 'O', 'O', 'O', 'O', 'O', 'O', 'O', 'O', 'O', 'O', 'O', 'O', 'O', 'O', 'O', 'O', 'O', 'O', 'O', 'O', 'O', 'O', 'O', 'O', 'O', 'O', 'O', 'O', 'O', 'O', 'O', 'O', 'O', 'O', 'O', 'O', 'O', 'O', 'O', 'O', 'O', 'O', 'O', 'O', 'O', 'O', 'O', 'O', 'O', 'O', 'O', 'O', 'O', 'O', 'O', 'O', 'O', 'O', 'O', 'O', 'O', 'O', 'O', 'O', 'O', 'O', 'O', 'O', 'O', 'O', 'O', 'O', 'O', 'O', 'O', 'O', 'O', 'O', 'O', 'O', 'O', 'O', 'O', 'O', 'O', 'O', 'O', 'O', 'O', 'O', 'O', 'O', 'O', 'O', 'O', 'O', 'O', 'O', 'O', 'O', 'O', 'O', 'O', 'O', 'O', 'O', 'O', 'O', 'O', 'O', 'O', 'O', 'O', 'O', 'O', 'O', 'O', 'O', 'O', 'O', 'O', 'O', 'O', 'O', 'O', 'O', 'O', 'O', 'O', 'O', 'O', 'O', 'O', 'O', 'O', 'O', 'O', 'O', 'O', 'O', 'O', 'O', 'O', 'O', 'O', 'O', 'O', 'O', 'O', 'O', 'O', 'O', 'O', 'O', 'O', 'O', 'O', 'O', 'O', 'O', 'O', 'O', 'O', 'O', 'O', 'O', 'O', 'O', 'O', 'O', 'O', 'O', 'O', 'O', 'O', 'O', 'O', 'O', 'O', 'O', 'O', 'O', 'O', 'O', 'O', 'O', 'O', 'O', 'O', 'O', 'O', 'O', 'O', 'O', 'O', 'O', 'O', 'O', 'O', 'O', 'O', 'O', 'O', 'O', 'O', 'O', 'O', 'O', 'O', 'O', 'O', 'O', 'O', 'O', 'O', 'O', 'O', 'O', 'O', 'O', 'O', 'O', 'O', 'O', 'O', 'O', 'O', 'O', 'O', 'O', 'O', 'O', 'O', 'O', 'O', 'O', 'O', 'O', 'O', 'O', 'O', 'O', 'O', 'O', 'O', 'O', 'O', 'O', 'O', 'O', 'O', 'O', 'O', 'O', 'O', 'O', 'O', 'O', 'O', 'O', 'O', 'O', 'O', 'O', 'O', 'O', 'O', 'O', 'O', 'O', 'O', 'O', 'O', 'O', 'O', 'O', 'O', 'O', 'O', 'O', 'O', 'O', 'O', 'O', 'O', 'O', 'O', 'O', 'O', 'O', 'O', 'O', 'O', 'O', 'O', 'O', 'O', 'O', 'O', 'O', 'O', 'O', 'O', 'O', 'O', 'O', 'O', 'O', 'O', 'O', 'O', 'O', 'O', 'O', 'O', 'O', 'O', 'O', 'O', 'O', 'O', 'O', 'O', 'O', 'O', 'O', 'O', 'O', 'O', 'O', 'O', 'O', 'O', 'O', 'O', 'O', 'O', 'O', 'O', 'O', 'O', 'O', 'O', 'O', 'O', 'O', 'O', 'O', 'O', 'O', 'O', 'O', 'O', 'O', 'O', 'O', 'O', 'O', 'O', 'O', 'O', 'O', 'O', 'O', 'O', 'O', 'O', 'O', 'O', 'O', 'O', 'O', 'O', 'O', 'O', 'O', 'O', 'O', 'O', 'O', 'O', 'O', 'O', 'O', 'O', 'O', 'O', 'O', 'O', 'O', 'O', 'O', 'O', 'O', 'O', 'O', 'O', 'O', 'O', 'O', 'O', 'O', 'O', 'O', 'O', 'O', 'O', 'O', 'O', 'O', 'O', 'O', 'O', 'O', 'O', 'O', 'O', 'O', 'O', 'O', 'O', 'O', 'O', 'O', 'O', 'O', 'O', 'O', 'O', 'O', 'O', 'O', 'O', 'O', 'O', 'O', 'O', 'O', 'O', 'O', 'O', 'O', 'O', 'O', 'O', 'O', 'O', 'O', 'O', 'O', 'O', 'O', 'O', 'O', 'O', 'O', 'O', 'O', 'O', 'O', 'O', 'O', 'O', 'O', 'O', 'O', 'O', 'O', 'O', 'O', 'O', 'O', 'O', 'O', 'O', 'O', 'O', 'O', 'O', 'O', 'O', 'O', 'O', 'O', 'O', 'O', 'O', 'O', 'O', 'O', 'O', 'O', 'O', 'O', 'O', 'O', 'O', 'O', 'O', 'O', 'O', 'O', 'O', 'O', 'O', 'O', 'O', 'O', 'O', 'O', 'O', 'O', 'O', 'O', 'O', 'O', 'O', 'O', 'O', 'O', 'O', 'O', 'O', 'O', 'O', 'O', 'O', 'O', 'O', 'O', 'O', 'O', 'O', 'O', 'O', 'O', 'O', 'O', 'O', 'O', 'O', 'O', 'O', 'O', 'O', 'O', 'O', 'O', 'O', 'O', 'O', 'O', 'O', 'O', 'O', 'O', 'O', 'O', 'O', 'O', 'O', 'O', 'O', 'O', 'O', 'O', 'O', 'O', 'O', 'O', 'O', 'O', 'O', 'O', 'O', 'O', 'O', 'O', 'O', 'O', 'O', 'O', 'O', 'O', 'O', 'O', 'O', 'O', 'O', 'O', 'O', 'O', 'O', 'O', 'O', 'O', 'O', 'O', 'O', 'O', 'O', 'O', 'O', 'O', 'O', 'O', 'O', 'O', 'O', 'O', 'O', 'O', 'O', 'O', 'O', 'O', 'O', 'O', 'O', 'O', 'O', 'O', 'O', 'O', 'O', 'O', 'O', 'O', 'O', 'O', 'O', 'O', 'O', 'O', 'O', 'O', 'O', 'O', 'O', 'O', 'O', 'O', 'O', 'O', 'O', 'O', 'O', 'O', 'O', 'O', 'O', 'O', 'O', 'O', 'O', 'O', 'O', 'O', 'O', 'O', 'O', 'O', 'O', 'O', 'O', 'O', 'O', 'O', 'O', 'O', 'O', 'O', 'O', 'O', 'O', 'O', 'O', 'O', 'O', 'O', 'O', 'O', 'O', 'O', 'O', 'O', 'O', 'O', 'O', 'O', 'O', 'O', 'O', 'O', 'O', 'O', 'O', 'O', 'O', 'O', 'O', 'O', 'O', 'O', 'O', 'O', 'O', 'O', 'O', 'O', 'O', 'O', 'O', 'O', 'O', 'O', 'O', 'O', 'O', 'O', 'O', 'O', 'O', 'O', 'O', 'O', 'O', 'O', 'O', 'O', 'O', 'O', 'O', 'O', 'O', 'O', 'O', 'O', 'O', 'O', 'O', 'O', 'O', 'O', 'O', 'O', 'O', 'O', 'O', 'O', 'O', 'O', 'O', 'O', 'O', 'O', 'O', 'O', 'O', 'O', 'O', 'O', 'O', 'O', 'O', 'O', 'O', 'O', 'O', 'O', 'O', 'O', 'O', 'O', 'O', 'O', 'O', 'O', 'O', 'O', 'O', 'O', 'O', 'O', 'O', 'O', 'O', 'O', 'O', 'O', 'O', 'O', 'O', 'O', 'O', 'O', 'O', 'O', 'O', 'O', 'O', 'O', 'O', 'O', 'O', 'O', 'O', 'O', 'O', 'O', 'O', 'O', 'O', 'O', 'O', 'O', 'O', 'O', 'O', 'O', 'O', 'O', 'O', 'O', 'O', 'O', 'O', 'O', 'O', 'O', 'O', 'O', 'O', 'O', 'O', 'O', 'O', 'O', 'O', 'O', 'O', 'O', 'O', 'O', 'O', 'O', 'O', 'O', 'O', 'O', 'O', 'O', 'O', 'O', 'O', 'O', 'O', 'O', 'O', 'O', 'O', 'O', 'O', 'O', 'O', 'O', 'O', 'O', 'O', 'O', 'O', 'O', 'O', 'O', 'O', 'O', 'O', 'O', 'O', 'O', 'O', 'O', 'O', 'O', 'O', 'O', 'O', 'O', 'O', 'O', 'O', 'O', 'O', 'O', 'O', 'O', 'O', 'O', 'O', 'O', 'O', 'O', 'O', 'O', 'O', 'O', 'O', 'O', 'O', 'O', 'O', 'O', 'O', 'O', 'O', 'O', 'O', 'O', 'O', 'O', 'O', 'O', 'O', 'O', 'O', 'O', 'O', 'O', 'O', 'O', 'O', 'O', 'O', 'O', 'O', 'O', 'O', 'O', 'O', 'O', 'O', 'O', 'O', 'O', 'O', 'O', 'O', 'O', 'O', 'O', 'O', 'O', 'O', 'O', 'O', 'O', 'O', 'O', 'O', 'O', 'O', 'O', 'O', 'O', 'O', 'O', 'O', 'O', 'O', 'O', 'O', 'O', 'O', 'O', 'O', 'O', 'O', 'O', 'O', 'O', 'O', 'O', 'B-LOC', 'O', 'O', 'O', 'O', 'O', 'O', 'O', 'O', 'O', 'O', 'O', 'O', 'O', 'O', 'O', 'O', 'O', 'O', 'O', 'O', 'O', 'O', 'O', 'O', 'O', 'O', 'O', 'O', 'O', 'O', 'O', 'O', 'O', 'O', 'O', 'O', 'O', 'O', 'O', 'O', 'O', 'O', 'O', 'O', 'O', 'O', 'O', 'O', 'O', 'O', 'O', 'O', 'O', 'O', 'O', 'O', 'O', 'O', 'O', 'O', 'O', 'O', 'O', 'O', 'O', 'O', 'O', 'O', 'O', 'O', 'O', 'O', 'O', 'O', 'O', 'O', 'O', 'O', 'O', 'O', 'O', 'O', 'O', 'O', 'O', 'O', 'O', 'O', 'O', 'O', 'O', 'O', 'O', 'O', 'O', 'O', 'B-LOC', 'O', 'O', 'O', 'O', 'O', 'O', 'O', 'O', 'O', 'O', 'O', 'O', 'O', 'O', 'O', 'O', 'O', 'O', 'O', 'O', 'O', 'O', 'O', 'O', 'O', 'O', 'O', 'O', 'O', 'O', 'O', 'O', 'O', 'O', 'O', 'O', 'O', 'O', 'O', 'O', 'O', 'O', 'O', 'O', 'O', 'O', 'O', 'O', 'O', 'O', 'O', 'O', 'O', 'O', 'O', 'O', 'O', 'O', 'O', 'O', 'O', 'O', 'O', 'O', 'O', 'O', 'O', 'O', 'O', 'O', 'O', 'O', 'O', 'O', 'O', 'O', 'O', 'O', 'O', 'O', 'O', 'O', 'O', 'O', 'O', 'O', 'O', 'O', 'O', 'O', 'O', 'O', 'O', 'O', 'O', 'O', 'O', 'O', 'O', 'O', 'O', 'O', 'O', 'O', 'O', 'O', 'O', 'O', 'O', 'O', 'O', 'O', 'O', 'O', 'O', 'O', 'O', 'O', 'O', 'O', 'O', 'O', 'O', 'O', 'O', 'O', 'O', 'O', 'O', 'O', 'O', 'O', 'O', 'O', 'O', 'O', 'O', 'O', 'O', 'O', 'O', 'O', 'O', 'O', 'O', 'O', 'O', 'O', 'O', 'O', 'O', 'O', 'O', 'O', 'O', 'O', 'O', 'O', 'O', 'O', 'O', 'O', 'O', 'O', 'O', 'O', 'O', 'O', 'O', 'O', 'O', 'O', 'O', 'O', 'O', 'O', 'O', 'O', 'O', 'O', 'O', 'O', 'O', 'O', 'O', 'O', 'O', 'O', 'O', 'O', 'O', 'O', 'O', 'O', 'O', 'O', 'O', 'O', 'O', 'O', 'O', 'O', 'O', 'O', 'O', 'O', 'O', 'O', 'O', 'O', 'O', 'O', 'O', 'O', 'O', 'O', 'O', 'O', 'O', 'O', 'O', 'O', 'O', 'O', 'O', 'O', 'O', 'O', 'O', 'O', 'O', 'O', 'O', 'O', 'O', 'O', 'O', 'O', 'O', 'O', 'O', 'O', 'O', 'O', 'O', 'O', 'O', 'O', 'O', 'O', 'O', 'O', 'O', 'O', 'O', 'O', 'O', 'O', 'O', 'O', 'O', 'O', 'O', 'O', 'O', 'O', 'O', 'O', 'O', 'O', 'O', 'O', 'O', 'O', 'O', 'O', 'O', 'O', 'O', 'O', 'O', 'O', 'O', 'O', 'O', 'O', 'O', 'O', 'O', 'O', 'O', 'O', 'O', 'O', 'O', 'O', 'O', 'O', 'O', 'O', 'O', 'O', 'O', 'O', 'O', 'O', 'O', 'O', 'O', 'O', 'O', 'O', 'O', 'O', 'O', 'O', 'O', 'O', 'O', 'O', 'O', 'O', 'O', 'O', 'O', 'O', 'O', 'O', 'O', 'O', 'O', 'O', 'O', 'O', 'O', 'O', 'O', 'O', 'O', 'O', 'O', 'O', 'O', 'O', 'O', 'O', 'O', 'O', 'O', 'O', 'O', 'O', 'O', 'O', 'O', 'O', 'O', 'O', 'O', 'O', 'O', 'O', 'O', 'O', 'O', 'O', 'O', 'O', 'O', 'O', 'O', 'O', 'O', 'O', 'O', 'O', 'O', 'O', 'O', 'O', 'O', 'O', 'O', 'O', 'O', 'O', 'O', 'O', 'O', 'O', 'O', 'O', 'O', 'O', 'O', 'O', 'O', 'O', 'O', 'O', 'O', 'O', 'O', 'O', 'O', 'O', 'O', 'O', 'O', 'O', 'O', 'O', 'O', 'O', 'O', 'O', 'O', 'O', 'O', 'O', 'O', 'O', 'O', 'O', 'O', 'O', 'O', 'O', 'O', 'O', 'O', 'O', 'O', 'O', 'O', 'O', 'O', 'O', 'O', 'O', 'O', 'O', 'O', 'O', 'O', 'O', 'O', 'O', 'O', 'O', 'O', 'O', 'O', 'O', 'O', 'O', 'O', 'O', 'O', 'O', 'O', 'O', 'O', 'O', 'O', 'O', 'O', 'O', 'O', 'O', 'O', 'O', 'O', 'O', 'O', 'O', 'O', 'O', 'O', 'O', 'O', 'O', 'O', 'O', 'O', 'O', 'O', 'O', 'O', 'O', 'O', 'O', 'O', 'O', 'O', 'O', 'O', 'O', 'O', 'O', 'O', 'O', 'O', 'O', 'O', 'O', 'O', 'O', 'O', 'O', 'O', 'O', 'O', 'O', 'O', 'O', 'O', 'O', 'O', 'O', 'O', 'O', 'O', 'O', 'O', 'O', 'O', 'O', 'O', 'O', 'O', 'O', 'O', 'O', 'O', 'O', 'O', 'O', 'O', 'O', 'O', 'O', 'O', 'O', 'O', 'O', 'O', 'O', 'O', 'O', 'O', 'O', 'O', 'O', 'O', 'O', 'O', 'O', 'O', 'O', 'O', 'O', 'O', 'O', 'O', 'O', 'O', 'O', 'O', 'O', 'O', 'O', 'O', 'O', 'O', 'O', 'O', 'O', 'O', 'O', 'O', 'O', 'O', 'O', 'O', 'O', 'O', 'O', 'O', 'O', 'O', 'O', 'O', 'O', 'O', 'O', 'O', 'O', 'O', 'O', 'O', 'O', 'O', 'O', 'O', 'O', 'O', 'O', 'O', 'O', 'O', 'O', 'O', 'O', 'O', 'O', 'O', 'O', 'O', 'O', 'O', 'O', 'O', 'O', 'O', 'O', 'O', 'O', 'O', 'O', 'O', 'O', 'O', 'O', 'O', 'O', 'O', 'O', 'O', 'O', 'O', 'O', 'O', 'O', 'O', 'O', 'O', 'O', 'O', 'O', 'O', 'O', 'O', 'O', 'O', 'O', 'O', 'O', 'O', 'O', 'O', 'O', 'O', 'O', 'O', 'O', 'O', 'O', 'O', 'O', 'O', 'O', 'O', 'O', 'O', 'O', 'O', 'O', 'O', 'O', 'O', 'O', 'O', 'O', 'O', 'O', 'O', 'O', 'O', 'O', 'O', 'O', 'O', 'O', 'O', 'O', 'O', 'O', 'O', 'O', 'O', 'O', 'O', 'O', 'O', 'O', 'O', 'O', 'O', 'O', 'O', 'O', 'O', 'O', 'O', 'O', 'O', 'O', 'O', 'O', 'O', 'O', 'O', 'O', 'O', 'O', 'O', 'O', 'O', 'O', 'O', 'O', 'O', 'O', 'O', 'O', 'O', 'O', 'O', 'O', 'O', 'O', 'O', 'O', 'O', 'O', 'O', 'O', 'O', 'O', 'O', 'O', 'O', 'O', 'O', 'O', 'O', 'O', 'O', 'O', 'O', 'O', 'O', 'O', 'O', 'O', 'O', 'O', 'O', 'O', 'O', 'O', 'O', 'O', 'O', 'O', 'O', 'O', 'O', 'O', 'O', 'O', 'O', 'O', 'O', 'O', 'O', 'O', 'O', 'O', 'O', 'O', 'O', 'O', 'O', 'O', 'O', 'O', 'O', 'O', 'O', 'O', 'O', 'O', 'O', 'O', 'O', 'O', 'O', 'O', 'O', 'O', 'O', 'O', 'O', 'O', 'O', 'O', 'O', 'O', 'O', 'O', 'O', 'O', 'O', 'O', 'O', 'O', 'O', 'O', 'O', 'O', 'O', 'O', 'O', 'O', 'O', 'O', 'O', 'O', 'O', 'O', 'O', 'O', 'O', 'O', 'O', 'O', 'O', 'O', 'O', 'O', 'O', 'O', 'O', 'O', 'O', 'O', 'O', 'O', 'O', 'O', 'O', 'O', 'O', 'O', 'O', 'O', 'O', 'O', 'O', 'O', 'O', 'O', 'O', 'O', 'O', 'O', 'O', 'O', 'O', 'O', 'O', 'O', 'O', 'O', 'O', 'O', 'O', 'O', 'O', 'O', 'O', 'O', 'O', 'O', 'O', 'O', 'O', 'O', 'O', 'O', 'O', 'O', 'O', 'O', 'O', 'O', 'O', 'O', 'O', 'O', 'O', 'O', 'O', 'O', 'O', 'O', 'O', 'O', 'O', 'O', 'O', 'O', 'O', 'O', 'O', 'O', 'O', 'O', 'O', 'O', 'O', 'O', 'O', 'O', 'O', 'O', 'O', 'O', 'O', 'O', 'O', 'O', 'O', 'O', 'O', 'O', 'O', 'O', 'O', 'O', 'O', 'O', 'O', 'O', 'O', 'O', 'O', 'O', 'O', 'O', 'O', 'O', 'O', 'O', 'O', 'O', 'O', 'O', 'O', 'O', 'O', 'O', 'O', 'O', 'O', 'O', 'O', 'O', 'O', 'O', 'O', 'O', 'O', 'O', 'O', 'O', 'O', 'O', 'O', 'O', 'O', 'O', 'O', 'O', 'O', 'O', 'O', 'O', 'O', 'O', 'O', 'O', 'O', 'O', 'O', 'O', 'O', 'O', 'O', 'O', 'O', 'O', 'O', 'O', 'O', 'O', 'O', 'O', 'O', 'O', 'O', 'O', 'O', 'O', 'O', 'O', 'O', 'O', 'O', 'O', 'O', 'O', 'O', 'O', 'O', 'O', 'O', 'O', 'O', 'O', 'O', 'O', 'O', 'O', 'O', 'O', 'O', 'O', 'O', 'O', 'O', 'O', 'O', 'O', 'O', 'O', 'O', 'O', 'O', 'O', 'O', 'O', 'O', 'O', 'O', 'O', 'O', 'O', 'O', 'O', 'O', 'O', 'O', 'O', 'O', 'O', 'O', 'O', 'O', 'O', 'O', 'O', 'O', 'O', 'O', 'O', 'O', 'O', 'O', 'O', 'O', 'O', 'O', 'O', 'O', 'O', 'O', 'O', 'O', 'O', 'O', 'O', 'O', 'O', 'O', 'O', 'O', 'O', 'O', 'O', 'O', 'O', 'O', 'O', 'O', 'O', 'O', 'O', 'O', 'O', 'O', 'O', 'O', 'O', 'O', 'O', 'O', 'O', 'O', 'O', 'O', 'O', 'O', 'O', 'O', 'O', 'O', 'O', 'O', 'O', 'O', 'O', 'O', 'O', 'O', 'O', 'O', 'O', 'O', 'O', 'O', 'O', 'O', 'O', 'O', 'O', 'O', 'O', 'O', 'O', 'O', 'O', 'O', 'O', 'O', 'O', 'O', 'O', 'O', 'O', 'O', 'O', 'O', 'O', 'O', 'O', 'O', 'O', 'O', 'O', 'O', 'O', 'O', 'O', 'O', 'O', 'O', 'O', 'O', 'O', 'O', 'O', 'O', 'O', 'O', 'O', 'O', 'O', 'O', 'O', 'O', 'O', 'O', 'O', 'O', 'O', 'O', 'O', 'O', 'O', 'O', 'O', 'O', 'O', 'O', 'O', 'O', 'O', 'O', 'O', 'O', 'O', 'O', 'O', 'O', 'O', 'O', 'O', 'O', 'O', 'O', 'O', 'O', 'O', 'O', 'O', 'O', 'O', 'O', 'O', 'O', 'O', 'O', 'O', 'O', 'O', 'O', 'O', 'O', 'O', 'O', 'O', 'O', 'O', 'O', 'O', 'O', 'O', 'O', 'O', 'O', 'O', 'O', 'O', 'O', 'O', 'O', 'O', 'O', 'O', 'O', 'O', 'O', 'O', 'O', 'O', 'O', 'O', 'O', 'O', 'O', 'O', 'O', 'O', 'O', 'O', 'O', 'O', 'O', 'O', 'O', 'O', 'O', 'O', 'O', 'O', 'O', 'O', 'O', 'O', 'O', 'O', 'O', 'O', 'O', 'O', 'O', 'O', 'O', 'O', 'O', 'O', 'O', 'O', 'O', 'O', 'O', 'O', 'O', 'O', 'O', 'O', 'O', 'O', 'O', 'O', 'O', 'O', 'O', 'O', 'O', 'O', 'O', 'O', 'O', 'O', 'O', 'O', 'O', 'O', 'O', 'O', 'O', 'O', 'O', 'O', 'O', 'O', 'O', 'O', 'O', 'O', 'O', 'O', 'O', 'O', 'O', 'O', 'O', 'O', 'O', 'O', 'O', 'O', 'O', 'O', 'O', 'O', 'O', 'O', 'O', 'O', 'O', 'O', 'O', 'O', 'O', 'O', 'O', 'O', 'O', 'O', 'O', 'O', 'O', 'O', 'O', 'O', 'O', 'O', 'O', 'O', 'O', 'O', 'O', 'O', 'O', 'O', 'O', 'O', 'O', 'O', 'O', 'O', 'O', 'O', 'O', 'O', 'O', 'O', 'O', 'O', 'O', 'O', 'O', 'O', 'O', 'O', 'O', 'O', 'O', 'O', 'O', 'O', 'O', 'O', 'O', 'O', 'O', 'O', 'O', 'O', 'O', 'O', 'O', 'O', 'O', 'O', 'O', 'O', 'O', 'O', 'O', 'O', 'O', 'O', 'O', 'O', 'O', 'O', 'O', 'O', 'O', 'O', 'O', 'O', 'O', 'O', 'O', 'O', 'O', 'O', 'O', 'O', 'O', 'O', 'O', 'O', 'O', 'O', 'O', 'O', 'O', 'O', 'O', 'O', 'O', 'O', 'O', 'O', 'O', 'O', 'O', 'O', 'O', 'O', 'O', 'O', 'O', 'O', 'O', 'O', 'O', 'O', 'O', 'O', 'O', 'O', 'O', 'O', 'O', 'O', 'O', 'O', 'O', 'O', 'O', 'O', 'O', 'O', 'O', 'O', 'O', 'O', 'O', 'O', 'O', 'O', 'O', 'O', 'O', 'O', 'O', 'O', 'O', 'O', 'O', 'O', 'O', 'O', 'O', 'O', 'O', 'O', 'O', 'O', 'O', 'O', 'O', 'O', 'O', 'O', 'O', 'O', 'O', 'O', 'O', 'O', 'O', 'O', 'O', 'O', 'O', 'O', 'O', 'O', 'O', 'O', 'O', 'O', 'O', 'O', 'O', 'O', 'O', 'O', 'O', 'O', 'O', 'O', 'O', 'O', 'O', 'O', 'O', 'O', 'O', 'O', 'O', 'O', 'O', 'O', 'O', 'O', 'O', 'O', 'O', 'O', 'O', 'O', 'O', 'O', 'O', 'O', 'O', 'O', 'O', 'O', 'O', 'O', 'O', 'O', 'O', 'O', 'O', 'O', 'O', 'O', 'O', 'O', 'O', 'O', 'O', 'O', 'O', 'O', 'O', 'O', 'O', 'O', 'O', 'O', 'O', 'O', 'O', 'O', 'O', 'O', 'O', 'O', 'O', 'O', 'O', 'O', 'O', 'O', 'O', 'O', 'O', 'O', 'O', 'O', 'O', 'O', 'O', 'O', 'O', 'O', 'O', 'O', 'O', 'O', 'O', 'O', 'O', 'O', 'O', 'O', 'O', 'O', 'O', 'O', 'O', 'O', 'O', 'O', 'O', 'O', 'O', 'O', 'O', 'O', 'O', 'O', 'O', 'O', 'O', 'O', 'O', 'O', 'O', 'O', 'O', 'O', 'O', 'O', 'O', 'O', 'O', 'O', 'O', 'O', 'O', 'O', 'O', 'O', 'O', 'O', 'O', 'O', 'O', 'O', 'O', 'O', 'O', 'O', 'O', 'O', 'O', 'O', 'O', 'O', 'O', 'O', 'O', 'O', 'O', 'O', 'O', 'O', 'O', 'O', 'O', 'O', 'O', 'O', 'O', 'O', 'O', 'O', 'O', 'O', 'O', 'O', 'O', 'O', 'O', 'O', 'O', 'O', 'O', 'O', 'O', 'O', 'O', 'O', 'O', 'O', 'O', 'O', 'O', 'O', 'O', 'O', 'O', 'O', 'O', 'O', 'O', 'O', 'O', 'O', 'O', 'O', 'O', 'O', 'O', 'O', 'O', 'O', 'O', 'O', 'O', 'O', 'O', 'O', 'O', 'O', 'O', 'O', 'O', 'O', 'O', 'O', 'O', 'O', 'O', 'O', 'O', 'O', 'O', 'O', 'O', 'O', 'O', 'O', 'O', 'O', 'O', 'O', 'O', 'O', 'O', 'O', 'O', 'O', 'O', 'O', 'O', 'O', 'O', 'O', 'O', 'O', 'O', 'O', 'O', 'O', 'O', 'O', 'O', 'O', 'O', 'O', 'O', 'O', 'O', 'O', 'O', 'O', 'O', 'O', 'O', 'O', 'O', 'O', 'O', 'O', 'O', 'O', 'O', 'O', 'O', 'O', 'O', 'O', 'O', 'O', 'O', 'O', 'O', 'O', 'O', 'O', 'O', 'O', 'O', 'O', 'O', 'O', 'O', 'O', 'O', 'O', 'O', 'O', 'O', 'O', 'O', 'O', 'O', 'O', 'O', 'O', 'O', 'O', 'O', 'O', 'O', 'O', 'O', 'O', 'O', 'O', 'O', 'O', 'O', 'O', 'O', 'O', 'O', 'O', 'O', 'O', 'O', 'O', 'O', 'O', 'O', 'O', 'O', 'O', 'O', 'O', 'O', 'O', 'O', 'O', 'O', 'O', 'O', 'O', 'O', 'O', 'O', 'O', 'O', 'O', 'O', 'O', 'O', 'O', 'O', 'O', 'O', 'O', 'O', 'O', 'O', 'O', 'O', 'O', 'O', 'O', 'O', 'O', 'O', 'O', 'O', 'O', 'O', 'O', 'O', 'O', 'O', 'O', 'O', 'O', 'O', 'O', 'O', 'O', 'O', 'O', 'O', 'O', 'O', 'O', 'O', 'O', 'O', 'O', 'O', 'O', 'O', 'O', 'O', 'O', 'O', 'O', 'O', 'O', 'O', 'O', 'O', 'O', 'O', 'O', 'O', 'O', 'O', 'O', 'O', 'O', 'O', 'O', 'O', 'O', 'O', 'O', 'O', 'O', 'O', 'O', 'O', 'O', 'O', 'O', 'O', 'O', 'O', 'O', 'O', 'O', 'O', 'O', 'O', 'O', 'O', 'O', 'O', 'O', 'O', 'O', 'O', 'O', 'O', 'O', 'O', 'O', 'O', 'O', 'O', 'O', 'O', 'O', 'O', 'O', 'O', 'O', 'O', 'O', 'O', 'O', 'O', 'O', 'O', 'O', 'O', 'O', 'O', 'O', 'O', 'O', 'O', 'O', 'O', 'O', 'O', 'O', 'O', 'O', 'O', 'O', 'O', 'O', 'O', 'O', 'O', 'O', 'O', 'O', 'O', 'O', 'O', 'O', 'O', 'O', 'O', 'O', 'O', 'O', 'O', 'O', 'O', 'O', 'O', 'O', 'O', 'O', 'O', 'O', 'O', 'O', 'O', 'O', 'O', 'O', 'O', 'O', 'O', 'O', 'O', 'O', 'O', 'O', 'O', 'O', 'O', 'O', 'O', 'O', 'O', 'O', 'O', 'O', 'O', 'O', 'O', 'O', 'O', 'O', 'O', 'O', 'O', 'O', 'O', 'O', 'O', 'O', 'O', 'O', 'O', 'O', 'O', 'O', 'O', 'O', 'O', 'O', 'O', 'O', 'O', 'O', 'O', 'O', 'O', 'O', 'O', 'O', 'O', 'O', 'O', 'O', 'O', 'O', 'O', 'O', 'O', 'O', 'O', 'O', 'O', 'O', 'O', 'O', 'O', 'O', 'O', 'O', 'O', 'O', 'O', 'O', 'O', 'O', 'O', 'O', 'O', 'O', 'O', 'O', 'O', 'O', 'O', 'O', 'O', 'O', 'O', 'O', 'O', 'O', 'O', 'O', 'O', 'O', 'O', 'O', 'O', 'O', 'O', 'O', 'O', 'O', 'O', 'O', 'O', 'O', 'O', 'O', 'O', 'O', 'O', 'O', 'O', 'O', 'O', 'O', 'O', 'O', 'O', 'O', 'O', 'O', 'O', 'O', 'O', 'O', 'O', 'O', 'O', 'O', 'O', 'O', 'O', 'O', 'O', 'O', 'O', 'O', 'O', 'O', 'O', 'O', 'O', 'O', 'O', 'O', 'O', 'O', 'O', 'B-PER', 'O', 'O', 'O', 'O', 'O', 'O', 'O', 'O', 'O', 'O', 'O', 'O', 'O', 'O', 'O', 'O', 'O', 'O', 'O', 'O', 'O', 'O', 'O', 'O', 'O', 'O', 'O', 'O', 'O', 'O', 'O', 'O', 'O', 'O', 'O', 'O', 'O', 'O', 'O', 'O', 'O', 'O', 'O', 'O', 'O', 'O', 'O', 'O', 'O', 'O', 'O', 'O', 'O', 'O', 'O', 'O', 'O', 'O', 'O', 'O', 'O', 'O', 'O', 'O', 'O', 'O', 'O', 'O', 'O', 'O', 'O', 'O', 'O', 'O', 'O', 'O', 'O', 'O', 'B-PER', 'O', 'O', 'O', 'O', 'O', 'O', 'O', 'O', 'O', 'O', 'O', 'O', 'O', 'O', 'O', 'O', 'O', 'O', 'O', 'B-LOC', 'O', 'O', 'O', 'O', 'O', 'O', 'O', 'O', 'O', 'O', 'B-LOC', 'O', 'O', 'O', 'O', 'O', 'O', 'O', 'O', 'O', 'O', 'O', 'O', 'O', 'O', 'O', 'O', 'O', 'O', 'O', 'O', 'O', 'O', 'O', 'O', 'O', 'B-LOC', 'O', 'O', 'O', 'O', 'O', 'O', 'O', 'O', 'O', 'O', 'O', 'O', 'O', 'O', 'O', 'O', 'O', 'O', 'O', 'O', 'O', 'O', 'O', 'O', 'O', 'O', 'O', 'O', 'O', 'O', 'O', 'O', 'O', 'O', 'O', 'O', 'O', 'B-LOC', 'O', 'O', 'O', 'O', 'O', 'O', 'O', 'O', 'O', 'O', 'O', 'O', 'O', 'O', 'O', 'O', 'O', 'O', 'O', 'O', 'O', 'O', 'O', 'O', 'O', 'O', 'O', 'O', 'O', 'O', 'O', 'O', 'O', 'O', 'O', 'O', 'O', 'O', 'O', 'O', 'O', 'O', 'O', 'O', 'O', 'O', 'O', 'O', 'O', 'O', 'O', 'O', 'O', 'O', 'O', 'O', 'O', 'O', 'O', 'O', 'O', 'O', 'O', 'O', 'O', 'O', 'O', 'O', 'O', 'O', 'O', 'O', 'O', 'O', 'O', 'O', 'O', 'O', 'O', 'O', 'O', 'O', 'O', 'O', 'O', 'O', 'O', 'O', 'B-LOC', 'O', 'O', 'O', 'O', 'O', 'O', 'O', 'O', 'O', 'O', 'O', 'O', 'O', 'O', 'O', 'O', 'O', 'O', 'O', 'O', 'O', 'O', 'O', 'O', 'O', 'O', 'O', 'O', 'O', 'O', 'O', 'O', 'O', 'O', 'O', 'O', 'O', 'O', 'O', 'O', 'O', 'O', 'O', 'O', 'O', 'O', 'O', 'O', 'O', 'O', 'O', 'O', 'O', 'O', 'O', 'O', 'O', 'O', 'O', 'O', 'O', 'O', 'O', 'O', 'O', 'O', 'O', 'O', 'O', 'O', 'O', 'O', 'O', 'O', 'O', 'O', 'O', 'O', 'O', 'O', 'O', 'O', 'O', 'O', 'O', 'O', 'O', 'O', 'O', 'O', 'O', 'O', 'O', 'O', 'O', 'O', 'O', 'O', 'O', 'O', 'O', 'O', 'O', 'O', 'O', 'O', 'O', 'O', 'O', 'O', 'O', 'O', 'O', 'O', 'O', 'O', 'O', 'O', 'O', 'O', 'O', 'O', 'O', 'O', 'O', 'O', 'O', 'O', 'O', 'O', 'O', 'O', 'O', 'O', 'O', 'O', 'O', 'O', 'O', 'O', 'O', 'O', 'O', 'O', 'O', 'O', 'O', 'O', 'O', 'O', 'O', 'O', 'O', 'O', 'O', 'O', 'O', 'O', 'O', 'O', 'O', 'O', 'O', 'O', 'O', 'O', 'O', 'O', 'O', 'O', 'O', 'O', 'O', 'O', 'O', 'O', 'O', 'O', 'O', 'O', 'O', 'O', 'O', 'O', 'O', 'O', 'O', 'O', 'O', 'O', 'O', 'O', 'O', 'O', 'O', 'O', 'O', 'O', 'O', 'O', 'O', 'O', 'O', 'O', 'O', 'O', 'O', 'O', 'O', 'O', 'O', 'O', 'O', 'O', 'O', 'O', 'O', 'O', 'O', 'O', 'O', 'O', 'O', 'O', 'O', 'O', 'O', 'O', 'O', 'O', 'O', 'O', 'O', 'O', 'O', 'O', 'O', 'O', 'O', 'O', 'O', 'O', 'O', 'O', 'O', 'O', 'O', 'O', 'O', 'O', 'O', 'O', 'O', 'O', 'O', 'O', 'O', 'O', 'O', 'O', 'O', 'O', 'O', 'O', 'O', 'O', 'O', 'O', 'O', 'O', 'O', 'O', 'O', 'O', 'O', 'O', 'O', 'O', 'O', 'O', 'O', 'O', 'O', 'O', 'O', 'O', 'O', 'O', 'O', 'O', 'O', 'O', 'O', 'O', 'O', 'O', 'O', 'O', 'O', 'O', 'O', 'O', 'O', 'O', 'O', 'O', 'O', 'O', 'O', 'O', 'O', 'O', 'O', 'O', 'O', 'O', 'O', 'O', 'O', 'O', 'O', 'O', 'O', 'O', 'O', 'O', 'O', 'O', 'O', 'O', 'O', 'O', 'O', 'O', 'O', 'O', 'O', 'O', 'O', 'O', 'O', 'O', 'O', 'O', 'O', 'O', 'O', 'O', 'O', 'O', 'O', 'O', 'O', 'O', 'O', 'O', 'O', 'O', 'O', 'O', 'O', 'O', 'O', 'O', 'B-PER', 'O', 'O', 'O', 'O', 'O', 'O', 'O', 'O', 'O', 'O', 'O', 'O', 'O', 'O', 'O', 'O', 'O', 'O', 'O', 'O', 'O', 'O', 'O', 'O', 'O', 'O', 'O', 'O', 'O', 'O', 'O', 'O', 'O', 'O', 'O', 'O', 'O', 'O', 'O', 'O', 'O', 'O', 'O', 'O', 'O', 'O', 'O', 'O', 'O', 'O', 'O', 'O', 'O', 'O', 'O', 'O', 'O', 'O', 'O', 'O', 'O', 'O', 'O', 'O', 'O', 'O', 'O', 'O', 'O', 'O', 'O', 'O', 'O', 'O', 'O', 'O', 'O', 'O', 'O', 'O', 'O', 'O', 'O', 'O', 'O', 'O', 'O', 'O', 'O', 'O', 'O', 'O', 'O', 'O', 'O', 'O', 'O', 'O', 'O', 'O', 'O', 'O', 'O', 'O', 'O', 'O', 'O', 'O', 'O', 'O', 'O', 'O', 'O', 'O', 'O', 'O', 'O', 'O', 'O', 'O', 'O', 'O', 'O', 'O', 'O', 'O', 'O', 'O', 'O', 'O', 'O', 'O', 'O', 'O', 'O', 'O', 'O', 'O', 'O', 'O', 'O', 'O', 'O', 'O', 'O', 'O', 'O', 'O', 'O', 'O', 'O', 'O', 'O', 'O', 'O', 'O', 'O', 'O', 'O', 'O', 'O', 'O', 'O', 'O', 'O', 'O', 'O', 'O', 'O', 'O', 'O', 'O', 'O', 'O', 'O', 'O', 'O', 'O', 'O', 'O', 'O', 'O', 'O', 'O', 'O', 'O', 'O', 'O', 'O', 'O', 'O', 'O', 'O', 'O', 'O', 'O', 'O', 'O', 'O', 'O', 'O', 'O', 'O', 'O', 'O', 'O', 'O', 'O', 'O', 'O', 'O', 'O', 'O', 'O', 'O', 'O', 'O', 'O', 'O', 'O', 'O', 'O', 'O', 'O', 'O', 'O', 'O', 'O', 'O', 'O', 'O', 'O', 'O', 'O', 'O', 'O', 'O', 'O', 'O', 'O', 'O', 'O', 'O', 'O', 'O', 'O', 'O', 'O', 'O', 'O', 'O', 'O', 'O', 'O', 'O', 'O', 'O', 'O', 'O', 'O', 'O', 'O', 'O', 'O', 'O', 'O', 'O', 'O', 'O', 'O', 'O', 'O', 'O', 'O', 'O', 'O', 'O', 'O', 'O', 'O', 'O', 'O', 'O', 'O', 'O', 'O', 'O', 'O', 'O', 'O', 'O', 'O', 'O', 'O', 'O', 'O', 'O', 'O', 'O', 'O', 'O', 'O', 'O', 'O', 'O', 'O', 'O', 'O', 'O', 'O', 'O', 'O', 'O', 'O', 'O', 'O', 'O', 'O', 'O', 'O', 'O', 'O', 'O', 'O', 'O', 'O', 'O', 'O', 'O', 'O', 'O', 'O', 'O', 'O', 'O', 'O', 'O', 'O', 'O', 'O', 'O', 'O', 'O', 'O', 'O', 'O', 'O', 'O', 'O', 'O', 'O', 'O', 'O', 'O', 'O', 'O', 'O', 'O', 'O', 'O', 'O', 'O', 'O', 'O', 'O', 'O', 'O', 'O', 'O', 'O', 'O', 'O', 'O', 'O', 'O', 'O', 'O', 'O', 'O', 'O', 'O', 'O', 'O', 'O', 'O', 'O', 'O', 'O', 'O', 'O', 'O', 'O', 'O', 'O', 'O', 'O', 'O', 'O', 'O', 'O', 'O', 'O', 'O', 'O', 'O', 'O', 'O', 'O', 'O', 'O', 'O', 'O', 'O', 'O', 'O', 'O', 'O', 'O', 'O', 'O', 'O', 'O', 'O', 'O', 'O', 'O', 'O', 'O', 'O', 'O', 'O', 'O', 'O', 'O', 'O', 'O', 'O', 'O', 'O', 'O', 'O', 'O', 'O', 'O', 'O', 'O', 'O', 'O', 'O', 'O', 'O', 'O', 'O', 'O', 'O', 'O', 'O', 'O', 'O', 'O', 'O', 'O', 'O', 'O', 'O', 'O', 'O', 'O', 'O', 'O', 'O', 'O', 'O', 'O', 'O', 'O', 'O', 'O', 'O', 'O', 'O', 'O', 'O', 'O', 'O', 'O', 'O', 'O', 'O', 'O', 'O', 'O', 'O', 'O', 'O', 'O', 'O', 'O', 'O', 'O', 'O', 'O', 'O', 'O', 'O', 'O', 'O', 'O', 'O', 'O', 'O', 'O', 'O', 'O', 'O', 'O', 'O', 'O', 'O', 'O', 'O', 'O', 'O', 'O', 'O', 'O', 'O', 'O', 'O', 'O', 'O', 'O', 'O', 'O', 'O', 'O', 'O', 'O', 'O', 'O', 'O', 'O', 'O', 'O', 'O', 'O', 'O', 'O', 'O', 'O', 'O', 'O', 'O', 'O', 'O', 'O', 'O', 'O', 'O', 'O', 'O', 'O', 'O', 'O', 'O', 'O', 'O', 'O', 'O', 'O', 'O', 'O', 'O', 'O', 'O', 'O', 'O', 'O', 'O', 'O', 'O', 'O', 'O', 'O', 'O', 'O', 'O', 'O', 'O', 'O', 'O', 'O', 'O', 'O', 'O', 'O', 'O', 'O', 'O', 'O', 'O', 'O', 'O', 'O', 'O', 'O', 'O', 'O', 'O', 'O', 'O', 'O', 'O', 'O', 'O', 'O', 'O', 'O', 'O', 'O', 'O', 'O', 'O', 'O', 'O', 'O', 'O', 'O', 'O', 'O', 'O', 'O', 'O', 'O', 'O', 'O', 'O', 'O', 'O', 'O', 'O', 'O', 'O', 'O', 'O', 'O', 'O', 'O', 'O', 'O', 'O', 'O', 'O', 'O', 'O', 'O', 'O', 'O', 'O', 'O', 'O', 'O', 'O', 'O', 'O', 'O', 'O', 'O', 'O', 'O', 'O', 'O', 'O', 'O', 'O', 'O', 'O', 'O', 'O', 'O', 'O', 'O', 'O', 'O', 'O', 'O', 'O', 'O', 'O', 'O', 'O', 'O', 'O', 'O', 'O', 'O', 'O', 'O', 'O', 'O', 'O', 'O', 'O', 'O', 'O', 'O', 'O', 'O', 'O', 'O', 'O', 'O', 'O', 'O', 'O', 'O', 'O', 'O', 'O', 'O', 'O', 'O', 'O', 'O', 'O', 'O', 'O', 'O', 'O', 'O', 'O', 'O', 'O', 'O', 'O', 'O', 'O', 'O', 'O', 'O', 'O', 'O', 'O', 'O', 'O', 'O', 'O', 'O', 'O', 'O', 'O', 'O', 'O', 'O', 'O', 'O', 'O', 'O', 'O', 'O', 'O', 'O', 'O', 'O', 'O', 'O', 'O', 'O', 'O', 'O', 'O', 'O', 'O', 'O', 'O', 'O', 'O', 'O', 'O', 'O', 'O', 'O', 'O', 'O', 'O', 'O', 'O', 'O', 'O', 'O', 'O', 'O', 'O', 'O', 'O', 'O', 'O', 'O', 'O', 'O', 'O', 'O', 'O', 'O', 'O', 'O', 'O', 'O', 'O', 'O', 'O', 'O', 'O', 'O', 'O', 'O', 'O', 'O', 'O', 'O', 'O', 'O', 'O', 'O', 'O', 'O', 'O', 'O', 'O', 'O', 'O', 'O', 'O', 'O', 'O', 'O', 'O', 'O', 'O', 'O', 'O', 'O', 'O', 'O', 'O', 'O', 'O', 'O', 'O', 'O', 'O', 'O', 'O', 'O', 'O', 'O', 'O', 'O', 'O', 'O', 'O', 'O', 'O', 'O', 'O', 'O', 'O', 'O', 'O', 'O', 'O', 'O', 'O', 'O', 'O', 'O', 'O', 'O', 'O', 'O', 'O', 'O', 'O', 'O', 'O', 'O', 'O', 'O', 'O', 'O', 'O', 'O', 'O', 'O', 'O', 'O', 'O', 'O', 'O', 'O', 'O', 'O', 'O', 'O', 'O', 'O', 'O', 'O', 'O', 'O', 'O', 'O', 'O', 'O', 'O', 'O', 'O', 'O', 'O', 'O', 'O', 'O', 'O', 'O', 'O', 'O', 'O', 'O', 'O', 'O', 'O', 'O', 'O', 'O', 'O', 'O', 'O', 'O', 'O', 'O', 'O', 'O', 'O', 'O', 'O', 'O', 'O', 'O', 'O', 'O', 'O', 'O', 'O', 'O', 'O', 'O', 'O', 'O', 'O', 'O', 'O', 'O', 'O', 'O', 'O', 'O', 'O', 'O', 'O', 'O', 'O', 'O', 'O', 'O', 'O', 'O', 'O', 'O', 'O', 'O', 'O', 'O', 'O', 'O', 'O', 'O', 'O', 'O', 'O', 'O', 'O', 'O', 'O', 'O', 'O', 'B-PER', 'O', 'O', 'O', 'O', 'O', 'O', 'O', 'O', 'O', 'O', 'O', 'O', 'O', 'O', 'O', 'O', 'O', 'O', 'O', 'O', 'O', 'O', 'O', 'O', 'O', 'O', 'O', 'O', 'O', 'O', 'O', 'O', 'O', 'O', 'O', 'O', 'O', 'O', 'O', 'O', 'O', 'O', 'O', 'O', 'O', 'O', 'O', 'O', 'O', 'O', 'O', 'O', 'O', 'O', 'O', 'O', 'O', 'O', 'O', 'O', 'O', 'O', 'O', 'O', 'O', 'O', 'O', 'O', 'O', 'O', 'O', 'O', 'O', 'O', 'O', 'O', 'O', 'O', 'O', 'O', 'O', 'O', 'O', 'O', 'O', 'O', 'O', 'O', 'O', 'O', 'O', 'O', 'O', 'O', 'O', 'O', 'O', 'O', 'O', 'O', 'O', 'O', 'O', 'O', 'O', 'O', 'O', 'O', 'O', 'O', 'O', 'O', 'O', 'O', 'O', 'O', 'O', 'O', 'O', 'O', 'O', 'O', 'O', 'O', 'O', 'O', 'O', 'O', 'O', 'O', 'O', 'O', 'O', 'O', 'O', 'O', 'O', 'O', 'O', 'O', 'O', 'O', 'O', 'O', 'O', 'O', 'O', 'O', 'O', 'O', 'O', 'O', 'O', 'O', 'O', 'O', 'O', 'O', 'O', 'O', 'O', 'O', 'O', 'O', 'O', 'O', 'O', 'O', 'O', 'O', 'O', 'O', 'O', 'O', 'O', 'O', 'O', 'O', 'O', 'O', 'O', 'O', 'O', 'O', 'O', 'O', 'O', 'O', 'O', 'O', 'O', 'O', 'O', 'O', 'O', 'O', 'O', 'O', 'O', 'O', 'O', 'O', 'O', 'O', 'O', 'O', 'O', 'O', 'O', 'O', 'O', 'O', 'O', 'O', 'O', 'O', 'O', 'O', 'O', 'O', 'O', 'O', 'O', 'O', 'O', 'O', 'O', 'O', 'O', 'O', 'O', 'O', 'O', 'O', 'O', 'O', 'O', 'O', 'O', 'O', 'O', 'O', 'O', 'O', 'O', 'O', 'O', 'O', 'O', 'O', 'O', 'O', 'O', 'O', 'O', 'O', 'O', 'O', 'O', 'O', 'O', 'O', 'O', 'O', 'O', 'O', 'O', 'O', 'O', 'O', 'O', 'O', 'O', 'O', 'O', 'O', 'O', 'O', 'O', 'O', 'O', 'O', 'O', 'O', 'O', 'O', 'O', 'O', 'O', 'O', 'O', 'O', 'O', 'O', 'O', 'O', 'O', 'O', 'O', 'O', 'O', 'O', 'O', 'O', 'O', 'O', 'O', 'O', 'O', 'O', 'O', 'O', 'O', 'O', 'O', 'O', 'O', 'O', 'O', 'O', 'O', 'O', 'O', 'O', 'O', 'O', 'O', 'O', 'O', 'O', 'O', 'O', 'O', 'O', 'O', 'O', 'O', 'O', 'O', 'O', 'O', 'O', 'O', 'O', 'O', 'O', 'O', 'O', 'O', 'O', 'O', 'O', 'O', 'O', 'O', 'O', 'O', 'O', 'O', 'O', 'O', 'O', 'O', 'O', 'O', 'O', 'O', 'O', 'O', 'O', 'O', 'O', 'O', 'O', 'O', 'O', 'O', 'O', 'O', 'O', 'O', 'O', 'O', 'O', 'O', 'O', 'O', 'O']\n"
          ]
        }
      ]
    },
    {
      "cell_type": "code",
      "source": [
        "knowledge = jiagu.knowledge(text)\n",
        "print(knowledge)"
      ],
      "metadata": {
        "colab": {
          "base_uri": "https://localhost:8080/"
        },
        "id": "cZWlmL3t-rS9",
        "outputId": "62e16986-0a4d-4c99-9ec6-8ae0ed3b533b"
      },
      "execution_count": 10,
      "outputs": [
        {
          "output_type": "stream",
          "name": "stdout",
          "text": [
            "[]\n"
          ]
        }
      ]
    },
    {
      "cell_type": "code",
      "source": [
        "#text是list形式单独存储每个段落的\n",
        "import jiagu\n",
        "f=open('jiagu.txt',encoding='utf_8',mode='w+')\n",
        "#jiagu.init() # 可手动初始化，也可以动态初始化\n",
        "for t in text_list:\n",
        "  words = jiagu.seg(t) # 分词\n",
        "  # print(words)\n",
        "  ner = jiagu.ner(words) # 命名实体识别\n",
        "  # print(ner)\n",
        "\n",
        "  for w,n in zip(words,ner):\n",
        "    f.write('{}\\t{}\\n'.format(w,n))\n"
      ],
      "metadata": {
        "id": "SYJFY0AF9qtF"
      },
      "execution_count": 9,
      "outputs": []
    },
    {
      "cell_type": "markdown",
      "source": [
        "# LTP"
      ],
      "metadata": {
        "id": "YtlayQ8wBoSb"
      }
    },
    {
      "cell_type": "markdown",
      "source": [
        "http://ltp.ai/docs/quickstart.html#id3"
      ],
      "metadata": {
        "id": "4Bgshq-FFPRK"
      }
    },
    {
      "cell_type": "code",
      "source": [
        "!pip install ltp"
      ],
      "metadata": {
        "colab": {
          "base_uri": "https://localhost:8080/"
        },
        "id": "1s8fEljhBqBf",
        "outputId": "cfdfb8e3-7006-40c7-e2a7-0d8f93c126f9"
      },
      "execution_count": 18,
      "outputs": [
        {
          "output_type": "stream",
          "name": "stdout",
          "text": [
            "Looking in indexes: https://pypi.org/simple, https://us-python.pkg.dev/colab-wheels/public/simple/\n",
            "Requirement already satisfied: ltp in /usr/local/lib/python3.7/dist-packages (4.1.5.post2)\n",
            "Requirement already satisfied: packaging>=20.0 in /usr/local/lib/python3.7/dist-packages (from ltp) (21.3)\n",
            "Requirement already satisfied: pygtrie<2.5,>=2.3.0 in /usr/local/lib/python3.7/dist-packages (from ltp) (2.4.2)\n",
            "Requirement already satisfied: transformers<=4.7.0,>=4.0.0 in /usr/local/lib/python3.7/dist-packages (from ltp) (4.7.0)\n",
            "Requirement already satisfied: torch>=1.2.0 in /usr/local/lib/python3.7/dist-packages (from ltp) (1.11.0+cu113)\n",
            "Requirement already satisfied: pyparsing!=3.0.5,>=2.0.2 in /usr/local/lib/python3.7/dist-packages (from packaging>=20.0->ltp) (3.0.9)\n",
            "Requirement already satisfied: typing-extensions in /usr/local/lib/python3.7/dist-packages (from torch>=1.2.0->ltp) (4.1.1)\n",
            "Requirement already satisfied: tokenizers<0.11,>=0.10.1 in /usr/local/lib/python3.7/dist-packages (from transformers<=4.7.0,>=4.0.0->ltp) (0.10.3)\n",
            "Requirement already satisfied: sacremoses in /usr/local/lib/python3.7/dist-packages (from transformers<=4.7.0,>=4.0.0->ltp) (0.0.53)\n",
            "Requirement already satisfied: filelock in /usr/local/lib/python3.7/dist-packages (from transformers<=4.7.0,>=4.0.0->ltp) (3.7.1)\n",
            "Requirement already satisfied: huggingface-hub==0.0.8 in /usr/local/lib/python3.7/dist-packages (from transformers<=4.7.0,>=4.0.0->ltp) (0.0.8)\n",
            "Requirement already satisfied: numpy>=1.17 in /usr/local/lib/python3.7/dist-packages (from transformers<=4.7.0,>=4.0.0->ltp) (1.21.6)\n",
            "Requirement already satisfied: tqdm>=4.27 in /usr/local/lib/python3.7/dist-packages (from transformers<=4.7.0,>=4.0.0->ltp) (4.64.0)\n",
            "Requirement already satisfied: regex!=2019.12.17 in /usr/local/lib/python3.7/dist-packages (from transformers<=4.7.0,>=4.0.0->ltp) (2022.6.2)\n",
            "Requirement already satisfied: pyyaml in /usr/local/lib/python3.7/dist-packages (from transformers<=4.7.0,>=4.0.0->ltp) (3.13)\n",
            "Requirement already satisfied: requests in /usr/local/lib/python3.7/dist-packages (from transformers<=4.7.0,>=4.0.0->ltp) (2.23.0)\n",
            "Requirement already satisfied: importlib-metadata in /usr/local/lib/python3.7/dist-packages (from transformers<=4.7.0,>=4.0.0->ltp) (4.11.4)\n",
            "Requirement already satisfied: zipp>=0.5 in /usr/local/lib/python3.7/dist-packages (from importlib-metadata->transformers<=4.7.0,>=4.0.0->ltp) (3.8.0)\n",
            "Requirement already satisfied: idna<3,>=2.5 in /usr/local/lib/python3.7/dist-packages (from requests->transformers<=4.7.0,>=4.0.0->ltp) (2.10)\n",
            "Requirement already satisfied: chardet<4,>=3.0.2 in /usr/local/lib/python3.7/dist-packages (from requests->transformers<=4.7.0,>=4.0.0->ltp) (3.0.4)\n",
            "Requirement already satisfied: certifi>=2017.4.17 in /usr/local/lib/python3.7/dist-packages (from requests->transformers<=4.7.0,>=4.0.0->ltp) (2022.6.15)\n",
            "Requirement already satisfied: urllib3!=1.25.0,!=1.25.1,<1.26,>=1.21.1 in /usr/local/lib/python3.7/dist-packages (from requests->transformers<=4.7.0,>=4.0.0->ltp) (1.24.3)\n",
            "Requirement already satisfied: click in /usr/local/lib/python3.7/dist-packages (from sacremoses->transformers<=4.7.0,>=4.0.0->ltp) (7.1.2)\n",
            "Requirement already satisfied: six in /usr/local/lib/python3.7/dist-packages (from sacremoses->transformers<=4.7.0,>=4.0.0->ltp) (1.15.0)\n",
            "Requirement already satisfied: joblib in /usr/local/lib/python3.7/dist-packages (from sacremoses->transformers<=4.7.0,>=4.0.0->ltp) (1.1.0)\n"
          ]
        }
      ]
    },
    {
      "cell_type": "code",
      "source": [
        "from ltp import LTP\n",
        "ltp = LTP() # 默认加载 Small 模型"
      ],
      "metadata": {
        "colab": {
          "base_uri": "https://localhost:8080/",
          "height": 77,
          "referenced_widgets": [
            "5aed833427d94290b21dbd9bddb6f74e",
            "f56489730df64cb1ba8ee2912854635a",
            "20945d4dec1a4f6989ff0bfff6d2912d",
            "6ec42389dfd54038bc5bf85c778115a5",
            "b30f3251d54d44ea83e5f864206fbd3a",
            "e3d60c1e0f9d4fa592b498674dd24176",
            "0e52ce2463e744d8a7ebc3cda6dda618",
            "9335637a1626404a84eee84c798cba02",
            "a41b5aef05cd4ad18c05ec606adb355a",
            "301949c7cb044adca47245320e57d256",
            "66e6805f2ce04ee6a57775154763f137"
          ]
        },
        "id": "S4u1Asq5Buff",
        "outputId": "70dc0669-a796-4e30-c2ba-0fa1eff83677"
      },
      "execution_count": 19,
      "outputs": [
        {
          "output_type": "display_data",
          "data": {
            "text/plain": [
              "Downloading:   0%|          | 0.00/164M [00:00<?, ?B/s]"
            ],
            "application/vnd.jupyter.widget-view+json": {
              "version_major": 2,
              "version_minor": 0,
              "model_id": "5aed833427d94290b21dbd9bddb6f74e"
            }
          },
          "metadata": {}
        }
      ]
    },
    {
      "cell_type": "code",
      "source": [
        "text_list[:20]"
      ],
      "metadata": {
        "colab": {
          "base_uri": "https://localhost:8080/"
        },
        "id": "XsmXy2dsE2Lt",
        "outputId": "9d96f070-8ab9-4a80-b027-9e57d63ab5db"
      },
      "execution_count": 32,
      "outputs": [
        {
          "output_type": "execute_result",
          "data": {
            "text/plain": [
              "['ICS 01.140.20 A 14',\n",
              " 'GB',\n",
              " '中华人民共和国国家标准',\n",
              " 'GB/T 22373-2008',\n",
              " '标准文献元数据',\n",
              " 'Metadata of standards documents',\n",
              " '2008-09-11发布\\t\\t\\t\\t\\t\\t\\t\\t\\t\\t    2009-01-01实施',\n",
              " '',\n",
              " '中华人民共和国国家质量监督检验检疫总局',\n",
              " '中国国家标准化管理委员会',\n",
              " '发布',\n",
              " '\\n',\n",
              " '四',\n",
              " 'GB/T 22373-2008',\n",
              " '2 规范性引用文件',\n",
              " '3 术语和定义',\n",
              " '4 标准文献元数据的描述方法',\n",
              " '附录A（规范性附录）标准文献元数据代码集16',\n",
              " '附录B（资料性附录）常用标准文献元数据表19',\n",
              " 'B.1']"
            ]
          },
          "metadata": {},
          "execution_count": 32
        }
      ]
    },
    {
      "cell_type": "code",
      "source": [
        "#添加自定义词典\n",
        "from ltp import LTP\n",
        "ltp = LTP()\n",
        "# user_dict.txt 是词典文件， max_window是最大前向分词窗口\n",
        "ltp.init_dict(path=\"user_dict.txt\", max_window=4)\n",
        "# 也可以在代码中添加自定义的词语\n",
        "ltp.add_words(words=[\"负重前行\", \"长江大桥\"], max_window=4)"
      ],
      "metadata": {
        "id": "3lC-ylwGBvT9"
      },
      "execution_count": 20,
      "outputs": []
    },
    {
      "cell_type": "code",
      "source": [
        "#命名实体识别\n",
        "seg, hidden = ltp.seg(text_list)\n",
        "ner = ltp.ner(hidden)\n",
        "# [['他', '叫', '汤姆', '去', '拿', '外衣', '。']]\n",
        "# [[('Nh', 2, 2)]]\n"
      ],
      "metadata": {
        "id": "_bPNI1RyCACv"
      },
      "execution_count": 22,
      "outputs": []
    },
    {
      "cell_type": "code",
      "source": [
        "f=open('ltp.txt',encoding='utf_8',mode='w+')\n",
        "for sent,ent in zip(seg,ner):\n",
        "  for i in range(0,len(ent)):\n",
        "    tag, start, end = ent[i]\n",
        "    f.write('{}\\t{}\\n'.format(tag,''.join(sent[start:end+1])))\n",
        "    print(''.join(sent[start:end+1]))\n",
        "    "
      ],
      "metadata": {
        "colab": {
          "base_uri": "https://localhost:8080/"
        },
        "id": "XK2I-P2eDFbF",
        "outputId": "dad08445-7f45-4da1-9672-927432e51693"
      },
      "execution_count": 29,
      "outputs": [
        {
          "output_type": "stream",
          "name": "stdout",
          "text": [
            "中华人民共和国\n",
            "中华人民共和国国家质量监督检验检疫总局\n",
            "中国国家标准化管理委员会\n",
            "中国标准化研究院\n",
            "中国标准化研究院\n",
            "姚晓静\n",
            "周洁\n",
            "李菁\n",
            "于立梅\n",
            "杨京\n",
            "余松华\n",
            "关天\n",
            "中国\n",
            "中国\n",
            "中国\n",
            "中国\n",
            "中国\n",
            "中国\n",
            "中国\n"
          ]
        }
      ]
    },
    {
      "cell_type": "code",
      "source": [
        "seg[:20]"
      ],
      "metadata": {
        "id": "hGmWc4r6Cr4j"
      },
      "execution_count": null,
      "outputs": []
    },
    {
      "cell_type": "code",
      "source": [
        "[i for i in ner if i!=[]]"
      ],
      "metadata": {
        "colab": {
          "base_uri": "https://localhost:8080/"
        },
        "id": "pBO8flgxCld0",
        "outputId": "67158e86-09fc-49fb-9c9e-130295e56f7a"
      },
      "execution_count": 30,
      "outputs": [
        {
          "output_type": "execute_result",
          "data": {
            "text/plain": [
              "[[('Ns', 0, 0)],\n",
              " [('Ni', 0, 6)],\n",
              " [('Ni', 0, 4)],\n",
              " [('Ni', 3, 5)],\n",
              " [('Ni', 3, 5)],\n",
              " [('Nh', 5, 5),\n",
              "  ('Nh', 7, 7),\n",
              "  ('Nh', 9, 9),\n",
              "  ('Nh', 11, 11),\n",
              "  ('Nh', 13, 13),\n",
              "  ('Nh', 15, 15)],\n",
              " [('Nh', 2, 2)],\n",
              " [('Ns', 4, 4)],\n",
              " [('Ns', 4, 4)],\n",
              " [('Ns', 1, 1)],\n",
              " [('Ns', 5, 5)],\n",
              " [('Ns', 3, 3), ('Ns', 36, 36)],\n",
              " [('Ns', 33, 33)]]"
            ]
          },
          "metadata": {},
          "execution_count": 30
        }
      ]
    },
    {
      "cell_type": "markdown",
      "source": [
        "# pyhanlp"
      ],
      "metadata": {
        "id": "EeD125iTFZVO"
      }
    },
    {
      "cell_type": "code",
      "source": [
        "pip install pyhanlp"
      ],
      "metadata": {
        "id": "OK-vUVCQFbMg"
      },
      "execution_count": null,
      "outputs": []
    },
    {
      "cell_type": "code",
      "source": [
        "import pyhanlp\n",
        "text = '杨超越在1998年7月31日出生于江苏省盐城市大丰区。'\n",
        "NLPTokenizer = pyhanlp.JClass('com.hankcs.hanlp.tokenizer.NLPTokenizer')\n",
        "NER = NLPTokenizer.segment(text)\n",
        "print(NER)\n"
      ],
      "metadata": {
        "colab": {
          "base_uri": "https://localhost:8080/"
        },
        "id": "SwMxmMphFY2-",
        "outputId": "10ecf006-2eb4-4899-f7e6-4ad603d1a978"
      },
      "execution_count": 34,
      "outputs": [
        {
          "output_type": "stream",
          "name": "stdout",
          "text": [
            "下载 https://file.hankcs.com/hanlp/hanlp-1.8.3-release.zip 到 /usr/local/lib/python3.7/dist-packages/pyhanlp/static/hanlp-1.8.3-release.zip\n",
            "100%   1.8 MiB   1.4 MiB/s ETA:  0 s [=========================================]\n",
            "下载 https://file.hankcs.com/hanlp/data-for-1.7.5.zip 到 /usr/local/lib/python3.7/dist-packages/pyhanlp/static/data-for-1.8.3.zip\n",
            "100% 637.7 MiB   1.4 MiB/s ETA:  0 s [=========================================]\n"
          ]
        },
        {
          "output_type": "stream",
          "name": "stderr",
          "text": [
            "\r                                                                                                    \r解压 data.zip...\n"
          ]
        },
        {
          "output_type": "stream",
          "name": "stdout",
          "text": [
            "[杨超越/nr, 在/p, 1998年7月31日/t, 出生/v, 于/p, 江苏省盐城市/ns, 大丰区/ns, 。/w]\n"
          ]
        }
      ]
    },
    {
      "cell_type": "markdown",
      "source": [
        "# spacy"
      ],
      "metadata": {
        "id": "DAUrkQcuLg5U"
      }
    },
    {
      "cell_type": "code",
      "source": [
        "pip install spacy"
      ],
      "metadata": {
        "id": "wAl5zoKtIwc0"
      },
      "execution_count": 48,
      "outputs": []
    },
    {
      "cell_type": "code",
      "source": [
        "!wget https://spacy.io/api/cli#download"
      ],
      "metadata": {
        "colab": {
          "base_uri": "https://localhost:8080/"
        },
        "id": "95tmu9CII9vb",
        "outputId": "a475733d-9e34-4fef-87db-22f9e4532139"
      },
      "execution_count": 41,
      "outputs": [
        {
          "output_type": "stream",
          "name": "stdout",
          "text": [
            "--2022-06-22 11:20:09--  https://spacy.io/api/cli\n",
            "Resolving spacy.io (spacy.io)... 50.18.120.10, 138.68.50.15, 2600:1f1c:471:9d01:205d:4ea3:d46b:9cc6, ...\n",
            "Connecting to spacy.io (spacy.io)|50.18.120.10|:443... connected.\n",
            "HTTP request sent, awaiting response... 301 Moved Permanently\n",
            "Location: /api/cli/ [following]\n",
            "--2022-06-22 11:20:09--  https://spacy.io/api/cli/\n",
            "Connecting to spacy.io (spacy.io)|50.18.120.10|:443... connected.\n",
            "HTTP request sent, awaiting response... 200 OK\n",
            "Length: 380983 (372K) [text/html]\n",
            "Saving to: ‘cli.1’\n",
            "\n",
            "cli.1               100%[===================>] 372.05K  2.34MB/s    in 0.2s    \n",
            "\n",
            "2022-06-22 11:20:10 (2.34 MB/s) - ‘cli.1’ saved [380983/380983]\n",
            "\n"
          ]
        }
      ]
    },
    {
      "cell_type": "code",
      "source": [
        "#加载库\n",
        "import spacy\n",
        "\n",
        "#加载预训练模型\n",
        "nlp = spacy.load(\"en_core_web_sm\")\n",
        "\n",
        "#给定文本\n",
        "text = \"Jon Stewart hosted The Daily Show that aired in New York City.\"\n",
        "\n",
        "#创建doc\n",
        "doc = nlp(text)\n",
        "\n",
        "#从doc中抽取所有实体和相应标签\n",
        "for ent in doc.ents:\n",
        "    print (ent.text, ent.label_)"
      ],
      "metadata": {
        "id": "P1NBKXR2Ivxo"
      },
      "execution_count": null,
      "outputs": []
    },
    {
      "cell_type": "code",
      "source": [
        "!pip install spacy\n",
        "!python -m spacy download zh_core_web_sm"
      ],
      "metadata": {
        "id": "9Cm-NccoJSsb"
      },
      "execution_count": null,
      "outputs": []
    },
    {
      "cell_type": "code",
      "source": [
        "#加载库\n",
        "import spacy\n",
        "\n",
        "#加载预训练模型\n",
        "nlp = spacy.load(\"zh_core_web_sm\")\n",
        "\n",
        "#创建doc\n",
        "doc = nlp(text)\n",
        "\n",
        "f=open('spacy.txt',encoding='utf_8',mode='w+')\n",
        "#从doc中抽取所有实体和相应标签\n",
        "for ent in doc.ents:\n",
        "  f.write('{}\\t{}\\n'.format(ent.text, ent.label_))"
      ],
      "metadata": {
        "id": "m3Pw9otrKVCw"
      },
      "execution_count": 52,
      "outputs": []
    },
    {
      "cell_type": "markdown",
      "source": [
        "# 后边两个执行有错误，没有修改"
      ],
      "metadata": {
        "id": "7oufGwVtLl--"
      }
    },
    {
      "cell_type": "markdown",
      "source": [
        "## bosonnlp"
      ],
      "metadata": {
        "id": "JBDn5041G5yW"
      }
    },
    {
      "cell_type": "code",
      "source": [
        "pip install bosonnlp"
      ],
      "metadata": {
        "colab": {
          "base_uri": "https://localhost:8080/"
        },
        "id": "tA5tzzQbG4Dh",
        "outputId": "17fb9a7f-414b-41cd-b4f9-09eebf0e9e3c"
      },
      "execution_count": 35,
      "outputs": [
        {
          "output_type": "stream",
          "name": "stdout",
          "text": [
            "Looking in indexes: https://pypi.org/simple, https://us-python.pkg.dev/colab-wheels/public/simple/\n",
            "Collecting bosonnlp\n",
            "  Downloading bosonnlp-0.11.1-py2.py3-none-any.whl (12 kB)\n",
            "Requirement already satisfied: requests>=2.0.0 in /usr/local/lib/python3.7/dist-packages (from bosonnlp) (2.23.0)\n",
            "Requirement already satisfied: certifi>=2017.4.17 in /usr/local/lib/python3.7/dist-packages (from requests>=2.0.0->bosonnlp) (2022.6.15)\n",
            "Requirement already satisfied: idna<3,>=2.5 in /usr/local/lib/python3.7/dist-packages (from requests>=2.0.0->bosonnlp) (2.10)\n",
            "Requirement already satisfied: urllib3!=1.25.0,!=1.25.1,<1.26,>=1.21.1 in /usr/local/lib/python3.7/dist-packages (from requests>=2.0.0->bosonnlp) (1.24.3)\n",
            "Requirement already satisfied: chardet<4,>=3.0.2 in /usr/local/lib/python3.7/dist-packages (from requests>=2.0.0->bosonnlp) (3.0.4)\n",
            "Installing collected packages: bosonnlp\n",
            "Successfully installed bosonnlp-0.11.1\n"
          ]
        }
      ]
    },
    {
      "cell_type": "code",
      "source": [
        "from bosonnlp import BosonNLP\n",
        "import os\n",
        "nlp = BosonNLP(os.environ['BOSON_API_TOKEN'])\n",
        "nlp.ner('杨超越在1998年7月31日出生于江苏省盐城市大丰区。', sensitivity=2)"
      ],
      "metadata": {
        "colab": {
          "base_uri": "https://localhost:8080/",
          "height": 343
        },
        "id": "BO7UGhZhHNnN",
        "outputId": "aa2898d2-eaca-4e85-80e2-cb5688a9e02d"
      },
      "execution_count": 37,
      "outputs": [
        {
          "output_type": "error",
          "ename": "KeyError",
          "evalue": "ignored",
          "traceback": [
            "\u001b[0;31m---------------------------------------------------------------------------\u001b[0m",
            "\u001b[0;31mKeyError\u001b[0m                                  Traceback (most recent call last)",
            "\u001b[0;32m<ipython-input-37-08cad4763d55>\u001b[0m in \u001b[0;36m<module>\u001b[0;34m()\u001b[0m\n\u001b[1;32m      1\u001b[0m \u001b[0;32mfrom\u001b[0m \u001b[0mbosonnlp\u001b[0m \u001b[0;32mimport\u001b[0m \u001b[0mBosonNLP\u001b[0m\u001b[0;34m\u001b[0m\u001b[0;34m\u001b[0m\u001b[0m\n\u001b[1;32m      2\u001b[0m \u001b[0;32mimport\u001b[0m \u001b[0mos\u001b[0m\u001b[0;34m\u001b[0m\u001b[0;34m\u001b[0m\u001b[0m\n\u001b[0;32m----> 3\u001b[0;31m \u001b[0mnlp\u001b[0m \u001b[0;34m=\u001b[0m \u001b[0mBosonNLP\u001b[0m\u001b[0;34m(\u001b[0m\u001b[0mos\u001b[0m\u001b[0;34m.\u001b[0m\u001b[0menviron\u001b[0m\u001b[0;34m[\u001b[0m\u001b[0;34m'BOSON_API_TOKEN'\u001b[0m\u001b[0;34m]\u001b[0m\u001b[0;34m)\u001b[0m\u001b[0;34m\u001b[0m\u001b[0;34m\u001b[0m\u001b[0m\n\u001b[0m\u001b[1;32m      4\u001b[0m \u001b[0mnlp\u001b[0m\u001b[0;34m.\u001b[0m\u001b[0mner\u001b[0m\u001b[0;34m(\u001b[0m\u001b[0;34m'杨超越在1998年7月31日出生于江苏省盐城市大丰区。'\u001b[0m\u001b[0;34m,\u001b[0m \u001b[0msensitivity\u001b[0m\u001b[0;34m=\u001b[0m\u001b[0;36m2\u001b[0m\u001b[0;34m)\u001b[0m\u001b[0;34m\u001b[0m\u001b[0;34m\u001b[0m\u001b[0m\n",
            "\u001b[0;32m/usr/lib/python3.7/os.py\u001b[0m in \u001b[0;36m__getitem__\u001b[0;34m(self, key)\u001b[0m\n\u001b[1;32m    679\u001b[0m         \u001b[0;32mexcept\u001b[0m \u001b[0mKeyError\u001b[0m\u001b[0;34m:\u001b[0m\u001b[0;34m\u001b[0m\u001b[0;34m\u001b[0m\u001b[0m\n\u001b[1;32m    680\u001b[0m             \u001b[0;31m# raise KeyError with the original key value\u001b[0m\u001b[0;34m\u001b[0m\u001b[0;34m\u001b[0m\u001b[0;34m\u001b[0m\u001b[0m\n\u001b[0;32m--> 681\u001b[0;31m             \u001b[0;32mraise\u001b[0m \u001b[0mKeyError\u001b[0m\u001b[0;34m(\u001b[0m\u001b[0mkey\u001b[0m\u001b[0;34m)\u001b[0m \u001b[0;32mfrom\u001b[0m \u001b[0;32mNone\u001b[0m\u001b[0;34m\u001b[0m\u001b[0;34m\u001b[0m\u001b[0m\n\u001b[0m\u001b[1;32m    682\u001b[0m         \u001b[0;32mreturn\u001b[0m \u001b[0mself\u001b[0m\u001b[0;34m.\u001b[0m\u001b[0mdecodevalue\u001b[0m\u001b[0;34m(\u001b[0m\u001b[0mvalue\u001b[0m\u001b[0;34m)\u001b[0m\u001b[0;34m\u001b[0m\u001b[0;34m\u001b[0m\u001b[0m\n\u001b[1;32m    683\u001b[0m \u001b[0;34m\u001b[0m\u001b[0m\n",
            "\u001b[0;31mKeyError\u001b[0m: 'BOSON_API_TOKEN'"
          ]
        }
      ]
    },
    {
      "cell_type": "markdown",
      "source": [
        "## NLTK"
      ],
      "metadata": {
        "id": "2ZXPe3dM_XAI"
      }
    },
    {
      "cell_type": "code",
      "source": [
        "pip install --user -U nltk"
      ],
      "metadata": {
        "colab": {
          "base_uri": "https://localhost:8080/"
        },
        "id": "_1WOOSgP_6RC",
        "outputId": "e85d81fe-5979-442e-a89e-a94bf9d38add"
      },
      "execution_count": 12,
      "outputs": [
        {
          "output_type": "stream",
          "name": "stdout",
          "text": [
            "Looking in indexes: https://pypi.org/simple, https://us-python.pkg.dev/colab-wheels/public/simple/\n",
            "Requirement already satisfied: nltk in /usr/local/lib/python3.7/dist-packages (3.7)\n",
            "Requirement already satisfied: joblib in /usr/local/lib/python3.7/dist-packages (from nltk) (1.1.0)\n",
            "Requirement already satisfied: tqdm in /usr/local/lib/python3.7/dist-packages (from nltk) (4.64.0)\n",
            "Requirement already satisfied: click in /usr/local/lib/python3.7/dist-packages (from nltk) (7.1.2)\n",
            "Requirement already satisfied: regex>=2021.8.3 in /usr/local/lib/python3.7/dist-packages (from nltk) (2022.6.2)\n"
          ]
        }
      ]
    },
    {
      "cell_type": "code",
      "source": [
        "import re\n",
        "import pandas as pd\n",
        "import nltk \n",
        "from nltk.tag import pos_tag\n",
        "import re\n",
        "from nltk.tag import StanfordNERTagger\n",
        "import os\n",
        "import pandas as pd\n",
        "import nltk\n"
      ],
      "metadata": {
        "id": "NhCN_THNBB8A"
      },
      "execution_count": 15,
      "outputs": []
    },
    {
      "cell_type": "code",
      "source": [
        "sentences = text\n",
        "#分词\n",
        "tokenized_sentences = [nltk.word_tokenize(sentence) for sentence in sentences]\n",
        "#标注词性\n",
        "tagged_sentences = [nltk.tag.pos_tag(sentence) for sentence in tokenized_sentences]\n",
        "#命名实体识别\n",
        "ne_chunked_sents = [nltk.ne_chunk(tagged) for tagged in tagged_sentences]\n",
        "# extract all named entities\n",
        "named_entities = []\n",
        "for ne_tagged_sentence in ne_chunked_sents:\n",
        "    for tagged_tree in ne_tagged_sentence:\n",
        "       # extract only chunks having NE labels\n",
        "        if hasattr(tagged_tree, 'label'):\n",
        "            entity_name = ' '.join(c[0] for c in tagged_tree.leaves()) #get NE name\n",
        "            entity_type = tagged_tree.label() # get NE category\n",
        "            named_entities.append((entity_name, entity_type))\n",
        "            # get unique named entities\n",
        "            named_entities = list(set(named_entities))\n",
        "\n",
        "# store named entities in a data frame\n",
        "entity_frame = pd.DataFrame(named_entities, columns=['Entity Name', 'Entity Type'])\n",
        "# display results\n",
        "print(entity_frame)\n"
      ],
      "metadata": {
        "colab": {
          "base_uri": "https://localhost:8080/",
          "height": 783
        },
        "id": "7Z-veDdSBAQk",
        "outputId": "8767fc1d-e106-466b-b583-7776f663ba27"
      },
      "execution_count": 17,
      "outputs": [
        {
          "output_type": "error",
          "ename": "LookupError",
          "evalue": "ignored",
          "traceback": [
            "\u001b[0;31m---------------------------------------------------------------------------\u001b[0m",
            "\u001b[0;31mLookupError\u001b[0m                               Traceback (most recent call last)",
            "\u001b[0;32m<ipython-input-17-07c15b39aedb>\u001b[0m in \u001b[0;36m<module>\u001b[0;34m()\u001b[0m\n\u001b[1;32m      1\u001b[0m \u001b[0msentences\u001b[0m \u001b[0;34m=\u001b[0m \u001b[0mtext\u001b[0m\u001b[0;34m\u001b[0m\u001b[0;34m\u001b[0m\u001b[0m\n\u001b[1;32m      2\u001b[0m \u001b[0;31m#分词\u001b[0m\u001b[0;34m\u001b[0m\u001b[0;34m\u001b[0m\u001b[0;34m\u001b[0m\u001b[0m\n\u001b[0;32m----> 3\u001b[0;31m \u001b[0mtokenized_sentences\u001b[0m \u001b[0;34m=\u001b[0m \u001b[0;34m[\u001b[0m\u001b[0mnltk\u001b[0m\u001b[0;34m.\u001b[0m\u001b[0mword_tokenize\u001b[0m\u001b[0;34m(\u001b[0m\u001b[0msentence\u001b[0m\u001b[0;34m)\u001b[0m \u001b[0;32mfor\u001b[0m \u001b[0msentence\u001b[0m \u001b[0;32min\u001b[0m \u001b[0msentences\u001b[0m\u001b[0;34m]\u001b[0m\u001b[0;34m\u001b[0m\u001b[0;34m\u001b[0m\u001b[0m\n\u001b[0m\u001b[1;32m      4\u001b[0m \u001b[0;31m#标注词性\u001b[0m\u001b[0;34m\u001b[0m\u001b[0;34m\u001b[0m\u001b[0;34m\u001b[0m\u001b[0m\n\u001b[1;32m      5\u001b[0m \u001b[0mtagged_sentences\u001b[0m \u001b[0;34m=\u001b[0m \u001b[0;34m[\u001b[0m\u001b[0mnltk\u001b[0m\u001b[0;34m.\u001b[0m\u001b[0mtag\u001b[0m\u001b[0;34m.\u001b[0m\u001b[0mpos_tag\u001b[0m\u001b[0;34m(\u001b[0m\u001b[0msentence\u001b[0m\u001b[0;34m)\u001b[0m \u001b[0;32mfor\u001b[0m \u001b[0msentence\u001b[0m \u001b[0;32min\u001b[0m \u001b[0mtokenized_sentences\u001b[0m\u001b[0;34m]\u001b[0m\u001b[0;34m\u001b[0m\u001b[0;34m\u001b[0m\u001b[0m\n",
            "\u001b[0;32m<ipython-input-17-07c15b39aedb>\u001b[0m in \u001b[0;36m<listcomp>\u001b[0;34m(.0)\u001b[0m\n\u001b[1;32m      1\u001b[0m \u001b[0msentences\u001b[0m \u001b[0;34m=\u001b[0m \u001b[0mtext\u001b[0m\u001b[0;34m\u001b[0m\u001b[0;34m\u001b[0m\u001b[0m\n\u001b[1;32m      2\u001b[0m \u001b[0;31m#分词\u001b[0m\u001b[0;34m\u001b[0m\u001b[0;34m\u001b[0m\u001b[0;34m\u001b[0m\u001b[0m\n\u001b[0;32m----> 3\u001b[0;31m \u001b[0mtokenized_sentences\u001b[0m \u001b[0;34m=\u001b[0m \u001b[0;34m[\u001b[0m\u001b[0mnltk\u001b[0m\u001b[0;34m.\u001b[0m\u001b[0mword_tokenize\u001b[0m\u001b[0;34m(\u001b[0m\u001b[0msentence\u001b[0m\u001b[0;34m)\u001b[0m \u001b[0;32mfor\u001b[0m \u001b[0msentence\u001b[0m \u001b[0;32min\u001b[0m \u001b[0msentences\u001b[0m\u001b[0;34m]\u001b[0m\u001b[0;34m\u001b[0m\u001b[0;34m\u001b[0m\u001b[0m\n\u001b[0m\u001b[1;32m      4\u001b[0m \u001b[0;31m#标注词性\u001b[0m\u001b[0;34m\u001b[0m\u001b[0;34m\u001b[0m\u001b[0;34m\u001b[0m\u001b[0m\n\u001b[1;32m      5\u001b[0m \u001b[0mtagged_sentences\u001b[0m \u001b[0;34m=\u001b[0m \u001b[0;34m[\u001b[0m\u001b[0mnltk\u001b[0m\u001b[0;34m.\u001b[0m\u001b[0mtag\u001b[0m\u001b[0;34m.\u001b[0m\u001b[0mpos_tag\u001b[0m\u001b[0;34m(\u001b[0m\u001b[0msentence\u001b[0m\u001b[0;34m)\u001b[0m \u001b[0;32mfor\u001b[0m \u001b[0msentence\u001b[0m \u001b[0;32min\u001b[0m \u001b[0mtokenized_sentences\u001b[0m\u001b[0;34m]\u001b[0m\u001b[0;34m\u001b[0m\u001b[0;34m\u001b[0m\u001b[0m\n",
            "\u001b[0;32m/usr/local/lib/python3.7/dist-packages/nltk/tokenize/__init__.py\u001b[0m in \u001b[0;36mword_tokenize\u001b[0;34m(text, language, preserve_line)\u001b[0m\n\u001b[1;32m    127\u001b[0m     \u001b[0;34m:\u001b[0m\u001b[0mtype\u001b[0m \u001b[0mpreserve_line\u001b[0m\u001b[0;34m:\u001b[0m \u001b[0mbool\u001b[0m\u001b[0;34m\u001b[0m\u001b[0;34m\u001b[0m\u001b[0m\n\u001b[1;32m    128\u001b[0m     \"\"\"\n\u001b[0;32m--> 129\u001b[0;31m     \u001b[0msentences\u001b[0m \u001b[0;34m=\u001b[0m \u001b[0;34m[\u001b[0m\u001b[0mtext\u001b[0m\u001b[0;34m]\u001b[0m \u001b[0;32mif\u001b[0m \u001b[0mpreserve_line\u001b[0m \u001b[0;32melse\u001b[0m \u001b[0msent_tokenize\u001b[0m\u001b[0;34m(\u001b[0m\u001b[0mtext\u001b[0m\u001b[0;34m,\u001b[0m \u001b[0mlanguage\u001b[0m\u001b[0;34m)\u001b[0m\u001b[0;34m\u001b[0m\u001b[0;34m\u001b[0m\u001b[0m\n\u001b[0m\u001b[1;32m    130\u001b[0m     return [\n\u001b[1;32m    131\u001b[0m         \u001b[0mtoken\u001b[0m \u001b[0;32mfor\u001b[0m \u001b[0msent\u001b[0m \u001b[0;32min\u001b[0m \u001b[0msentences\u001b[0m \u001b[0;32mfor\u001b[0m \u001b[0mtoken\u001b[0m \u001b[0;32min\u001b[0m \u001b[0m_treebank_word_tokenizer\u001b[0m\u001b[0;34m.\u001b[0m\u001b[0mtokenize\u001b[0m\u001b[0;34m(\u001b[0m\u001b[0msent\u001b[0m\u001b[0;34m)\u001b[0m\u001b[0;34m\u001b[0m\u001b[0;34m\u001b[0m\u001b[0m\n",
            "\u001b[0;32m/usr/local/lib/python3.7/dist-packages/nltk/tokenize/__init__.py\u001b[0m in \u001b[0;36msent_tokenize\u001b[0;34m(text, language)\u001b[0m\n\u001b[1;32m    104\u001b[0m     \u001b[0;34m:\u001b[0m\u001b[0mparam\u001b[0m \u001b[0mlanguage\u001b[0m\u001b[0;34m:\u001b[0m \u001b[0mthe\u001b[0m \u001b[0mmodel\u001b[0m \u001b[0mname\u001b[0m \u001b[0;32min\u001b[0m \u001b[0mthe\u001b[0m \u001b[0mPunkt\u001b[0m \u001b[0mcorpus\u001b[0m\u001b[0;34m\u001b[0m\u001b[0;34m\u001b[0m\u001b[0m\n\u001b[1;32m    105\u001b[0m     \"\"\"\n\u001b[0;32m--> 106\u001b[0;31m     \u001b[0mtokenizer\u001b[0m \u001b[0;34m=\u001b[0m \u001b[0mload\u001b[0m\u001b[0;34m(\u001b[0m\u001b[0;34mf\"tokenizers/punkt/{language}.pickle\"\u001b[0m\u001b[0;34m)\u001b[0m\u001b[0;34m\u001b[0m\u001b[0;34m\u001b[0m\u001b[0m\n\u001b[0m\u001b[1;32m    107\u001b[0m     \u001b[0;32mreturn\u001b[0m \u001b[0mtokenizer\u001b[0m\u001b[0;34m.\u001b[0m\u001b[0mtokenize\u001b[0m\u001b[0;34m(\u001b[0m\u001b[0mtext\u001b[0m\u001b[0;34m)\u001b[0m\u001b[0;34m\u001b[0m\u001b[0;34m\u001b[0m\u001b[0m\n\u001b[1;32m    108\u001b[0m \u001b[0;34m\u001b[0m\u001b[0m\n",
            "\u001b[0;32m/usr/local/lib/python3.7/dist-packages/nltk/data.py\u001b[0m in \u001b[0;36mload\u001b[0;34m(resource_url, format, cache, verbose, logic_parser, fstruct_reader, encoding)\u001b[0m\n\u001b[1;32m    748\u001b[0m \u001b[0;34m\u001b[0m\u001b[0m\n\u001b[1;32m    749\u001b[0m     \u001b[0;31m# Load the resource.\u001b[0m\u001b[0;34m\u001b[0m\u001b[0;34m\u001b[0m\u001b[0;34m\u001b[0m\u001b[0m\n\u001b[0;32m--> 750\u001b[0;31m     \u001b[0mopened_resource\u001b[0m \u001b[0;34m=\u001b[0m \u001b[0m_open\u001b[0m\u001b[0;34m(\u001b[0m\u001b[0mresource_url\u001b[0m\u001b[0;34m)\u001b[0m\u001b[0;34m\u001b[0m\u001b[0;34m\u001b[0m\u001b[0m\n\u001b[0m\u001b[1;32m    751\u001b[0m \u001b[0;34m\u001b[0m\u001b[0m\n\u001b[1;32m    752\u001b[0m     \u001b[0;32mif\u001b[0m \u001b[0mformat\u001b[0m \u001b[0;34m==\u001b[0m \u001b[0;34m\"raw\"\u001b[0m\u001b[0;34m:\u001b[0m\u001b[0;34m\u001b[0m\u001b[0;34m\u001b[0m\u001b[0m\n",
            "\u001b[0;32m/usr/local/lib/python3.7/dist-packages/nltk/data.py\u001b[0m in \u001b[0;36m_open\u001b[0;34m(resource_url)\u001b[0m\n\u001b[1;32m    874\u001b[0m \u001b[0;34m\u001b[0m\u001b[0m\n\u001b[1;32m    875\u001b[0m     \u001b[0;32mif\u001b[0m \u001b[0mprotocol\u001b[0m \u001b[0;32mis\u001b[0m \u001b[0;32mNone\u001b[0m \u001b[0;32mor\u001b[0m \u001b[0mprotocol\u001b[0m\u001b[0;34m.\u001b[0m\u001b[0mlower\u001b[0m\u001b[0;34m(\u001b[0m\u001b[0;34m)\u001b[0m \u001b[0;34m==\u001b[0m \u001b[0;34m\"nltk\"\u001b[0m\u001b[0;34m:\u001b[0m\u001b[0;34m\u001b[0m\u001b[0;34m\u001b[0m\u001b[0m\n\u001b[0;32m--> 876\u001b[0;31m         \u001b[0;32mreturn\u001b[0m \u001b[0mfind\u001b[0m\u001b[0;34m(\u001b[0m\u001b[0mpath_\u001b[0m\u001b[0;34m,\u001b[0m \u001b[0mpath\u001b[0m \u001b[0;34m+\u001b[0m \u001b[0;34m[\u001b[0m\u001b[0;34m\"\"\u001b[0m\u001b[0;34m]\u001b[0m\u001b[0;34m)\u001b[0m\u001b[0;34m.\u001b[0m\u001b[0mopen\u001b[0m\u001b[0;34m(\u001b[0m\u001b[0;34m)\u001b[0m\u001b[0;34m\u001b[0m\u001b[0;34m\u001b[0m\u001b[0m\n\u001b[0m\u001b[1;32m    877\u001b[0m     \u001b[0;32melif\u001b[0m \u001b[0mprotocol\u001b[0m\u001b[0;34m.\u001b[0m\u001b[0mlower\u001b[0m\u001b[0;34m(\u001b[0m\u001b[0;34m)\u001b[0m \u001b[0;34m==\u001b[0m \u001b[0;34m\"file\"\u001b[0m\u001b[0;34m:\u001b[0m\u001b[0;34m\u001b[0m\u001b[0;34m\u001b[0m\u001b[0m\n\u001b[1;32m    878\u001b[0m         \u001b[0;31m# urllib might not use mode='rb', so handle this one ourselves:\u001b[0m\u001b[0;34m\u001b[0m\u001b[0;34m\u001b[0m\u001b[0;34m\u001b[0m\u001b[0m\n",
            "\u001b[0;32m/usr/local/lib/python3.7/dist-packages/nltk/data.py\u001b[0m in \u001b[0;36mfind\u001b[0;34m(resource_name, paths)\u001b[0m\n\u001b[1;32m    581\u001b[0m     \u001b[0msep\u001b[0m \u001b[0;34m=\u001b[0m \u001b[0;34m\"*\"\u001b[0m \u001b[0;34m*\u001b[0m \u001b[0;36m70\u001b[0m\u001b[0;34m\u001b[0m\u001b[0;34m\u001b[0m\u001b[0m\n\u001b[1;32m    582\u001b[0m     \u001b[0mresource_not_found\u001b[0m \u001b[0;34m=\u001b[0m \u001b[0;34mf\"\\n{sep}\\n{msg}\\n{sep}\\n\"\u001b[0m\u001b[0;34m\u001b[0m\u001b[0;34m\u001b[0m\u001b[0m\n\u001b[0;32m--> 583\u001b[0;31m     \u001b[0;32mraise\u001b[0m \u001b[0mLookupError\u001b[0m\u001b[0;34m(\u001b[0m\u001b[0mresource_not_found\u001b[0m\u001b[0;34m)\u001b[0m\u001b[0;34m\u001b[0m\u001b[0;34m\u001b[0m\u001b[0m\n\u001b[0m\u001b[1;32m    584\u001b[0m \u001b[0;34m\u001b[0m\u001b[0m\n\u001b[1;32m    585\u001b[0m \u001b[0;34m\u001b[0m\u001b[0m\n",
            "\u001b[0;31mLookupError\u001b[0m: \n**********************************************************************\n  Resource \u001b[93mpunkt\u001b[0m not found.\n  Please use the NLTK Downloader to obtain the resource:\n\n  \u001b[31m>>> import nltk\n  >>> nltk.download('punkt')\n  \u001b[0m\n  For more information see: https://www.nltk.org/data.html\n\n  Attempted to load \u001b[93mtokenizers/punkt/PY3/english.pickle\u001b[0m\n\n  Searched in:\n    - '/root/nltk_data'\n    - '/usr/nltk_data'\n    - '/usr/share/nltk_data'\n    - '/usr/lib/nltk_data'\n    - '/usr/share/nltk_data'\n    - '/usr/local/share/nltk_data'\n    - '/usr/lib/nltk_data'\n    - '/usr/local/lib/nltk_data'\n    - ''\n**********************************************************************\n"
          ]
        }
      ]
    }
  ]
}
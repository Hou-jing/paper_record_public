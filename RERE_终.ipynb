{
  "nbformat": 4,
  "nbformat_minor": 0,
  "metadata": {
    "colab": {
      "name": "RERE_终.ipynb",
      "provenance": [],
      "collapsed_sections": [
        "4dglFe1iaC3k"
      ],
      "toc_visible": true,
      "authorship_tag": "ABX9TyNcW1AlZjCTvN9xvVllsSwx",
      "include_colab_link": true
    },
    "kernelspec": {
      "name": "python3",
      "display_name": "Python 3"
    },
    "language_info": {
      "name": "python"
    },
    "accelerator": "GPU"
  },
  "cells": [
    {
      "cell_type": "markdown",
      "metadata": {
        "id": "view-in-github",
        "colab_type": "text"
      },
      "source": [
        "<a href=\"https://colab.research.google.com/github/Hou-jing/paper_record_public/blob/main/RERE_%E7%BB%88.ipynb\" target=\"_parent\"><img src=\"https://colab.research.google.com/assets/colab-badge.svg\" alt=\"Open In Colab\"/></a>"
      ]
    },
    {
      "cell_type": "code",
      "execution_count": null,
      "metadata": {
        "id": "2coaUjSGJAWp"
      },
      "outputs": [],
      "source": [
        "pip install tensorflow==2.1.0"
      ]
    },
    {
      "cell_type": "code",
      "source": [
        "pip install bert4keras"
      ],
      "metadata": {
        "id": "4eOvANOzJHZc"
      },
      "execution_count": null,
      "outputs": []
    },
    {
      "cell_type": "code",
      "source": [
        "!wget https://www.dropbox.com/s/pm4hrky2hxvv2po/cased_L-12_H-768_A-12%20%281%29.zip?dl=0  -O pretrained_bert_models.zip\n",
        "!unzip -q pretrained_bert_models.zip\n",
        "\n",
        "bert_model = 'cased_L-12_H-768_A-12'\n",
        "bert_config_path =  bert_model + '/bert_config.json'\n",
        "\n",
        "\n",
        "bert_vocab_path = bert_model + '/vocab.txt'\n",
        "bert_checkpoint_path =  bert_model + '/bert_model.ckpt'"
      ],
      "metadata": {
        "id": "UnADIJRiJLcB"
      },
      "execution_count": null,
      "outputs": []
    },
    {
      "cell_type": "code",
      "source": [
        "pip install h5py==2.10.0"
      ],
      "metadata": {
        "id": "FXxXCv5cO2hJ"
      },
      "execution_count": null,
      "outputs": []
    },
    {
      "cell_type": "code",
      "source": [
        "import sys\n",
        "\n",
        "import tensorflow as tf\n",
        "sys.path.append('./BERT_tf2')\n",
        "from bert4keras.models import build_transformer_model\n",
        "\n",
        "bert_model = 'cased_L-12_H-768_A-12'\n",
        "bert_config_path =  bert_model + '/bert_config.json'\n",
        "\n",
        "\n",
        "bert_vocab_path = bert_model + '/vocab.txt'\n",
        "bert_checkpoint_path =  bert_model + '/bert_model.ckpt'\n",
        "bert = build_transformer_model(bert_config_path, bert_checkpoint_path, return_keras_model=False) \n",
        "bert.model.save('bert_uncased.h5')"
      ],
      "metadata": {
        "colab": {
          "base_uri": "https://localhost:8080/"
        },
        "id": "crr9FwFoJY_O",
        "outputId": "2876a747-97b6-4d44-9380-2054aac29dcd"
      },
      "execution_count": null,
      "outputs": [
        {
          "output_type": "stream",
          "name": "stderr",
          "text": [
            "Using TensorFlow backend.\n"
          ]
        }
      ]
    },
    {
      "cell_type": "code",
      "source": [
        "\n",
        "from tensorflow.keras.models import load_model\n",
        "import keras\n",
        "model= keras.models.load_model('bert_uncased.h5')\n",
        "\n",
        "# load_model('bert_uncased.h5')"
      ],
      "metadata": {
        "colab": {
          "base_uri": "https://localhost:8080/"
        },
        "id": "2OeMTM8ZOdb5",
        "outputId": "b1dcd5f8-8a32-4709-f983-5a5b9b4d3e58"
      },
      "execution_count": null,
      "outputs": [
        {
          "output_type": "stream",
          "name": "stderr",
          "text": [
            "/usr/local/lib/python3.7/dist-packages/keras/engine/saving.py:341: UserWarning: No training configuration found in save file: the model was *not* compiled. Compile it manually.\n",
            "  warnings.warn('No training configuration found in save file: '\n"
          ]
        }
      ]
    },
    {
      "cell_type": "code",
      "source": [
        "import os, sys, time, math, re\n",
        "import tensorflow as tf\n",
        "from tqdm import tqdm\n",
        "import numpy as np\n",
        "import tensorflow.keras.backend as K\n",
        "from tensorflow.keras.callbacks import Callback\n",
        "from tensorflow.keras.models import *\n",
        "\n",
        "from bert4keras.tokenizers import Tokenizer\n",
        "from bert4keras.snippets import to_array\n",
        "from bert4keras.optimizers import Adam, extend_with_piecewise_linear_lr, extend_with_weight_decay\n",
        "from bert4keras.models import build_transformer_model\n",
        "from bert4keras.layers import *\n",
        "from tensorflow.keras.initializers import TruncatedNormal"
      ],
      "metadata": {
        "id": "NRsCpyGFLfE8"
      },
      "execution_count": null,
      "outputs": []
    },
    {
      "cell_type": "code",
      "source": [
        "import os, sys, time, math, re\n",
        "import tensorflow as tf\n",
        "from tqdm import tqdm\n",
        "import numpy as np\n",
        "import tensorflow.keras.backend as K\n",
        "from tensorflow.keras.callbacks import Callback\n",
        "from tensorflow.keras.models import *\n",
        "\n",
        "from bert4keras.tokenizers import Tokenizer\n",
        "from bert4keras.snippets import to_array\n",
        "from bert4keras.optimizers import Adam, extend_with_piecewise_linear_lr, extend_with_weight_decay\n",
        "from bert4keras.models import build_transformer_model\n",
        "from bert4keras.layers import *\n",
        "from tensorflow.keras.initializers import TruncatedNormal\n",
        "\n",
        "en_dict_path = r'cased_L-12_H-768_A-12/vocab.txt'\n",
        "# cn_dict_path = r'../tfhub/chinese_roberta_wwm_ext_L-12_H-768_A-12/vocab.txt'\n",
        "cn_dict_path = r''\n",
        "# script_path = os.path.split(os.path.realpath(__file__))[0]\n",
        "# en_dict_path = os.path.join(script_path, '../tfhub/uncased_L-12_H-768_A-12')\n",
        "# cn_dict_path = os.path.join(script_path, '../tfhub/chinese_roberta_wwm_ext_L-12_H-768_A-12')\n",
        "# tokenizer = Tokenizer(cn_dict_path, do_lower_case=True)\n",
        "language = 'cn'\n",
        "\n",
        "def switch_to_en():\n",
        "\tglobal tokenizer, language\n",
        "\ttokenizer = Tokenizer(en_dict_path, do_lower_case=True)\n",
        "\tlanguage = 'en'\n",
        "\n",
        "def convert_sentences(sents, maxlen=256):\n",
        "\tshape = (2, len(sents), maxlen)\n",
        "\tX = np.zeros(shape, dtype='int32')\n",
        "\tfor ii, sent in tqdm(enumerate(sents), desc=\"Converting sentences\"):\n",
        "\t\ttids, segs = tokenizer.encode(sent, maxlen=maxlen)\n",
        "\t\tX[0,ii,:len(tids)] = tids\n",
        "\t\tX[1,ii,:len(segs)] = segs\n",
        "\treturn [X[0], X[1]]\n",
        "\n",
        "def convert_tokens(sents, maxlen=256):\n",
        "\tshape = (2, len(sents), maxlen)\n",
        "\tX = np.zeros(shape, dtype='int32')\n",
        "\tfor ii, sent in tqdm(enumerate(sents), desc=\"Converting tokens\"):\n",
        "\t\ttids = tokenizer.tokens_to_ids(sent)\n",
        "\t\tX[0,ii,:len(tids)] = tids\n",
        "\treturn [X[0], X[1]]\n",
        "\n",
        "def lock_transformer_layers(transformer, layers=-1):\n",
        "\tdef _filter(layers, prefix):\n",
        "\t\treturn [x for x in transformer.layers if x.name.startswith(prefix)]\n",
        "\tif hasattr(transformer, 'model'): transformer = transformer.model\n",
        "\tif layers >= 0:\n",
        "\t\tprint('locking', 'Embedding-*')\n",
        "\t\tfor layer in _filter(transformer, 'Embedding-'):\n",
        "\t\t\tlayer.trainable = False \n",
        "\tprint('locking', 'Transformer-[%d-%d]-*' % (0, layers-1))\n",
        "\tfor index in range(layers):\n",
        "\t\tfor layer in _filter(transformer, 'Transformer-%d-' % index):\n",
        "\t\t\tlayer.trainable = False \n",
        "\n",
        "def unlock_transformer_layers(transformer):\n",
        "\tif hasattr(transformer, 'model'): transformer = transformer.model\n",
        "\tfor layer in transformer.layers:\n",
        "\t\tlayer.trainable = True\n",
        "\n",
        "def get_suggested_optimizer(init_lr=5e-5, total_steps=None):\n",
        "\tlr_schedule = {1000:1, 10000:0.01}\n",
        "\tif total_steps is not None: \n",
        "\t\tlr_schedule = {total_steps//10:1, total_steps:0.1}\n",
        "\toptimizer = extend_with_weight_decay(Adam)\n",
        "\toptimizer = extend_with_piecewise_linear_lr(optimizer)\n",
        "\toptimizer_params = {\n",
        "\t\t'learning_rate': init_lr,\n",
        "\t\t'lr_schedule': lr_schedule,\n",
        "\t\t'weight_decay_rate': 0.01,\n",
        "\t\t'exclude_from_weight_decay': ['Norm', 'bias'],\n",
        "\t\t'bias_correction': False,\n",
        "\t}\n",
        "\toptimizer = optimizer(**optimizer_params)\n",
        "\treturn optimizer\n",
        "\n",
        "def convert_single_setences(sens, maxlen, tokenizer, details=False):\n",
        "\tX = np.zeros((len(sens), maxlen), dtype='int32')\n",
        "\tdatas = []\n",
        "\tfor i, s in enumerate(sens):\n",
        "\t\ttokens = tokenizer.tokenize(s)[:maxlen-2]\n",
        "\t\tif details:\n",
        "\t\t\totokens = restore_token_list(s, tokens)\n",
        "\t\t\tdatas.append({'id':i, 's':s, 'otokens':otokens})\n",
        "\t\ttt = ['[CLS]'] + tokens + ['[SEP]']\n",
        "\t\ttids = tokenizer.convert_tokens_to_ids(tt)\n",
        "\t\tX[i,:len(tids)] = tids\n",
        "\tif details: return datas, X\n",
        "\treturn X\n",
        "\n",
        "def build_classifier(classes, bert_h5=None):\n",
        "\tif bert_h5 is None:\n",
        "\t\tbert_h5 = '../tfhub/chinese_roberta_wwm_ext.h5' if language == 'cn' else '../tfhub/bert_uncased.h5'\n",
        "\tbert = load_model(bert_h5)\n",
        "\toutput = Lambda(lambda x: x[:,0], name='CLS-token')(bert.output)\n",
        "\tif classes == 2:\n",
        "\t\toutput = Dense(1, activation='sigmoid', kernel_initializer=TruncatedNormal(stddev=0.02))(output)\n",
        "\telse:\n",
        "\t\toutput = Dense(classes, activation='softmax', kernel_initializer=TruncatedNormal(stddev=0.02))(output)\n",
        "\tmodel = Model(bert.input, output)\n",
        "\tmodel.bert_encoder = bert\n",
        "\treturn model\n",
        "\n",
        "\n",
        "## THESE FUNCTIONS ARE TESTED FOR CHS LANGUAGE ONLY\n",
        "def gen_token_list_inv_pointer(sent, token_list):\n",
        "\tzz = tokenizer.rematch(sent, token_list)\n",
        "\treturn [x[0] for x in zz if len(x) > 0]\n",
        "\tsent = sent.lower()\n",
        "\totiis = []; iis = 0 \n",
        "\tfor it, token in enumerate(token_list):\n",
        "\t\totoken = token.lstrip('#')\n",
        "\t\tif token[0] == '[' and token[-1] == ']': otoken = ''\n",
        "\t\tniis = iis\n",
        "\t\twhile niis <= len(sent):\n",
        "\t\t\tif sent[niis:].startswith(otoken): break\n",
        "\t\t\tif otoken in '-\"' and sent[niis][0] in '—“”': break\n",
        "\t\t\tniis += 1\n",
        "\t\tif niis >= len(sent): niis = iis\n",
        "\t\totiis.append(niis)\n",
        "\t\tiis = niis + max(1, len(otoken))\n",
        "\tfor tt, ii in zip(token_list, otiis): print(tt, sent[ii:ii+len(tt.lstrip('#'))])\n",
        "\tfor i, iis in enumerate(otiis): \n",
        "\t\tassert iis < len(sent)\n",
        "\t\totoken = token_list[i].strip('#')\n",
        "\t\tassert otoken == '[UNK]' or sent[iis:iis+len(otoken)] == otoken\n",
        "\treturn otiis\n",
        "\n",
        "# restore [UNK] tokens to the original tokens\n",
        "def restore_token_list(sent, token_list):\n",
        "\tif token_list[0] == '[CLS]': token_list = token_list[1:-1]\n",
        "\tinvp = gen_token_list_inv_pointer(sent, token_list)\n",
        "\tinvp.append(len(sent))\n",
        "\totokens = [sent[u:v] for u,v in zip(invp, invp[1:])]\n",
        "\tprocessed = -1\n",
        "\tfor ii, tk in enumerate(token_list):\n",
        "\t\tif tk != '[UNK]': continue\n",
        "\t\tif ii < processed: continue\n",
        "\t\tfor jj in range(ii+1, len(token_list)):\n",
        "\t\t\tif token_list[jj] != '[UNK]': break\n",
        "\t\telse: jj = len(token_list)\n",
        "\t\tallseg = sent[invp[ii]:invp[jj]]\n",
        "\n",
        "\t\tif ii + 1 == jj: continue\n",
        "\t\tseppts = [0] + [i for i, x in enumerate(allseg) if i > 0 and i+1 < len(allseg) and x == ' ' and allseg[i-1] != ' ']\n",
        "\t\tif allseg[seppts[-1]:].replace(' ', '') == '': seppts = seppts[:-1]\n",
        "\t\tseppts.append(len(allseg))\n",
        "\t\tif len(seppts) == jj - ii + 1:\n",
        "\t\t\tfor k, (u,v) in enumerate(zip(seppts, seppts[1:])): \n",
        "\t\t\t\totokens[ii+k] = allseg[u:v]\n",
        "\t\tprocessed = jj + 1\n",
        "\tif invp[0] > 0: otokens[0] = sent[:invp[0]] + otokens[0]\n",
        "\tif ''.join(otokens) != sent:\n",
        "\t\traise Exception('restore tokens failed, text and restored:\\n%s\\n%s' % (sent, ''.join(otokens)))\n",
        "\treturn otokens\n",
        "\n",
        "def gen_word_level_labels(sent, token_list, word_list, pos_list=None):\n",
        "\totiis = gen_token_list_inv_pointer(sent, token_list)\n",
        "\twdiis = [];\tiis = 0\n",
        "\tfor ip, pword in enumerate(word_list):\n",
        "\t\tniis = iis\n",
        "\t\twhile niis < len(sent):\n",
        "\t\t\tif pword == '' or sent[niis:].startswith(pword[0]): break\n",
        "\t\t\tniis += 1\n",
        "\t\twdiis.append(niis)\n",
        "\t\tiis = niis + len(pword)\n",
        "\t#for tt, ii in zip(word_list, wdiis): print(tt, sent[ii:ii+len(tt)])\n",
        "\n",
        "\trlist = [];\tip = 0\n",
        "\tfor it, iis in enumerate(otiis):\n",
        "\t\twhile ip + 1 < len(wdiis) and wdiis[ip+1] <= iis: ip += 1\n",
        "\t\tif iis == wdiis[ip]: rr = 'B'\n",
        "\t\telif iis > wdiis[ip]: rr = 'I'\n",
        "\t\trr += '-' + pos_list[ip]\n",
        "\t\trlist.append(rr)\n",
        "\t#for rr, tt in zip(rlist, token_list): print(rr, tt)\n",
        "\treturn rlist\n",
        "\n",
        "def normalize_sentence(text):\n",
        "\ttext = re.sub('[“”]', '\"', text)\n",
        "\ttext = re.sub('[—]', '-', text)\n",
        "\ttext = re.sub('[^\\u0000-\\u007f\\u4e00-\\u9fa5\\u3001-\\u303f\\uff00-\\uffef·—]', ' \\u2800 ', text)\n",
        "\treturn text\n",
        "\n",
        "if __name__ == '__main__':\n",
        "\t#from transformers import BertTokenizer\n",
        "\t#tokenizer = BertTokenizer.from_pretrained('hfl/chinese-bert-wwm')\n",
        "\tswitch_to_en()\n",
        "\tsent = 'French is the national language of France where the leaders are FranÃ§ois Hollande and Manuel Valls . Barny cakes , made with sponge cake , can be found in France .'\n",
        "\ttokens = tokenizer.tokenize(sent)\n",
        "\totokens = restore_token_list(sent, tokens)\n",
        "\tprint(tokens)\n",
        "\tprint(otokens)\n",
        "\tprint('done')"
      ],
      "metadata": {
        "colab": {
          "base_uri": "https://localhost:8080/"
        },
        "id": "E_bmq12MLgv9",
        "outputId": "e850b969-017a-4a90-a0ec-9fc8cdf6b24e"
      },
      "execution_count": null,
      "outputs": [
        {
          "output_type": "stream",
          "name": "stdout",
          "text": [
            "['[CLS]', 'f', '##rench', 'is', 'the', 'national', 'language', 'of', 'f', '##rance', 'where', 'the', 'leaders', 'are', 'f', '##rana', '§', 'o', '##is', 'ho', '##lland', '##e', 'and', 'man', '##uel', 'v', '##all', '##s', '.', 'barn', '##y', 'cakes', ',', 'made', 'with', 's', '##po', '##nge', 'cake', ',', 'can', 'be', 'found', 'in', 'f', '##rance', '.', '[SEP]']\n",
            "['F', 'rench ', 'is ', 'the ', 'national ', 'language ', 'of ', 'F', 'rance ', 'where ', 'the ', 'leaders ', 'are ', 'F', 'ranÃ', '§', 'o', 'is ', 'Ho', 'lland', 'e ', 'and ', 'Man', 'uel ', 'V', 'all', 's ', '. ', 'Barn', 'y ', 'cakes ', ', ', 'made ', 'with ', 's', 'po', 'nge ', 'cake ', ', ', 'can ', 'be ', 'found ', 'in ', 'F', 'rance ', '.']\n",
            "done\n"
          ]
        }
      ]
    },
    {
      "cell_type": "markdown",
      "source": [
        "### utils"
      ],
      "metadata": {
        "id": "1RuvU4khZ5OL"
      }
    },
    {
      "cell_type": "code",
      "source": [
        "# coding = utf-8\n",
        "\n",
        "import os, re, sys, random, urllib.parse, json\n",
        "from collections import defaultdict\n",
        "\n",
        "def WriteLine(fout, lst):\n",
        "\tfout.write('\\t'.join([str(x) for x in lst]) + '\\n')\n",
        "\n",
        "def RM(patt, sr):\n",
        "\tmat = re.search(patt, sr, re.DOTALL | re.MULTILINE)\n",
        "\treturn mat.group(1) if mat else ''\n",
        "\n",
        "try: import requests\n",
        "except: pass\n",
        "def GetPage(url, cookie='', proxy='', timeout=5):\n",
        "\ttry:\n",
        "\t\theaders = {'User-Agent':'Mozilla/5.0 (Windows NT 6.3; WOW64) AppleWebKit/537.36 (KHTML, like Gecko) Chrome/42.0.2311.90 Safari/537.36'}\n",
        "\t\tif cookie != '': headers['cookie'] = cookie\n",
        "\t\tif proxy != '': \n",
        "\t\t\tproxies = {'http': proxy, 'https': proxy}\n",
        "\t\t\tresp = requests.get(url, headers=headers, proxies=proxies, timeout=timeout)\n",
        "\t\telse: resp = requests.get(url, headers=headers, timeout=timeout)\n",
        "\t\tcontent = resp.content\n",
        "\t\ttry: \n",
        "\t\t\timport chardet\n",
        "\t\t\tcharset = chardet.detect(content).get('encoding','utf-8')\n",
        "\t\t\tif charset.lower().startswith('gb'): charset = 'gbk'\n",
        "\t\t\tcontent = content.decode(charset, errors='replace')\n",
        "\t\texcept:\n",
        "\t\t\theadc = content[:min([3000,len(content)])].decode(errors='ignore')\n",
        "\t\t\tcharset = RM('charset=\"?([-a-zA-Z0-9]+)', headc)\n",
        "\t\t\tif charset == '': charset = 'utf-8'\n",
        "\t\t\tcontent = content.decode(charset, errors='replace')\n",
        "\texcept Exception as e:\n",
        "\t\tprint(e)\n",
        "\t\tcontent = ''\n",
        "\treturn content\n",
        "\n",
        "def GetJson(url, cookie='', proxy='', timeout=5.0):\n",
        "\ttry:\n",
        "\t\theaders = {'User-Agent':'Mozilla/5.0 (Windows NT 6.3; WOW64) AppleWebKit/537.36 (KHTML, like Gecko) Chrome/42.0.2311.90 Safari/537.36'}\n",
        "\t\tif cookie != '': headers['cookie'] = cookie\n",
        "\t\tif proxy != '': \n",
        "\t\t\tproxies = {'http': proxy, 'https': proxy}\n",
        "\t\t\tresp = requests.get(url, headers=headers, proxies=proxies, timeout=timeout)\n",
        "\t\telse: resp = requests.get(url, headers=headers, timeout=timeout)\n",
        "\t\treturn resp.json() \n",
        "\texcept Exception as e:\n",
        "\t\tprint(e)\n",
        "\t\tcontent = {}\n",
        "\treturn content\n",
        "\n",
        "def FindAllHrefs(url, content=None, regex=''):\n",
        "\tret = set()\n",
        "\tif content == None: content = GetPage(url)\n",
        "\tpatt = re.compile('href=\"?([a-zA-Z0-9-_:/.%]+)')\n",
        "\tfor xx in re.findall(patt, content):\n",
        "\t\tret.add( urllib.parse.urljoin(url, xx) )\n",
        "\tif regex != '': ret = (x for x in ret if re.match(regex, x))\n",
        "\treturn list(ret)\n",
        "\n",
        "def Translate(txt):\n",
        "\tpostdata = {'from': 'en', 'to': 'zh', 'transtype': 'realtime', 'query': txt}\n",
        "\turl = \"http://fanyi.baidu.com/v2transapi\"\n",
        "\ttry:\n",
        "\t\tresp = requests.post(url, data=postdata, \n",
        "\t\t\t\t\t   headers={'Referer': 'http://fanyi.baidu.com/'})\n",
        "\t\tret = resp.json()\n",
        "\t\tret = ret['trans_result']['data'][0]['dst']\n",
        "\texcept Exception as e:\n",
        "\t\tprint(e)\n",
        "\t\tret = ''\n",
        "\treturn ret\n",
        "\n",
        "def IsChsStr(z):\n",
        "\treturn re.search('^[\\u4e00-\\u9fa5]+$', z) is not None\n",
        "\n",
        "def FreqDict2List(dt):\n",
        "\treturn sorted(dt.items(), key=lambda d:d[-1], reverse=True)\n",
        "\n",
        "def SelectRowsbyCol(fn, ofn, st, num = 0):\n",
        "\twith open(fn, encoding = \"utf-8\") as fin:\n",
        "\t\twith open(ofn, \"w\", encoding = \"utf-8\") as fout:\n",
        "\t\t\tfor line in (ll for ll in fin.read().split('\\n') if ll != \"\"):\n",
        "\t\t\t\tif line.split('\\t')[num] in st:\n",
        "\t\t\t\t\tfout.write(line + '\\n')\n",
        "\n",
        "def MergeFiles(dir, objfile, regstr = \".*\"):\n",
        "\twith open(objfile, \"w\", encoding = \"utf-8\") as fout:\n",
        "\t\tfor file in os.listdir(dir):\n",
        "\t\t\tif re.match(regstr, file):\n",
        "\t\t\t\twith open(os.path.join(dir, file), encoding = \"utf-8\") as filein:\n",
        "\t\t\t\t\tfout.write(filein.read())\n",
        "\n",
        "def JoinFiles(fnx, fny, ofn):\n",
        "\twith open(fnx, encoding = \"utf-8\") as fin:\n",
        "\t\tlx = [vv for vv in fin.read().split('\\n') if vv != \"\"]\n",
        "\twith open(fny, encoding = \"utf-8\") as fin:\n",
        "\t\tly = [vv for vv in fin.read().split('\\n') if vv != \"\"]\n",
        "\twith open(ofn, \"w\", encoding = \"utf-8\") as fout:\n",
        "\t\tfor i in range(min(len(lx), len(ly))):\n",
        "\t\t\tfout.write(lx[i] + \"\\t\" + ly[i] + \"\\n\")\n",
        "\n",
        "\t\t\t\t\n",
        "def RemoveDupRows(file, fobj='*'):\n",
        "\tst = set()\n",
        "\tif fobj == '*': fobj = file\n",
        "\twith open(file, encoding = \"utf-8\") as fin:\n",
        "\t\tfor line in fin.read().split('\\n'):\n",
        "\t\t\tif line == \"\": continue\n",
        "\t\t\tst.add(line)\n",
        "\twith open(fobj, \"w\", encoding = \"utf-8\") as fout:\n",
        "\t\tfor line in st:\n",
        "\t\t\tfout.write(line + '\\n')\n",
        "\t\t\t\n",
        "def LoadCSV(fn):\n",
        "\tret = []\n",
        "\twith open(fn, encoding='utf-8') as fin:\n",
        "\t\tfor line in fin:\n",
        "\t\t\tlln = line.rstrip('\\r\\n').split('\\t')\n",
        "\t\t\tret.append(lln)\n",
        "\treturn ret\n",
        "\n",
        "def LoadCSVg(fn):\n",
        "\twith open(fn, encoding='utf-8') as fin:\n",
        "\t\tfor line in fin:\n",
        "\t\t\tlln = line.rstrip('\\r\\n').split('\\t')\n",
        "\t\t\tyield lln\n",
        "\n",
        "def SaveCSV(csv, fn):\n",
        "\twith open(fn, 'w', encoding='utf-8') as fout:\n",
        "\t\tfor x in csv:\n",
        "\t\t\tWriteLine(fout, x)\n",
        "\n",
        "def SplitTables(fn, limit=3):\n",
        "\trst = set()\n",
        "\twith open(fn, encoding='utf-8') as fin:\n",
        "\t\tfor line in fin:\n",
        "\t\t\tlln = line.rstrip('\\r\\n').split('\\t')\n",
        "\t\t\trst.add(len(lln))\n",
        "\tif len(rst) > limit: \n",
        "\t\tprint('%d tables, exceed limit %d' % (len(rst), limit))\n",
        "\t\treturn\n",
        "\tfor ii in rst:\n",
        "\t\tprint('%d columns' % ii)\n",
        "\t\twith open(fn.replace('.txt', '') + '.split.%d.txt' % ii, 'w', encoding='utf-8') as fout:\n",
        "\t\t\twith open(fn, encoding='utf-8') as fin:\n",
        "\t\t\t\tfor line in fin:\n",
        "\t\t\t\t\tlln = line.rstrip('\\r\\n').split('\\t')\n",
        "\t\t\t\t\tif len(lln) == ii:\n",
        "\t\t\t\t\t\tfout.write(line)\n",
        "\n",
        "def LoadSet(fn):\n",
        "\twith open(fn, encoding=\"utf-8\") as fin:\n",
        "\t\tst = set(ll for ll in fin.read().split('\\n') if ll != \"\")\n",
        "\treturn st\n",
        "\n",
        "def LoadList(fn):\n",
        "\twith open(fn, encoding=\"utf-8\") as fin:\n",
        "\t\tst = list(ll for ll in fin.read().split('\\n') if ll != \"\")\n",
        "\treturn st\n",
        "\n",
        "def LoadJsonsg(fn): return map(json.loads, LoadListg(fn))\n",
        "def LoadJsons(fn): return list(LoadJsonsg(fn))\n",
        "\n",
        "def LoadListg(fn):\n",
        "\twith open(fn, encoding=\"utf-8\") as fin:\n",
        "\t\tfor ll in fin:\n",
        "\t\t\tll = ll.strip()\n",
        "\t\t\tif ll != '': yield ll\n",
        "\n",
        "def LoadDict(fn, func=str):\n",
        "\tdict = {}\n",
        "\twith open(fn, encoding = \"utf-8\") as fin:\n",
        "\t\tfor lv in (ll.split('\\t', 1) for ll in fin.read().split('\\n') if ll != \"\"):\n",
        "\t\t\tdict[lv[0]] = func(lv[1])\n",
        "\treturn dict\n",
        "\n",
        "def SaveDict(dict, ofn, output0 = True):\n",
        "\twith open(ofn, \"w\", encoding = \"utf-8\") as fout:\n",
        "\t\tfor k in dict.keys():\n",
        "\t\t\tif output0 or dict[k] != 0:\n",
        "\t\t\t\tfout.write(str(k) + \"\\t\" + str(dict[k]) + \"\\n\")\n",
        "\t\t\t\n",
        "def SaveList(st, ofn):\n",
        "\twith open(ofn, \"w\", encoding = \"utf-8\") as fout:\n",
        "\t\tfor k in st:\n",
        "\t\t\tfout.write(str(k) + \"\\n\")\n",
        "\n",
        "def ListDirFiles(dir, filter=None):\n",
        "\tif filter is None: \n",
        "\t\treturn [os.path.join(dir, x) for x in os.listdir(dir)]\n",
        "\treturn [os.path.join(dir, x) for x in os.listdir(dir) if filter(x)]\n",
        "\n",
        "def ProcessDir(dir, func, param):\n",
        "\tfor file in os.listdir(dir):\n",
        "\t\tprint(file)\n",
        "\t\tfunc(os.path.join(dir, file), param)\n",
        "\n",
        "def GetLines(fn):\n",
        "\twith open(fn, encoding = \"utf-8\", errors = 'ignore') as fin:\n",
        "\t\tlines = list(map(str.strip, fin.readlines()))\n",
        "\treturn lines\n",
        "\n",
        "\t\t\t\t\n",
        "def SortRows(file, fobj, cid, type=int, rev = True):\n",
        "\tlines = LoadCSV(file)\n",
        "\tdat = []\n",
        "\tfor dv in lines:\n",
        "\t\tif len(dv) <= cid: continue\n",
        "\t\tdat.append((type(dv[cid]), dv))\n",
        "\twith open(fobj, \"w\", encoding = \"utf-8\") as fout:\n",
        "\t\tfor dd in sorted(dat, reverse = rev):\n",
        "\t\t\tfout.write('\\t'.join(dd[1]) + '\\n')\n",
        "\n",
        "def SampleRows(file, fobj, num):\n",
        "\tzz = list(open(file, encoding='utf-8'))\n",
        "\tnum = min([num, len(zz)])\n",
        "\tzz = random.sample(zz, num)\n",
        "\twith open(fobj, 'w', encoding='utf-8') as fout:\n",
        "\t\tfor xx in zz: fout.write(xx)\n",
        "\n",
        "def SetProduct(file1, file2, fobj):\n",
        "\tl1, l2 = GetLines(file1), GetLines(file2)\n",
        "\twith open(fobj, 'w', encoding='utf-8') as fout:\n",
        "\t\tfor z1 in l1:\n",
        "\t\t\tfor z2 in l2:\n",
        "\t\t\t\tfout.write(z1 + z2 + '\\n')\n",
        "\n",
        "class TokenList:\n",
        "\tdef __init__(self, file, low_freq=2, source=None, func=None, save_low_freq=2, special_marks=[]):\n",
        "\t\tif not os.path.exists(file):\n",
        "\t\t\ttdict = defaultdict(int)\n",
        "\t\t\tfor i, xx in enumerate(special_marks): tdict[xx] = 100000000 - i\n",
        "\t\t\tfor xx in source:\n",
        "\t\t\t\tfor token in func(xx): tdict[token] += 1\n",
        "\t\t\ttokens = FreqDict2List(tdict)\n",
        "\t\t\ttokens = [x for x in tokens if x[1] >= save_low_freq]\n",
        "\t\t\tSaveCSV(tokens, file)\n",
        "\t\tself.id2t = ['<PAD>', '<UNK>'] + \\\n",
        "\t\t\t[x for x,y in LoadCSV(file) if float(y) >= low_freq]\n",
        "\t\tself.t2id = {v:k for k,v in enumerate(self.id2t)}\n",
        "\tdef get_id(self, token): return self.t2id.get(token, 1)\n",
        "\tdef get_token(self, ii): return self.id2t[ii]\n",
        "\tdef get_num(self): return len(self.id2t)\n",
        "\n",
        "def CalcF1(correct, output, golden):\n",
        "\tprec = correct / max(output, 1);  reca = correct / max(golden, 1);\n",
        "\tf1 = 2 * prec * reca / max(1e-9, prec + reca)\n",
        "\tpstr = 'Prec: %.4f %d/%d, Reca: %.4f %d/%d, F1: %.4f' % (prec, correct, output, reca, correct, golden, f1)\n",
        "\treturn pstr\n",
        "\n",
        "def Upgradeljqpy(url=None):\n",
        "\tif url is None: url = 'http://gdm.fudan.edu.cn/files1/ljq/ljqpy.py'\n",
        "\tdirs = [dir for dir in reversed(sys.path) if os.path.isdir(dir) and 'ljqpy.py' in os.listdir(dir)]\n",
        "\tif len(dirs) == 0: raise Exception(\"package directory no found\")\n",
        "\tdir = dirs[0]\n",
        "\tprint('downloading ljqpy.py from %s to %s' % (url, dir))\n",
        "\tresp = requests.get(url)\n",
        "\tif b'Upgradeljqpy' not in resp.content: raise Exception('bad file')\n",
        "\twith open(os.path.join(dir, 'ljqpy.py'), 'wb') as fout:\n",
        "\t\tfout.write(resp.content)\n",
        "\tprint('success')\n",
        "\n",
        "def sql(cmd=''):\n",
        "\tif cmd == '': cmd = input(\"> \")\n",
        "\tcts = [x for x in cmd.strip().lower()]\n",
        "\tinstr = False\n",
        "\tfor i in range(len(cts)):\n",
        "\t\tif cts[i] == '\"' and cts[i-1] != '\\\\': instr = not instr\n",
        "\t\tif cts[i] == ' ' and instr: cts[i] = \"&nbsp;\"\n",
        "\tcmds = \"\".join(cts).split(' ')\n",
        "\tkeyw = { 'select', 'from', 'to', 'where' }\n",
        "\tct, kn = {}, ''\n",
        "\tfor xx in cmds:\n",
        "\t\tif xx in keyw: kn = xx\n",
        "\t\telse: ct[kn] = ct.get(kn, \"\") + \" \" + xx\n",
        "\n",
        "\tfor xx in ct.keys():\n",
        "\t\tct[xx] = ct[xx].replace(\"&nbsp;\", \" \").strip()\n",
        "\n",
        "\tif ct.get('where', \"\") == \"\": ct['where'] = 'True'\n",
        "\n",
        "\tif os.path.isdir(ct['from']): fl = [os.path.join(ct['from'], x) for x in os.listdir(ct['from'])]\n",
        "\telse: fl = ct['from'].split('+')\n",
        "\n",
        "\tif ct.get('to', \"\") == \"\": ct['to'] = 'temp.txt'\n",
        "\n",
        "\tfor xx in ct.keys():\n",
        "\t\tprint(xx + \" : \" + ct[xx])\n",
        "\n",
        "\ttotal = 0\n",
        "\twith open(ct['to'], 'w', encoding = 'utf-8') as fout:\n",
        "\t\tfor fn in fl:\n",
        "\t\t\tprint('selecting ' + fn)\n",
        "\t\t\tfor xx in open(fn, encoding = 'utf-8'):\n",
        "\t\t\t\tx = xx.rstrip('\\r\\n').split('\\t')\n",
        "\t\t\t\tif eval(ct['where']):\n",
        "\t\t\t\t\tif ct['select'] == '*': res = \"\\t\".join(x) + '\\n'\n",
        "\t\t\t\t\telse: res = \"\\t\".join(eval('[' + ct['select'] + ']')) + '\\n'\n",
        "\t\t\t\t\tfout.write(res)\n",
        "\t\t\t\t\ttotal += 1\n",
        "\n",
        "\tprint('completed, ' + str(total) + \" records\")\n",
        "\n",
        "def cmd():\n",
        "\twhile True:\n",
        "\t\tcmd = input(\"> \")\n",
        "\t\tsql(cmd)\n",
        "\t\t"
      ],
      "metadata": {
        "id": "u80f99nDLywb"
      },
      "execution_count": null,
      "outputs": []
    },
    {
      "cell_type": "code",
      "source": [
        "import os, sys, time, re, json\n",
        "os.environ['TF_CPP_MIN_LOG_LEVEL'] = '2'\n",
        "sys.path.append('./BERT_tf2')\n",
        "sys.path.append('./')\n",
        "# import torch\n",
        "import tensorflow as tf\n",
        "from tensorflow.keras.models import load_model\n",
        "from tensorflow.keras.layers import *\n",
        "from tensorflow.keras.callbacks import *\n",
        "from bert4keras.backend import keras, K\n",
        "from collections import defaultdict\n",
        "import numpy as np\n",
        "from tqdm import tqdm\n",
        "import json"
      ],
      "metadata": {
        "id": "qNq2qaznL8lX"
      },
      "execution_count": null,
      "outputs": []
    },
    {
      "cell_type": "markdown",
      "source": [
        "### 文件下载"
      ],
      "metadata": {
        "id": "6sDU7yUHYTSZ"
      }
    },
    {
      "cell_type": "code",
      "source": [
        "!wget https://www.dropbox.com/s/abskd89mu9me54g/NYT_10.zip?dl=0 -O desktop.zip\n",
        "!unzip -q desktop.zip"
      ],
      "metadata": {
        "id": "GDKEutILMFgS"
      },
      "execution_count": null,
      "outputs": []
    },
    {
      "cell_type": "code",
      "source": [
        "import json\n",
        "dic=dict()\n",
        "dic['NYT10-HRL']={'thre_rc':0.4,'thre_ee':0.2}\n",
        "dic['NYT11-HRL']={'thre_rc':0.56,'thre_ee':0.55}\n",
        "dic['NYT21-HRL']={'thre_rc':0.56,'thre_ee':0.55}\n",
        "dic['ske2019']={'thre_rc':0.5,'thre_ee':0.3}\n",
        "# with open('config.json','w') as f:\n",
        "print(dic)\n",
        "with open('config.json','w') as f:\n",
        "    json.dump(dic,f)"
      ],
      "metadata": {
        "colab": {
          "base_uri": "https://localhost:8080/"
        },
        "id": "46Dd2VFVMgrV",
        "outputId": "e3862528-1b51-4c7b-c44a-0684f5863d21"
      },
      "execution_count": null,
      "outputs": [
        {
          "output_type": "stream",
          "name": "stdout",
          "text": [
            "{'NYT10-HRL': {'thre_rc': 0.4, 'thre_ee': 0.2}, 'NYT11-HRL': {'thre_rc': 0.56, 'thre_ee': 0.55}, 'NYT21-HRL': {'thre_rc': 0.56, 'thre_ee': 0.55}, 'ske2019': {'thre_rc': 0.5, 'thre_ee': 0.3}}\n"
          ]
        }
      ]
    },
    {
      "cell_type": "code",
      "source": [
        "\n",
        "\n",
        "dname = sys.argv[1]\n",
        "trains = LoadJsons('new_train.json')\n",
        "valids = LoadJsons('new_valid.json')\n",
        "tests = LoadJsons('new_test.json')\n",
        "thre_rc=0.2\n",
        "thre_ee=0.4\n",
        "try:\n",
        "    with open('config.json','r') as f:\n",
        "        thres=json.load(f)\n",
        "        thre_rc=thres[f'{dname}']['thre_rc']\n",
        "        thre_ee=thres[f'{dname}']['thre_ee']\n",
        "except:pass\n",
        "if not os.path.isdir('model/'+dname): os.makedirs('model/'+dname)\n",
        "\n",
        "def wdir(x): return 'model/'+dname+'/BCE_'+x\n",
        "\n",
        "rels = TokenList(wdir('rels.txt'), 1, trains, lambda z:[x['label'] for x in z['relationMentions']])\n",
        "print('rels:', rels.get_num())\n",
        "\n",
        "if not dname == 'ske2019': \n",
        "    switch_to_en()\n",
        "\n",
        "\n",
        "LOSS='BCE'\n",
        "maxlen = 128\n",
        "\n",
        "def cpu_mid_loss(y_true,y_pred,mid=0,pi=0.1,**kwargs):\n",
        "    eps = 1e-6\n",
        "    y_true=K.cast(y_true, 'float32')\n",
        "    pos = K.sum(y_true * y_pred, 1) / K.maximum(eps, K.sum(y_true, 1))\n",
        "    pos = - K.log(pos + eps)\n",
        "    neg = K.sum((1-y_true) * y_pred, 1) / K.maximum(eps, K.sum(1-y_true, 1))\n",
        "    neg = K.abs(neg-mid) \n",
        "    neg = - K.log(1 - neg + eps)\n",
        "    return K.mean(pi*pos + neg)\n",
        "\n",
        "def dgcnn_block(x, dim, dila=1):\n",
        "    y1 = Conv1D(dim, 3, padding='same', dilation_rate=dila)(x)\n",
        "    y2 = Conv1D(dim, 3, padding='same', dilation_rate=dila, activation='sigmoid')(x)\n",
        "    yy = multiply([y1, y2])\n",
        "    if yy.shape[-1] == x.shape[-1]: yy = add([yy, x])\n",
        "    return yy\n",
        "    \n",
        "def neg_log_mean_loss(y_true, y_pred):\n",
        "    eps = 1e-6\n",
        "    pos = - K.sum(y_true * K.log(y_pred+eps), 1) / K.maximum(eps, K.sum(y_true, 1))\n",
        "    neg = K.sum((1-y_true) * y_pred, 1) / K.maximum(eps, K.sum(1-y_true, 1))\n",
        "    neg = - K.log(1 - neg + eps)\n",
        "    return K.mean(pos + neg * 15)\n",
        "\n",
        "def FindValuePos(sent, value):\n",
        "    ret = [];  \n",
        "    value = value.replace(' ', '').lower()\n",
        "    if value == '': return ret\n",
        "    ss = [x.replace(' ', '').lower() for x in sent]\n",
        "    for k, v in enumerate(ss):\n",
        "        if not value.startswith(v): continue\n",
        "        vi = 0\n",
        "        for j in range(k, len(ss)):\n",
        "            if value[vi:].startswith(ss[j]):\n",
        "                vi += len(ss[j])\n",
        "                if vi == len(value):\n",
        "                    ret.append( (k, j+1) )\n",
        "            else: break\n",
        "    return ret\n",
        "\n",
        "def GetTopSpans(tokens, rr, K=40):\n",
        "    cands = defaultdict(float)\n",
        "    start_indexes = sorted(enumerate(rr[:,0]), key=lambda x:-x[1])[:K]\n",
        "    end_indexes = sorted(enumerate(rr[:,1]), key=lambda x:-x[1])[:K]\n",
        "    for start_index, start_score in start_indexes:\n",
        "        if start_score < 0.1: continue\n",
        "        if start_index >= len(tokens): continue\n",
        "        for end_index, end_score in end_indexes:\n",
        "            if end_score < 0.1: continue\n",
        "            if end_index >= len(tokens): continue\n",
        "            if end_index < start_index: continue\n",
        "            length = end_index - start_index + 1\n",
        "            if length > 40: continue\n",
        "            ans = ''.join(tokens[start_index:end_index+1]).strip()\n",
        "            if '》' in ans: continue\n",
        "            if '、' in ans and len(ans.split('、')) > 2 and '，' not in ans and ',' not in ans:\n",
        "                aas = ans.split('、')\n",
        "                for aa in aas: cands[aa.strip()] += start_score * end_score / len(aas)\n",
        "                continue\n",
        "            cands[ans] += start_score * end_score\n",
        "\n",
        "    cand_list = sorted(cands.items(), key=lambda x:len(x[0]))\n",
        "    removes = set()\n",
        "    contains = {}\n",
        "    for i, (x, y) in enumerate(cand_list):\n",
        "        for j, (xx, yy) in enumerate(cand_list[:i]):\n",
        "            if xx in x and len(xx) < len(x):\n",
        "                contains.setdefault(x, []).append(xx)\n",
        "\n",
        "    for i, (x, y) in enumerate(cand_list):\n",
        "        sump = sum(cands[z] for z in contains.get(x, []) if z not in removes)\n",
        "        suml = sum(len(z) for z in contains.get(x, []) if z not in removes)\n",
        "        if suml > 0: sump = sump * min(1, len(x) / suml)\n",
        "        if sump > y: removes.add(x)\n",
        "        else:\n",
        "            for z in contains.get(x, []): removes.add(z)\n",
        "\n",
        "    ret = [x for x in cand_list if x[0] not in removes]\n",
        "    ret.sort(key=lambda x:-x[1])\n",
        "    return ret[:K]\n",
        "\n",
        "def GenTriple(p, x, y):\n",
        "    return {'label':p, 'em1Text':x, 'em2Text':y}\n",
        "\n"
      ],
      "metadata": {
        "colab": {
          "base_uri": "https://localhost:8080/"
        },
        "id": "1Or-iKdyL1_Q",
        "outputId": "947eb6d7-ab6b-4f94-a24f-f34f3b28db42"
      },
      "execution_count": null,
      "outputs": [
        {
          "output_type": "stream",
          "name": "stdout",
          "text": [
            "rels: 31\n"
          ]
        }
      ]
    },
    {
      "cell_type": "code",
      "source": [
        ""
      ],
      "metadata": {
        "id": "0Wv0wJdevyam"
      },
      "execution_count": null,
      "outputs": []
    },
    {
      "cell_type": "code",
      "source": [
        "os.environ['TF_CPP_MIN_LOG_LEVEL'] = '2'\n"
      ],
      "metadata": {
        "id": "U3t5qJQCUN7O"
      },
      "execution_count": null,
      "outputs": []
    },
    {
      "cell_type": "code",
      "source": [
        "import keras\n",
        "model= keras.models.load_model('bert_uncased.h5')"
      ],
      "metadata": {
        "colab": {
          "base_uri": "https://localhost:8080/"
        },
        "id": "7_7zbz5INIgH",
        "outputId": "6510d6d9-a646-41d1-91ed-33ea0a5de108"
      },
      "execution_count": null,
      "outputs": [
        {
          "output_type": "stream",
          "name": "stderr",
          "text": [
            "/usr/local/lib/python3.7/dist-packages/keras/engine/saving.py:341: UserWarning: No training configuration found in save file: the model was *not* compiled. Compile it manually.\n",
            "  warnings.warn('No training configuration found in save file: '\n"
          ]
        }
      ]
    },
    {
      "cell_type": "code",
      "source": [
        "import tensorflow\n",
        "from keras.layers import *\n",
        "from tensorflow.keras.optimizers import Adam\n",
        "from keras.models import Model\n",
        "import keras.backend as K\n",
        "from keras.callbacks import Callback\n"
      ],
      "metadata": {
        "id": "4UHLfztcUfQ1"
      },
      "execution_count": null,
      "outputs": []
    },
    {
      "cell_type": "code",
      "source": [
        "def get_suggested_optimizer(init_lr=5e-5, total_steps=None):\n",
        "\tlr_schedule = {1000:1, 10000:0.01}\n",
        "\tif total_steps is not None: \n",
        "\t\tlr_schedule = {total_steps//10:1, total_steps:0.1}\n",
        "\toptimizer = extend_with_weight_decay(Adam)\n",
        "\toptimizer = extend_with_piecewise_linear_lr(optimizer)\n",
        "\toptimizer_params = {\n",
        "\t\t'learning_rate': init_lr,\n",
        "\t\t'lr_schedule': lr_schedule,\n",
        "\t\t'weight_decay_rate': 0.01,\n",
        "\t\t'exclude_from_weight_decay': ['Norm', 'bias']\n",
        "\t}\n",
        "\toptimizer = optimizer(**optimizer_params)\n",
        "\treturn optimizer"
      ],
      "metadata": {
        "id": "xkcrJMvPVd9A"
      },
      "execution_count": null,
      "outputs": []
    },
    {
      "cell_type": "markdown",
      "source": [
        "### RC Model"
      ],
      "metadata": {
        "id": "4dglFe1iaC3k"
      }
    },
    {
      "cell_type": "code",
      "source": [
        "class RCModel:\n",
        "    def __init__(self):\n",
        "        # if not dname == 'ske2019':\n",
        "        self.bert = keras.models.load_model('bert_uncased.h5')\n",
        "        # else:            \n",
        "        #     self.bert = load_model('./chinese_roberta_wwm_ext.h5')\n",
        "        xx = Lambda(lambda x:x[:,0])(self.bert.output)\n",
        "        pos = Dense(rels.get_num(), activation='sigmoid')(xx)\n",
        "        self.model = Model(inputs=self.bert.input, outputs=pos)\n",
        "        lock_transformer_layers(self.bert, 8)\n",
        "        self.model_ready = False\n",
        "\n",
        "    def gen_golden_y(self, datas):\n",
        "        for dd in datas:\n",
        "            dd['rc_obj'] = list(set(x['label'] for x in dd.get('relationMentions', [])))\n",
        "        \n",
        "    def make_model_data(self, datas):\n",
        "        self.gen_golden_y(datas)\n",
        "        for dd in tqdm(datas, desc='tokenize'):\n",
        "            s = dd['sentText']\n",
        "            tokens = tokenizer.tokenize(s, maxlen=maxlen)\n",
        "            dd['tokens'] = tokens\n",
        "        N = len(datas)\n",
        "        X = [np.zeros((N, maxlen), dtype='int32'), np.zeros((N, maxlen), dtype='int32')]\n",
        "        Y = np.zeros((N, rels.get_num()))\n",
        "        for i, dd in enumerate(tqdm(datas, desc='gen XY', total=N)):\n",
        "            tokens = dd['tokens']\n",
        "            tokens = dd['tokens']\n",
        "            X[0][i][:len(tokens)] = tokenizer.tokens_to_ids(tokens)\n",
        "            for x in dd['rc_obj']: Y[i][rels.get_id(x)] = 1\n",
        "        return X, Y\n",
        "\n",
        "    def load_model(self):\n",
        "        self.model.load_weights(wdir('rc.h5'))\n",
        "        self.model.compile('adam', 'binary_crossentropy', metrics=['accuracy'])\n",
        "        self.model_ready = True\n",
        "\n",
        "    def train(self, datas, batch_size=32, epochs=10):\n",
        "        self.X, self.Y = self.make_model_data(datas)\n",
        "        self.optimizer = get_suggested_optimizer(5e-5, len(datas) * epochs // batch_size)\n",
        "        if LOSS=='BCE':\n",
        "            self.model.compile(self.optimizer, 'binary_crossentropy', metrics=['accuracy'])\n",
        "        elif LOSS=='MID':\n",
        "                from functools import partial\n",
        "                PI_RC = np.sum(self.Y)/np.prod(self.Y.shape)\n",
        "                FN_RATIO = 0.05\n",
        "                mid_loss = partial(cpu_mid_loss, mid=PI_RC*(1+FN_RATIO),pi=0.04)\n",
        "                self.model.compile(self.optimizer, mid_loss, metrics=['accuracy'])\n",
        "        self.cb_mcb = keras.callbacks.ModelCheckpoint(wdir('rc.h5'), save_weights_only=True, verbose=1)\n",
        "        self.model.fit(self.X, self.Y, batch_size, epochs=epochs, shuffle=True, \n",
        "                    validation_split=0.01, callbacks=[self.cb_mcb])\n",
        "        self.model_ready = True\n",
        "                \n",
        "    def get_output(self, datas, pred, threshold=0.5):\n",
        "        for dd, pp in zip(datas, pred):\n",
        "            dd['rc_pred'] = list(rels.get_token(i) for i, sc in enumerate(pp) if sc > threshold)\n",
        "\n",
        "    def evaluate(self, datas):\n",
        "        ccnt, gcnt, ecnt = 0, 0, 0\n",
        "        for dd in datas:\n",
        "            plabels = set(dd['rc_pred'])\n",
        "            ecnt += len(plabels)\n",
        "            gcnt += len(set(dd['rc_obj']))\n",
        "            ccnt += len(plabels & set(dd['rc_obj']))\n",
        "        return CalcF1(ccnt, ecnt, gcnt)\n",
        "#(correct, output, golden)\n",
        "    def predict(self, datas, threshold=0.5, ofile=None):\n",
        "        if not self.model_ready: self.load_model()\n",
        "        self.vX, self.vY = self.make_model_data(datas)\n",
        "        pred = self.model.predict(self.vX, batch_size=64, verbose=1)\n",
        "        self.get_output(datas, pred, threshold)\n",
        "        f1str = self.evaluate(datas)\n",
        "        if ofile is not None:\n",
        "            SaveList(map(lambda x:json.dumps(x, ensure_ascii=False), datas), wdir(ofile))\n",
        "        print(f1str)\n",
        "        return f1str\n",
        "rc = RCModel()\n",
        "rc.train(trains, batch_size=32, epochs=1)\n",
        "rc.predict(tests, threshold=thre_rc, ofile='valid_rc.json')"
      ],
      "metadata": {
        "colab": {
          "base_uri": "https://localhost:8080/",
          "height": 560
        },
        "id": "lCYH5zBSNMNH",
        "outputId": "622523e8-4d53-41cb-967c-90177beb0ef3"
      },
      "execution_count": null,
      "outputs": [
        {
          "output_type": "stream",
          "name": "stderr",
          "text": [
            "/usr/local/lib/python3.7/dist-packages/keras/engine/saving.py:341: UserWarning: No training configuration found in save file: the model was *not* compiled. Compile it manually.\n",
            "  warnings.warn('No training configuration found in save file: '\n"
          ]
        },
        {
          "output_type": "stream",
          "name": "stdout",
          "text": [
            "locking Embedding-*\n",
            "locking Transformer-[0-7]-*\n"
          ]
        },
        {
          "output_type": "stream",
          "name": "stderr",
          "text": [
            "tokenize: 100%|██████████| 69988/69988 [00:43<00:00, 1603.74it/s]\n",
            "gen XY: 100%|██████████| 69988/69988 [00:02<00:00, 34317.65it/s]\n"
          ]
        },
        {
          "output_type": "stream",
          "name": "stdout",
          "text": [
            "Train on 69288 samples, validate on 700 samples\n",
            "Epoch 1/20\n",
            " 3936/69288 [>.............................] - ETA: 9:36 - loss: 0.1326 - accuracy: 0.9530"
          ]
        },
        {
          "output_type": "error",
          "ename": "KeyboardInterrupt",
          "evalue": "ignored",
          "traceback": [
            "\u001b[0;31m---------------------------------------------------------------------------\u001b[0m",
            "\u001b[0;31mKeyboardInterrupt\u001b[0m                         Traceback (most recent call last)",
            "\u001b[0;32m<ipython-input-34-127414396b5b>\u001b[0m in \u001b[0;36m<module>\u001b[0;34m()\u001b[0m\n\u001b[1;32m     76\u001b[0m         \u001b[0;32mreturn\u001b[0m \u001b[0mf1str\u001b[0m\u001b[0;34m\u001b[0m\u001b[0;34m\u001b[0m\u001b[0m\n\u001b[1;32m     77\u001b[0m \u001b[0mrc\u001b[0m \u001b[0;34m=\u001b[0m \u001b[0mRCModel\u001b[0m\u001b[0;34m(\u001b[0m\u001b[0;34m)\u001b[0m\u001b[0;34m\u001b[0m\u001b[0;34m\u001b[0m\u001b[0m\n\u001b[0;32m---> 78\u001b[0;31m \u001b[0mrc\u001b[0m\u001b[0;34m.\u001b[0m\u001b[0mtrain\u001b[0m\u001b[0;34m(\u001b[0m\u001b[0mtrains\u001b[0m\u001b[0;34m,\u001b[0m \u001b[0mbatch_size\u001b[0m\u001b[0;34m=\u001b[0m\u001b[0;36m32\u001b[0m\u001b[0;34m,\u001b[0m \u001b[0mepochs\u001b[0m\u001b[0;34m=\u001b[0m\u001b[0;36m20\u001b[0m\u001b[0;34m)\u001b[0m\u001b[0;34m\u001b[0m\u001b[0;34m\u001b[0m\u001b[0m\n\u001b[0m\u001b[1;32m     79\u001b[0m \u001b[0mrc\u001b[0m\u001b[0;34m.\u001b[0m\u001b[0mpredict\u001b[0m\u001b[0;34m(\u001b[0m\u001b[0mtests\u001b[0m\u001b[0;34m,\u001b[0m \u001b[0mthreshold\u001b[0m\u001b[0;34m=\u001b[0m\u001b[0mthre_rc\u001b[0m\u001b[0;34m,\u001b[0m \u001b[0mofile\u001b[0m\u001b[0;34m=\u001b[0m\u001b[0;34m'valid_rc.json'\u001b[0m\u001b[0;34m)\u001b[0m\u001b[0;34m\u001b[0m\u001b[0;34m\u001b[0m\u001b[0m\n",
            "\u001b[0;32m<ipython-input-34-127414396b5b>\u001b[0m in \u001b[0;36mtrain\u001b[0;34m(self, datas, batch_size, epochs)\u001b[0m\n\u001b[1;32m     49\u001b[0m         \u001b[0mself\u001b[0m\u001b[0;34m.\u001b[0m\u001b[0mcb_mcb\u001b[0m \u001b[0;34m=\u001b[0m \u001b[0mkeras\u001b[0m\u001b[0;34m.\u001b[0m\u001b[0mcallbacks\u001b[0m\u001b[0;34m.\u001b[0m\u001b[0mModelCheckpoint\u001b[0m\u001b[0;34m(\u001b[0m\u001b[0mwdir\u001b[0m\u001b[0;34m(\u001b[0m\u001b[0;34m'rc.h5'\u001b[0m\u001b[0;34m)\u001b[0m\u001b[0;34m,\u001b[0m \u001b[0msave_weights_only\u001b[0m\u001b[0;34m=\u001b[0m\u001b[0;32mTrue\u001b[0m\u001b[0;34m,\u001b[0m \u001b[0mverbose\u001b[0m\u001b[0;34m=\u001b[0m\u001b[0;36m1\u001b[0m\u001b[0;34m)\u001b[0m\u001b[0;34m\u001b[0m\u001b[0;34m\u001b[0m\u001b[0m\n\u001b[1;32m     50\u001b[0m         self.model.fit(self.X, self.Y, batch_size, epochs=epochs, shuffle=True, \n\u001b[0;32m---> 51\u001b[0;31m                     validation_split=0.01, callbacks=[self.cb_mcb])\n\u001b[0m\u001b[1;32m     52\u001b[0m         \u001b[0mself\u001b[0m\u001b[0;34m.\u001b[0m\u001b[0mmodel_ready\u001b[0m \u001b[0;34m=\u001b[0m \u001b[0;32mTrue\u001b[0m\u001b[0;34m\u001b[0m\u001b[0;34m\u001b[0m\u001b[0m\n\u001b[1;32m     53\u001b[0m \u001b[0;34m\u001b[0m\u001b[0m\n",
            "\u001b[0;32m/usr/local/lib/python3.7/dist-packages/keras/engine/training.py\u001b[0m in \u001b[0;36mfit\u001b[0;34m(self, x, y, batch_size, epochs, verbose, callbacks, validation_split, validation_data, shuffle, class_weight, sample_weight, initial_epoch, steps_per_epoch, validation_steps, validation_freq, max_queue_size, workers, use_multiprocessing, **kwargs)\u001b[0m\n\u001b[1;32m   1237\u001b[0m                                         \u001b[0msteps_per_epoch\u001b[0m\u001b[0;34m=\u001b[0m\u001b[0msteps_per_epoch\u001b[0m\u001b[0;34m,\u001b[0m\u001b[0;34m\u001b[0m\u001b[0;34m\u001b[0m\u001b[0m\n\u001b[1;32m   1238\u001b[0m                                         \u001b[0mvalidation_steps\u001b[0m\u001b[0;34m=\u001b[0m\u001b[0mvalidation_steps\u001b[0m\u001b[0;34m,\u001b[0m\u001b[0;34m\u001b[0m\u001b[0;34m\u001b[0m\u001b[0m\n\u001b[0;32m-> 1239\u001b[0;31m                                         validation_freq=validation_freq)\n\u001b[0m\u001b[1;32m   1240\u001b[0m \u001b[0;34m\u001b[0m\u001b[0m\n\u001b[1;32m   1241\u001b[0m     def evaluate(self,\n",
            "\u001b[0;32m/usr/local/lib/python3.7/dist-packages/keras/engine/training_arrays.py\u001b[0m in \u001b[0;36mfit_loop\u001b[0;34m(model, fit_function, fit_inputs, out_labels, batch_size, epochs, verbose, callbacks, val_function, val_inputs, shuffle, initial_epoch, steps_per_epoch, validation_steps, validation_freq)\u001b[0m\n\u001b[1;32m    194\u001b[0m                     \u001b[0mins_batch\u001b[0m\u001b[0;34m[\u001b[0m\u001b[0mi\u001b[0m\u001b[0;34m]\u001b[0m \u001b[0;34m=\u001b[0m \u001b[0mins_batch\u001b[0m\u001b[0;34m[\u001b[0m\u001b[0mi\u001b[0m\u001b[0;34m]\u001b[0m\u001b[0;34m.\u001b[0m\u001b[0mtoarray\u001b[0m\u001b[0;34m(\u001b[0m\u001b[0;34m)\u001b[0m\u001b[0;34m\u001b[0m\u001b[0;34m\u001b[0m\u001b[0m\n\u001b[1;32m    195\u001b[0m \u001b[0;34m\u001b[0m\u001b[0m\n\u001b[0;32m--> 196\u001b[0;31m                 \u001b[0mouts\u001b[0m \u001b[0;34m=\u001b[0m \u001b[0mfit_function\u001b[0m\u001b[0;34m(\u001b[0m\u001b[0mins_batch\u001b[0m\u001b[0;34m)\u001b[0m\u001b[0;34m\u001b[0m\u001b[0;34m\u001b[0m\u001b[0m\n\u001b[0m\u001b[1;32m    197\u001b[0m                 \u001b[0mouts\u001b[0m \u001b[0;34m=\u001b[0m \u001b[0mto_list\u001b[0m\u001b[0;34m(\u001b[0m\u001b[0mouts\u001b[0m\u001b[0;34m)\u001b[0m\u001b[0;34m\u001b[0m\u001b[0;34m\u001b[0m\u001b[0m\n\u001b[1;32m    198\u001b[0m                 \u001b[0;32mfor\u001b[0m \u001b[0ml\u001b[0m\u001b[0;34m,\u001b[0m \u001b[0mo\u001b[0m \u001b[0;32min\u001b[0m \u001b[0mzip\u001b[0m\u001b[0;34m(\u001b[0m\u001b[0mout_labels\u001b[0m\u001b[0;34m,\u001b[0m \u001b[0mouts\u001b[0m\u001b[0;34m)\u001b[0m\u001b[0;34m:\u001b[0m\u001b[0;34m\u001b[0m\u001b[0;34m\u001b[0m\u001b[0m\n",
            "\u001b[0;32m/usr/local/lib/python3.7/dist-packages/tensorflow_core/python/keras/backend.py\u001b[0m in \u001b[0;36m__call__\u001b[0;34m(self, inputs)\u001b[0m\n\u001b[1;32m   3725\u001b[0m         \u001b[0mvalue\u001b[0m \u001b[0;34m=\u001b[0m \u001b[0mmath_ops\u001b[0m\u001b[0;34m.\u001b[0m\u001b[0mcast\u001b[0m\u001b[0;34m(\u001b[0m\u001b[0mvalue\u001b[0m\u001b[0;34m,\u001b[0m \u001b[0mtensor\u001b[0m\u001b[0;34m.\u001b[0m\u001b[0mdtype\u001b[0m\u001b[0;34m)\u001b[0m\u001b[0;34m\u001b[0m\u001b[0;34m\u001b[0m\u001b[0m\n\u001b[1;32m   3726\u001b[0m       \u001b[0mconverted_inputs\u001b[0m\u001b[0;34m.\u001b[0m\u001b[0mappend\u001b[0m\u001b[0;34m(\u001b[0m\u001b[0mvalue\u001b[0m\u001b[0;34m)\u001b[0m\u001b[0;34m\u001b[0m\u001b[0;34m\u001b[0m\u001b[0m\n\u001b[0;32m-> 3727\u001b[0;31m     \u001b[0moutputs\u001b[0m \u001b[0;34m=\u001b[0m \u001b[0mself\u001b[0m\u001b[0;34m.\u001b[0m\u001b[0m_graph_fn\u001b[0m\u001b[0;34m(\u001b[0m\u001b[0;34m*\u001b[0m\u001b[0mconverted_inputs\u001b[0m\u001b[0;34m)\u001b[0m\u001b[0;34m\u001b[0m\u001b[0;34m\u001b[0m\u001b[0m\n\u001b[0m\u001b[1;32m   3728\u001b[0m \u001b[0;34m\u001b[0m\u001b[0m\n\u001b[1;32m   3729\u001b[0m     \u001b[0;31m# EagerTensor.numpy() will often make a copy to ensure memory safety.\u001b[0m\u001b[0;34m\u001b[0m\u001b[0;34m\u001b[0m\u001b[0;34m\u001b[0m\u001b[0m\n",
            "\u001b[0;32m/usr/local/lib/python3.7/dist-packages/tensorflow_core/python/eager/function.py\u001b[0m in \u001b[0;36m__call__\u001b[0;34m(self, *args, **kwargs)\u001b[0m\n\u001b[1;32m   1549\u001b[0m       \u001b[0mTypeError\u001b[0m\u001b[0;34m:\u001b[0m \u001b[0mFor\u001b[0m \u001b[0minvalid\u001b[0m \u001b[0mpositional\u001b[0m\u001b[0;34m/\u001b[0m\u001b[0mkeyword\u001b[0m \u001b[0margument\u001b[0m \u001b[0mcombinations\u001b[0m\u001b[0;34m.\u001b[0m\u001b[0;34m\u001b[0m\u001b[0;34m\u001b[0m\u001b[0m\n\u001b[1;32m   1550\u001b[0m     \"\"\"\n\u001b[0;32m-> 1551\u001b[0;31m     \u001b[0;32mreturn\u001b[0m \u001b[0mself\u001b[0m\u001b[0;34m.\u001b[0m\u001b[0m_call_impl\u001b[0m\u001b[0;34m(\u001b[0m\u001b[0margs\u001b[0m\u001b[0;34m,\u001b[0m \u001b[0mkwargs\u001b[0m\u001b[0;34m)\u001b[0m\u001b[0;34m\u001b[0m\u001b[0;34m\u001b[0m\u001b[0m\n\u001b[0m\u001b[1;32m   1552\u001b[0m \u001b[0;34m\u001b[0m\u001b[0m\n\u001b[1;32m   1553\u001b[0m   \u001b[0;32mdef\u001b[0m \u001b[0m_call_impl\u001b[0m\u001b[0;34m(\u001b[0m\u001b[0mself\u001b[0m\u001b[0;34m,\u001b[0m \u001b[0margs\u001b[0m\u001b[0;34m,\u001b[0m \u001b[0mkwargs\u001b[0m\u001b[0;34m,\u001b[0m \u001b[0mcancellation_manager\u001b[0m\u001b[0;34m=\u001b[0m\u001b[0;32mNone\u001b[0m\u001b[0;34m)\u001b[0m\u001b[0;34m:\u001b[0m\u001b[0;34m\u001b[0m\u001b[0;34m\u001b[0m\u001b[0m\n",
            "\u001b[0;32m/usr/local/lib/python3.7/dist-packages/tensorflow_core/python/eager/function.py\u001b[0m in \u001b[0;36m_call_impl\u001b[0;34m(self, args, kwargs, cancellation_manager)\u001b[0m\n\u001b[1;32m   1589\u001b[0m       raise TypeError(\"Keyword arguments {} unknown. Expected {}.\".format(\n\u001b[1;32m   1590\u001b[0m           list(kwargs.keys()), list(self._arg_keywords)))\n\u001b[0;32m-> 1591\u001b[0;31m     \u001b[0;32mreturn\u001b[0m \u001b[0mself\u001b[0m\u001b[0;34m.\u001b[0m\u001b[0m_call_flat\u001b[0m\u001b[0;34m(\u001b[0m\u001b[0margs\u001b[0m\u001b[0;34m,\u001b[0m \u001b[0mself\u001b[0m\u001b[0;34m.\u001b[0m\u001b[0mcaptured_inputs\u001b[0m\u001b[0;34m,\u001b[0m \u001b[0mcancellation_manager\u001b[0m\u001b[0;34m)\u001b[0m\u001b[0;34m\u001b[0m\u001b[0;34m\u001b[0m\u001b[0m\n\u001b[0m\u001b[1;32m   1592\u001b[0m \u001b[0;34m\u001b[0m\u001b[0m\n\u001b[1;32m   1593\u001b[0m   \u001b[0;32mdef\u001b[0m \u001b[0m_filtered_call\u001b[0m\u001b[0;34m(\u001b[0m\u001b[0mself\u001b[0m\u001b[0;34m,\u001b[0m \u001b[0margs\u001b[0m\u001b[0;34m,\u001b[0m \u001b[0mkwargs\u001b[0m\u001b[0;34m)\u001b[0m\u001b[0;34m:\u001b[0m\u001b[0;34m\u001b[0m\u001b[0;34m\u001b[0m\u001b[0m\n",
            "\u001b[0;32m/usr/local/lib/python3.7/dist-packages/tensorflow_core/python/eager/function.py\u001b[0m in \u001b[0;36m_call_flat\u001b[0;34m(self, args, captured_inputs, cancellation_manager)\u001b[0m\n\u001b[1;32m   1690\u001b[0m       \u001b[0;31m# No tape is watching; skip to running the function.\u001b[0m\u001b[0;34m\u001b[0m\u001b[0;34m\u001b[0m\u001b[0;34m\u001b[0m\u001b[0m\n\u001b[1;32m   1691\u001b[0m       return self._build_call_outputs(self._inference_function.call(\n\u001b[0;32m-> 1692\u001b[0;31m           ctx, args, cancellation_manager=cancellation_manager))\n\u001b[0m\u001b[1;32m   1693\u001b[0m     forward_backward = self._select_forward_and_backward_functions(\n\u001b[1;32m   1694\u001b[0m         \u001b[0margs\u001b[0m\u001b[0;34m,\u001b[0m\u001b[0;34m\u001b[0m\u001b[0;34m\u001b[0m\u001b[0m\n",
            "\u001b[0;32m/usr/local/lib/python3.7/dist-packages/tensorflow_core/python/eager/function.py\u001b[0m in \u001b[0;36mcall\u001b[0;34m(self, ctx, args, cancellation_manager)\u001b[0m\n\u001b[1;32m    543\u001b[0m               \u001b[0minputs\u001b[0m\u001b[0;34m=\u001b[0m\u001b[0margs\u001b[0m\u001b[0;34m,\u001b[0m\u001b[0;34m\u001b[0m\u001b[0;34m\u001b[0m\u001b[0m\n\u001b[1;32m    544\u001b[0m               \u001b[0mattrs\u001b[0m\u001b[0;34m=\u001b[0m\u001b[0;34m(\u001b[0m\u001b[0;34m\"executor_type\"\u001b[0m\u001b[0;34m,\u001b[0m \u001b[0mexecutor_type\u001b[0m\u001b[0;34m,\u001b[0m \u001b[0;34m\"config_proto\"\u001b[0m\u001b[0;34m,\u001b[0m \u001b[0mconfig\u001b[0m\u001b[0;34m)\u001b[0m\u001b[0;34m,\u001b[0m\u001b[0;34m\u001b[0m\u001b[0;34m\u001b[0m\u001b[0m\n\u001b[0;32m--> 545\u001b[0;31m               ctx=ctx)\n\u001b[0m\u001b[1;32m    546\u001b[0m         \u001b[0;32melse\u001b[0m\u001b[0;34m:\u001b[0m\u001b[0;34m\u001b[0m\u001b[0;34m\u001b[0m\u001b[0m\n\u001b[1;32m    547\u001b[0m           outputs = execute.execute_with_cancellation(\n",
            "\u001b[0;32m/usr/local/lib/python3.7/dist-packages/tensorflow_core/python/eager/execute.py\u001b[0m in \u001b[0;36mquick_execute\u001b[0;34m(op_name, num_outputs, inputs, attrs, ctx, name)\u001b[0m\n\u001b[1;32m     59\u001b[0m     tensors = pywrap_tensorflow.TFE_Py_Execute(ctx._handle, device_name,\n\u001b[1;32m     60\u001b[0m                                                \u001b[0mop_name\u001b[0m\u001b[0;34m,\u001b[0m \u001b[0minputs\u001b[0m\u001b[0;34m,\u001b[0m \u001b[0mattrs\u001b[0m\u001b[0;34m,\u001b[0m\u001b[0;34m\u001b[0m\u001b[0;34m\u001b[0m\u001b[0m\n\u001b[0;32m---> 61\u001b[0;31m                                                num_outputs)\n\u001b[0m\u001b[1;32m     62\u001b[0m   \u001b[0;32mexcept\u001b[0m \u001b[0mcore\u001b[0m\u001b[0;34m.\u001b[0m\u001b[0m_NotOkStatusException\u001b[0m \u001b[0;32mas\u001b[0m \u001b[0me\u001b[0m\u001b[0;34m:\u001b[0m\u001b[0;34m\u001b[0m\u001b[0;34m\u001b[0m\u001b[0m\n\u001b[1;32m     63\u001b[0m     \u001b[0;32mif\u001b[0m \u001b[0mname\u001b[0m \u001b[0;32mis\u001b[0m \u001b[0;32mnot\u001b[0m \u001b[0;32mNone\u001b[0m\u001b[0;34m:\u001b[0m\u001b[0;34m\u001b[0m\u001b[0;34m\u001b[0m\u001b[0m\n",
            "\u001b[0;31mKeyboardInterrupt\u001b[0m: "
          ]
        }
      ]
    },
    {
      "cell_type": "code",
      "source": [
        ""
      ],
      "metadata": {
        "id": "dez62sWoV5I5"
      },
      "execution_count": null,
      "outputs": []
    },
    {
      "cell_type": "code",
      "source": [
        "class RCModel:\n",
        "    def __init__(self):\n",
        "        # if not dname == 'ske2019':\n",
        "        self.bert = keras.models.load_model('bert_uncased.h5')\n",
        "        # else:            \n",
        "        #     self.bert = load_model('./chinese_roberta_wwm_ext.h5')\n",
        "        xx = Lambda(lambda x:x[:,0])(self.bert.output)\n",
        "        pos = Dense(rels.get_num(), activation='sigmoid')(xx)\n",
        "        self.model = Model(inputs=self.bert.input, outputs=pos)\n",
        "        lock_transformer_layers(self.bert, 8)\n",
        "        self.model_ready = False\n",
        "\n",
        "    def gen_golden_y(self, datas):\n",
        "        for dd in datas:\n",
        "            dd['rc_obj'] = list(set(x['label'] for x in dd.get('relationMentions', [])))\n",
        "        \n",
        "    def make_model_data(self, datas):\n",
        "        self.gen_golden_y(datas)\n",
        "        for dd in tqdm(datas, desc='tokenize'):\n",
        "            s = dd['sentText']\n",
        "            tokens = tokenizer.tokenize(s, maxlen=maxlen)\n",
        "            dd['tokens'] = tokens\n",
        "        N = len(datas)\n",
        "        X = [np.zeros((N, maxlen), dtype='int32'), np.zeros((N, maxlen), dtype='int32')]\n",
        "        Y = np.zeros((N, rels.get_num()))\n",
        "        for i, dd in enumerate(tqdm(datas, desc='gen XY', total=N)):\n",
        "            tokens = dd['tokens']\n",
        "            tokens = dd['tokens']\n",
        "            X[0][i][:len(tokens)] = tokenizer.tokens_to_ids(tokens)\n",
        "            for x in dd['rc_obj']: Y[i][rels.get_id(x)] = 1\n",
        "        return X, Y\n",
        "\n",
        "    def load_model(self):\n",
        "        self.model.load_weights(wdir('rc.h5'))\n",
        "        self.model.compile('adam', 'binary_crossentropy', metrics=['accuracy'])\n",
        "        self.model_ready = True\n",
        "\n",
        "    def train(self, datas, batch_size=32, epochs=10):\n",
        "        self.X, self.Y = self.make_model_data(datas)\n",
        "        self.optimizer = get_suggested_optimizer(5e-5, len(datas) * epochs // batch_size)\n",
        "        if LOSS=='BCE':\n",
        "            self.model.compile(self.optimizer, 'binary_crossentropy', metrics=['accuracy'])\n",
        "        elif LOSS=='MID':\n",
        "                from functools import partial\n",
        "                PI_RC = np.sum(self.Y)/np.prod(self.Y.shape)\n",
        "                FN_RATIO = 0.05\n",
        "                mid_loss = partial(cpu_mid_loss, mid=PI_RC*(1+FN_RATIO),pi=0.04)\n",
        "                self.model.compile(self.optimizer, mid_loss, metrics=['accuracy'])\n",
        "        self.cb_mcb = keras.callbacks.ModelCheckpoint(wdir('rc.h5'), save_weights_only=True, verbose=1)\n",
        "        self.model.fit(self.X, self.Y, batch_size, epochs=epochs, shuffle=True, \n",
        "                    validation_split=0.01, callbacks=[self.cb_mcb])\n",
        "        self.model_ready = True\n",
        "                \n",
        "    def get_output(self, datas, pred, threshold=0.5):\n",
        "        for dd, pp in zip(datas, pred):\n",
        "            dd['rc_pred'] = list(rels.get_token(i) for i, sc in enumerate(pp) if sc > threshold)\n",
        "\n",
        "    def evaluate(self, datas):\n",
        "        ccnt, gcnt, ecnt = 0, 0, 0\n",
        "        for dd in datas:\n",
        "            plabels = set(dd['rc_pred'])\n",
        "            ecnt += len(plabels)\n",
        "            gcnt += len(set(dd['rc_obj']))\n",
        "            ccnt += len(plabels & set(dd['rc_obj']))\n",
        "        return CalcF1(ccnt, ecnt, gcnt)\n",
        "#(correct, output, golden)\n",
        "    def predict(self, datas, threshold=0.5, ofile=None):\n",
        "        if not self.model_ready: self.load_model()\n",
        "        self.vX, self.vY = self.make_model_data(datas)\n",
        "        pred = self.model.predict(self.vX, batch_size=64, verbose=1)\n",
        "        self.get_output(datas, pred, threshold)\n",
        "        f1str = self.evaluate(datas)\n",
        "        if ofile is not None:\n",
        "            SaveList(map(lambda x:json.dumps(x, ensure_ascii=False), datas), wdir(ofile))\n",
        "        print(f1str)\n",
        "        return f1str\n",
        "rc = RCModel()\n",
        "rc.train(trains, batch_size=32, epochs=1)\n",
        "rc.predict(tests, threshold=thre_rc, ofile='valid_rc.json')"
      ],
      "metadata": {
        "colab": {
          "base_uri": "https://localhost:8080/",
          "height": 315
        },
        "outputId": "8db35f93-2809-4943-ea7b-d54645f7f40e",
        "id": "c1cCS_sLV5bR"
      },
      "execution_count": null,
      "outputs": [
        {
          "metadata": {
            "tags": null
          },
          "name": "stderr",
          "output_type": "stream",
          "text": [
            "/usr/local/lib/python3.7/dist-packages/keras/engine/saving.py:341: UserWarning: No training configuration found in save file: the model was *not* compiled. Compile it manually.\n",
            "  warnings.warn('No training configuration found in save file: '\n"
          ]
        },
        {
          "metadata": {
            "tags": null
          },
          "name": "stdout",
          "output_type": "stream",
          "text": [
            "locking Embedding-*\n",
            "locking Transformer-[0-7]-*\n"
          ]
        },
        {
          "metadata": {
            "tags": null
          },
          "name": "stderr",
          "output_type": "stream",
          "text": [
            "tokenize: 100%|██████████| 69988/69988 [00:47<00:00, 1481.85it/s]\n",
            "gen XY: 100%|██████████| 69988/69988 [00:02<00:00, 27879.15it/s]\n"
          ]
        },
        {
          "output_type": "stream",
          "name": "stdout",
          "text": [
            "Train on 69288 samples, validate on 700 samples\n",
            "Epoch 1/1\n",
            "69288/69288 [==============================] - 563s 8ms/step - loss: 0.0525 - accuracy: 0.9812 - val_loss: 0.0313 - val_accuracy: 0.9884\n",
            "\n",
            "Epoch 00001: saving model to model/-f/BCE_rc.h5\n"
          ]
        },
        {
          "output_type": "stream",
          "name": "stderr",
          "text": [
            "tokenize: 100%|██████████| 4006/4006 [00:02<00:00, 1566.92it/s]\n",
            "gen XY: 100%|██████████| 4006/4006 [00:00<00:00, 31448.11it/s]\n"
          ]
        },
        {
          "output_type": "stream",
          "name": "stdout",
          "text": [
            "4006/4006 [==============================] - 18s 5ms/step\n",
            "Prec: 0.7605 4588/6033, Reca: 0.8154 4588/5627, F1: 0.7870\n"
          ]
        },
        {
          "output_type": "execute_result",
          "data": {
            "text/plain": [
              "'Prec: 0.7605 4588/6033, Reca: 0.8154 4588/5627, F1: 0.7870'"
            ],
            "application/vnd.google.colaboratory.intrinsic+json": {
              "type": "string"
            }
          },
          "metadata": {},
          "execution_count": 35
        }
      ]
    },
    {
      "cell_type": "code",
      "source": [
        ""
      ],
      "metadata": {
        "id": "upcOC_JRXd_S"
      },
      "execution_count": null,
      "outputs": []
    },
    {
      "cell_type": "code",
      "source": [
        ""
      ],
      "metadata": {
        "id": "YrJfBcKwNnOb"
      },
      "execution_count": null,
      "outputs": []
    },
    {
      "cell_type": "markdown",
      "source": [
        "### EE Model"
      ],
      "metadata": {
        "id": "B_2YqBiEaLim"
      }
    },
    {
      "cell_type": "code",
      "source": [
        "class EEModel:\n",
        "    def __init__(self):\n",
        "        # if not dname == 'ske2019':\n",
        "        #     self.bert = load_model('./bert_uncased.h5')\n",
        "        # else:            \n",
        "        #     self.bert = load_model('./chinese_roberta_wwm_ext.h5')\n",
        "        self.bert = keras.models.load_model('bert_uncased.h5')\n",
        "        pos = Dense(4, activation='sigmoid')(self.bert.output)\n",
        "        self.model = Model(inputs=self.bert.input, outputs=pos)\n",
        "        lock_transformer_layers(self.bert, 3)\n",
        "        self.model_ready = False\n",
        "        \n",
        "    def make_model_data(self, datas):\n",
        "        if 'tokens' not in datas[0]:\n",
        "            for dd in tqdm(datas, desc='tokenize'):\n",
        "                s = dd['sentText']\n",
        "                tokens = tokenizer.tokenize(s, maxlen=maxlen)\n",
        "                dd['tokens'] = tokens\n",
        "        N = 0\n",
        "        for dd in tqdm(datas, desc='matching'):\n",
        "            otokens = restore_token_list(dd['sentText'], dd['tokens'])\n",
        "            dd['otokens'] = otokens\n",
        "            ys = {}\n",
        "            if 'rc_pred' in dd:\n",
        "                plist = dd['rc_pred']\n",
        "            else:\n",
        "                for x in dd.get('relationMentions', []):\n",
        "                    ys.setdefault(x['label'], []).append( (x['em1Text'], x['em2Text']) )\n",
        "                plist = sorted(ys.keys())\n",
        "            yys = []\n",
        "            for pp in plist:\n",
        "                spos, opos = [], []\n",
        "                for s, o in ys.get(pp, []):\n",
        "                    ss, oo = FindValuePos(otokens, s), FindValuePos(otokens, o)\n",
        "                    if len(ss) == 0 and len(oo) == 0: continue\n",
        "                    spos.extend(ss)\n",
        "                    opos.extend(oo)\n",
        "                yys.append( {'pp':pp, 'spos':spos, 'opos':opos} )\n",
        "            dd['ee_obj'] = yys\n",
        "            N += len(yys)\n",
        "        X = [np.zeros((N, maxlen), dtype='int32'), np.zeros((N, maxlen), dtype='int8')]\n",
        "        Y = np.zeros((N, maxlen, 4), dtype='int8')\n",
        "        ii = 0\n",
        "        for dd in tqdm(datas, desc='gen EE XY'):\n",
        "            tokens = dd['tokens']\n",
        "            for item in dd['ee_obj']:\n",
        "                pp, spos, opos = item['pp'], item['spos'], item['opos']\n",
        "                first = tokenizer.tokenize(pp)\n",
        "                offset = len(first)\n",
        "                item['offset'] = offset\n",
        "                tts = (first + tokens[1:])[:maxlen]\n",
        "                X[0][ii][:len(tts)] = tokenizer.tokens_to_ids(tts)#rel+tokens\n",
        "                X[1][ii][offset:offset+len(tokens)-1] = 1#atten_mask\n",
        "                for u, v in spos:#对应每个关系的subject_pos\n",
        "                    try:\n",
        "                        Y[ii][offset+u,0] = 1\n",
        "                        Y[ii][offset+v-1,1] = 1\n",
        "                    except: pass\n",
        "                for u, v in opos:\n",
        "                    try:\n",
        "                        Y[ii][offset+u,2] = 1\n",
        "                        Y[ii][offset+v-1,3] = 1\n",
        "                    except: pass\n",
        "                ii += 1\n",
        "        return X, Y\n",
        "\n",
        "    def train(self, datas, batch_size=32, epochs=10):\n",
        "        self.X, self.Y = self.make_model_data(datas)\n",
        "        self.optimizer = get_suggested_optimizer(5e-5, len(datas) * epochs // batch_size)\n",
        "        self.model.compile(self.optimizer, 'binary_crossentropy', metrics=['accuracy'])\n",
        "        self.cb_mcb = keras.callbacks.ModelCheckpoint(wdir('ee.h5'), save_weights_only=True, verbose=1)\n",
        "        self.model.fit(self.X, self.Y, batch_size, epochs=epochs, shuffle=True, \n",
        "                    validation_split=0.01, callbacks=[self.cb_mcb])\n",
        "        self.model_ready = True\n",
        "\n",
        "    def load_model(self):\n",
        "        self.model.load_weights(wdir('ee.h5'))\n",
        "        self.model.compile('adam', 'binary_crossentropy', metrics=['accuracy'])\n",
        "        self.model_ready = True\n",
        "\n",
        "    def get_output(self, datas, pred, threshold=0.5):\n",
        "        ii = 0\n",
        "        for dd in datas:\n",
        "            rtriples = []\n",
        "            for item in dd['ee_obj']:\n",
        "                predicate, offset = item['pp'], item['offset']\n",
        "                rr = pred[ii]; ii += 1\n",
        "                subs = GetTopSpans(dd['otokens'], rr[offset:,:2])\n",
        "                objs = GetTopSpans(dd['otokens'], rr[offset:,2:])\n",
        "            \n",
        "                vv1 = [x for x,y in subs if y >= 0.1]\n",
        "                vv2 = [x for x,y in objs if y >= 0.1]\n",
        "\n",
        "                subv = {x:y for x,y in subs}\n",
        "                objv = {x:y for x,y in objs}\n",
        "\n",
        "                #mats = None\n",
        "                #if len(vv1) * len(vv2) >= 4:\n",
        "                #    sent = ''.join(data[2])\n",
        "                #    mats = set(Match(sent, vv1, vv2))\n",
        "\n",
        "                for sv1, sv2 in [(sv1, sv2) for sv1 in vv1 for sv2 in vv2] :\n",
        "                    if sv1 == sv2: continue\n",
        "                    score = min(subv[sv1], objv[sv2])\n",
        "                    #if mats is not None and (sv1, sv2) not in mats: score -= 0.5\n",
        "                    if score < threshold: continue\n",
        "                    rtriples.append( GenTriple(predicate, sv1, sv2) )\n",
        "\n",
        "            dd['ee_pred'] = rtriples\n",
        "            # assert '' not in dd['otokens']\n",
        "\n",
        "    def evaluate(self, datas):\n",
        "        ccnt, gcnt, ecnt = 0, 0, 0\n",
        "        \n",
        "        for dd in datas:\n",
        "            golden = set();  predict = set()\n",
        "            for x in dd['relationMentions']:\n",
        "                ss = '|'.join([x[nn] for nn in ['label', 'em1Text', 'em2Text']])\n",
        "                golden.add(ss)\n",
        "            for x in dd['ee_pred']:\n",
        "                ss = '|'.join([x[nn] for nn in ['label', 'em1Text', 'em2Text']])\n",
        "                predict.add(ss)\n",
        "            ecnt += len(predict)\n",
        "            gcnt += len(golden)\n",
        "            ccnt += len(predict & golden)\n",
        "        \n",
        "        \n",
        "        return CalcF1(ccnt, ecnt, gcnt)\n",
        "\n",
        "    def predict(self, datas, ofile,threshold=0.5):\n",
        "        ffout=open(\"ans.txt\",'a')\n",
        "        if not self.model_ready: self.load_model()\n",
        "        self.vX, self.vY = self.make_model_data(datas)\n",
        "        pred = self.model.predict(self.vX, batch_size=64, verbose=1)\n",
        "        self.get_output(datas, pred, threshold=threshold)\n",
        "        # if ofile is not None:\n",
        "        import numpy as np\n",
        "        a=np.array(datas)\n",
        "        np.save('out.npy',a) # 保存为.npy格式\n",
        "        # f=open('out.txt','w')\n",
        "        # f.write(datas)\n",
        "        SaveList(map(lambda x:json.dumps(x, ensure_ascii=False), datas), ofile)\n",
        "        f1str = self.evaluate(datas)\n",
        "        ffout.write(f1str)\n",
        "        print(f1str)\n",
        "        ffout.close()\n",
        "        return f1str\n",
        "ee = EEModel()\n",
        "ee.train(trains, batch_size=32, epochs=1)\n",
        "ee.predict(tests, threshold=thre_ee, ofile='valid_ee.json')\n",
        "print('done')"
      ],
      "metadata": {
        "colab": {
          "base_uri": "https://localhost:8080/",
          "height": 490
        },
        "id": "lSrOAglDNdw6",
        "outputId": "8732105b-817b-48c6-f58b-bc4f1c8a4f79"
      },
      "execution_count": null,
      "outputs": [
        {
          "output_type": "stream",
          "name": "stderr",
          "text": [
            "/usr/local/lib/python3.7/dist-packages/keras/engine/saving.py:341: UserWarning: No training configuration found in save file: the model was *not* compiled. Compile it manually.\n",
            "  warnings.warn('No training configuration found in save file: '\n"
          ]
        },
        {
          "output_type": "stream",
          "name": "stdout",
          "text": [
            "locking Embedding-*\n",
            "locking Transformer-[0-2]-*\n"
          ]
        },
        {
          "output_type": "stream",
          "name": "stderr",
          "text": [
            "matching:   4%|▎         | 2471/69988 [00:01<00:38, 1742.66it/s]\n"
          ]
        },
        {
          "output_type": "error",
          "ename": "KeyboardInterrupt",
          "evalue": "ignored",
          "traceback": [
            "\u001b[0;31m---------------------------------------------------------------------------\u001b[0m",
            "\u001b[0;31mKeyboardInterrupt\u001b[0m                         Traceback (most recent call last)",
            "\u001b[0;32m<ipython-input-74-1ca67eb265e9>\u001b[0m in \u001b[0;36m<module>\u001b[0;34m()\u001b[0m\n\u001b[1;32m    147\u001b[0m         \u001b[0;32mreturn\u001b[0m \u001b[0mf1str\u001b[0m\u001b[0;34m\u001b[0m\u001b[0;34m\u001b[0m\u001b[0m\n\u001b[1;32m    148\u001b[0m \u001b[0mee\u001b[0m \u001b[0;34m=\u001b[0m \u001b[0mEEModel\u001b[0m\u001b[0;34m(\u001b[0m\u001b[0;34m)\u001b[0m\u001b[0;34m\u001b[0m\u001b[0;34m\u001b[0m\u001b[0m\n\u001b[0;32m--> 149\u001b[0;31m \u001b[0mee\u001b[0m\u001b[0;34m.\u001b[0m\u001b[0mtrain\u001b[0m\u001b[0;34m(\u001b[0m\u001b[0mtrains\u001b[0m\u001b[0;34m,\u001b[0m \u001b[0mbatch_size\u001b[0m\u001b[0;34m=\u001b[0m\u001b[0;36m32\u001b[0m\u001b[0;34m,\u001b[0m \u001b[0mepochs\u001b[0m\u001b[0;34m=\u001b[0m\u001b[0;36m1\u001b[0m\u001b[0;34m)\u001b[0m\u001b[0;34m\u001b[0m\u001b[0;34m\u001b[0m\u001b[0m\n\u001b[0m\u001b[1;32m    150\u001b[0m \u001b[0mee\u001b[0m\u001b[0;34m.\u001b[0m\u001b[0mpredict\u001b[0m\u001b[0;34m(\u001b[0m\u001b[0mtests\u001b[0m\u001b[0;34m,\u001b[0m \u001b[0mthreshold\u001b[0m\u001b[0;34m=\u001b[0m\u001b[0mthre_ee\u001b[0m\u001b[0;34m,\u001b[0m \u001b[0mofile\u001b[0m\u001b[0;34m=\u001b[0m\u001b[0;34m'valid_ee.json'\u001b[0m\u001b[0;34m)\u001b[0m\u001b[0;34m\u001b[0m\u001b[0;34m\u001b[0m\u001b[0m\n\u001b[1;32m    151\u001b[0m \u001b[0mprint\u001b[0m\u001b[0;34m(\u001b[0m\u001b[0;34m'done'\u001b[0m\u001b[0;34m)\u001b[0m\u001b[0;34m\u001b[0m\u001b[0;34m\u001b[0m\u001b[0m\n",
            "\u001b[0;32m<ipython-input-74-1ca67eb265e9>\u001b[0m in \u001b[0;36mtrain\u001b[0;34m(self, datas, batch_size, epochs)\u001b[0m\n\u001b[1;32m     66\u001b[0m \u001b[0;34m\u001b[0m\u001b[0m\n\u001b[1;32m     67\u001b[0m     \u001b[0;32mdef\u001b[0m \u001b[0mtrain\u001b[0m\u001b[0;34m(\u001b[0m\u001b[0mself\u001b[0m\u001b[0;34m,\u001b[0m \u001b[0mdatas\u001b[0m\u001b[0;34m,\u001b[0m \u001b[0mbatch_size\u001b[0m\u001b[0;34m=\u001b[0m\u001b[0;36m32\u001b[0m\u001b[0;34m,\u001b[0m \u001b[0mepochs\u001b[0m\u001b[0;34m=\u001b[0m\u001b[0;36m10\u001b[0m\u001b[0;34m)\u001b[0m\u001b[0;34m:\u001b[0m\u001b[0;34m\u001b[0m\u001b[0;34m\u001b[0m\u001b[0m\n\u001b[0;32m---> 68\u001b[0;31m         \u001b[0mself\u001b[0m\u001b[0;34m.\u001b[0m\u001b[0mX\u001b[0m\u001b[0;34m,\u001b[0m \u001b[0mself\u001b[0m\u001b[0;34m.\u001b[0m\u001b[0mY\u001b[0m \u001b[0;34m=\u001b[0m \u001b[0mself\u001b[0m\u001b[0;34m.\u001b[0m\u001b[0mmake_model_data\u001b[0m\u001b[0;34m(\u001b[0m\u001b[0mdatas\u001b[0m\u001b[0;34m)\u001b[0m\u001b[0;34m\u001b[0m\u001b[0;34m\u001b[0m\u001b[0m\n\u001b[0m\u001b[1;32m     69\u001b[0m         \u001b[0mself\u001b[0m\u001b[0;34m.\u001b[0m\u001b[0moptimizer\u001b[0m \u001b[0;34m=\u001b[0m \u001b[0mget_suggested_optimizer\u001b[0m\u001b[0;34m(\u001b[0m\u001b[0;36m5e-5\u001b[0m\u001b[0;34m,\u001b[0m \u001b[0mlen\u001b[0m\u001b[0;34m(\u001b[0m\u001b[0mdatas\u001b[0m\u001b[0;34m)\u001b[0m \u001b[0;34m*\u001b[0m \u001b[0mepochs\u001b[0m \u001b[0;34m//\u001b[0m \u001b[0mbatch_size\u001b[0m\u001b[0;34m)\u001b[0m\u001b[0;34m\u001b[0m\u001b[0;34m\u001b[0m\u001b[0m\n\u001b[1;32m     70\u001b[0m         \u001b[0mself\u001b[0m\u001b[0;34m.\u001b[0m\u001b[0mmodel\u001b[0m\u001b[0;34m.\u001b[0m\u001b[0mcompile\u001b[0m\u001b[0;34m(\u001b[0m\u001b[0mself\u001b[0m\u001b[0;34m.\u001b[0m\u001b[0moptimizer\u001b[0m\u001b[0;34m,\u001b[0m \u001b[0;34m'binary_crossentropy'\u001b[0m\u001b[0;34m,\u001b[0m \u001b[0mmetrics\u001b[0m\u001b[0;34m=\u001b[0m\u001b[0;34m[\u001b[0m\u001b[0;34m'accuracy'\u001b[0m\u001b[0;34m]\u001b[0m\u001b[0;34m)\u001b[0m\u001b[0;34m\u001b[0m\u001b[0;34m\u001b[0m\u001b[0m\n",
            "\u001b[0;32m<ipython-input-74-1ca67eb265e9>\u001b[0m in \u001b[0;36mmake_model_data\u001b[0;34m(self, datas)\u001b[0m\n\u001b[1;32m     19\u001b[0m         \u001b[0mN\u001b[0m \u001b[0;34m=\u001b[0m \u001b[0;36m0\u001b[0m\u001b[0;34m\u001b[0m\u001b[0;34m\u001b[0m\u001b[0m\n\u001b[1;32m     20\u001b[0m         \u001b[0;32mfor\u001b[0m \u001b[0mdd\u001b[0m \u001b[0;32min\u001b[0m \u001b[0mtqdm\u001b[0m\u001b[0;34m(\u001b[0m\u001b[0mdatas\u001b[0m\u001b[0;34m,\u001b[0m \u001b[0mdesc\u001b[0m\u001b[0;34m=\u001b[0m\u001b[0;34m'matching'\u001b[0m\u001b[0;34m)\u001b[0m\u001b[0;34m:\u001b[0m\u001b[0;34m\u001b[0m\u001b[0;34m\u001b[0m\u001b[0m\n\u001b[0;32m---> 21\u001b[0;31m             \u001b[0motokens\u001b[0m \u001b[0;34m=\u001b[0m \u001b[0mrestore_token_list\u001b[0m\u001b[0;34m(\u001b[0m\u001b[0mdd\u001b[0m\u001b[0;34m[\u001b[0m\u001b[0;34m'sentText'\u001b[0m\u001b[0;34m]\u001b[0m\u001b[0;34m,\u001b[0m \u001b[0mdd\u001b[0m\u001b[0;34m[\u001b[0m\u001b[0;34m'tokens'\u001b[0m\u001b[0;34m]\u001b[0m\u001b[0;34m)\u001b[0m\u001b[0;34m\u001b[0m\u001b[0;34m\u001b[0m\u001b[0m\n\u001b[0m\u001b[1;32m     22\u001b[0m             \u001b[0mdd\u001b[0m\u001b[0;34m[\u001b[0m\u001b[0;34m'otokens'\u001b[0m\u001b[0;34m]\u001b[0m \u001b[0;34m=\u001b[0m \u001b[0motokens\u001b[0m\u001b[0;34m\u001b[0m\u001b[0;34m\u001b[0m\u001b[0m\n\u001b[1;32m     23\u001b[0m             \u001b[0mys\u001b[0m \u001b[0;34m=\u001b[0m \u001b[0;34m{\u001b[0m\u001b[0;34m}\u001b[0m\u001b[0;34m\u001b[0m\u001b[0;34m\u001b[0m\u001b[0m\n",
            "\u001b[0;32m<ipython-input-8-d7ee33187c48>\u001b[0m in \u001b[0;36mrestore_token_list\u001b[0;34m(sent, token_list)\u001b[0m\n\u001b[1;32m    134\u001b[0m \u001b[0;32mdef\u001b[0m \u001b[0mrestore_token_list\u001b[0m\u001b[0;34m(\u001b[0m\u001b[0msent\u001b[0m\u001b[0;34m,\u001b[0m \u001b[0mtoken_list\u001b[0m\u001b[0;34m)\u001b[0m\u001b[0;34m:\u001b[0m\u001b[0;34m\u001b[0m\u001b[0;34m\u001b[0m\u001b[0m\n\u001b[1;32m    135\u001b[0m         \u001b[0;32mif\u001b[0m \u001b[0mtoken_list\u001b[0m\u001b[0;34m[\u001b[0m\u001b[0;36m0\u001b[0m\u001b[0;34m]\u001b[0m \u001b[0;34m==\u001b[0m \u001b[0;34m'[CLS]'\u001b[0m\u001b[0;34m:\u001b[0m \u001b[0mtoken_list\u001b[0m \u001b[0;34m=\u001b[0m \u001b[0mtoken_list\u001b[0m\u001b[0;34m[\u001b[0m\u001b[0;36m1\u001b[0m\u001b[0;34m:\u001b[0m\u001b[0;34m-\u001b[0m\u001b[0;36m1\u001b[0m\u001b[0;34m]\u001b[0m\u001b[0;34m\u001b[0m\u001b[0;34m\u001b[0m\u001b[0m\n\u001b[0;32m--> 136\u001b[0;31m         \u001b[0minvp\u001b[0m \u001b[0;34m=\u001b[0m \u001b[0mgen_token_list_inv_pointer\u001b[0m\u001b[0;34m(\u001b[0m\u001b[0msent\u001b[0m\u001b[0;34m,\u001b[0m \u001b[0mtoken_list\u001b[0m\u001b[0;34m)\u001b[0m\u001b[0;34m\u001b[0m\u001b[0;34m\u001b[0m\u001b[0m\n\u001b[0m\u001b[1;32m    137\u001b[0m         \u001b[0minvp\u001b[0m\u001b[0;34m.\u001b[0m\u001b[0mappend\u001b[0m\u001b[0;34m(\u001b[0m\u001b[0mlen\u001b[0m\u001b[0;34m(\u001b[0m\u001b[0msent\u001b[0m\u001b[0;34m)\u001b[0m\u001b[0;34m)\u001b[0m\u001b[0;34m\u001b[0m\u001b[0;34m\u001b[0m\u001b[0m\n\u001b[1;32m    138\u001b[0m         \u001b[0motokens\u001b[0m \u001b[0;34m=\u001b[0m \u001b[0;34m[\u001b[0m\u001b[0msent\u001b[0m\u001b[0;34m[\u001b[0m\u001b[0mu\u001b[0m\u001b[0;34m:\u001b[0m\u001b[0mv\u001b[0m\u001b[0;34m]\u001b[0m \u001b[0;32mfor\u001b[0m \u001b[0mu\u001b[0m\u001b[0;34m,\u001b[0m\u001b[0mv\u001b[0m \u001b[0;32min\u001b[0m \u001b[0mzip\u001b[0m\u001b[0;34m(\u001b[0m\u001b[0minvp\u001b[0m\u001b[0;34m,\u001b[0m \u001b[0minvp\u001b[0m\u001b[0;34m[\u001b[0m\u001b[0;36m1\u001b[0m\u001b[0;34m:\u001b[0m\u001b[0;34m]\u001b[0m\u001b[0;34m)\u001b[0m\u001b[0;34m]\u001b[0m\u001b[0;34m\u001b[0m\u001b[0;34m\u001b[0m\u001b[0m\n",
            "\u001b[0;32m<ipython-input-8-d7ee33187c48>\u001b[0m in \u001b[0;36mgen_token_list_inv_pointer\u001b[0;34m(sent, token_list)\u001b[0m\n\u001b[1;32m    109\u001b[0m \u001b[0;31m## THESE FUNCTIONS ARE TESTED FOR CHS LANGUAGE ONLY\u001b[0m\u001b[0;34m\u001b[0m\u001b[0;34m\u001b[0m\u001b[0;34m\u001b[0m\u001b[0m\n\u001b[1;32m    110\u001b[0m \u001b[0;32mdef\u001b[0m \u001b[0mgen_token_list_inv_pointer\u001b[0m\u001b[0;34m(\u001b[0m\u001b[0msent\u001b[0m\u001b[0;34m,\u001b[0m \u001b[0mtoken_list\u001b[0m\u001b[0;34m)\u001b[0m\u001b[0;34m:\u001b[0m\u001b[0;34m\u001b[0m\u001b[0;34m\u001b[0m\u001b[0m\n\u001b[0;32m--> 111\u001b[0;31m         \u001b[0mzz\u001b[0m \u001b[0;34m=\u001b[0m \u001b[0mtokenizer\u001b[0m\u001b[0;34m.\u001b[0m\u001b[0mrematch\u001b[0m\u001b[0;34m(\u001b[0m\u001b[0msent\u001b[0m\u001b[0;34m,\u001b[0m \u001b[0mtoken_list\u001b[0m\u001b[0;34m)\u001b[0m\u001b[0;34m\u001b[0m\u001b[0;34m\u001b[0m\u001b[0m\n\u001b[0m\u001b[1;32m    112\u001b[0m         \u001b[0;32mreturn\u001b[0m \u001b[0;34m[\u001b[0m\u001b[0mx\u001b[0m\u001b[0;34m[\u001b[0m\u001b[0;36m0\u001b[0m\u001b[0;34m]\u001b[0m \u001b[0;32mfor\u001b[0m \u001b[0mx\u001b[0m \u001b[0;32min\u001b[0m \u001b[0mzz\u001b[0m \u001b[0;32mif\u001b[0m \u001b[0mlen\u001b[0m\u001b[0;34m(\u001b[0m\u001b[0mx\u001b[0m\u001b[0;34m)\u001b[0m \u001b[0;34m>\u001b[0m \u001b[0;36m0\u001b[0m\u001b[0;34m]\u001b[0m\u001b[0;34m\u001b[0m\u001b[0;34m\u001b[0m\u001b[0m\n\u001b[1;32m    113\u001b[0m         \u001b[0msent\u001b[0m \u001b[0;34m=\u001b[0m \u001b[0msent\u001b[0m\u001b[0;34m.\u001b[0m\u001b[0mlower\u001b[0m\u001b[0;34m(\u001b[0m\u001b[0;34m)\u001b[0m\u001b[0;34m\u001b[0m\u001b[0;34m\u001b[0m\u001b[0m\n",
            "\u001b[0;32m/usr/local/lib/python3.7/dist-packages/bert4keras/tokenizers.py\u001b[0m in \u001b[0;36mrematch\u001b[0;34m(self, text, tokens)\u001b[0m\n\u001b[1;32m    378\u001b[0m                 \u001b[0mch\u001b[0m \u001b[0;34m=\u001b[0m \u001b[0mlowercase_and_normalize\u001b[0m\u001b[0;34m(\u001b[0m\u001b[0mch\u001b[0m\u001b[0;34m)\u001b[0m\u001b[0;34m\u001b[0m\u001b[0;34m\u001b[0m\u001b[0m\n\u001b[1;32m    379\u001b[0m             ch = ''.join([\n\u001b[0;32m--> 380\u001b[0;31m                 \u001b[0mc\u001b[0m \u001b[0;32mfor\u001b[0m \u001b[0mc\u001b[0m \u001b[0;32min\u001b[0m \u001b[0mch\u001b[0m\u001b[0;34m\u001b[0m\u001b[0;34m\u001b[0m\u001b[0m\n\u001b[0m\u001b[1;32m    381\u001b[0m                 \u001b[0;32mif\u001b[0m \u001b[0;32mnot\u001b[0m \u001b[0;34m(\u001b[0m\u001b[0mord\u001b[0m\u001b[0;34m(\u001b[0m\u001b[0mc\u001b[0m\u001b[0;34m)\u001b[0m \u001b[0;34m==\u001b[0m \u001b[0;36m0\u001b[0m \u001b[0;32mor\u001b[0m \u001b[0mord\u001b[0m\u001b[0;34m(\u001b[0m\u001b[0mc\u001b[0m\u001b[0;34m)\u001b[0m \u001b[0;34m==\u001b[0m \u001b[0;36m0xfffd\u001b[0m \u001b[0;32mor\u001b[0m \u001b[0mself\u001b[0m\u001b[0;34m.\u001b[0m\u001b[0m_is_control\u001b[0m\u001b[0;34m(\u001b[0m\u001b[0mc\u001b[0m\u001b[0;34m)\u001b[0m\u001b[0;34m)\u001b[0m\u001b[0;34m\u001b[0m\u001b[0;34m\u001b[0m\u001b[0m\n\u001b[1;32m    382\u001b[0m             ])\n",
            "\u001b[0;32m/usr/local/lib/python3.7/dist-packages/bert4keras/tokenizers.py\u001b[0m in \u001b[0;36m<listcomp>\u001b[0;34m(.0)\u001b[0m\n\u001b[1;32m    379\u001b[0m             ch = ''.join([\n\u001b[1;32m    380\u001b[0m                 \u001b[0mc\u001b[0m \u001b[0;32mfor\u001b[0m \u001b[0mc\u001b[0m \u001b[0;32min\u001b[0m \u001b[0mch\u001b[0m\u001b[0;34m\u001b[0m\u001b[0;34m\u001b[0m\u001b[0m\n\u001b[0;32m--> 381\u001b[0;31m                 \u001b[0;32mif\u001b[0m \u001b[0;32mnot\u001b[0m \u001b[0;34m(\u001b[0m\u001b[0mord\u001b[0m\u001b[0;34m(\u001b[0m\u001b[0mc\u001b[0m\u001b[0;34m)\u001b[0m \u001b[0;34m==\u001b[0m \u001b[0;36m0\u001b[0m \u001b[0;32mor\u001b[0m \u001b[0mord\u001b[0m\u001b[0;34m(\u001b[0m\u001b[0mc\u001b[0m\u001b[0;34m)\u001b[0m \u001b[0;34m==\u001b[0m \u001b[0;36m0xfffd\u001b[0m \u001b[0;32mor\u001b[0m \u001b[0mself\u001b[0m\u001b[0;34m.\u001b[0m\u001b[0m_is_control\u001b[0m\u001b[0;34m(\u001b[0m\u001b[0mc\u001b[0m\u001b[0;34m)\u001b[0m\u001b[0;34m)\u001b[0m\u001b[0;34m\u001b[0m\u001b[0;34m\u001b[0m\u001b[0m\n\u001b[0m\u001b[1;32m    382\u001b[0m             ])\n\u001b[1;32m    383\u001b[0m             \u001b[0mnormalized_text\u001b[0m \u001b[0;34m+=\u001b[0m \u001b[0mch\u001b[0m\u001b[0;34m\u001b[0m\u001b[0;34m\u001b[0m\u001b[0m\n",
            "\u001b[0;32m/usr/local/lib/python3.7/dist-packages/bert4keras/tokenizers.py\u001b[0m in \u001b[0;36m_is_control\u001b[0;34m(ch)\u001b[0m\n\u001b[1;32m    344\u001b[0m         \"\"\"控制类字符判断\n\u001b[1;32m    345\u001b[0m         \"\"\"\n\u001b[0;32m--> 346\u001b[0;31m         \u001b[0;32mreturn\u001b[0m \u001b[0municodedata\u001b[0m\u001b[0;34m.\u001b[0m\u001b[0mcategory\u001b[0m\u001b[0;34m(\u001b[0m\u001b[0mch\u001b[0m\u001b[0;34m)\u001b[0m \u001b[0;32min\u001b[0m \u001b[0;34m(\u001b[0m\u001b[0;34m'Cc'\u001b[0m\u001b[0;34m,\u001b[0m \u001b[0;34m'Cf'\u001b[0m\u001b[0;34m)\u001b[0m\u001b[0;34m\u001b[0m\u001b[0;34m\u001b[0m\u001b[0m\n\u001b[0m\u001b[1;32m    347\u001b[0m \u001b[0;34m\u001b[0m\u001b[0m\n\u001b[1;32m    348\u001b[0m     \u001b[0;34m@\u001b[0m\u001b[0mstaticmethod\u001b[0m\u001b[0;34m\u001b[0m\u001b[0;34m\u001b[0m\u001b[0m\n",
            "\u001b[0;31mKeyboardInterrupt\u001b[0m: "
          ]
        }
      ]
    },
    {
      "cell_type": "code",
      "source": [
        "def SaveList(st, ofn):\n",
        "\twith open(ofn, \"w\", encoding = \"utf-8\") as fout:\n",
        "\t\tfor k in st:\n",
        "\t\t\tfout.write(str(k) + \"\\n\")"
      ],
      "metadata": {
        "id": "bJtWHuZJQhSB"
      },
      "execution_count": null,
      "outputs": []
    },
    {
      "cell_type": "code",
      "source": [
        "f_pre=open('predict.txt','w',encoding='utf_8')"
      ],
      "metadata": {
        "id": "3uDUeAAsRyMK"
      },
      "execution_count": null,
      "outputs": []
    },
    {
      "cell_type": "code",
      "source": [
        "ee.predict(tests, ofile='valid_ee.json',threshold=thre_ee)"
      ],
      "metadata": {
        "colab": {
          "base_uri": "https://localhost:8080/",
          "height": 105
        },
        "id": "XWRQoX8ivCmR",
        "outputId": "787cd46a-50ae-47a7-a394-0eb82134a627"
      },
      "execution_count": null,
      "outputs": [
        {
          "output_type": "stream",
          "name": "stderr",
          "text": [
            "matching: 100%|██████████| 4006/4006 [00:02<00:00, 1707.54it/s]\n",
            "gen EE XY: 100%|██████████| 4006/4006 [00:00<00:00, 6695.00it/s]\n"
          ]
        },
        {
          "output_type": "stream",
          "name": "stdout",
          "text": [
            "5627/5627 [==============================] - 25s 4ms/step\n",
            "Prec: 0.8591 4548/5294, Reca: 0.7762 4548/5859, F1: 0.8156\n"
          ]
        },
        {
          "output_type": "execute_result",
          "data": {
            "text/plain": [
              "'Prec: 0.8591 4548/5294, Reca: 0.7762 4548/5859, F1: 0.8156'"
            ],
            "application/vnd.google.colaboratory.intrinsic+json": {
              "type": "string"
            }
          },
          "metadata": {},
          "execution_count": 77
        }
      ]
    },
    {
      "cell_type": "markdown",
      "source": [
        "{\"sentText\": \"during a daylong tour of zimbabwe back-country between bulawayo and harare , the capital , candidates for both zanu-p.f. and the opposition were seen beseeching crowds at groceries and liquor stores . \", \"relationMentions\": [{\"em1Text\": \"zimbabwe\", \"em2Text\": \"bulawayo\", \"label\": \"/location/country/administrative_divisions\"}, {\"em1Text\": \"zimbabwe\", \"em2Text\": \"harare\", \"label\": \"/location/country/capital\"}, {\"em1Text\": \"zimbabwe\", \"em2Text\": \"harare\", \"label\": \"/location/country/administrative_divisions\"}, {\"em1Text\": \"harare\", \"em2Text\": \"zimbabwe\", \"label\": \"/location/administrative_division/country\"}, {\"em1Text\": \"bulawayo\", \"em2Text\": \"zimbabwe\", \"label\": \"/location/administrative_division/country\"}]}\n"
      ],
      "metadata": {
        "id": "XRlGFkVRs-6E"
      }
    },
    {
      "cell_type": "markdown",
      "source": [
        ""
      ],
      "metadata": {
        "id": "zu6Y-OwCtFjo"
      }
    },
    {
      "cell_type": "markdown",
      "source": [
        "Prec: 0.8804 4401/4999, Reca: 0.7512 4401/5859, F1: 0.8106Prec: 0.8591 4548/5294, Reca: 0.7762 4548/5859, F1: 0.8156Prec: 0.8591 4548/5294, Reca: 0.7762 4548/5859, F1: 0.8156"
      ],
      "metadata": {
        "id": "2hrTA3yjqWWT"
      }
    },
    {
      "cell_type": "code",
      "source": [
        "trains[10]"
      ],
      "metadata": {
        "colab": {
          "base_uri": "https://localhost:8080/"
        },
        "id": "YteBjKCMqIJ9",
        "outputId": "3475cbcf-62e3-41e7-aab7-cd293350a3e5"
      },
      "execution_count": null,
      "outputs": [
        {
          "output_type": "execute_result",
          "data": {
            "text/plain": [
              "{'ee_obj': [{'offset': 10,\n",
              "   'opos': [(6, 11), (6, 11)],\n",
              "   'pp': '/location/administrative_division/country',\n",
              "   'spos': [(20, 23), (15, 19)]},\n",
              "  {'offset': 10,\n",
              "   'opos': [(15, 19), (20, 23)],\n",
              "   'pp': '/location/country/administrative_divisions',\n",
              "   'spos': [(6, 11), (6, 11)]},\n",
              "  {'offset': 8,\n",
              "   'opos': [(20, 23)],\n",
              "   'pp': '/location/country/capital',\n",
              "   'spos': [(6, 11)]}],\n",
              " 'otokens': ['during ',\n",
              "  'a ',\n",
              "  'day',\n",
              "  'long ',\n",
              "  'tour ',\n",
              "  'of ',\n",
              "  'z',\n",
              "  'im',\n",
              "  'ba',\n",
              "  'b',\n",
              "  'we ',\n",
              "  'back',\n",
              "  '-',\n",
              "  'country ',\n",
              "  'between ',\n",
              "  'b',\n",
              "  'ula',\n",
              "  'way',\n",
              "  'o ',\n",
              "  'and ',\n",
              "  'ha',\n",
              "  'rar',\n",
              "  'e ',\n",
              "  ', ',\n",
              "  'the ',\n",
              "  'capital ',\n",
              "  ', ',\n",
              "  'candidates ',\n",
              "  'for ',\n",
              "  'both ',\n",
              "  'z',\n",
              "  'anu',\n",
              "  '-',\n",
              "  'p',\n",
              "  '.',\n",
              "  'f',\n",
              "  '. ',\n",
              "  'and ',\n",
              "  'the ',\n",
              "  'opposition ',\n",
              "  'were ',\n",
              "  'seen ',\n",
              "  'be',\n",
              "  'see',\n",
              "  'ching ',\n",
              "  'crowds ',\n",
              "  'at ',\n",
              "  'g',\n",
              "  'ro',\n",
              "  'cer',\n",
              "  'ies ',\n",
              "  'and ',\n",
              "  'liquor ',\n",
              "  'stores ',\n",
              "  '. '],\n",
              " 'relationMentions': [{'em1Text': 'zimbabwe',\n",
              "   'em2Text': 'bulawayo',\n",
              "   'label': '/location/country/administrative_divisions'},\n",
              "  {'em1Text': 'zimbabwe',\n",
              "   'em2Text': 'harare',\n",
              "   'label': '/location/country/capital'},\n",
              "  {'em1Text': 'zimbabwe',\n",
              "   'em2Text': 'harare',\n",
              "   'label': '/location/country/administrative_divisions'},\n",
              "  {'em1Text': 'harare',\n",
              "   'em2Text': 'zimbabwe',\n",
              "   'label': '/location/administrative_division/country'},\n",
              "  {'em1Text': 'bulawayo',\n",
              "   'em2Text': 'zimbabwe',\n",
              "   'label': '/location/administrative_division/country'}],\n",
              " 'sentText': 'during a daylong tour of zimbabwe back-country between bulawayo and harare , the capital , candidates for both zanu-p.f. and the opposition were seen beseeching crowds at groceries and liquor stores . ',\n",
              " 'tokens': ['[CLS]',\n",
              "  'during',\n",
              "  'a',\n",
              "  'day',\n",
              "  '##long',\n",
              "  'tour',\n",
              "  'of',\n",
              "  'z',\n",
              "  '##im',\n",
              "  '##ba',\n",
              "  '##b',\n",
              "  '##we',\n",
              "  'back',\n",
              "  '-',\n",
              "  'country',\n",
              "  'between',\n",
              "  'b',\n",
              "  '##ula',\n",
              "  '##way',\n",
              "  '##o',\n",
              "  'and',\n",
              "  'ha',\n",
              "  '##rar',\n",
              "  '##e',\n",
              "  ',',\n",
              "  'the',\n",
              "  'capital',\n",
              "  ',',\n",
              "  'candidates',\n",
              "  'for',\n",
              "  'both',\n",
              "  'z',\n",
              "  '##anu',\n",
              "  '-',\n",
              "  'p',\n",
              "  '.',\n",
              "  'f',\n",
              "  '.',\n",
              "  'and',\n",
              "  'the',\n",
              "  'opposition',\n",
              "  'were',\n",
              "  'seen',\n",
              "  'be',\n",
              "  '##see',\n",
              "  '##ching',\n",
              "  'crowds',\n",
              "  'at',\n",
              "  'g',\n",
              "  '##ro',\n",
              "  '##cer',\n",
              "  '##ies',\n",
              "  'and',\n",
              "  'liquor',\n",
              "  'stores',\n",
              "  '.',\n",
              "  '[SEP]']}"
            ]
          },
          "metadata": {},
          "execution_count": 40
        }
      ]
    },
    {
      "cell_type": "code",
      "source": [
        "X, Y=ee.make_model_data(trains)"
      ],
      "metadata": {
        "colab": {
          "base_uri": "https://localhost:8080/"
        },
        "id": "8zwfQEKPiXZ1",
        "outputId": "5b55f58d-6c1c-4fbf-f779-6169d3aa7c22"
      },
      "execution_count": null,
      "outputs": [
        {
          "output_type": "stream",
          "name": "stderr",
          "text": [
            "matching: 100%|██████████| 69988/69988 [00:38<00:00, 1807.80it/s]\n",
            "gen EE XY: 100%|██████████| 69988/69988 [00:08<00:00, 7891.70it/s]\n"
          ]
        }
      ]
    },
    {
      "cell_type": "code",
      "source": [
        "X[0].shape"
      ],
      "metadata": {
        "colab": {
          "base_uri": "https://localhost:8080/"
        },
        "id": "2zKCOy-yocxE",
        "outputId": "328db65b-5eae-48fa-d0fd-1126e1be0497"
      },
      "execution_count": null,
      "outputs": [
        {
          "output_type": "execute_result",
          "data": {
            "text/plain": [
              "(84524, 128)"
            ]
          },
          "metadata": {},
          "execution_count": 29
        }
      ]
    },
    {
      "cell_type": "code",
      "source": [
        "X[0][:2]"
      ],
      "metadata": {
        "id": "KVdQWYKCnnkl"
      },
      "execution_count": null,
      "outputs": []
    },
    {
      "cell_type": "code",
      "source": [
        "{\"sentText\": \"it was on the west side , not in harlem . \", \"relationMentions\": [{\"em1Text\": \"west side\", \"em2Text\": \"harlem\", \"label\": \"/location/location/contains\"}]}"
      ],
      "metadata": {
        "id": "KfyJfjDRouZC"
      },
      "execution_count": null,
      "outputs": []
    },
    {
      "cell_type": "code",
      "source": [
        "Y[10].shape"
      ],
      "metadata": {
        "colab": {
          "base_uri": "https://localhost:8080/"
        },
        "id": "436T33son7sL",
        "outputId": "d7889072-d6af-4f0d-bb0d-cb626483326d"
      },
      "execution_count": null,
      "outputs": [
        {
          "output_type": "execute_result",
          "data": {
            "text/plain": [
              "(128, 4)"
            ]
          },
          "metadata": {},
          "execution_count": 41
        }
      ]
    },
    {
      "cell_type": "code",
      "source": [
        ""
      ],
      "metadata": {
        "id": "_0QuThXJqzyR"
      },
      "execution_count": null,
      "outputs": []
    },
    {
      "cell_type": "code",
      "source": [
        "Y[10]"
      ],
      "metadata": {
        "colab": {
          "base_uri": "https://localhost:8080/"
        },
        "id": "K86Fz4cupFL7",
        "outputId": "2a2c2503-f6b3-49f2-d3bb-724ed0613922"
      },
      "execution_count": null,
      "outputs": [
        {
          "output_type": "execute_result",
          "data": {
            "text/plain": [
              "array([[0, 0, 0, 0],\n",
              "       [0, 0, 0, 0],\n",
              "       [0, 0, 0, 0],\n",
              "       [0, 0, 0, 0],\n",
              "       [0, 0, 0, 0],\n",
              "       [0, 0, 0, 0],\n",
              "       [0, 0, 0, 0],\n",
              "       [0, 0, 0, 0],\n",
              "       [0, 0, 0, 0],\n",
              "       [0, 0, 0, 0],\n",
              "       [0, 0, 0, 0],\n",
              "       [0, 0, 0, 0],\n",
              "       [0, 0, 0, 0],\n",
              "       [0, 0, 0, 0],\n",
              "       [0, 0, 0, 0],\n",
              "       [0, 0, 0, 0],\n",
              "       [0, 0, 1, 0],\n",
              "       [0, 0, 0, 0],\n",
              "       [0, 0, 0, 0],\n",
              "       [0, 0, 0, 0],\n",
              "       [0, 0, 0, 1],\n",
              "       [0, 0, 0, 0],\n",
              "       [0, 0, 0, 0],\n",
              "       [0, 0, 0, 0],\n",
              "       [0, 0, 0, 0],\n",
              "       [1, 0, 0, 0],\n",
              "       [0, 0, 0, 0],\n",
              "       [0, 0, 0, 0],\n",
              "       [0, 1, 0, 0],\n",
              "       [0, 0, 0, 0],\n",
              "       [1, 0, 0, 0],\n",
              "       [0, 0, 0, 0],\n",
              "       [0, 1, 0, 0],\n",
              "       [0, 0, 0, 0],\n",
              "       [0, 0, 0, 0],\n",
              "       [0, 0, 0, 0],\n",
              "       [0, 0, 0, 0],\n",
              "       [0, 0, 0, 0],\n",
              "       [0, 0, 0, 0],\n",
              "       [0, 0, 0, 0],\n",
              "       [0, 0, 0, 0],\n",
              "       [0, 0, 0, 0],\n",
              "       [0, 0, 0, 0],\n",
              "       [0, 0, 0, 0],\n",
              "       [0, 0, 0, 0],\n",
              "       [0, 0, 0, 0],\n",
              "       [0, 0, 0, 0],\n",
              "       [0, 0, 0, 0],\n",
              "       [0, 0, 0, 0],\n",
              "       [0, 0, 0, 0],\n",
              "       [0, 0, 0, 0],\n",
              "       [0, 0, 0, 0],\n",
              "       [0, 0, 0, 0],\n",
              "       [0, 0, 0, 0],\n",
              "       [0, 0, 0, 0],\n",
              "       [0, 0, 0, 0],\n",
              "       [0, 0, 0, 0],\n",
              "       [0, 0, 0, 0],\n",
              "       [0, 0, 0, 0],\n",
              "       [0, 0, 0, 0],\n",
              "       [0, 0, 0, 0],\n",
              "       [0, 0, 0, 0],\n",
              "       [0, 0, 0, 0],\n",
              "       [0, 0, 0, 0],\n",
              "       [0, 0, 0, 0],\n",
              "       [0, 0, 0, 0],\n",
              "       [0, 0, 0, 0],\n",
              "       [0, 0, 0, 0],\n",
              "       [0, 0, 0, 0],\n",
              "       [0, 0, 0, 0],\n",
              "       [0, 0, 0, 0],\n",
              "       [0, 0, 0, 0],\n",
              "       [0, 0, 0, 0],\n",
              "       [0, 0, 0, 0],\n",
              "       [0, 0, 0, 0],\n",
              "       [0, 0, 0, 0],\n",
              "       [0, 0, 0, 0],\n",
              "       [0, 0, 0, 0],\n",
              "       [0, 0, 0, 0],\n",
              "       [0, 0, 0, 0],\n",
              "       [0, 0, 0, 0],\n",
              "       [0, 0, 0, 0],\n",
              "       [0, 0, 0, 0],\n",
              "       [0, 0, 0, 0],\n",
              "       [0, 0, 0, 0],\n",
              "       [0, 0, 0, 0],\n",
              "       [0, 0, 0, 0],\n",
              "       [0, 0, 0, 0],\n",
              "       [0, 0, 0, 0],\n",
              "       [0, 0, 0, 0],\n",
              "       [0, 0, 0, 0],\n",
              "       [0, 0, 0, 0],\n",
              "       [0, 0, 0, 0],\n",
              "       [0, 0, 0, 0],\n",
              "       [0, 0, 0, 0],\n",
              "       [0, 0, 0, 0],\n",
              "       [0, 0, 0, 0],\n",
              "       [0, 0, 0, 0],\n",
              "       [0, 0, 0, 0],\n",
              "       [0, 0, 0, 0],\n",
              "       [0, 0, 0, 0],\n",
              "       [0, 0, 0, 0],\n",
              "       [0, 0, 0, 0],\n",
              "       [0, 0, 0, 0],\n",
              "       [0, 0, 0, 0],\n",
              "       [0, 0, 0, 0],\n",
              "       [0, 0, 0, 0],\n",
              "       [0, 0, 0, 0],\n",
              "       [0, 0, 0, 0],\n",
              "       [0, 0, 0, 0],\n",
              "       [0, 0, 0, 0],\n",
              "       [0, 0, 0, 0],\n",
              "       [0, 0, 0, 0],\n",
              "       [0, 0, 0, 0],\n",
              "       [0, 0, 0, 0],\n",
              "       [0, 0, 0, 0],\n",
              "       [0, 0, 0, 0],\n",
              "       [0, 0, 0, 0],\n",
              "       [0, 0, 0, 0],\n",
              "       [0, 0, 0, 0],\n",
              "       [0, 0, 0, 0],\n",
              "       [0, 0, 0, 0],\n",
              "       [0, 0, 0, 0],\n",
              "       [0, 0, 0, 0],\n",
              "       [0, 0, 0, 0],\n",
              "       [0, 0, 0, 0],\n",
              "       [0, 0, 0, 0],\n",
              "       [0, 0, 0, 0]], dtype=int8)"
            ]
          },
          "metadata": {},
          "execution_count": 42
        }
      ]
    },
    {
      "cell_type": "code",
      "source": [
        "y=Y[1].reshape(4,128)"
      ],
      "metadata": {
        "id": "rtU0DFbioPej"
      },
      "execution_count": null,
      "outputs": []
    },
    {
      "cell_type": "code",
      "source": [
        "y[0]"
      ],
      "metadata": {
        "colab": {
          "base_uri": "https://localhost:8080/"
        },
        "id": "8Hpveu9AoWcA",
        "outputId": "670571a7-e9bb-48bc-d405-6d77f3df65c5"
      },
      "execution_count": null,
      "outputs": [
        {
          "output_type": "execute_result",
          "data": {
            "text/plain": [
              "array([0, 0, 0, 0, 0, 0, 0, 0, 0, 0, 0, 0, 0, 0, 0, 0, 0, 0, 0, 0, 0, 0,\n",
              "       0, 0, 0, 0, 0, 0, 0, 0, 0, 0, 0, 0, 0, 0, 0, 0, 0, 0, 0, 0, 0, 0,\n",
              "       0, 0, 0, 0, 1, 0, 0, 0, 0, 1, 0, 0, 0, 0, 0, 0, 0, 0, 0, 0, 0, 0,\n",
              "       0, 0, 0, 0, 1, 0, 0, 0, 0, 0, 0, 0, 0, 1, 0, 0, 0, 0, 0, 0, 0, 0,\n",
              "       0, 0, 0, 0, 0, 0, 0, 0, 0, 0, 0, 0, 0, 0, 0, 0, 0, 0, 0, 0, 0, 0,\n",
              "       0, 0, 0, 0, 0, 0, 0, 0, 0, 0, 0, 0, 0, 0, 0, 0, 0, 0], dtype=int8)"
            ]
          },
          "metadata": {},
          "execution_count": 27
        }
      ]
    },
    {
      "cell_type": "code",
      "source": [
        "y[1]"
      ],
      "metadata": {
        "colab": {
          "base_uri": "https://localhost:8080/"
        },
        "id": "SqVBew4to2qw",
        "outputId": "b7c53eae-49c2-4f4a-8de0-bb90f0d99266"
      },
      "execution_count": null,
      "outputs": [
        {
          "output_type": "execute_result",
          "data": {
            "text/plain": [
              "array([0, 0, 0, 0, 0, 0, 0, 0, 0, 0, 0, 0, 0, 0, 0, 0, 0, 0, 0, 0, 0, 0,\n",
              "       0, 0, 0, 0, 0, 0, 0, 0, 0, 0, 0, 0, 0, 0, 0, 0, 0, 0, 0, 0, 0, 0,\n",
              "       0, 0, 0, 0, 0, 0, 0, 0, 0, 0, 0, 0, 0, 0, 0, 0, 0, 0, 0, 0, 0, 0,\n",
              "       0, 0, 0, 0, 0, 0, 0, 0, 0, 0, 0, 0, 0, 0, 0, 0, 0, 0, 0, 0, 0, 0,\n",
              "       0, 0, 0, 0, 0, 0, 0, 0, 0, 0, 0, 0, 0, 0, 0, 0, 0, 0, 0, 0, 0, 0,\n",
              "       0, 0, 0, 0, 0, 0, 0, 0, 0, 0, 0, 0, 0, 0, 0, 0, 0, 0], dtype=int8)"
            ]
          },
          "metadata": {},
          "execution_count": 30
        }
      ]
    },
    {
      "cell_type": "code",
      "source": [
        "y[2]"
      ],
      "metadata": {
        "colab": {
          "base_uri": "https://localhost:8080/"
        },
        "id": "s4m5kzpBo9HY",
        "outputId": "c9919ff5-792b-407f-ac48-8694ea0b22b3"
      },
      "execution_count": null,
      "outputs": [
        {
          "output_type": "execute_result",
          "data": {
            "text/plain": [
              "array([0, 0, 0, 0, 0, 0, 0, 0, 0, 0, 0, 0, 0, 0, 0, 0, 0, 0, 0, 0, 0, 0,\n",
              "       0, 0, 0, 0, 0, 0, 0, 0, 0, 0, 0, 0, 0, 0, 0, 0, 0, 0, 0, 0, 0, 0,\n",
              "       0, 0, 0, 0, 0, 0, 0, 0, 0, 0, 0, 0, 0, 0, 0, 0, 0, 0, 0, 0, 0, 0,\n",
              "       0, 0, 0, 0, 0, 0, 0, 0, 0, 0, 0, 0, 0, 0, 0, 0, 0, 0, 0, 0, 0, 0,\n",
              "       0, 0, 0, 0, 0, 0, 0, 0, 0, 0, 0, 0, 0, 0, 0, 0, 0, 0, 0, 0, 0, 0,\n",
              "       0, 0, 0, 0, 0, 0, 0, 0, 0, 0, 0, 0, 0, 0, 0, 0, 0, 0], dtype=int8)"
            ]
          },
          "metadata": {},
          "execution_count": 31
        }
      ]
    },
    {
      "cell_type": "code",
      "source": [
        "y[3]"
      ],
      "metadata": {
        "colab": {
          "base_uri": "https://localhost:8080/"
        },
        "id": "3rUpU_zRo_wW",
        "outputId": "19c364cd-4d36-4381-a655-295d9426a834"
      },
      "execution_count": null,
      "outputs": [
        {
          "output_type": "execute_result",
          "data": {
            "text/plain": [
              "array([0, 0, 0, 0, 0, 0, 0, 0, 0, 0, 0, 0, 0, 0, 0, 0, 0, 0, 0, 0, 0, 0,\n",
              "       0, 0, 0, 0, 0, 0, 0, 0, 0, 0, 0, 0, 0, 0, 0, 0, 0, 0, 0, 0, 0, 0,\n",
              "       0, 0, 0, 0, 0, 0, 0, 0, 0, 0, 0, 0, 0, 0, 0, 0, 0, 0, 0, 0, 0, 0,\n",
              "       0, 0, 0, 0, 0, 0, 0, 0, 0, 0, 0, 0, 0, 0, 0, 0, 0, 0, 0, 0, 0, 0,\n",
              "       0, 0, 0, 0, 0, 0, 0, 0, 0, 0, 0, 0, 0, 0, 0, 0, 0, 0, 0, 0, 0, 0,\n",
              "       0, 0, 0, 0, 0, 0, 0, 0, 0, 0, 0, 0, 0, 0, 0, 0, 0, 0], dtype=int8)"
            ]
          },
          "metadata": {},
          "execution_count": 32
        }
      ]
    },
    {
      "cell_type": "code",
      "source": [
        "Y[1][1]"
      ],
      "metadata": {
        "colab": {
          "base_uri": "https://localhost:8080/"
        },
        "id": "lnjYBMrZoLVr",
        "outputId": "b92141f5-ea0a-4ee5-9c99-edb69408e7f3"
      },
      "execution_count": null,
      "outputs": [
        {
          "output_type": "execute_result",
          "data": {
            "text/plain": [
              "array([0, 0, 0, 0], dtype=int8)"
            ]
          },
          "metadata": {},
          "execution_count": 25
        }
      ]
    },
    {
      "cell_type": "code",
      "source": [
        "Y[1].shape"
      ],
      "metadata": {
        "colab": {
          "base_uri": "https://localhost:8080/"
        },
        "id": "w9DS8YJeoEOd",
        "outputId": "dd4bfdd2-f29d-436e-beb5-ea3534bc97fc"
      },
      "execution_count": null,
      "outputs": [
        {
          "output_type": "execute_result",
          "data": {
            "text/plain": [
              "(128, 4)"
            ]
          },
          "metadata": {},
          "execution_count": 24
        }
      ]
    },
    {
      "cell_type": "markdown",
      "source": [
        "![image.png](data:image/png;base64,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)"
      ],
      "metadata": {
        "id": "qXfzY8F_ZdUA"
      }
    },
    {
      "cell_type": "code",
      "source": [
        "\n",
        "ee = EEModel()\n",
        "ee.train(trains, batch_size=32, epochs=20)\n",
        "ee.predict(tests, threshold=thre_ee, ofile='valid_ee.json')\n",
        "print('done')"
      ],
      "metadata": {
        "id": "BBj3nhgdXe1_"
      },
      "execution_count": null,
      "outputs": []
    }
  ]
}
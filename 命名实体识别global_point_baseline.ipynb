{
  "cells": [
    {
      "cell_type": "markdown",
      "metadata": {
        "id": "view-in-github",
        "colab_type": "text"
      },
      "source": [
        "<a href=\"https://colab.research.google.com/github/Hou-jing/paper_record_public/blob/main/%E5%91%BD%E5%90%8D%E5%AE%9E%E4%BD%93%E8%AF%86%E5%88%ABglobal_point_baseline.ipynb\" target=\"_parent\"><img src=\"https://colab.research.google.com/assets/colab-badge.svg\" alt=\"Open In Colab\"/></a>"
      ]
    },
    {
      "cell_type": "code",
      "source": [
        "pip install ark-nlp"
      ],
      "metadata": {
        "id": "xKzpF5lhsivX"
      },
      "id": "xKzpF5lhsivX",
      "execution_count": null,
      "outputs": []
    },
    {
      "cell_type": "code",
      "execution_count": null,
      "metadata": {
        "id": "gQuJP4zxrjQS"
      },
      "outputs": [],
      "source": [
        "import warnings\n",
        "warnings.filterwarnings(\"ignore\")\n",
        "\n",
        "import os\n",
        "import jieba\n",
        "import torch\n",
        "import pickle\n",
        "import torch.nn as nn\n",
        "import torch.optim as optim\n",
        "import pandas as pd\n",
        "\n",
        "from ark_nlp.model.ner.global_pointer_bert import GlobalPointerBert\n",
        "from ark_nlp.model.ner.global_pointer_bert import GlobalPointerBertConfig\n",
        "from ark_nlp.model.ner.global_pointer_bert import Dataset\n",
        "from ark_nlp.model.ner.global_pointer_bert import Task\n",
        "from ark_nlp.model.ner.global_pointer_bert import get_default_model_optimizer\n",
        "from ark_nlp.model.ner.global_pointer_bert import Tokenizer"
      ],
      "id": "gQuJP4zxrjQS"
    },
    {
      "cell_type": "markdown",
      "metadata": {
        "id": "w_reDTLPrjQa"
      },
      "source": [
        "### 一、数据读入与处理"
      ],
      "id": "w_reDTLPrjQa"
    },
    {
      "cell_type": "markdown",
      "metadata": {
        "id": "cfwgpRKerjQd"
      },
      "source": [
        "#### 1. 数据读入"
      ],
      "id": "cfwgpRKerjQd"
    },
    {
      "cell_type": "code",
      "source": [
        "!wget https://www.dropbox.com/s/5nf5b9bt22bzg3a/train.zip?dl=0  -O train.zip"
      ],
      "metadata": {
        "colab": {
          "base_uri": "https://localhost:8080/"
        },
        "id": "yOevS93YtpPp",
        "outputId": "8ead2fea-181f-483c-fc4c-9ada9219d6b3"
      },
      "id": "yOevS93YtpPp",
      "execution_count": null,
      "outputs": [
        {
          "output_type": "stream",
          "name": "stdout",
          "text": [
            "--2022-03-24 02:32:08--  https://www.dropbox.com/s/5nf5b9bt22bzg3a/train.zip?dl=0\n",
            "Resolving www.dropbox.com (www.dropbox.com)... 162.125.1.18, 2620:100:6016:18::a27d:112\n",
            "Connecting to www.dropbox.com (www.dropbox.com)|162.125.1.18|:443... connected.\n",
            "HTTP request sent, awaiting response... 301 Moved Permanently\n",
            "Location: /s/raw/5nf5b9bt22bzg3a/train.zip [following]\n",
            "--2022-03-24 02:32:08--  https://www.dropbox.com/s/raw/5nf5b9bt22bzg3a/train.zip\n",
            "Reusing existing connection to www.dropbox.com:443.\n",
            "HTTP request sent, awaiting response... 302 Found\n",
            "Location: https://ucf9a41c99ee2c2c6f3e4d01b372.dl.dropboxusercontent.com/cd/0/inline/BiCCIQzMfp29I3SFnTynx6QERQUyzfVa7Kb3MKGBzInNhZJH_buXr4dc1IMNVRh0VnDTl5dqTjUwYNDxXVwO6Q-H5hw2TkoA3vfDfMKIP_kBo0akUsKCw9FeM49my2vyZm69TyEPcHGsPDUtUN0-1M2MGifnPsnFrxI7mVlg21R_3A/file# [following]\n",
            "--2022-03-24 02:32:08--  https://ucf9a41c99ee2c2c6f3e4d01b372.dl.dropboxusercontent.com/cd/0/inline/BiCCIQzMfp29I3SFnTynx6QERQUyzfVa7Kb3MKGBzInNhZJH_buXr4dc1IMNVRh0VnDTl5dqTjUwYNDxXVwO6Q-H5hw2TkoA3vfDfMKIP_kBo0akUsKCw9FeM49my2vyZm69TyEPcHGsPDUtUN0-1M2MGifnPsnFrxI7mVlg21R_3A/file\n",
            "Resolving ucf9a41c99ee2c2c6f3e4d01b372.dl.dropboxusercontent.com (ucf9a41c99ee2c2c6f3e4d01b372.dl.dropboxusercontent.com)... 162.125.1.15, 2620:100:6016:15::a27d:10f\n",
            "Connecting to ucf9a41c99ee2c2c6f3e4d01b372.dl.dropboxusercontent.com (ucf9a41c99ee2c2c6f3e4d01b372.dl.dropboxusercontent.com)|162.125.1.15|:443... connected.\n",
            "HTTP request sent, awaiting response... 302 Found\n",
            "Location: /cd/0/inline2/BiADREvOYjsYja2A7-G8rp9iEL410waIWsf7mPqQwuRKRxd05XcdSgz-YDWuB7bJRbfIA_3RNZmsFttb2bXpvphp660_o__ivs1thjN_2sW1h7rlPmLhXhtgFAuz8QH5gAKa8ojmI3DCyDxHFjdNNC5yP0UZz8PKukERqngL_nYgQfi_Qnkg152Sm7nUStR2U3lQMMbQyO2gMySQHqpTCxcoumhwZy1WcQ-6w2w2J4gEK63xeONYEalSP6tAcwoH1SGefXeM1LxQyjZj5dPugRcbBpki4Gja9yP1X-vffzKc_-lzen5ejdG5qeM6rE3bU6H2TvMSbHFmi81B4NLpPNlMV29KGRwvfV-ev-Ly-BT5FmRbSnW0gsanh9zY0W1PYySXnec7m7EHLKYYq3nspUZAUvzRfHQ4jqXLFqGnV_oyjA/file [following]\n",
            "--2022-03-24 02:32:09--  https://ucf9a41c99ee2c2c6f3e4d01b372.dl.dropboxusercontent.com/cd/0/inline2/BiADREvOYjsYja2A7-G8rp9iEL410waIWsf7mPqQwuRKRxd05XcdSgz-YDWuB7bJRbfIA_3RNZmsFttb2bXpvphp660_o__ivs1thjN_2sW1h7rlPmLhXhtgFAuz8QH5gAKa8ojmI3DCyDxHFjdNNC5yP0UZz8PKukERqngL_nYgQfi_Qnkg152Sm7nUStR2U3lQMMbQyO2gMySQHqpTCxcoumhwZy1WcQ-6w2w2J4gEK63xeONYEalSP6tAcwoH1SGefXeM1LxQyjZj5dPugRcbBpki4Gja9yP1X-vffzKc_-lzen5ejdG5qeM6rE3bU6H2TvMSbHFmi81B4NLpPNlMV29KGRwvfV-ev-Ly-BT5FmRbSnW0gsanh9zY0W1PYySXnec7m7EHLKYYq3nspUZAUvzRfHQ4jqXLFqGnV_oyjA/file\n",
            "Reusing existing connection to ucf9a41c99ee2c2c6f3e4d01b372.dl.dropboxusercontent.com:443.\n",
            "HTTP request sent, awaiting response... 200 OK\n",
            "Length: 4536611 (4.3M) [application/zip]\n",
            "Saving to: ‘train.zip’\n",
            "\n",
            "train.zip           100%[===================>]   4.33M  9.03MB/s    in 0.5s    \n",
            "\n",
            "2022-03-24 02:32:10 (9.03 MB/s) - ‘train.zip’ saved [4536611/4536611]\n",
            "\n"
          ]
        }
      ]
    },
    {
      "cell_type": "code",
      "source": [
        "!wget https://www.dropbox.com/s/xirj6xijd5xhfum/test.zip?dl=0   -O test.zip"
      ],
      "metadata": {
        "colab": {
          "base_uri": "https://localhost:8080/"
        },
        "id": "FXf3QiD_tpR9",
        "outputId": "d557489f-aabd-4f67-c2ff-b9f107753c3f"
      },
      "id": "FXf3QiD_tpR9",
      "execution_count": null,
      "outputs": [
        {
          "output_type": "stream",
          "name": "stdout",
          "text": [
            "--2022-03-24 02:32:12--  https://www.dropbox.com/s/xirj6xijd5xhfum/test.zip?dl=0\n",
            "Resolving www.dropbox.com (www.dropbox.com)... 162.125.1.18, 2620:100:6016:18::a27d:112\n",
            "Connecting to www.dropbox.com (www.dropbox.com)|162.125.1.18|:443... connected.\n",
            "HTTP request sent, awaiting response... 301 Moved Permanently\n",
            "Location: /s/raw/xirj6xijd5xhfum/test.zip [following]\n",
            "--2022-03-24 02:32:13--  https://www.dropbox.com/s/raw/xirj6xijd5xhfum/test.zip\n",
            "Reusing existing connection to www.dropbox.com:443.\n",
            "HTTP request sent, awaiting response... 302 Found\n",
            "Location: https://uca7872d1c8b1ef102c18c0a0175.dl.dropboxusercontent.com/cd/0/inline/BiAPt4-BKlC8kBLAqigscniAdjqee5WI2rwNE_a-jvY9Pz3Pi2E-1ZWYrWR2ExD6yvU6rWv3V9rUVRopdWBoile_1jmjXYj0ajJa8bcUBVzAfUsZrSKfvWfxi0sB3LVO7zRfyLnvdP-cW_a5wnzC1rcRvuzE1KWwGP9Ae9Grd099Ow/file# [following]\n",
            "--2022-03-24 02:32:13--  https://uca7872d1c8b1ef102c18c0a0175.dl.dropboxusercontent.com/cd/0/inline/BiAPt4-BKlC8kBLAqigscniAdjqee5WI2rwNE_a-jvY9Pz3Pi2E-1ZWYrWR2ExD6yvU6rWv3V9rUVRopdWBoile_1jmjXYj0ajJa8bcUBVzAfUsZrSKfvWfxi0sB3LVO7zRfyLnvdP-cW_a5wnzC1rcRvuzE1KWwGP9Ae9Grd099Ow/file\n",
            "Resolving uca7872d1c8b1ef102c18c0a0175.dl.dropboxusercontent.com (uca7872d1c8b1ef102c18c0a0175.dl.dropboxusercontent.com)... 162.125.1.15, 2620:100:6016:15::a27d:10f\n",
            "Connecting to uca7872d1c8b1ef102c18c0a0175.dl.dropboxusercontent.com (uca7872d1c8b1ef102c18c0a0175.dl.dropboxusercontent.com)|162.125.1.15|:443... connected.\n",
            "HTTP request sent, awaiting response... 302 Found\n",
            "Location: /cd/0/inline2/BiBAm_Iry5YJpGydNimbsweP_MdyEj2rpFHBmOKSNl-svEDW-p_eZ0kxGsXxcgfhaCzMOhAhT7XVvbGPwZ4dmCQenGHYzegIFDYUyT7TyqYlTgkZxk8RgLYfK-zUPahTBqf47OfSAigOQYSu4eJleHQRuU32lBZE-a_lsvg4zXxSQEILAoJefGw6oE_cn2KLokUYZw3dPREHT3uKDKF1TWkhAgWIlu4khNyq1RDro1pPZVoUoDTTzrHVoG0_b9mpdTew8SeR3zrWwcw2eVt3NGzaNyVwvb445vUTbCLH3S8ZAN8wtDDY--EojO0abn41WjtffQynUkqlg0SbzFRrRanh6Nb9hx87xnHJt_YPs8H_oeQm5N_AecLXCKbQtSU1P72BsnssV2KS1TxOQe94L8zd_E3L4DQKR-hAnAAhbi416w/file [following]\n",
            "--2022-03-24 02:32:13--  https://uca7872d1c8b1ef102c18c0a0175.dl.dropboxusercontent.com/cd/0/inline2/BiBAm_Iry5YJpGydNimbsweP_MdyEj2rpFHBmOKSNl-svEDW-p_eZ0kxGsXxcgfhaCzMOhAhT7XVvbGPwZ4dmCQenGHYzegIFDYUyT7TyqYlTgkZxk8RgLYfK-zUPahTBqf47OfSAigOQYSu4eJleHQRuU32lBZE-a_lsvg4zXxSQEILAoJefGw6oE_cn2KLokUYZw3dPREHT3uKDKF1TWkhAgWIlu4khNyq1RDro1pPZVoUoDTTzrHVoG0_b9mpdTew8SeR3zrWwcw2eVt3NGzaNyVwvb445vUTbCLH3S8ZAN8wtDDY--EojO0abn41WjtffQynUkqlg0SbzFRrRanh6Nb9hx87xnHJt_YPs8H_oeQm5N_AecLXCKbQtSU1P72BsnssV2KS1TxOQe94L8zd_E3L4DQKR-hAnAAhbi416w/file\n",
            "Reusing existing connection to uca7872d1c8b1ef102c18c0a0175.dl.dropboxusercontent.com:443.\n",
            "HTTP request sent, awaiting response... 200 OK\n",
            "Length: 1335409 (1.3M) [application/zip]\n",
            "Saving to: ‘test.zip’\n",
            "\n",
            "test.zip            100%[===================>]   1.27M  --.-KB/s    in 0.04s   \n",
            "\n",
            "2022-03-24 02:32:13 (30.8 MB/s) - ‘test.zip’ saved [1335409/1335409]\n",
            "\n"
          ]
        }
      ]
    },
    {
      "cell_type": "code",
      "source": [
        "!unzip -q train.zip"
      ],
      "metadata": {
        "id": "1uUOoz0otpUi"
      },
      "id": "1uUOoz0otpUi",
      "execution_count": null,
      "outputs": []
    },
    {
      "cell_type": "code",
      "source": [
        "!unzip -q test.zip"
      ],
      "metadata": {
        "id": "I4zXGFOJtpW4"
      },
      "id": "I4zXGFOJtpW4",
      "execution_count": null,
      "outputs": []
    },
    {
      "cell_type": "code",
      "execution_count": null,
      "metadata": {
        "id": "hzE1dIvGrjQd"
      },
      "outputs": [],
      "source": [
        "import os\n",
        "from ark_nlp.factory.utils.conlleval import get_entity_bio\n",
        "\n",
        "\n",
        "datalist = []\n",
        "with open('train.txt', 'r', encoding='utf-8') as f:\n",
        "    lines = f.readlines()\n",
        "    lines.append('\\n')\n",
        "    \n",
        "    text = []\n",
        "    labels = []\n",
        "    label_set = set()\n",
        "    \n",
        "    for line in lines: \n",
        "        if line == '\\n':                \n",
        "            text = ''.join(text)\n",
        "            entity_labels = []\n",
        "            for _type, _start_idx, _end_idx in get_entity_bio(labels, id2label=None):\n",
        "                entity_labels.append({\n",
        "                    'start_idx': _start_idx,\n",
        "                    'end_idx': _end_idx,\n",
        "                    'type': _type,\n",
        "                    'entity': text[_start_idx: _end_idx+1]\n",
        "                })\n",
        "                \n",
        "            if text == '':\n",
        "                continue\n",
        "            \n",
        "            datalist.append({\n",
        "                'text': text,\n",
        "                'label': entity_labels\n",
        "            })\n",
        "            \n",
        "            text = []\n",
        "            labels = []\n",
        "            \n",
        "        elif line == '  O\\n':\n",
        "            text.append(' ')\n",
        "            labels.append('O')\n",
        "        else:\n",
        "            line = line.strip('\\n').split()\n",
        "            if len(line) == 1:\n",
        "                term = ' '\n",
        "                label = line[0]\n",
        "            else:\n",
        "                term, label = line\n",
        "            text.append(term)\n",
        "            label_set.add(label.split('-')[-1])\n",
        "            labels.append(label)"
      ],
      "id": "hzE1dIvGrjQd"
    },
    {
      "cell_type": "markdown",
      "source": [
        ""
      ],
      "metadata": {
        "id": "PjUXpCmhhVPm"
      },
      "id": "PjUXpCmhhVPm"
    },
    {
      "cell_type": "code",
      "execution_count": null,
      "metadata": {
        "id": "PwT2KrtZrjQf"
      },
      "outputs": [],
      "source": [
        "# 这里随意分割了一下看指标，建议实际使用sklearn分割或者交叉验证\n",
        "\n",
        "train_data_df = pd.DataFrame(datalist)\n",
        "train_data_df['label'] = train_data_df['label'].apply(lambda x: str(x))\n",
        "\n",
        "dev_data_df = pd.DataFrame(datalist[-400:])\n",
        "dev_data_df['label'] = dev_data_df['label'].apply(lambda x: str(x))"
      ],
      "id": "PwT2KrtZrjQf"
    },
    {
      "cell_type": "code",
      "execution_count": null,
      "metadata": {
        "id": "zvY-2a3jrjQg"
      },
      "outputs": [],
      "source": [
        "ner_train_dataset = Dataset(train_data_df, categories=label_set)\n",
        "ner_dev_dataset = Dataset(dev_data_df, categories=ner_train_dataset.categories)"
      ],
      "id": "zvY-2a3jrjQg"
    },
    {
      "cell_type": "markdown",
      "metadata": {
        "id": "dYMp6s8wrjQi"
      },
      "source": [
        "#### 2. 词典创建和生成分词器"
      ],
      "id": "dYMp6s8wrjQi"
    },
    {
      "cell_type": "code",
      "execution_count": null,
      "metadata": {
        "id": "Lx4tk1TMrjQj",
        "colab": {
          "base_uri": "https://localhost:8080/",
          "height": 113,
          "referenced_widgets": [
            "b6f0e544d00347b5a07697f7e7586f8f",
            "9eb050eff6eb48c7adabea4824612826",
            "a4bccd0b68754b09a07c2d071d3939b3",
            "a49ddc846e0143338a7160cd1ec73980",
            "9cd7549e0850475ebc0dcfe113fe38bc",
            "3a6a0963246c48c1b6c8760f61915372",
            "524aeb2947d84cfaac36209592c2e2c1",
            "92cf45ad6c8f4db2b6896af39c00932b",
            "ac30eeb049d246b89274202a1cdd9d3d",
            "53ae93499ba142c39a24160b1432696f",
            "49afacfc897c4f9eb1f46c130e0fe114",
            "36596371bd924b829ed8d39e74677f42",
            "8723e4d547ba4791917a559393d7bd76",
            "15ab49c164c84728bc4970946bba1ac1",
            "3be7b1631881411c84eb061a9c6c7271",
            "3105571c74d942e69a41e78f0cad7f78",
            "5877f85786614c1faf5780dd0edeffd4",
            "ae82fbfdb7084264b133b3a83357ae9f",
            "19dea46bdace4a2baa2b925075c4e439",
            "0d66f0afdfed4bd598b43e2e3221465b",
            "0a13793957c2473f89468e463ca4c633",
            "57cf85af4c3a48b0a85c5b3dea23af9c",
            "97293a7f8c6c41c5995248bd4a1d736a",
            "637f98ffb2e649d7bdcd89cd382754ba",
            "6004959a38634744bfb2b948d8b5309c",
            "123d6d331de743a9a0efc5fe6d5f45c6",
            "7598569d8140434d8d170afb5cc27746",
            "0a8de10a459a4ad59a818e1e3d54e007",
            "4f933a2bcb5b4b77bfa32888ff383f3e",
            "7467610f360e432ea567e4b7f9d09ef7",
            "705c836180f344ebb5586df6d030fc85",
            "7bdf5b1503cb40c6b92c76e1a7fa0dc6",
            "a9b4ab66e19546f98b5af46f1d82b6e1"
          ]
        },
        "outputId": "b980aa43-14fc-4e69-91fa-1c64a232cf20"
      },
      "outputs": [
        {
          "output_type": "display_data",
          "data": {
            "text/plain": [
              "Downloading:   0%|          | 0.00/263k [00:00<?, ?B/s]"
            ],
            "application/vnd.jupyter.widget-view+json": {
              "version_major": 2,
              "version_minor": 0,
              "model_id": "b6f0e544d00347b5a07697f7e7586f8f"
            }
          },
          "metadata": {}
        },
        {
          "output_type": "display_data",
          "data": {
            "text/plain": [
              "Downloading:   0%|          | 0.00/2.00 [00:00<?, ?B/s]"
            ],
            "application/vnd.jupyter.widget-view+json": {
              "version_major": 2,
              "version_minor": 0,
              "model_id": "36596371bd924b829ed8d39e74677f42"
            }
          },
          "metadata": {}
        },
        {
          "output_type": "display_data",
          "data": {
            "text/plain": [
              "Downloading:   0%|          | 0.00/112 [00:00<?, ?B/s]"
            ],
            "application/vnd.jupyter.widget-view+json": {
              "version_major": 2,
              "version_minor": 0,
              "model_id": "97293a7f8c6c41c5995248bd4a1d736a"
            }
          },
          "metadata": {}
        }
      ],
      "source": [
        "tokenizer = Tokenizer(vocab='hfl/chinese-bert-wwm', max_seq_len=128)"
      ],
      "id": "Lx4tk1TMrjQj"
    },
    {
      "cell_type": "markdown",
      "metadata": {
        "id": "K6QcLMnArjQk"
      },
      "source": [
        "#### 3. ID化"
      ],
      "id": "K6QcLMnArjQk"
    },
    {
      "cell_type": "code",
      "execution_count": null,
      "metadata": {
        "id": "ugBO9V4RrjQl"
      },
      "outputs": [],
      "source": [
        "ner_train_dataset.convert_to_ids(tokenizer)\n",
        "ner_dev_dataset.convert_to_ids(tokenizer)"
      ],
      "id": "ugBO9V4RrjQl"
    },
    {
      "cell_type": "markdown",
      "metadata": {
        "id": "BbLEqEpRrjQm"
      },
      "source": [
        "<br>\n",
        "\n",
        "### 二、模型构建"
      ],
      "id": "BbLEqEpRrjQm"
    },
    {
      "cell_type": "markdown",
      "metadata": {
        "id": "JZRUH6C2rjQn"
      },
      "source": [
        "#### 1. 模型参数设置"
      ],
      "id": "JZRUH6C2rjQn"
    },
    {
      "cell_type": "code",
      "execution_count": null,
      "metadata": {
        "id": "FX72dVYBrjQo"
      },
      "outputs": [],
      "source": [
        "config = GlobalPointerBertConfig.from_pretrained('hfl/chinese-bert-wwm', \n",
        "                                                 num_labels=len(ner_train_dataset.cat2id))"
      ],
      "id": "FX72dVYBrjQo"
    },
    {
      "cell_type": "markdown",
      "metadata": {
        "id": "FfvIn07jrjQp"
      },
      "source": [
        "#### 2. 模型创建"
      ],
      "id": "FfvIn07jrjQp"
    },
    {
      "cell_type": "code",
      "execution_count": null,
      "metadata": {
        "id": "qOhzKu7RrjQp"
      },
      "outputs": [],
      "source": [
        "torch.cuda.empty_cache()"
      ],
      "id": "qOhzKu7RrjQp"
    },
    {
      "cell_type": "code",
      "execution_count": null,
      "metadata": {
        "id": "zWmsAe5trjQq",
        "colab": {
          "base_uri": "https://localhost:8080/",
          "height": 156,
          "referenced_widgets": [
            "be7c7d7889694013903900a014460c1e",
            "83eb9fdf2a1f4da8820618fe2c9351c0",
            "ad491782080148858ee41f6c892af86d",
            "db425d258038481fb4af1f1bde4d046a",
            "3027dbcea8064e37b88b431fc8ed196f",
            "38e2f27cc32248c2b724da84ba53e7c0",
            "78896df7cbe04bad8f4d32d6afc86a1a",
            "8b1f04e3e8e643ff99acdf1271d98db5",
            "10c53d9d20bc47739b9a6346ef2f3964",
            "f375a1da00fa425090750a8056d8de96",
            "b1c6cc89dc4d4b86b14cc2b89c13f825"
          ]
        },
        "outputId": "a6574228-b4c0-4122-e0c1-59d780c1a75b"
      },
      "outputs": [
        {
          "output_type": "display_data",
          "data": {
            "text/plain": [
              "Downloading:   0%|          | 0.00/393M [00:00<?, ?B/s]"
            ],
            "application/vnd.jupyter.widget-view+json": {
              "version_major": 2,
              "version_minor": 0,
              "model_id": "be7c7d7889694013903900a014460c1e"
            }
          },
          "metadata": {}
        },
        {
          "output_type": "stream",
          "name": "stderr",
          "text": [
            "Some weights of the model checkpoint at hfl/chinese-bert-wwm were not used when initializing GlobalPointerBert: ['cls.predictions.decoder.weight', 'cls.predictions.bias', 'cls.predictions.transform.dense.weight', 'cls.predictions.transform.dense.bias', 'cls.predictions.transform.LayerNorm.weight', 'cls.predictions.transform.LayerNorm.bias', 'cls.seq_relationship.weight', 'cls.seq_relationship.bias']\n",
            "- This IS expected if you are initializing GlobalPointerBert from the checkpoint of a model trained on another task or with another architecture (e.g. initializing a BertForSequenceClassification model from a BertForPreTraining model).\n",
            "- This IS NOT expected if you are initializing GlobalPointerBert from the checkpoint of a model that you expect to be exactly identical (initializing a BertForSequenceClassification model from a BertForSequenceClassification model).\n",
            "Some weights of GlobalPointerBert were not initialized from the model checkpoint at hfl/chinese-bert-wwm and are newly initialized: ['global_pointer.dense.bias', 'classifier.weight', 'global_pointer.dense.weight', 'classifier.bias']\n",
            "You should probably TRAIN this model on a down-stream task to be able to use it for predictions and inference.\n"
          ]
        }
      ],
      "source": [
        "dl_module = GlobalPointerBert.from_pretrained('hfl/chinese-bert-wwm', \n",
        "                                              config=config)"
      ],
      "id": "zWmsAe5trjQq"
    },
    {
      "cell_type": "markdown",
      "metadata": {
        "id": "1ceWeJQgrjQq"
      },
      "source": [
        "<br>\n",
        "\n",
        "### 三、任务构建"
      ],
      "id": "1ceWeJQgrjQq"
    },
    {
      "cell_type": "code",
      "source": [
        ""
      ],
      "metadata": {
        "id": "ImErF9zA30ZH"
      },
      "id": "ImErF9zA30ZH",
      "execution_count": null,
      "outputs": []
    },
    {
      "cell_type": "markdown",
      "metadata": {
        "id": "dW00cavIrjQr"
      },
      "source": [
        "#### 1. 任务参数和必要部件设定"
      ],
      "id": "dW00cavIrjQr"
    },
    {
      "cell_type": "code",
      "execution_count": null,
      "metadata": {
        "id": "UUgdY0CLrjQr"
      },
      "outputs": [],
      "source": [
        "# 设置运行次数\n",
        "num_epoches = 5\n",
        "batch_size = 64"
      ],
      "id": "UUgdY0CLrjQr"
    },
    {
      "cell_type": "code",
      "execution_count": null,
      "metadata": {
        "id": "I-er7sRYrjQs"
      },
      "outputs": [],
      "source": [
        "optimizer = get_default_model_optimizer(dl_module)"
      ],
      "id": "I-er7sRYrjQs"
    },
    {
      "cell_type": "markdown",
      "source": [
        ""
      ],
      "metadata": {
        "id": "s-cNlUxIzHpK"
      },
      "id": "s-cNlUxIzHpK"
    },
    {
      "cell_type": "markdown",
      "metadata": {
        "id": "fkeYVbBXrjQt"
      },
      "source": [
        "#### 2. 任务创建"
      ],
      "id": "fkeYVbBXrjQt"
    },
    {
      "cell_type": "code",
      "source": [
        ""
      ],
      "metadata": {
        "id": "gE4cpf2hyg0G"
      },
      "id": "gE4cpf2hyg0G",
      "execution_count": null,
      "outputs": []
    },
    {
      "cell_type": "code",
      "execution_count": null,
      "metadata": {
        "id": "BgtCjFHDrjQt"
      },
      "outputs": [],
      "source": [
        "model = Task(dl_module, optimizer, 'gpce', cuda_device=0)"
      ],
      "id": "BgtCjFHDrjQt"
    },
    {
      "cell_type": "markdown",
      "metadata": {
        "id": "LCtpATmGrjQt"
      },
      "source": [
        "#### 3. 训练"
      ],
      "id": "LCtpATmGrjQt"
    },
    {
      "cell_type": "code",
      "execution_count": null,
      "metadata": {
        "id": "C-cbH25yrjQu",
        "outputId": "284c77ae-7c8b-45e2-88c7-008ebdb06984",
        "colab": {
          "base_uri": "https://localhost:8080/"
        }
      },
      "outputs": [
        {
          "output_type": "stream",
          "name": "stderr",
          "text": [
            " 16%|█▌        | 100/625 [02:13<12:14,  1.40s/it]"
          ]
        },
        {
          "output_type": "stream",
          "name": "stdout",
          "text": [
            "[99/625],train loss is:3.903959\n"
          ]
        },
        {
          "output_type": "stream",
          "name": "stderr",
          "text": [
            " 32%|███▏      | 200/625 [04:36<10:18,  1.46s/it]"
          ]
        },
        {
          "output_type": "stream",
          "name": "stdout",
          "text": [
            "[199/625],train loss is:2.284730\n"
          ]
        },
        {
          "output_type": "stream",
          "name": "stderr",
          "text": [
            " 48%|████▊     | 300/625 [07:03<07:59,  1.47s/it]"
          ]
        },
        {
          "output_type": "stream",
          "name": "stdout",
          "text": [
            "[299/625],train loss is:1.661179\n"
          ]
        },
        {
          "output_type": "stream",
          "name": "stderr",
          "text": [
            " 64%|██████▍   | 400/625 [09:30<05:31,  1.47s/it]"
          ]
        },
        {
          "output_type": "stream",
          "name": "stdout",
          "text": [
            "[399/625],train loss is:1.336352\n"
          ]
        },
        {
          "output_type": "stream",
          "name": "stderr",
          "text": [
            " 80%|████████  | 500/625 [11:57<03:03,  1.47s/it]"
          ]
        },
        {
          "output_type": "stream",
          "name": "stdout",
          "text": [
            "[499/625],train loss is:1.135945\n"
          ]
        },
        {
          "output_type": "stream",
          "name": "stderr",
          "text": [
            " 96%|█████████▌| 600/625 [14:25<00:36,  1.47s/it]"
          ]
        },
        {
          "output_type": "stream",
          "name": "stdout",
          "text": [
            "[599/625],train loss is:1.000436\n"
          ]
        },
        {
          "output_type": "stream",
          "name": "stderr",
          "text": [
            "100%|██████████| 625/625 [15:01<00:00,  1.44s/it]\n"
          ]
        },
        {
          "output_type": "stream",
          "name": "stdout",
          "text": [
            "epoch:[0],train loss is:0.973322 \n",
            "\n",
            "eval loss is 0.276051, precision is:5138.0, recall is:12926.0, f1_score is:0.7949868482129042\n"
          ]
        },
        {
          "output_type": "stream",
          "name": "stderr",
          "text": [
            " 16%|█▌        | 100/625 [02:27<12:52,  1.47s/it]"
          ]
        },
        {
          "output_type": "stream",
          "name": "stdout",
          "text": [
            "[99/625],train loss is:0.301225\n"
          ]
        },
        {
          "output_type": "stream",
          "name": "stderr",
          "text": [
            " 32%|███▏      | 200/625 [04:54<10:25,  1.47s/it]"
          ]
        },
        {
          "output_type": "stream",
          "name": "stdout",
          "text": [
            "[199/625],train loss is:0.301695\n"
          ]
        },
        {
          "output_type": "stream",
          "name": "stderr",
          "text": [
            " 48%|████▊     | 300/625 [07:22<07:57,  1.47s/it]"
          ]
        },
        {
          "output_type": "stream",
          "name": "stdout",
          "text": [
            "[299/625],train loss is:0.298648\n"
          ]
        },
        {
          "output_type": "stream",
          "name": "stderr",
          "text": [
            " 64%|██████▍   | 400/625 [09:49<05:31,  1.47s/it]"
          ]
        },
        {
          "output_type": "stream",
          "name": "stdout",
          "text": [
            "[399/625],train loss is:0.296121\n"
          ]
        },
        {
          "output_type": "stream",
          "name": "stderr",
          "text": [
            " 80%|████████  | 500/625 [12:16<03:03,  1.47s/it]"
          ]
        },
        {
          "output_type": "stream",
          "name": "stdout",
          "text": [
            "[499/625],train loss is:0.294699\n"
          ]
        },
        {
          "output_type": "stream",
          "name": "stderr",
          "text": [
            " 96%|█████████▌| 600/625 [14:43<00:36,  1.47s/it]"
          ]
        },
        {
          "output_type": "stream",
          "name": "stdout",
          "text": [
            "[599/625],train loss is:0.293195\n"
          ]
        },
        {
          "output_type": "stream",
          "name": "stderr",
          "text": [
            "100%|██████████| 625/625 [15:20<00:00,  1.47s/it]\n"
          ]
        },
        {
          "output_type": "stream",
          "name": "stdout",
          "text": [
            "epoch:[1],train loss is:0.292922 \n",
            "\n",
            "eval loss is 0.242892, precision is:5309.0, recall is:13051.0, f1_score is:0.8135775036395678\n"
          ]
        },
        {
          "output_type": "stream",
          "name": "stderr",
          "text": [
            " 16%|█▌        | 100/625 [02:27<12:56,  1.48s/it]"
          ]
        },
        {
          "output_type": "stream",
          "name": "stdout",
          "text": [
            "[99/625],train loss is:0.269224\n"
          ]
        },
        {
          "output_type": "stream",
          "name": "stderr",
          "text": [
            " 32%|███▏      | 200/625 [04:54<10:25,  1.47s/it]"
          ]
        },
        {
          "output_type": "stream",
          "name": "stdout",
          "text": [
            "[199/625],train loss is:0.269733\n"
          ]
        },
        {
          "output_type": "stream",
          "name": "stderr",
          "text": [
            " 48%|████▊     | 300/625 [07:21<07:57,  1.47s/it]"
          ]
        },
        {
          "output_type": "stream",
          "name": "stdout",
          "text": [
            "[299/625],train loss is:0.269279\n"
          ]
        },
        {
          "output_type": "stream",
          "name": "stderr",
          "text": [
            " 64%|██████▍   | 400/625 [09:48<05:31,  1.47s/it]"
          ]
        },
        {
          "output_type": "stream",
          "name": "stdout",
          "text": [
            "[399/625],train loss is:0.268714\n"
          ]
        },
        {
          "output_type": "stream",
          "name": "stderr",
          "text": [
            " 80%|████████  | 500/625 [12:16<03:03,  1.47s/it]"
          ]
        },
        {
          "output_type": "stream",
          "name": "stdout",
          "text": [
            "[499/625],train loss is:0.268689\n"
          ]
        },
        {
          "output_type": "stream",
          "name": "stderr",
          "text": [
            " 96%|█████████▌| 600/625 [14:43<00:36,  1.47s/it]"
          ]
        },
        {
          "output_type": "stream",
          "name": "stdout",
          "text": [
            "[599/625],train loss is:0.267730\n"
          ]
        },
        {
          "output_type": "stream",
          "name": "stderr",
          "text": [
            "100%|██████████| 625/625 [15:19<00:00,  1.47s/it]\n"
          ]
        },
        {
          "output_type": "stream",
          "name": "stdout",
          "text": [
            "epoch:[2],train loss is:0.267522 \n",
            "\n",
            "eval loss is 0.220822, precision is:5377.0, recall is:13006.0, f1_score is:0.8268491465477472\n"
          ]
        },
        {
          "output_type": "stream",
          "name": "stderr",
          "text": [
            " 16%|█▌        | 100/625 [02:27<12:51,  1.47s/it]"
          ]
        },
        {
          "output_type": "stream",
          "name": "stdout",
          "text": [
            "[99/625],train loss is:0.251201\n"
          ]
        },
        {
          "output_type": "stream",
          "name": "stderr",
          "text": [
            " 32%|███▏      | 200/625 [04:54<10:26,  1.47s/it]"
          ]
        },
        {
          "output_type": "stream",
          "name": "stdout",
          "text": [
            "[199/625],train loss is:0.252487\n"
          ]
        },
        {
          "output_type": "stream",
          "name": "stderr",
          "text": [
            " 48%|████▊     | 300/625 [07:21<07:58,  1.47s/it]"
          ]
        },
        {
          "output_type": "stream",
          "name": "stdout",
          "text": [
            "[299/625],train loss is:0.252589\n"
          ]
        },
        {
          "output_type": "stream",
          "name": "stderr",
          "text": [
            " 64%|██████▍   | 400/625 [09:49<05:31,  1.47s/it]"
          ]
        },
        {
          "output_type": "stream",
          "name": "stdout",
          "text": [
            "[399/625],train loss is:0.252474\n"
          ]
        },
        {
          "output_type": "stream",
          "name": "stderr",
          "text": [
            " 80%|████████  | 500/625 [12:16<03:04,  1.47s/it]"
          ]
        },
        {
          "output_type": "stream",
          "name": "stdout",
          "text": [
            "[499/625],train loss is:0.252716\n"
          ]
        },
        {
          "output_type": "stream",
          "name": "stderr",
          "text": [
            " 96%|█████████▌| 600/625 [14:43<00:36,  1.47s/it]"
          ]
        },
        {
          "output_type": "stream",
          "name": "stdout",
          "text": [
            "[599/625],train loss is:0.252246\n"
          ]
        },
        {
          "output_type": "stream",
          "name": "stderr",
          "text": [
            "100%|██████████| 625/625 [15:20<00:00,  1.47s/it]\n"
          ]
        },
        {
          "output_type": "stream",
          "name": "stdout",
          "text": [
            "epoch:[3],train loss is:0.252262 \n",
            "\n",
            "eval loss is 0.208910, precision is:5428.0, recall is:12993.0, f1_score is:0.8355268221349957\n"
          ]
        },
        {
          "output_type": "stream",
          "name": "stderr",
          "text": [
            " 16%|█▌        | 100/625 [02:27<12:54,  1.48s/it]"
          ]
        },
        {
          "output_type": "stream",
          "name": "stdout",
          "text": [
            "[99/625],train loss is:0.239775\n"
          ]
        },
        {
          "output_type": "stream",
          "name": "stderr",
          "text": [
            " 32%|███▏      | 200/625 [04:54<10:25,  1.47s/it]"
          ]
        },
        {
          "output_type": "stream",
          "name": "stdout",
          "text": [
            "[199/625],train loss is:0.239303\n"
          ]
        },
        {
          "output_type": "stream",
          "name": "stderr",
          "text": [
            " 48%|████▊     | 300/625 [07:21<07:57,  1.47s/it]"
          ]
        },
        {
          "output_type": "stream",
          "name": "stdout",
          "text": [
            "[299/625],train loss is:0.239930\n"
          ]
        },
        {
          "output_type": "stream",
          "name": "stderr",
          "text": [
            " 64%|██████▍   | 400/625 [09:49<05:31,  1.47s/it]"
          ]
        },
        {
          "output_type": "stream",
          "name": "stdout",
          "text": [
            "[399/625],train loss is:0.240695\n"
          ]
        },
        {
          "output_type": "stream",
          "name": "stderr",
          "text": [
            " 80%|████████  | 500/625 [12:16<03:03,  1.47s/it]"
          ]
        },
        {
          "output_type": "stream",
          "name": "stdout",
          "text": [
            "[499/625],train loss is:0.240887\n"
          ]
        },
        {
          "output_type": "stream",
          "name": "stderr",
          "text": [
            " 96%|█████████▌| 600/625 [14:43<00:36,  1.47s/it]"
          ]
        },
        {
          "output_type": "stream",
          "name": "stdout",
          "text": [
            "[599/625],train loss is:0.240659\n"
          ]
        },
        {
          "output_type": "stream",
          "name": "stderr",
          "text": [
            "100%|██████████| 625/625 [15:20<00:00,  1.47s/it]\n"
          ]
        },
        {
          "output_type": "stream",
          "name": "stdout",
          "text": [
            "epoch:[4],train loss is:0.240581 \n",
            "\n",
            "eval loss is 0.197796, precision is:5491.0, recall is:13024.0, f1_score is:0.8432125307125307\n"
          ]
        }
      ],
      "source": [
        "model.fit(ner_train_dataset, \n",
        "          ner_dev_dataset,\n",
        "          lr=2e-5,\n",
        "          epochs=num_epoches, \n",
        "          batch_size=batch_size\n",
        "         )"
      ],
      "id": "C-cbH25yrjQu"
    },
    {
      "cell_type": "code",
      "source": [
        "model.fit(ner_train_dataset, \n",
        "          ner_dev_dataset,\n",
        "          lr=2e-5,\n",
        "          epochs=3, \n",
        "          batch_size=batch_size\n",
        "         )"
      ],
      "metadata": {
        "colab": {
          "base_uri": "https://localhost:8080/"
        },
        "id": "WPVHuF4cJJcw",
        "outputId": "8eea7c06-f023-4d25-f37b-faef3223d48d"
      },
      "id": "WPVHuF4cJJcw",
      "execution_count": null,
      "outputs": [
        {
          "output_type": "stream",
          "name": "stderr",
          "text": [
            " 16%|█▌        | 100/625 [02:16<12:29,  1.43s/it]"
          ]
        },
        {
          "output_type": "stream",
          "name": "stdout",
          "text": [
            "[99/625],train loss is:0.229515\n"
          ]
        },
        {
          "output_type": "stream",
          "name": "stderr",
          "text": [
            " 23%|██▎       | 144/625 [03:19<11:32,  1.44s/it]"
          ]
        }
      ]
    },
    {
      "cell_type": "markdown",
      "metadata": {
        "id": "ImryVXltrjQw"
      },
      "source": [
        "<br>\n",
        "\n",
        "### 四、生成提交数据"
      ],
      "id": "ImryVXltrjQw"
    },
    {
      "cell_type": "code",
      "execution_count": null,
      "metadata": {
        "id": "Rj0x-0I3rjQx"
      },
      "outputs": [],
      "source": [
        "import json\n",
        "import torch\n",
        "import numpy as np\n",
        "\n",
        "# ark-nlp提供该函数：from ark_nlp.model.ner.global_pointer_bert import Predictor\n",
        "# 这里主要是为了可以比较清晰地看到解码过程，所以将代码copy到这\n",
        "class GlobalPointerNERPredictor(object):\n",
        "    \"\"\"\n",
        "    GlobalPointer命名实体识别的预测器\n",
        "\n",
        "    Args:\n",
        "        module: 深度学习模型\n",
        "        tokernizer: 分词器\n",
        "        cat2id (:obj:`dict`): 标签映射\n",
        "    \"\"\"  # noqa: ignore flake8\"\n",
        "\n",
        "    def __init__(\n",
        "        self,\n",
        "        module,\n",
        "        tokernizer,\n",
        "        cat2id\n",
        "    ):\n",
        "        self.module = module\n",
        "        self.module.task = 'TokenLevel'\n",
        "\n",
        "        self.cat2id = cat2id\n",
        "        self.tokenizer = tokernizer\n",
        "        self.device = list(self.module.parameters())[0].device\n",
        "\n",
        "        self.id2cat = {}\n",
        "        for cat_, idx_ in self.cat2id.items():\n",
        "            self.id2cat[idx_] = cat_\n",
        "\n",
        "    def _convert_to_transfomer_ids(\n",
        "        self,\n",
        "        text\n",
        "    ):\n",
        "\n",
        "        tokens = self.tokenizer.tokenize(text)\n",
        "        token_mapping = self.tokenizer.get_token_mapping(text, tokens)\n",
        "\n",
        "        input_ids = self.tokenizer.sequence_to_ids(tokens)\n",
        "        input_ids, input_mask, segment_ids = input_ids\n",
        "\n",
        "        zero = [0 for i in range(self.tokenizer.max_seq_len)]\n",
        "        span_mask = [input_mask for i in range(sum(input_mask))]\n",
        "        span_mask.extend([zero for i in range(sum(input_mask), self.tokenizer.max_seq_len)])\n",
        "        span_mask = np.array(span_mask)\n",
        "\n",
        "        features = {\n",
        "            'input_ids': input_ids,\n",
        "            'attention_mask': input_mask,\n",
        "            'token_type_ids': segment_ids,\n",
        "            'span_mask': span_mask\n",
        "        }\n",
        "\n",
        "        return features, token_mapping\n",
        "\n",
        "    def _get_input_ids(\n",
        "        self,\n",
        "        text\n",
        "    ):\n",
        "        if self.tokenizer.tokenizer_type == 'vanilla':\n",
        "            return self._convert_to_vanilla_ids(text)\n",
        "        elif self.tokenizer.tokenizer_type == 'transfomer':\n",
        "            return self._convert_to_transfomer_ids(text)\n",
        "        elif self.tokenizer.tokenizer_type == 'customized':\n",
        "            return self._convert_to_customized_ids(text)\n",
        "        else:\n",
        "            raise ValueError(\"The tokenizer type does not exist\")\n",
        "\n",
        "    def _get_module_one_sample_inputs(\n",
        "        self,\n",
        "        features\n",
        "    ):\n",
        "        return {col: torch.Tensor(features[col]).type(torch.long).unsqueeze(0).to(self.device) for col in features}\n",
        "\n",
        "    def predict_one_sample(\n",
        "        self,\n",
        "        text='',\n",
        "        threshold=0\n",
        "    ):\n",
        "        \"\"\"\n",
        "        单样本预测\n",
        "\n",
        "        Args:\n",
        "            text (:obj:`string`): 输入文本\n",
        "            threshold (:obj:`float`, optional, defaults to 0): 预测的阈值\n",
        "        \"\"\"  # noqa: ignore flake8\"\n",
        "\n",
        "        features, token_mapping = self._get_input_ids(text)\n",
        "        self.module.eval()\n",
        "\n",
        "        with torch.no_grad():\n",
        "            inputs = self._get_module_one_sample_inputs(features)\n",
        "            scores = self.module(**inputs)[0].cpu()\n",
        "            \n",
        "        scores[:, [0, -1]] -= np.inf\n",
        "        scores[:, :, [0, -1]] -= np.inf\n",
        "\n",
        "        entities = []\n",
        "\n",
        "        for category, start, end in zip(*np.where(scores > threshold)):\n",
        "            if end-1 > token_mapping[-1][-1]:\n",
        "                break\n",
        "            if token_mapping[start-1][0] <= token_mapping[end-1][-1]:\n",
        "                entitie_ = {\n",
        "                    \"start_idx\": token_mapping[start-1][0],\n",
        "                    \"end_idx\": token_mapping[end-1][-1],\n",
        "                    \"entity\": text[token_mapping[start-1][0]: token_mapping[end-1][-1]+1],\n",
        "                    \"type\": self.id2cat[category]\n",
        "                }\n",
        "\n",
        "                if entitie_['entity'] == '':\n",
        "                    continue\n",
        "\n",
        "                entities.append(entitie_)\n",
        "\n",
        "        return entities\n"
      ],
      "id": "Rj0x-0I3rjQx"
    },
    {
      "cell_type": "code",
      "execution_count": null,
      "metadata": {
        "id": "MWXwh4yBrjQz"
      },
      "outputs": [],
      "source": [
        "ner_predictor_instance = GlobalPointerNERPredictor(model.module, tokenizer, ner_train_dataset.cat2id)"
      ],
      "id": "MWXwh4yBrjQz"
    },
    {
      "cell_type": "code",
      "execution_count": null,
      "metadata": {
        "id": "HaS97SJArjQ0"
      },
      "outputs": [],
      "source": [
        "from tqdm import tqdm\n",
        "\n",
        "predict_results = []\n",
        "\n",
        "with open('sample_per_line_preliminary_A.txt', 'r', encoding='utf-8') as f:\n",
        "    lines = f.readlines()\n",
        "    for _line in tqdm(lines):\n",
        "        label = len(_line) * ['O']\n",
        "        for _preditc in ner_predictor_instance.predict_one_sample(_line[:-1]):\n",
        "            if 'I' in label[_preditc['start_idx']]:\n",
        "                continue\n",
        "            if 'B' in label[_preditc['start_idx']] and 'O' not in label[_preditc['end_idx']]:\n",
        "                continue\n",
        "            if 'O' in label[_preditc['start_idx']] and 'B' in label[_preditc['end_idx']]:\n",
        "                continue\n",
        "\n",
        "            label[_preditc['start_idx']] = 'B-' +  _preditc['type']\n",
        "            label[_preditc['start_idx']+1: _preditc['end_idx']+1] = (_preditc['end_idx'] - _preditc['start_idx']) * [('I-' +  _preditc['type'])]\n",
        "            \n",
        "        predict_results.append([_line, label])"
      ],
      "id": "HaS97SJArjQ0"
    },
    {
      "cell_type": "code",
      "execution_count": null,
      "metadata": {
        "id": "mwXY4CMhrjQ0"
      },
      "outputs": [],
      "source": [
        "with open('gobal_pointer_baseline.txt', 'w', encoding='utf-8') as f:\n",
        "    for _result in predict_results:\n",
        "        for word, tag in zip(_result[0], _result[1]):\n",
        "            if word == '\\n':\n",
        "                continue\n",
        "            f.write(f'{word} {tag}\\n')\n",
        "        f.write('\\n')"
      ],
      "id": "mwXY4CMhrjQ0"
    }
  ],
  "metadata": {
    "kernelspec": {
      "display_name": "Python 3",
      "language": "python",
      "name": "python3"
    },
    "language_info": {
      "codemirror_mode": {
        "name": "ipython",
        "version": 3
      },
      "file_extension": ".py",
      "mimetype": "text/x-python",
      "name": "python",
      "nbconvert_exporter": "python",
      "pygments_lexer": "ipython3",
      "version": "3.8.5"
    },
    "colab": {
      "name": "命名实体识别global_point_baseline.ipynb",
      "provenance": [],
      "toc_visible": true,
      "include_colab_link": true
    },
    "accelerator": "GPU",
    "widgets": {
      "application/vnd.jupyter.widget-state+json": {
        "b6f0e544d00347b5a07697f7e7586f8f": {
          "model_module": "@jupyter-widgets/controls",
          "model_name": "HBoxModel",
          "model_module_version": "1.5.0",
          "state": {
            "_dom_classes": [],
            "_model_module": "@jupyter-widgets/controls",
            "_model_module_version": "1.5.0",
            "_model_name": "HBoxModel",
            "_view_count": null,
            "_view_module": "@jupyter-widgets/controls",
            "_view_module_version": "1.5.0",
            "_view_name": "HBoxView",
            "box_style": "",
            "children": [
              "IPY_MODEL_9eb050eff6eb48c7adabea4824612826",
              "IPY_MODEL_a4bccd0b68754b09a07c2d071d3939b3",
              "IPY_MODEL_a49ddc846e0143338a7160cd1ec73980"
            ],
            "layout": "IPY_MODEL_9cd7549e0850475ebc0dcfe113fe38bc"
          }
        },
        "9eb050eff6eb48c7adabea4824612826": {
          "model_module": "@jupyter-widgets/controls",
          "model_name": "HTMLModel",
          "model_module_version": "1.5.0",
          "state": {
            "_dom_classes": [],
            "_model_module": "@jupyter-widgets/controls",
            "_model_module_version": "1.5.0",
            "_model_name": "HTMLModel",
            "_view_count": null,
            "_view_module": "@jupyter-widgets/controls",
            "_view_module_version": "1.5.0",
            "_view_name": "HTMLView",
            "description": "",
            "description_tooltip": null,
            "layout": "IPY_MODEL_3a6a0963246c48c1b6c8760f61915372",
            "placeholder": "​",
            "style": "IPY_MODEL_524aeb2947d84cfaac36209592c2e2c1",
            "value": "Downloading: 100%"
          }
        },
        "a4bccd0b68754b09a07c2d071d3939b3": {
          "model_module": "@jupyter-widgets/controls",
          "model_name": "FloatProgressModel",
          "model_module_version": "1.5.0",
          "state": {
            "_dom_classes": [],
            "_model_module": "@jupyter-widgets/controls",
            "_model_module_version": "1.5.0",
            "_model_name": "FloatProgressModel",
            "_view_count": null,
            "_view_module": "@jupyter-widgets/controls",
            "_view_module_version": "1.5.0",
            "_view_name": "ProgressView",
            "bar_style": "success",
            "description": "",
            "description_tooltip": null,
            "layout": "IPY_MODEL_92cf45ad6c8f4db2b6896af39c00932b",
            "max": 268961,
            "min": 0,
            "orientation": "horizontal",
            "style": "IPY_MODEL_ac30eeb049d246b89274202a1cdd9d3d",
            "value": 268961
          }
        },
        "a49ddc846e0143338a7160cd1ec73980": {
          "model_module": "@jupyter-widgets/controls",
          "model_name": "HTMLModel",
          "model_module_version": "1.5.0",
          "state": {
            "_dom_classes": [],
            "_model_module": "@jupyter-widgets/controls",
            "_model_module_version": "1.5.0",
            "_model_name": "HTMLModel",
            "_view_count": null,
            "_view_module": "@jupyter-widgets/controls",
            "_view_module_version": "1.5.0",
            "_view_name": "HTMLView",
            "description": "",
            "description_tooltip": null,
            "layout": "IPY_MODEL_53ae93499ba142c39a24160b1432696f",
            "placeholder": "​",
            "style": "IPY_MODEL_49afacfc897c4f9eb1f46c130e0fe114",
            "value": " 263k/263k [00:00&lt;00:00, 837kB/s]"
          }
        },
        "9cd7549e0850475ebc0dcfe113fe38bc": {
          "model_module": "@jupyter-widgets/base",
          "model_name": "LayoutModel",
          "model_module_version": "1.2.0",
          "state": {
            "_model_module": "@jupyter-widgets/base",
            "_model_module_version": "1.2.0",
            "_model_name": "LayoutModel",
            "_view_count": null,
            "_view_module": "@jupyter-widgets/base",
            "_view_module_version": "1.2.0",
            "_view_name": "LayoutView",
            "align_content": null,
            "align_items": null,
            "align_self": null,
            "border": null,
            "bottom": null,
            "display": null,
            "flex": null,
            "flex_flow": null,
            "grid_area": null,
            "grid_auto_columns": null,
            "grid_auto_flow": null,
            "grid_auto_rows": null,
            "grid_column": null,
            "grid_gap": null,
            "grid_row": null,
            "grid_template_areas": null,
            "grid_template_columns": null,
            "grid_template_rows": null,
            "height": null,
            "justify_content": null,
            "justify_items": null,
            "left": null,
            "margin": null,
            "max_height": null,
            "max_width": null,
            "min_height": null,
            "min_width": null,
            "object_fit": null,
            "object_position": null,
            "order": null,
            "overflow": null,
            "overflow_x": null,
            "overflow_y": null,
            "padding": null,
            "right": null,
            "top": null,
            "visibility": null,
            "width": null
          }
        },
        "3a6a0963246c48c1b6c8760f61915372": {
          "model_module": "@jupyter-widgets/base",
          "model_name": "LayoutModel",
          "model_module_version": "1.2.0",
          "state": {
            "_model_module": "@jupyter-widgets/base",
            "_model_module_version": "1.2.0",
            "_model_name": "LayoutModel",
            "_view_count": null,
            "_view_module": "@jupyter-widgets/base",
            "_view_module_version": "1.2.0",
            "_view_name": "LayoutView",
            "align_content": null,
            "align_items": null,
            "align_self": null,
            "border": null,
            "bottom": null,
            "display": null,
            "flex": null,
            "flex_flow": null,
            "grid_area": null,
            "grid_auto_columns": null,
            "grid_auto_flow": null,
            "grid_auto_rows": null,
            "grid_column": null,
            "grid_gap": null,
            "grid_row": null,
            "grid_template_areas": null,
            "grid_template_columns": null,
            "grid_template_rows": null,
            "height": null,
            "justify_content": null,
            "justify_items": null,
            "left": null,
            "margin": null,
            "max_height": null,
            "max_width": null,
            "min_height": null,
            "min_width": null,
            "object_fit": null,
            "object_position": null,
            "order": null,
            "overflow": null,
            "overflow_x": null,
            "overflow_y": null,
            "padding": null,
            "right": null,
            "top": null,
            "visibility": null,
            "width": null
          }
        },
        "524aeb2947d84cfaac36209592c2e2c1": {
          "model_module": "@jupyter-widgets/controls",
          "model_name": "DescriptionStyleModel",
          "model_module_version": "1.5.0",
          "state": {
            "_model_module": "@jupyter-widgets/controls",
            "_model_module_version": "1.5.0",
            "_model_name": "DescriptionStyleModel",
            "_view_count": null,
            "_view_module": "@jupyter-widgets/base",
            "_view_module_version": "1.2.0",
            "_view_name": "StyleView",
            "description_width": ""
          }
        },
        "92cf45ad6c8f4db2b6896af39c00932b": {
          "model_module": "@jupyter-widgets/base",
          "model_name": "LayoutModel",
          "model_module_version": "1.2.0",
          "state": {
            "_model_module": "@jupyter-widgets/base",
            "_model_module_version": "1.2.0",
            "_model_name": "LayoutModel",
            "_view_count": null,
            "_view_module": "@jupyter-widgets/base",
            "_view_module_version": "1.2.0",
            "_view_name": "LayoutView",
            "align_content": null,
            "align_items": null,
            "align_self": null,
            "border": null,
            "bottom": null,
            "display": null,
            "flex": null,
            "flex_flow": null,
            "grid_area": null,
            "grid_auto_columns": null,
            "grid_auto_flow": null,
            "grid_auto_rows": null,
            "grid_column": null,
            "grid_gap": null,
            "grid_row": null,
            "grid_template_areas": null,
            "grid_template_columns": null,
            "grid_template_rows": null,
            "height": null,
            "justify_content": null,
            "justify_items": null,
            "left": null,
            "margin": null,
            "max_height": null,
            "max_width": null,
            "min_height": null,
            "min_width": null,
            "object_fit": null,
            "object_position": null,
            "order": null,
            "overflow": null,
            "overflow_x": null,
            "overflow_y": null,
            "padding": null,
            "right": null,
            "top": null,
            "visibility": null,
            "width": null
          }
        },
        "ac30eeb049d246b89274202a1cdd9d3d": {
          "model_module": "@jupyter-widgets/controls",
          "model_name": "ProgressStyleModel",
          "model_module_version": "1.5.0",
          "state": {
            "_model_module": "@jupyter-widgets/controls",
            "_model_module_version": "1.5.0",
            "_model_name": "ProgressStyleModel",
            "_view_count": null,
            "_view_module": "@jupyter-widgets/base",
            "_view_module_version": "1.2.0",
            "_view_name": "StyleView",
            "bar_color": null,
            "description_width": ""
          }
        },
        "53ae93499ba142c39a24160b1432696f": {
          "model_module": "@jupyter-widgets/base",
          "model_name": "LayoutModel",
          "model_module_version": "1.2.0",
          "state": {
            "_model_module": "@jupyter-widgets/base",
            "_model_module_version": "1.2.0",
            "_model_name": "LayoutModel",
            "_view_count": null,
            "_view_module": "@jupyter-widgets/base",
            "_view_module_version": "1.2.0",
            "_view_name": "LayoutView",
            "align_content": null,
            "align_items": null,
            "align_self": null,
            "border": null,
            "bottom": null,
            "display": null,
            "flex": null,
            "flex_flow": null,
            "grid_area": null,
            "grid_auto_columns": null,
            "grid_auto_flow": null,
            "grid_auto_rows": null,
            "grid_column": null,
            "grid_gap": null,
            "grid_row": null,
            "grid_template_areas": null,
            "grid_template_columns": null,
            "grid_template_rows": null,
            "height": null,
            "justify_content": null,
            "justify_items": null,
            "left": null,
            "margin": null,
            "max_height": null,
            "max_width": null,
            "min_height": null,
            "min_width": null,
            "object_fit": null,
            "object_position": null,
            "order": null,
            "overflow": null,
            "overflow_x": null,
            "overflow_y": null,
            "padding": null,
            "right": null,
            "top": null,
            "visibility": null,
            "width": null
          }
        },
        "49afacfc897c4f9eb1f46c130e0fe114": {
          "model_module": "@jupyter-widgets/controls",
          "model_name": "DescriptionStyleModel",
          "model_module_version": "1.5.0",
          "state": {
            "_model_module": "@jupyter-widgets/controls",
            "_model_module_version": "1.5.0",
            "_model_name": "DescriptionStyleModel",
            "_view_count": null,
            "_view_module": "@jupyter-widgets/base",
            "_view_module_version": "1.2.0",
            "_view_name": "StyleView",
            "description_width": ""
          }
        },
        "36596371bd924b829ed8d39e74677f42": {
          "model_module": "@jupyter-widgets/controls",
          "model_name": "HBoxModel",
          "model_module_version": "1.5.0",
          "state": {
            "_dom_classes": [],
            "_model_module": "@jupyter-widgets/controls",
            "_model_module_version": "1.5.0",
            "_model_name": "HBoxModel",
            "_view_count": null,
            "_view_module": "@jupyter-widgets/controls",
            "_view_module_version": "1.5.0",
            "_view_name": "HBoxView",
            "box_style": "",
            "children": [
              "IPY_MODEL_8723e4d547ba4791917a559393d7bd76",
              "IPY_MODEL_15ab49c164c84728bc4970946bba1ac1",
              "IPY_MODEL_3be7b1631881411c84eb061a9c6c7271"
            ],
            "layout": "IPY_MODEL_3105571c74d942e69a41e78f0cad7f78"
          }
        },
        "8723e4d547ba4791917a559393d7bd76": {
          "model_module": "@jupyter-widgets/controls",
          "model_name": "HTMLModel",
          "model_module_version": "1.5.0",
          "state": {
            "_dom_classes": [],
            "_model_module": "@jupyter-widgets/controls",
            "_model_module_version": "1.5.0",
            "_model_name": "HTMLModel",
            "_view_count": null,
            "_view_module": "@jupyter-widgets/controls",
            "_view_module_version": "1.5.0",
            "_view_name": "HTMLView",
            "description": "",
            "description_tooltip": null,
            "layout": "IPY_MODEL_5877f85786614c1faf5780dd0edeffd4",
            "placeholder": "​",
            "style": "IPY_MODEL_ae82fbfdb7084264b133b3a83357ae9f",
            "value": "Downloading: 100%"
          }
        },
        "15ab49c164c84728bc4970946bba1ac1": {
          "model_module": "@jupyter-widgets/controls",
          "model_name": "FloatProgressModel",
          "model_module_version": "1.5.0",
          "state": {
            "_dom_classes": [],
            "_model_module": "@jupyter-widgets/controls",
            "_model_module_version": "1.5.0",
            "_model_name": "FloatProgressModel",
            "_view_count": null,
            "_view_module": "@jupyter-widgets/controls",
            "_view_module_version": "1.5.0",
            "_view_name": "ProgressView",
            "bar_style": "success",
            "description": "",
            "description_tooltip": null,
            "layout": "IPY_MODEL_19dea46bdace4a2baa2b925075c4e439",
            "max": 2,
            "min": 0,
            "orientation": "horizontal",
            "style": "IPY_MODEL_0d66f0afdfed4bd598b43e2e3221465b",
            "value": 2
          }
        },
        "3be7b1631881411c84eb061a9c6c7271": {
          "model_module": "@jupyter-widgets/controls",
          "model_name": "HTMLModel",
          "model_module_version": "1.5.0",
          "state": {
            "_dom_classes": [],
            "_model_module": "@jupyter-widgets/controls",
            "_model_module_version": "1.5.0",
            "_model_name": "HTMLModel",
            "_view_count": null,
            "_view_module": "@jupyter-widgets/controls",
            "_view_module_version": "1.5.0",
            "_view_name": "HTMLView",
            "description": "",
            "description_tooltip": null,
            "layout": "IPY_MODEL_0a13793957c2473f89468e463ca4c633",
            "placeholder": "​",
            "style": "IPY_MODEL_57cf85af4c3a48b0a85c5b3dea23af9c",
            "value": " 2.00/2.00 [00:00&lt;00:00, 57.7B/s]"
          }
        },
        "3105571c74d942e69a41e78f0cad7f78": {
          "model_module": "@jupyter-widgets/base",
          "model_name": "LayoutModel",
          "model_module_version": "1.2.0",
          "state": {
            "_model_module": "@jupyter-widgets/base",
            "_model_module_version": "1.2.0",
            "_model_name": "LayoutModel",
            "_view_count": null,
            "_view_module": "@jupyter-widgets/base",
            "_view_module_version": "1.2.0",
            "_view_name": "LayoutView",
            "align_content": null,
            "align_items": null,
            "align_self": null,
            "border": null,
            "bottom": null,
            "display": null,
            "flex": null,
            "flex_flow": null,
            "grid_area": null,
            "grid_auto_columns": null,
            "grid_auto_flow": null,
            "grid_auto_rows": null,
            "grid_column": null,
            "grid_gap": null,
            "grid_row": null,
            "grid_template_areas": null,
            "grid_template_columns": null,
            "grid_template_rows": null,
            "height": null,
            "justify_content": null,
            "justify_items": null,
            "left": null,
            "margin": null,
            "max_height": null,
            "max_width": null,
            "min_height": null,
            "min_width": null,
            "object_fit": null,
            "object_position": null,
            "order": null,
            "overflow": null,
            "overflow_x": null,
            "overflow_y": null,
            "padding": null,
            "right": null,
            "top": null,
            "visibility": null,
            "width": null
          }
        },
        "5877f85786614c1faf5780dd0edeffd4": {
          "model_module": "@jupyter-widgets/base",
          "model_name": "LayoutModel",
          "model_module_version": "1.2.0",
          "state": {
            "_model_module": "@jupyter-widgets/base",
            "_model_module_version": "1.2.0",
            "_model_name": "LayoutModel",
            "_view_count": null,
            "_view_module": "@jupyter-widgets/base",
            "_view_module_version": "1.2.0",
            "_view_name": "LayoutView",
            "align_content": null,
            "align_items": null,
            "align_self": null,
            "border": null,
            "bottom": null,
            "display": null,
            "flex": null,
            "flex_flow": null,
            "grid_area": null,
            "grid_auto_columns": null,
            "grid_auto_flow": null,
            "grid_auto_rows": null,
            "grid_column": null,
            "grid_gap": null,
            "grid_row": null,
            "grid_template_areas": null,
            "grid_template_columns": null,
            "grid_template_rows": null,
            "height": null,
            "justify_content": null,
            "justify_items": null,
            "left": null,
            "margin": null,
            "max_height": null,
            "max_width": null,
            "min_height": null,
            "min_width": null,
            "object_fit": null,
            "object_position": null,
            "order": null,
            "overflow": null,
            "overflow_x": null,
            "overflow_y": null,
            "padding": null,
            "right": null,
            "top": null,
            "visibility": null,
            "width": null
          }
        },
        "ae82fbfdb7084264b133b3a83357ae9f": {
          "model_module": "@jupyter-widgets/controls",
          "model_name": "DescriptionStyleModel",
          "model_module_version": "1.5.0",
          "state": {
            "_model_module": "@jupyter-widgets/controls",
            "_model_module_version": "1.5.0",
            "_model_name": "DescriptionStyleModel",
            "_view_count": null,
            "_view_module": "@jupyter-widgets/base",
            "_view_module_version": "1.2.0",
            "_view_name": "StyleView",
            "description_width": ""
          }
        },
        "19dea46bdace4a2baa2b925075c4e439": {
          "model_module": "@jupyter-widgets/base",
          "model_name": "LayoutModel",
          "model_module_version": "1.2.0",
          "state": {
            "_model_module": "@jupyter-widgets/base",
            "_model_module_version": "1.2.0",
            "_model_name": "LayoutModel",
            "_view_count": null,
            "_view_module": "@jupyter-widgets/base",
            "_view_module_version": "1.2.0",
            "_view_name": "LayoutView",
            "align_content": null,
            "align_items": null,
            "align_self": null,
            "border": null,
            "bottom": null,
            "display": null,
            "flex": null,
            "flex_flow": null,
            "grid_area": null,
            "grid_auto_columns": null,
            "grid_auto_flow": null,
            "grid_auto_rows": null,
            "grid_column": null,
            "grid_gap": null,
            "grid_row": null,
            "grid_template_areas": null,
            "grid_template_columns": null,
            "grid_template_rows": null,
            "height": null,
            "justify_content": null,
            "justify_items": null,
            "left": null,
            "margin": null,
            "max_height": null,
            "max_width": null,
            "min_height": null,
            "min_width": null,
            "object_fit": null,
            "object_position": null,
            "order": null,
            "overflow": null,
            "overflow_x": null,
            "overflow_y": null,
            "padding": null,
            "right": null,
            "top": null,
            "visibility": null,
            "width": null
          }
        },
        "0d66f0afdfed4bd598b43e2e3221465b": {
          "model_module": "@jupyter-widgets/controls",
          "model_name": "ProgressStyleModel",
          "model_module_version": "1.5.0",
          "state": {
            "_model_module": "@jupyter-widgets/controls",
            "_model_module_version": "1.5.0",
            "_model_name": "ProgressStyleModel",
            "_view_count": null,
            "_view_module": "@jupyter-widgets/base",
            "_view_module_version": "1.2.0",
            "_view_name": "StyleView",
            "bar_color": null,
            "description_width": ""
          }
        },
        "0a13793957c2473f89468e463ca4c633": {
          "model_module": "@jupyter-widgets/base",
          "model_name": "LayoutModel",
          "model_module_version": "1.2.0",
          "state": {
            "_model_module": "@jupyter-widgets/base",
            "_model_module_version": "1.2.0",
            "_model_name": "LayoutModel",
            "_view_count": null,
            "_view_module": "@jupyter-widgets/base",
            "_view_module_version": "1.2.0",
            "_view_name": "LayoutView",
            "align_content": null,
            "align_items": null,
            "align_self": null,
            "border": null,
            "bottom": null,
            "display": null,
            "flex": null,
            "flex_flow": null,
            "grid_area": null,
            "grid_auto_columns": null,
            "grid_auto_flow": null,
            "grid_auto_rows": null,
            "grid_column": null,
            "grid_gap": null,
            "grid_row": null,
            "grid_template_areas": null,
            "grid_template_columns": null,
            "grid_template_rows": null,
            "height": null,
            "justify_content": null,
            "justify_items": null,
            "left": null,
            "margin": null,
            "max_height": null,
            "max_width": null,
            "min_height": null,
            "min_width": null,
            "object_fit": null,
            "object_position": null,
            "order": null,
            "overflow": null,
            "overflow_x": null,
            "overflow_y": null,
            "padding": null,
            "right": null,
            "top": null,
            "visibility": null,
            "width": null
          }
        },
        "57cf85af4c3a48b0a85c5b3dea23af9c": {
          "model_module": "@jupyter-widgets/controls",
          "model_name": "DescriptionStyleModel",
          "model_module_version": "1.5.0",
          "state": {
            "_model_module": "@jupyter-widgets/controls",
            "_model_module_version": "1.5.0",
            "_model_name": "DescriptionStyleModel",
            "_view_count": null,
            "_view_module": "@jupyter-widgets/base",
            "_view_module_version": "1.2.0",
            "_view_name": "StyleView",
            "description_width": ""
          }
        },
        "97293a7f8c6c41c5995248bd4a1d736a": {
          "model_module": "@jupyter-widgets/controls",
          "model_name": "HBoxModel",
          "model_module_version": "1.5.0",
          "state": {
            "_dom_classes": [],
            "_model_module": "@jupyter-widgets/controls",
            "_model_module_version": "1.5.0",
            "_model_name": "HBoxModel",
            "_view_count": null,
            "_view_module": "@jupyter-widgets/controls",
            "_view_module_version": "1.5.0",
            "_view_name": "HBoxView",
            "box_style": "",
            "children": [
              "IPY_MODEL_637f98ffb2e649d7bdcd89cd382754ba",
              "IPY_MODEL_6004959a38634744bfb2b948d8b5309c",
              "IPY_MODEL_123d6d331de743a9a0efc5fe6d5f45c6"
            ],
            "layout": "IPY_MODEL_7598569d8140434d8d170afb5cc27746"
          }
        },
        "637f98ffb2e649d7bdcd89cd382754ba": {
          "model_module": "@jupyter-widgets/controls",
          "model_name": "HTMLModel",
          "model_module_version": "1.5.0",
          "state": {
            "_dom_classes": [],
            "_model_module": "@jupyter-widgets/controls",
            "_model_module_version": "1.5.0",
            "_model_name": "HTMLModel",
            "_view_count": null,
            "_view_module": "@jupyter-widgets/controls",
            "_view_module_version": "1.5.0",
            "_view_name": "HTMLView",
            "description": "",
            "description_tooltip": null,
            "layout": "IPY_MODEL_0a8de10a459a4ad59a818e1e3d54e007",
            "placeholder": "​",
            "style": "IPY_MODEL_4f933a2bcb5b4b77bfa32888ff383f3e",
            "value": "Downloading: 100%"
          }
        },
        "6004959a38634744bfb2b948d8b5309c": {
          "model_module": "@jupyter-widgets/controls",
          "model_name": "FloatProgressModel",
          "model_module_version": "1.5.0",
          "state": {
            "_dom_classes": [],
            "_model_module": "@jupyter-widgets/controls",
            "_model_module_version": "1.5.0",
            "_model_name": "FloatProgressModel",
            "_view_count": null,
            "_view_module": "@jupyter-widgets/controls",
            "_view_module_version": "1.5.0",
            "_view_name": "ProgressView",
            "bar_style": "success",
            "description": "",
            "description_tooltip": null,
            "layout": "IPY_MODEL_7467610f360e432ea567e4b7f9d09ef7",
            "max": 112,
            "min": 0,
            "orientation": "horizontal",
            "style": "IPY_MODEL_705c836180f344ebb5586df6d030fc85",
            "value": 112
          }
        },
        "123d6d331de743a9a0efc5fe6d5f45c6": {
          "model_module": "@jupyter-widgets/controls",
          "model_name": "HTMLModel",
          "model_module_version": "1.5.0",
          "state": {
            "_dom_classes": [],
            "_model_module": "@jupyter-widgets/controls",
            "_model_module_version": "1.5.0",
            "_model_name": "HTMLModel",
            "_view_count": null,
            "_view_module": "@jupyter-widgets/controls",
            "_view_module_version": "1.5.0",
            "_view_name": "HTMLView",
            "description": "",
            "description_tooltip": null,
            "layout": "IPY_MODEL_7bdf5b1503cb40c6b92c76e1a7fa0dc6",
            "placeholder": "​",
            "style": "IPY_MODEL_a9b4ab66e19546f98b5af46f1d82b6e1",
            "value": " 112/112 [00:00&lt;00:00, 3.26kB/s]"
          }
        },
        "7598569d8140434d8d170afb5cc27746": {
          "model_module": "@jupyter-widgets/base",
          "model_name": "LayoutModel",
          "model_module_version": "1.2.0",
          "state": {
            "_model_module": "@jupyter-widgets/base",
            "_model_module_version": "1.2.0",
            "_model_name": "LayoutModel",
            "_view_count": null,
            "_view_module": "@jupyter-widgets/base",
            "_view_module_version": "1.2.0",
            "_view_name": "LayoutView",
            "align_content": null,
            "align_items": null,
            "align_self": null,
            "border": null,
            "bottom": null,
            "display": null,
            "flex": null,
            "flex_flow": null,
            "grid_area": null,
            "grid_auto_columns": null,
            "grid_auto_flow": null,
            "grid_auto_rows": null,
            "grid_column": null,
            "grid_gap": null,
            "grid_row": null,
            "grid_template_areas": null,
            "grid_template_columns": null,
            "grid_template_rows": null,
            "height": null,
            "justify_content": null,
            "justify_items": null,
            "left": null,
            "margin": null,
            "max_height": null,
            "max_width": null,
            "min_height": null,
            "min_width": null,
            "object_fit": null,
            "object_position": null,
            "order": null,
            "overflow": null,
            "overflow_x": null,
            "overflow_y": null,
            "padding": null,
            "right": null,
            "top": null,
            "visibility": null,
            "width": null
          }
        },
        "0a8de10a459a4ad59a818e1e3d54e007": {
          "model_module": "@jupyter-widgets/base",
          "model_name": "LayoutModel",
          "model_module_version": "1.2.0",
          "state": {
            "_model_module": "@jupyter-widgets/base",
            "_model_module_version": "1.2.0",
            "_model_name": "LayoutModel",
            "_view_count": null,
            "_view_module": "@jupyter-widgets/base",
            "_view_module_version": "1.2.0",
            "_view_name": "LayoutView",
            "align_content": null,
            "align_items": null,
            "align_self": null,
            "border": null,
            "bottom": null,
            "display": null,
            "flex": null,
            "flex_flow": null,
            "grid_area": null,
            "grid_auto_columns": null,
            "grid_auto_flow": null,
            "grid_auto_rows": null,
            "grid_column": null,
            "grid_gap": null,
            "grid_row": null,
            "grid_template_areas": null,
            "grid_template_columns": null,
            "grid_template_rows": null,
            "height": null,
            "justify_content": null,
            "justify_items": null,
            "left": null,
            "margin": null,
            "max_height": null,
            "max_width": null,
            "min_height": null,
            "min_width": null,
            "object_fit": null,
            "object_position": null,
            "order": null,
            "overflow": null,
            "overflow_x": null,
            "overflow_y": null,
            "padding": null,
            "right": null,
            "top": null,
            "visibility": null,
            "width": null
          }
        },
        "4f933a2bcb5b4b77bfa32888ff383f3e": {
          "model_module": "@jupyter-widgets/controls",
          "model_name": "DescriptionStyleModel",
          "model_module_version": "1.5.0",
          "state": {
            "_model_module": "@jupyter-widgets/controls",
            "_model_module_version": "1.5.0",
            "_model_name": "DescriptionStyleModel",
            "_view_count": null,
            "_view_module": "@jupyter-widgets/base",
            "_view_module_version": "1.2.0",
            "_view_name": "StyleView",
            "description_width": ""
          }
        },
        "7467610f360e432ea567e4b7f9d09ef7": {
          "model_module": "@jupyter-widgets/base",
          "model_name": "LayoutModel",
          "model_module_version": "1.2.0",
          "state": {
            "_model_module": "@jupyter-widgets/base",
            "_model_module_version": "1.2.0",
            "_model_name": "LayoutModel",
            "_view_count": null,
            "_view_module": "@jupyter-widgets/base",
            "_view_module_version": "1.2.0",
            "_view_name": "LayoutView",
            "align_content": null,
            "align_items": null,
            "align_self": null,
            "border": null,
            "bottom": null,
            "display": null,
            "flex": null,
            "flex_flow": null,
            "grid_area": null,
            "grid_auto_columns": null,
            "grid_auto_flow": null,
            "grid_auto_rows": null,
            "grid_column": null,
            "grid_gap": null,
            "grid_row": null,
            "grid_template_areas": null,
            "grid_template_columns": null,
            "grid_template_rows": null,
            "height": null,
            "justify_content": null,
            "justify_items": null,
            "left": null,
            "margin": null,
            "max_height": null,
            "max_width": null,
            "min_height": null,
            "min_width": null,
            "object_fit": null,
            "object_position": null,
            "order": null,
            "overflow": null,
            "overflow_x": null,
            "overflow_y": null,
            "padding": null,
            "right": null,
            "top": null,
            "visibility": null,
            "width": null
          }
        },
        "705c836180f344ebb5586df6d030fc85": {
          "model_module": "@jupyter-widgets/controls",
          "model_name": "ProgressStyleModel",
          "model_module_version": "1.5.0",
          "state": {
            "_model_module": "@jupyter-widgets/controls",
            "_model_module_version": "1.5.0",
            "_model_name": "ProgressStyleModel",
            "_view_count": null,
            "_view_module": "@jupyter-widgets/base",
            "_view_module_version": "1.2.0",
            "_view_name": "StyleView",
            "bar_color": null,
            "description_width": ""
          }
        },
        "7bdf5b1503cb40c6b92c76e1a7fa0dc6": {
          "model_module": "@jupyter-widgets/base",
          "model_name": "LayoutModel",
          "model_module_version": "1.2.0",
          "state": {
            "_model_module": "@jupyter-widgets/base",
            "_model_module_version": "1.2.0",
            "_model_name": "LayoutModel",
            "_view_count": null,
            "_view_module": "@jupyter-widgets/base",
            "_view_module_version": "1.2.0",
            "_view_name": "LayoutView",
            "align_content": null,
            "align_items": null,
            "align_self": null,
            "border": null,
            "bottom": null,
            "display": null,
            "flex": null,
            "flex_flow": null,
            "grid_area": null,
            "grid_auto_columns": null,
            "grid_auto_flow": null,
            "grid_auto_rows": null,
            "grid_column": null,
            "grid_gap": null,
            "grid_row": null,
            "grid_template_areas": null,
            "grid_template_columns": null,
            "grid_template_rows": null,
            "height": null,
            "justify_content": null,
            "justify_items": null,
            "left": null,
            "margin": null,
            "max_height": null,
            "max_width": null,
            "min_height": null,
            "min_width": null,
            "object_fit": null,
            "object_position": null,
            "order": null,
            "overflow": null,
            "overflow_x": null,
            "overflow_y": null,
            "padding": null,
            "right": null,
            "top": null,
            "visibility": null,
            "width": null
          }
        },
        "a9b4ab66e19546f98b5af46f1d82b6e1": {
          "model_module": "@jupyter-widgets/controls",
          "model_name": "DescriptionStyleModel",
          "model_module_version": "1.5.0",
          "state": {
            "_model_module": "@jupyter-widgets/controls",
            "_model_module_version": "1.5.0",
            "_model_name": "DescriptionStyleModel",
            "_view_count": null,
            "_view_module": "@jupyter-widgets/base",
            "_view_module_version": "1.2.0",
            "_view_name": "StyleView",
            "description_width": ""
          }
        },
        "be7c7d7889694013903900a014460c1e": {
          "model_module": "@jupyter-widgets/controls",
          "model_name": "HBoxModel",
          "model_module_version": "1.5.0",
          "state": {
            "_dom_classes": [],
            "_model_module": "@jupyter-widgets/controls",
            "_model_module_version": "1.5.0",
            "_model_name": "HBoxModel",
            "_view_count": null,
            "_view_module": "@jupyter-widgets/controls",
            "_view_module_version": "1.5.0",
            "_view_name": "HBoxView",
            "box_style": "",
            "children": [
              "IPY_MODEL_83eb9fdf2a1f4da8820618fe2c9351c0",
              "IPY_MODEL_ad491782080148858ee41f6c892af86d",
              "IPY_MODEL_db425d258038481fb4af1f1bde4d046a"
            ],
            "layout": "IPY_MODEL_3027dbcea8064e37b88b431fc8ed196f"
          }
        },
        "83eb9fdf2a1f4da8820618fe2c9351c0": {
          "model_module": "@jupyter-widgets/controls",
          "model_name": "HTMLModel",
          "model_module_version": "1.5.0",
          "state": {
            "_dom_classes": [],
            "_model_module": "@jupyter-widgets/controls",
            "_model_module_version": "1.5.0",
            "_model_name": "HTMLModel",
            "_view_count": null,
            "_view_module": "@jupyter-widgets/controls",
            "_view_module_version": "1.5.0",
            "_view_name": "HTMLView",
            "description": "",
            "description_tooltip": null,
            "layout": "IPY_MODEL_38e2f27cc32248c2b724da84ba53e7c0",
            "placeholder": "​",
            "style": "IPY_MODEL_78896df7cbe04bad8f4d32d6afc86a1a",
            "value": "Downloading: 100%"
          }
        },
        "ad491782080148858ee41f6c892af86d": {
          "model_module": "@jupyter-widgets/controls",
          "model_name": "FloatProgressModel",
          "model_module_version": "1.5.0",
          "state": {
            "_dom_classes": [],
            "_model_module": "@jupyter-widgets/controls",
            "_model_module_version": "1.5.0",
            "_model_name": "FloatProgressModel",
            "_view_count": null,
            "_view_module": "@jupyter-widgets/controls",
            "_view_module_version": "1.5.0",
            "_view_name": "ProgressView",
            "bar_style": "success",
            "description": "",
            "description_tooltip": null,
            "layout": "IPY_MODEL_8b1f04e3e8e643ff99acdf1271d98db5",
            "max": 411578458,
            "min": 0,
            "orientation": "horizontal",
            "style": "IPY_MODEL_10c53d9d20bc47739b9a6346ef2f3964",
            "value": 411578458
          }
        },
        "db425d258038481fb4af1f1bde4d046a": {
          "model_module": "@jupyter-widgets/controls",
          "model_name": "HTMLModel",
          "model_module_version": "1.5.0",
          "state": {
            "_dom_classes": [],
            "_model_module": "@jupyter-widgets/controls",
            "_model_module_version": "1.5.0",
            "_model_name": "HTMLModel",
            "_view_count": null,
            "_view_module": "@jupyter-widgets/controls",
            "_view_module_version": "1.5.0",
            "_view_name": "HTMLView",
            "description": "",
            "description_tooltip": null,
            "layout": "IPY_MODEL_f375a1da00fa425090750a8056d8de96",
            "placeholder": "​",
            "style": "IPY_MODEL_b1c6cc89dc4d4b86b14cc2b89c13f825",
            "value": " 393M/393M [00:13&lt;00:00, 30.6MB/s]"
          }
        },
        "3027dbcea8064e37b88b431fc8ed196f": {
          "model_module": "@jupyter-widgets/base",
          "model_name": "LayoutModel",
          "model_module_version": "1.2.0",
          "state": {
            "_model_module": "@jupyter-widgets/base",
            "_model_module_version": "1.2.0",
            "_model_name": "LayoutModel",
            "_view_count": null,
            "_view_module": "@jupyter-widgets/base",
            "_view_module_version": "1.2.0",
            "_view_name": "LayoutView",
            "align_content": null,
            "align_items": null,
            "align_self": null,
            "border": null,
            "bottom": null,
            "display": null,
            "flex": null,
            "flex_flow": null,
            "grid_area": null,
            "grid_auto_columns": null,
            "grid_auto_flow": null,
            "grid_auto_rows": null,
            "grid_column": null,
            "grid_gap": null,
            "grid_row": null,
            "grid_template_areas": null,
            "grid_template_columns": null,
            "grid_template_rows": null,
            "height": null,
            "justify_content": null,
            "justify_items": null,
            "left": null,
            "margin": null,
            "max_height": null,
            "max_width": null,
            "min_height": null,
            "min_width": null,
            "object_fit": null,
            "object_position": null,
            "order": null,
            "overflow": null,
            "overflow_x": null,
            "overflow_y": null,
            "padding": null,
            "right": null,
            "top": null,
            "visibility": null,
            "width": null
          }
        },
        "38e2f27cc32248c2b724da84ba53e7c0": {
          "model_module": "@jupyter-widgets/base",
          "model_name": "LayoutModel",
          "model_module_version": "1.2.0",
          "state": {
            "_model_module": "@jupyter-widgets/base",
            "_model_module_version": "1.2.0",
            "_model_name": "LayoutModel",
            "_view_count": null,
            "_view_module": "@jupyter-widgets/base",
            "_view_module_version": "1.2.0",
            "_view_name": "LayoutView",
            "align_content": null,
            "align_items": null,
            "align_self": null,
            "border": null,
            "bottom": null,
            "display": null,
            "flex": null,
            "flex_flow": null,
            "grid_area": null,
            "grid_auto_columns": null,
            "grid_auto_flow": null,
            "grid_auto_rows": null,
            "grid_column": null,
            "grid_gap": null,
            "grid_row": null,
            "grid_template_areas": null,
            "grid_template_columns": null,
            "grid_template_rows": null,
            "height": null,
            "justify_content": null,
            "justify_items": null,
            "left": null,
            "margin": null,
            "max_height": null,
            "max_width": null,
            "min_height": null,
            "min_width": null,
            "object_fit": null,
            "object_position": null,
            "order": null,
            "overflow": null,
            "overflow_x": null,
            "overflow_y": null,
            "padding": null,
            "right": null,
            "top": null,
            "visibility": null,
            "width": null
          }
        },
        "78896df7cbe04bad8f4d32d6afc86a1a": {
          "model_module": "@jupyter-widgets/controls",
          "model_name": "DescriptionStyleModel",
          "model_module_version": "1.5.0",
          "state": {
            "_model_module": "@jupyter-widgets/controls",
            "_model_module_version": "1.5.0",
            "_model_name": "DescriptionStyleModel",
            "_view_count": null,
            "_view_module": "@jupyter-widgets/base",
            "_view_module_version": "1.2.0",
            "_view_name": "StyleView",
            "description_width": ""
          }
        },
        "8b1f04e3e8e643ff99acdf1271d98db5": {
          "model_module": "@jupyter-widgets/base",
          "model_name": "LayoutModel",
          "model_module_version": "1.2.0",
          "state": {
            "_model_module": "@jupyter-widgets/base",
            "_model_module_version": "1.2.0",
            "_model_name": "LayoutModel",
            "_view_count": null,
            "_view_module": "@jupyter-widgets/base",
            "_view_module_version": "1.2.0",
            "_view_name": "LayoutView",
            "align_content": null,
            "align_items": null,
            "align_self": null,
            "border": null,
            "bottom": null,
            "display": null,
            "flex": null,
            "flex_flow": null,
            "grid_area": null,
            "grid_auto_columns": null,
            "grid_auto_flow": null,
            "grid_auto_rows": null,
            "grid_column": null,
            "grid_gap": null,
            "grid_row": null,
            "grid_template_areas": null,
            "grid_template_columns": null,
            "grid_template_rows": null,
            "height": null,
            "justify_content": null,
            "justify_items": null,
            "left": null,
            "margin": null,
            "max_height": null,
            "max_width": null,
            "min_height": null,
            "min_width": null,
            "object_fit": null,
            "object_position": null,
            "order": null,
            "overflow": null,
            "overflow_x": null,
            "overflow_y": null,
            "padding": null,
            "right": null,
            "top": null,
            "visibility": null,
            "width": null
          }
        },
        "10c53d9d20bc47739b9a6346ef2f3964": {
          "model_module": "@jupyter-widgets/controls",
          "model_name": "ProgressStyleModel",
          "model_module_version": "1.5.0",
          "state": {
            "_model_module": "@jupyter-widgets/controls",
            "_model_module_version": "1.5.0",
            "_model_name": "ProgressStyleModel",
            "_view_count": null,
            "_view_module": "@jupyter-widgets/base",
            "_view_module_version": "1.2.0",
            "_view_name": "StyleView",
            "bar_color": null,
            "description_width": ""
          }
        },
        "f375a1da00fa425090750a8056d8de96": {
          "model_module": "@jupyter-widgets/base",
          "model_name": "LayoutModel",
          "model_module_version": "1.2.0",
          "state": {
            "_model_module": "@jupyter-widgets/base",
            "_model_module_version": "1.2.0",
            "_model_name": "LayoutModel",
            "_view_count": null,
            "_view_module": "@jupyter-widgets/base",
            "_view_module_version": "1.2.0",
            "_view_name": "LayoutView",
            "align_content": null,
            "align_items": null,
            "align_self": null,
            "border": null,
            "bottom": null,
            "display": null,
            "flex": null,
            "flex_flow": null,
            "grid_area": null,
            "grid_auto_columns": null,
            "grid_auto_flow": null,
            "grid_auto_rows": null,
            "grid_column": null,
            "grid_gap": null,
            "grid_row": null,
            "grid_template_areas": null,
            "grid_template_columns": null,
            "grid_template_rows": null,
            "height": null,
            "justify_content": null,
            "justify_items": null,
            "left": null,
            "margin": null,
            "max_height": null,
            "max_width": null,
            "min_height": null,
            "min_width": null,
            "object_fit": null,
            "object_position": null,
            "order": null,
            "overflow": null,
            "overflow_x": null,
            "overflow_y": null,
            "padding": null,
            "right": null,
            "top": null,
            "visibility": null,
            "width": null
          }
        },
        "b1c6cc89dc4d4b86b14cc2b89c13f825": {
          "model_module": "@jupyter-widgets/controls",
          "model_name": "DescriptionStyleModel",
          "model_module_version": "1.5.0",
          "state": {
            "_model_module": "@jupyter-widgets/controls",
            "_model_module_version": "1.5.0",
            "_model_name": "DescriptionStyleModel",
            "_view_count": null,
            "_view_module": "@jupyter-widgets/base",
            "_view_module_version": "1.2.0",
            "_view_name": "StyleView",
            "description_width": ""
          }
        }
      }
    }
  },
  "nbformat": 4,
  "nbformat_minor": 5
}